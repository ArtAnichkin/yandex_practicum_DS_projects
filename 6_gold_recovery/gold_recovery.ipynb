{
 "cells": [
  {
   "cell_type": "markdown",
   "metadata": {
    "toc": true
   },
   "source": [
    "<h1>Содержание<span class=\"tocSkip\"></span></h1>\n",
    "<div class=\"toc\"><ul class=\"toc-item\"><li><span><a href=\"#Подготовка-данных\" data-toc-modified-id=\"Подготовка-данных-1\"><span class=\"toc-item-num\">1&nbsp;&nbsp;</span>Подготовка данных</a></span><ul class=\"toc-item\"><li><span><a href=\"#Первичный-анализ-данных\" data-toc-modified-id=\"Первичный-анализ-данных-1.1\"><span class=\"toc-item-num\">1.1&nbsp;&nbsp;</span>Первичный анализ данных</a></span></li><li><span><a href=\"#Проверка-правильности-расчета-выхода\" data-toc-modified-id=\"Проверка-правильности-расчета-выхода-1.2\"><span class=\"toc-item-num\">1.2&nbsp;&nbsp;</span>Проверка правильности расчета выхода</a></span></li><li><span><a href=\"#Недоступные-признаки\" data-toc-modified-id=\"Недоступные-признаки-1.3\"><span class=\"toc-item-num\">1.3&nbsp;&nbsp;</span>Недоступные признаки</a></span></li><li><span><a href=\"#Предобработка\" data-toc-modified-id=\"Предобработка-1.4\"><span class=\"toc-item-num\">1.4&nbsp;&nbsp;</span>Предобработка</a></span></li></ul></li><li><span><a href=\"#Анализ-данных\" data-toc-modified-id=\"Анализ-данных-2\"><span class=\"toc-item-num\">2&nbsp;&nbsp;</span>Анализ данных</a></span><ul class=\"toc-item\"><li><span><a href=\"#Изменение-концентраций-металлов-в-процессе\" data-toc-modified-id=\"Изменение-концентраций-металлов-в-процессе-2.1\"><span class=\"toc-item-num\">2.1&nbsp;&nbsp;</span>Изменение концентраций металлов в процессе</a></span></li><li><span><a href=\"#Сравнение-распределений-на-выборках\" data-toc-modified-id=\"Сравнение-распределений-на-выборках-2.2\"><span class=\"toc-item-num\">2.2&nbsp;&nbsp;</span>Сравнение распределений на выборках</a></span></li><li><span><a href=\"#Проверка-суммарных-концентраций\" data-toc-modified-id=\"Проверка-суммарных-концентраций-2.3\"><span class=\"toc-item-num\">2.3&nbsp;&nbsp;</span>Проверка суммарных концентраций</a></span></li></ul></li><li><span><a href=\"#Модель\" data-toc-modified-id=\"Модель-3\"><span class=\"toc-item-num\">3&nbsp;&nbsp;</span>Модель</a></span><ul class=\"toc-item\"><li><span><a href=\"#sMAPE\" data-toc-modified-id=\"sMAPE-3.1\"><span class=\"toc-item-num\">3.1&nbsp;&nbsp;</span>sMAPE</a></span></li><li><span><a href=\"#Формирование-выборок\" data-toc-modified-id=\"Формирование-выборок-3.2\"><span class=\"toc-item-num\">3.2&nbsp;&nbsp;</span>Формирование выборок</a></span></li><li><span><a href=\"#Линейная-регрессия\" data-toc-modified-id=\"Линейная-регрессия-3.3\"><span class=\"toc-item-num\">3.3&nbsp;&nbsp;</span>Линейная регрессия</a></span></li><li><span><a href=\"#Модель-случайного-леса\" data-toc-modified-id=\"Модель-случайного-леса-3.4\"><span class=\"toc-item-num\">3.4&nbsp;&nbsp;</span>Модель случайного леса</a></span></li><li><span><a href=\"#Тестирование-модели\" data-toc-modified-id=\"Тестирование-модели-3.5\"><span class=\"toc-item-num\">3.5&nbsp;&nbsp;</span>Тестирование модели</a></span></li><li><span><a href=\"#Вывод\" data-toc-modified-id=\"Вывод-3.6\"><span class=\"toc-item-num\">3.6&nbsp;&nbsp;</span>Вывод</a></span></li></ul></li></ul></div>"
   ]
  },
  {
   "cell_type": "markdown",
   "metadata": {},
   "source": [
    "# Восстановление золота из руды"
   ]
  },
  {
   "cell_type": "markdown",
   "metadata": {},
   "source": [
    "Подготовьте прототип модели машинного обучения для «Цифры». Компания разрабатывает решения для эффективной работы промышленных предприятий.\n",
    "\n",
    "Модель должна предсказать коэффициент восстановления золота из золотосодержащей руды. Используйте данные с параметрами добычи и очистки. \n",
    "\n",
    "Модель поможет оптимизировать производство, чтобы не запускать предприятие с убыточными характеристиками.\n",
    "\n",
    "Вам нужно:\n",
    "\n",
    "1. Подготовить данные:\n",
    "* Изучить данные, проверить правильность расчета целевых признаков\n",
    "* Предобработать данные\n",
    "2. Провести исследовательский анализ данных:\n",
    "* Проанализировать изменение концентраций в процессе концентрирования\n",
    "* Проверить выборки на однородность\n",
    "* Проверить адекватность данных\n",
    "3. Построить и обучить модель:\n",
    "* Сформировать выборки\n",
    "* Обучить модели, наилучшую определить по гибридному sMAPE\n",
    "* Протестировать выбранную модель"
   ]
  },
  {
   "cell_type": "markdown",
   "metadata": {},
   "source": [
    "## Подготовка данных"
   ]
  },
  {
   "cell_type": "markdown",
   "metadata": {},
   "source": [
    "### Первичный анализ данных"
   ]
  },
  {
   "cell_type": "code",
   "execution_count": 1,
   "metadata": {
    "scrolled": true
   },
   "outputs": [
    {
     "name": "stdout",
     "output_type": "stream",
     "text": [
      "Requirement already satisfied: phik in /opt/conda/lib/python3.9/site-packages (0.12.3)\n",
      "Requirement already satisfied: matplotlib>=2.2.3 in /opt/conda/lib/python3.9/site-packages (from phik) (3.3.4)\n",
      "Requirement already satisfied: scipy>=1.5.2 in /opt/conda/lib/python3.9/site-packages (from phik) (1.9.1)\n",
      "Requirement already satisfied: joblib>=0.14.1 in /opt/conda/lib/python3.9/site-packages (from phik) (1.1.0)\n",
      "Requirement already satisfied: pandas>=0.25.1 in /opt/conda/lib/python3.9/site-packages (from phik) (1.2.4)\n",
      "Requirement already satisfied: numpy>=1.18.0 in /opt/conda/lib/python3.9/site-packages (from phik) (1.21.1)\n",
      "Requirement already satisfied: cycler>=0.10 in /opt/conda/lib/python3.9/site-packages (from matplotlib>=2.2.3->phik) (0.11.0)\n",
      "Requirement already satisfied: kiwisolver>=1.0.1 in /opt/conda/lib/python3.9/site-packages (from matplotlib>=2.2.3->phik) (1.4.4)\n",
      "Requirement already satisfied: pyparsing!=2.0.4,!=2.1.2,!=2.1.6,>=2.0.3 in /opt/conda/lib/python3.9/site-packages (from matplotlib>=2.2.3->phik) (2.4.7)\n",
      "Requirement already satisfied: python-dateutil>=2.1 in /opt/conda/lib/python3.9/site-packages (from matplotlib>=2.2.3->phik) (2.8.1)\n",
      "Requirement already satisfied: pillow>=6.2.0 in /opt/conda/lib/python3.9/site-packages (from matplotlib>=2.2.3->phik) (8.4.0)\n",
      "Requirement already satisfied: pytz>=2017.3 in /opt/conda/lib/python3.9/site-packages (from pandas>=0.25.1->phik) (2021.1)\n",
      "Requirement already satisfied: six>=1.5 in /opt/conda/lib/python3.9/site-packages (from python-dateutil>=2.1->matplotlib>=2.2.3->phik) (1.16.0)\n",
      "Note: you may need to restart the kernel to use updated packages.\n"
     ]
    }
   ],
   "source": [
    "pip install phik"
   ]
  },
  {
   "cell_type": "code",
   "execution_count": 2,
   "metadata": {},
   "outputs": [],
   "source": [
    "import pandas as pd\n",
    "import numpy as np\n",
    "import matplotlib.pyplot as plt\n",
    "import seaborn as sns\n",
    "import phik\n",
    "\n",
    "from sklearn.model_selection import cross_val_score, GridSearchCV, RandomizedSearchCV, train_test_split\n",
    "from sklearn.linear_model import LinearRegression, Lasso\n",
    "from sklearn.ensemble import RandomForestRegressor\n",
    "from sklearn.preprocessing import StandardScaler\n",
    "from sklearn.metrics import make_scorer, mean_absolute_error\n",
    "from sklearn.decomposition import PCA\n",
    "from scipy.stats import randint\n",
    "from sklearn.dummy import DummyRegressor"
   ]
  },
  {
   "cell_type": "code",
   "execution_count": 3,
   "metadata": {},
   "outputs": [],
   "source": [
    "df_train = pd.read_csv('/datasets/gold_recovery_train_new.csv')\n",
    "df_test = pd.read_csv('/datasets/gold_recovery_test_new.csv')\n",
    "df_full = pd.read_csv('/datasets/gold_recovery_full_new.csv')"
   ]
  },
  {
   "cell_type": "code",
   "execution_count": 4,
   "metadata": {},
   "outputs": [
    {
     "data": {
      "text/html": [
       "<div>\n",
       "<style scoped>\n",
       "    .dataframe tbody tr th:only-of-type {\n",
       "        vertical-align: middle;\n",
       "    }\n",
       "\n",
       "    .dataframe tbody tr th {\n",
       "        vertical-align: top;\n",
       "    }\n",
       "\n",
       "    .dataframe thead th {\n",
       "        text-align: right;\n",
       "    }\n",
       "</style>\n",
       "<table border=\"1\" class=\"dataframe\">\n",
       "  <thead>\n",
       "    <tr style=\"text-align: right;\">\n",
       "      <th></th>\n",
       "      <th>date</th>\n",
       "      <th>final.output.concentrate_ag</th>\n",
       "      <th>final.output.concentrate_pb</th>\n",
       "      <th>final.output.concentrate_sol</th>\n",
       "      <th>final.output.concentrate_au</th>\n",
       "      <th>final.output.recovery</th>\n",
       "      <th>final.output.tail_ag</th>\n",
       "      <th>final.output.tail_pb</th>\n",
       "      <th>final.output.tail_sol</th>\n",
       "      <th>final.output.tail_au</th>\n",
       "      <th>...</th>\n",
       "      <th>secondary_cleaner.state.floatbank4_a_air</th>\n",
       "      <th>secondary_cleaner.state.floatbank4_a_level</th>\n",
       "      <th>secondary_cleaner.state.floatbank4_b_air</th>\n",
       "      <th>secondary_cleaner.state.floatbank4_b_level</th>\n",
       "      <th>secondary_cleaner.state.floatbank5_a_air</th>\n",
       "      <th>secondary_cleaner.state.floatbank5_a_level</th>\n",
       "      <th>secondary_cleaner.state.floatbank5_b_air</th>\n",
       "      <th>secondary_cleaner.state.floatbank5_b_level</th>\n",
       "      <th>secondary_cleaner.state.floatbank6_a_air</th>\n",
       "      <th>secondary_cleaner.state.floatbank6_a_level</th>\n",
       "    </tr>\n",
       "  </thead>\n",
       "  <tbody>\n",
       "    <tr>\n",
       "      <th>0</th>\n",
       "      <td>2016-01-15 00:00:00</td>\n",
       "      <td>6.055403</td>\n",
       "      <td>9.889648</td>\n",
       "      <td>5.507324</td>\n",
       "      <td>42.192020</td>\n",
       "      <td>70.541216</td>\n",
       "      <td>10.411962</td>\n",
       "      <td>0.895447</td>\n",
       "      <td>16.904297</td>\n",
       "      <td>2.143149</td>\n",
       "      <td>...</td>\n",
       "      <td>14.016835</td>\n",
       "      <td>-502.488007</td>\n",
       "      <td>12.099931</td>\n",
       "      <td>-504.715942</td>\n",
       "      <td>9.925633</td>\n",
       "      <td>-498.310211</td>\n",
       "      <td>8.079666</td>\n",
       "      <td>-500.470978</td>\n",
       "      <td>14.151341</td>\n",
       "      <td>-605.841980</td>\n",
       "    </tr>\n",
       "    <tr>\n",
       "      <th>1</th>\n",
       "      <td>2016-01-15 01:00:00</td>\n",
       "      <td>6.029369</td>\n",
       "      <td>9.968944</td>\n",
       "      <td>5.257781</td>\n",
       "      <td>42.701629</td>\n",
       "      <td>69.266198</td>\n",
       "      <td>10.462676</td>\n",
       "      <td>0.927452</td>\n",
       "      <td>16.634514</td>\n",
       "      <td>2.224930</td>\n",
       "      <td>...</td>\n",
       "      <td>13.992281</td>\n",
       "      <td>-505.503262</td>\n",
       "      <td>11.950531</td>\n",
       "      <td>-501.331529</td>\n",
       "      <td>10.039245</td>\n",
       "      <td>-500.169983</td>\n",
       "      <td>7.984757</td>\n",
       "      <td>-500.582168</td>\n",
       "      <td>13.998353</td>\n",
       "      <td>-599.787184</td>\n",
       "    </tr>\n",
       "    <tr>\n",
       "      <th>2</th>\n",
       "      <td>2016-01-15 02:00:00</td>\n",
       "      <td>6.055926</td>\n",
       "      <td>10.213995</td>\n",
       "      <td>5.383759</td>\n",
       "      <td>42.657501</td>\n",
       "      <td>68.116445</td>\n",
       "      <td>10.507046</td>\n",
       "      <td>0.953716</td>\n",
       "      <td>16.208849</td>\n",
       "      <td>2.257889</td>\n",
       "      <td>...</td>\n",
       "      <td>14.015015</td>\n",
       "      <td>-502.520901</td>\n",
       "      <td>11.912783</td>\n",
       "      <td>-501.133383</td>\n",
       "      <td>10.070913</td>\n",
       "      <td>-500.129135</td>\n",
       "      <td>8.013877</td>\n",
       "      <td>-500.517572</td>\n",
       "      <td>14.028663</td>\n",
       "      <td>-601.427363</td>\n",
       "    </tr>\n",
       "    <tr>\n",
       "      <th>3</th>\n",
       "      <td>2016-01-15 03:00:00</td>\n",
       "      <td>6.047977</td>\n",
       "      <td>9.977019</td>\n",
       "      <td>4.858634</td>\n",
       "      <td>42.689819</td>\n",
       "      <td>68.347543</td>\n",
       "      <td>10.422762</td>\n",
       "      <td>0.883763</td>\n",
       "      <td>16.532835</td>\n",
       "      <td>2.146849</td>\n",
       "      <td>...</td>\n",
       "      <td>14.036510</td>\n",
       "      <td>-500.857308</td>\n",
       "      <td>11.999550</td>\n",
       "      <td>-501.193686</td>\n",
       "      <td>9.970366</td>\n",
       "      <td>-499.201640</td>\n",
       "      <td>7.977324</td>\n",
       "      <td>-500.255908</td>\n",
       "      <td>14.005551</td>\n",
       "      <td>-599.996129</td>\n",
       "    </tr>\n",
       "    <tr>\n",
       "      <th>4</th>\n",
       "      <td>2016-01-15 04:00:00</td>\n",
       "      <td>6.148599</td>\n",
       "      <td>10.142511</td>\n",
       "      <td>4.939416</td>\n",
       "      <td>42.774141</td>\n",
       "      <td>66.927016</td>\n",
       "      <td>10.360302</td>\n",
       "      <td>0.792826</td>\n",
       "      <td>16.525686</td>\n",
       "      <td>2.055292</td>\n",
       "      <td>...</td>\n",
       "      <td>14.027298</td>\n",
       "      <td>-499.838632</td>\n",
       "      <td>11.953070</td>\n",
       "      <td>-501.053894</td>\n",
       "      <td>9.925709</td>\n",
       "      <td>-501.686727</td>\n",
       "      <td>7.894242</td>\n",
       "      <td>-500.356035</td>\n",
       "      <td>13.996647</td>\n",
       "      <td>-601.496691</td>\n",
       "    </tr>\n",
       "  </tbody>\n",
       "</table>\n",
       "<p>5 rows × 87 columns</p>\n",
       "</div>"
      ],
      "text/plain": [
       "                  date  final.output.concentrate_ag  \\\n",
       "0  2016-01-15 00:00:00                     6.055403   \n",
       "1  2016-01-15 01:00:00                     6.029369   \n",
       "2  2016-01-15 02:00:00                     6.055926   \n",
       "3  2016-01-15 03:00:00                     6.047977   \n",
       "4  2016-01-15 04:00:00                     6.148599   \n",
       "\n",
       "   final.output.concentrate_pb  final.output.concentrate_sol  \\\n",
       "0                     9.889648                      5.507324   \n",
       "1                     9.968944                      5.257781   \n",
       "2                    10.213995                      5.383759   \n",
       "3                     9.977019                      4.858634   \n",
       "4                    10.142511                      4.939416   \n",
       "\n",
       "   final.output.concentrate_au  final.output.recovery  final.output.tail_ag  \\\n",
       "0                    42.192020              70.541216             10.411962   \n",
       "1                    42.701629              69.266198             10.462676   \n",
       "2                    42.657501              68.116445             10.507046   \n",
       "3                    42.689819              68.347543             10.422762   \n",
       "4                    42.774141              66.927016             10.360302   \n",
       "\n",
       "   final.output.tail_pb  final.output.tail_sol  final.output.tail_au  ...  \\\n",
       "0              0.895447              16.904297              2.143149  ...   \n",
       "1              0.927452              16.634514              2.224930  ...   \n",
       "2              0.953716              16.208849              2.257889  ...   \n",
       "3              0.883763              16.532835              2.146849  ...   \n",
       "4              0.792826              16.525686              2.055292  ...   \n",
       "\n",
       "   secondary_cleaner.state.floatbank4_a_air  \\\n",
       "0                                 14.016835   \n",
       "1                                 13.992281   \n",
       "2                                 14.015015   \n",
       "3                                 14.036510   \n",
       "4                                 14.027298   \n",
       "\n",
       "   secondary_cleaner.state.floatbank4_a_level  \\\n",
       "0                                 -502.488007   \n",
       "1                                 -505.503262   \n",
       "2                                 -502.520901   \n",
       "3                                 -500.857308   \n",
       "4                                 -499.838632   \n",
       "\n",
       "   secondary_cleaner.state.floatbank4_b_air  \\\n",
       "0                                 12.099931   \n",
       "1                                 11.950531   \n",
       "2                                 11.912783   \n",
       "3                                 11.999550   \n",
       "4                                 11.953070   \n",
       "\n",
       "   secondary_cleaner.state.floatbank4_b_level  \\\n",
       "0                                 -504.715942   \n",
       "1                                 -501.331529   \n",
       "2                                 -501.133383   \n",
       "3                                 -501.193686   \n",
       "4                                 -501.053894   \n",
       "\n",
       "   secondary_cleaner.state.floatbank5_a_air  \\\n",
       "0                                  9.925633   \n",
       "1                                 10.039245   \n",
       "2                                 10.070913   \n",
       "3                                  9.970366   \n",
       "4                                  9.925709   \n",
       "\n",
       "   secondary_cleaner.state.floatbank5_a_level  \\\n",
       "0                                 -498.310211   \n",
       "1                                 -500.169983   \n",
       "2                                 -500.129135   \n",
       "3                                 -499.201640   \n",
       "4                                 -501.686727   \n",
       "\n",
       "   secondary_cleaner.state.floatbank5_b_air  \\\n",
       "0                                  8.079666   \n",
       "1                                  7.984757   \n",
       "2                                  8.013877   \n",
       "3                                  7.977324   \n",
       "4                                  7.894242   \n",
       "\n",
       "   secondary_cleaner.state.floatbank5_b_level  \\\n",
       "0                                 -500.470978   \n",
       "1                                 -500.582168   \n",
       "2                                 -500.517572   \n",
       "3                                 -500.255908   \n",
       "4                                 -500.356035   \n",
       "\n",
       "   secondary_cleaner.state.floatbank6_a_air  \\\n",
       "0                                 14.151341   \n",
       "1                                 13.998353   \n",
       "2                                 14.028663   \n",
       "3                                 14.005551   \n",
       "4                                 13.996647   \n",
       "\n",
       "   secondary_cleaner.state.floatbank6_a_level  \n",
       "0                                 -605.841980  \n",
       "1                                 -599.787184  \n",
       "2                                 -601.427363  \n",
       "3                                 -599.996129  \n",
       "4                                 -601.496691  \n",
       "\n",
       "[5 rows x 87 columns]"
      ]
     },
     "execution_count": 4,
     "metadata": {},
     "output_type": "execute_result"
    }
   ],
   "source": [
    "df_train.head()"
   ]
  },
  {
   "cell_type": "code",
   "execution_count": 5,
   "metadata": {
    "scrolled": true
   },
   "outputs": [
    {
     "name": "stdout",
     "output_type": "stream",
     "text": [
      "<class 'pandas.core.frame.DataFrame'>\n",
      "RangeIndex: 14149 entries, 0 to 14148\n",
      "Data columns (total 87 columns):\n",
      " #   Column                                              Non-Null Count  Dtype  \n",
      "---  ------                                              --------------  -----  \n",
      " 0   date                                                14149 non-null  object \n",
      " 1   final.output.concentrate_ag                         14148 non-null  float64\n",
      " 2   final.output.concentrate_pb                         14148 non-null  float64\n",
      " 3   final.output.concentrate_sol                        13938 non-null  float64\n",
      " 4   final.output.concentrate_au                         14149 non-null  float64\n",
      " 5   final.output.recovery                               14149 non-null  float64\n",
      " 6   final.output.tail_ag                                14149 non-null  float64\n",
      " 7   final.output.tail_pb                                14049 non-null  float64\n",
      " 8   final.output.tail_sol                               14144 non-null  float64\n",
      " 9   final.output.tail_au                                14149 non-null  float64\n",
      " 10  primary_cleaner.input.sulfate                       14129 non-null  float64\n",
      " 11  primary_cleaner.input.depressant                    14117 non-null  float64\n",
      " 12  primary_cleaner.input.feed_size                     14149 non-null  float64\n",
      " 13  primary_cleaner.input.xanthate                      14049 non-null  float64\n",
      " 14  primary_cleaner.output.concentrate_ag               14149 non-null  float64\n",
      " 15  primary_cleaner.output.concentrate_pb               14063 non-null  float64\n",
      " 16  primary_cleaner.output.concentrate_sol              13863 non-null  float64\n",
      " 17  primary_cleaner.output.concentrate_au               14149 non-null  float64\n",
      " 18  primary_cleaner.output.tail_ag                      14148 non-null  float64\n",
      " 19  primary_cleaner.output.tail_pb                      14134 non-null  float64\n",
      " 20  primary_cleaner.output.tail_sol                     14103 non-null  float64\n",
      " 21  primary_cleaner.output.tail_au                      14149 non-null  float64\n",
      " 22  primary_cleaner.state.floatbank8_a_air              14145 non-null  float64\n",
      " 23  primary_cleaner.state.floatbank8_a_level            14148 non-null  float64\n",
      " 24  primary_cleaner.state.floatbank8_b_air              14145 non-null  float64\n",
      " 25  primary_cleaner.state.floatbank8_b_level            14148 non-null  float64\n",
      " 26  primary_cleaner.state.floatbank8_c_air              14147 non-null  float64\n",
      " 27  primary_cleaner.state.floatbank8_c_level            14148 non-null  float64\n",
      " 28  primary_cleaner.state.floatbank8_d_air              14146 non-null  float64\n",
      " 29  primary_cleaner.state.floatbank8_d_level            14148 non-null  float64\n",
      " 30  rougher.calculation.sulfate_to_au_concentrate       14148 non-null  float64\n",
      " 31  rougher.calculation.floatbank10_sulfate_to_au_feed  14148 non-null  float64\n",
      " 32  rougher.calculation.floatbank11_sulfate_to_au_feed  14148 non-null  float64\n",
      " 33  rougher.calculation.au_pb_ratio                     14149 non-null  float64\n",
      " 34  rougher.input.feed_ag                               14149 non-null  float64\n",
      " 35  rougher.input.feed_pb                               14049 non-null  float64\n",
      " 36  rougher.input.feed_rate                             14141 non-null  float64\n",
      " 37  rougher.input.feed_size                             14005 non-null  float64\n",
      " 38  rougher.input.feed_sol                              14071 non-null  float64\n",
      " 39  rougher.input.feed_au                               14149 non-null  float64\n",
      " 40  rougher.input.floatbank10_sulfate                   14120 non-null  float64\n",
      " 41  rougher.input.floatbank10_xanthate                  14141 non-null  float64\n",
      " 42  rougher.input.floatbank11_sulfate                   14113 non-null  float64\n",
      " 43  rougher.input.floatbank11_xanthate                  13721 non-null  float64\n",
      " 44  rougher.output.concentrate_ag                       14149 non-null  float64\n",
      " 45  rougher.output.concentrate_pb                       14149 non-null  float64\n",
      " 46  rougher.output.concentrate_sol                      14127 non-null  float64\n",
      " 47  rougher.output.concentrate_au                       14149 non-null  float64\n",
      " 48  rougher.output.recovery                             14149 non-null  float64\n",
      " 49  rougher.output.tail_ag                              14148 non-null  float64\n",
      " 50  rougher.output.tail_pb                              14149 non-null  float64\n",
      " 51  rougher.output.tail_sol                             14149 non-null  float64\n",
      " 52  rougher.output.tail_au                              14149 non-null  float64\n",
      " 53  rougher.state.floatbank10_a_air                     14148 non-null  float64\n",
      " 54  rougher.state.floatbank10_a_level                   14148 non-null  float64\n",
      " 55  rougher.state.floatbank10_b_air                     14148 non-null  float64\n",
      " 56  rougher.state.floatbank10_b_level                   14148 non-null  float64\n",
      " 57  rougher.state.floatbank10_c_air                     14148 non-null  float64\n",
      " 58  rougher.state.floatbank10_c_level                   14148 non-null  float64\n",
      " 59  rougher.state.floatbank10_d_air                     14149 non-null  float64\n",
      " 60  rougher.state.floatbank10_d_level                   14149 non-null  float64\n",
      " 61  rougher.state.floatbank10_e_air                     13713 non-null  float64\n",
      " 62  rougher.state.floatbank10_e_level                   14149 non-null  float64\n",
      " 63  rougher.state.floatbank10_f_air                     14149 non-null  float64\n",
      " 64  rougher.state.floatbank10_f_level                   14149 non-null  float64\n",
      " 65  secondary_cleaner.output.tail_ag                    14147 non-null  float64\n",
      " 66  secondary_cleaner.output.tail_pb                    14139 non-null  float64\n",
      " 67  secondary_cleaner.output.tail_sol                   12544 non-null  float64\n",
      " 68  secondary_cleaner.output.tail_au                    14149 non-null  float64\n",
      " 69  secondary_cleaner.state.floatbank2_a_air            13932 non-null  float64\n",
      " 70  secondary_cleaner.state.floatbank2_a_level          14148 non-null  float64\n",
      " 71  secondary_cleaner.state.floatbank2_b_air            14128 non-null  float64\n",
      " 72  secondary_cleaner.state.floatbank2_b_level          14148 non-null  float64\n",
      " 73  secondary_cleaner.state.floatbank3_a_air            14145 non-null  float64\n",
      " 74  secondary_cleaner.state.floatbank3_a_level          14148 non-null  float64\n",
      " 75  secondary_cleaner.state.floatbank3_b_air            14148 non-null  float64\n",
      " 76  secondary_cleaner.state.floatbank3_b_level          14148 non-null  float64\n",
      " 77  secondary_cleaner.state.floatbank4_a_air            14143 non-null  float64\n",
      " 78  secondary_cleaner.state.floatbank4_a_level          14148 non-null  float64\n",
      " 79  secondary_cleaner.state.floatbank4_b_air            14148 non-null  float64\n",
      " 80  secondary_cleaner.state.floatbank4_b_level          14148 non-null  float64\n",
      " 81  secondary_cleaner.state.floatbank5_a_air            14148 non-null  float64\n",
      " 82  secondary_cleaner.state.floatbank5_a_level          14148 non-null  float64\n",
      " 83  secondary_cleaner.state.floatbank5_b_air            14148 non-null  float64\n",
      " 84  secondary_cleaner.state.floatbank5_b_level          14148 non-null  float64\n",
      " 85  secondary_cleaner.state.floatbank6_a_air            14147 non-null  float64\n",
      " 86  secondary_cleaner.state.floatbank6_a_level          14148 non-null  float64\n",
      "dtypes: float64(86), object(1)\n",
      "memory usage: 9.4+ MB\n"
     ]
    }
   ],
   "source": [
    "df_train.info()"
   ]
  },
  {
   "cell_type": "code",
   "execution_count": 6,
   "metadata": {
    "scrolled": true
   },
   "outputs": [
    {
     "data": {
      "text/plain": [
       "0.003330725618885377"
      ]
     },
     "execution_count": 6,
     "metadata": {},
     "output_type": "execute_result"
    }
   ],
   "source": [
    "(df_train.isna().sum()/len(df_train)).mean()"
   ]
  },
  {
   "cell_type": "code",
   "execution_count": 7,
   "metadata": {},
   "outputs": [
    {
     "data": {
      "text/plain": [
       "0.11343557848611209"
      ]
     },
     "execution_count": 7,
     "metadata": {},
     "output_type": "execute_result"
    }
   ],
   "source": [
    "(df_train.isna().sum()/len(df_train)).max()"
   ]
  },
  {
   "cell_type": "markdown",
   "metadata": {},
   "source": [
    "**В трейне 14149 объектов, 86 признаков из них 2 целевых** (`final.output.recovery ` и `rougher.output.recovery`) без пропусков и 1 неинформативный для предсказаний (`date`). Все информативные признаки имеют числовой формат. Пропуски в среднем по признакам 3%, максимально - 11%"
   ]
  },
  {
   "cell_type": "code",
   "execution_count": 8,
   "metadata": {},
   "outputs": [
    {
     "data": {
      "text/html": [
       "<div>\n",
       "<style scoped>\n",
       "    .dataframe tbody tr th:only-of-type {\n",
       "        vertical-align: middle;\n",
       "    }\n",
       "\n",
       "    .dataframe tbody tr th {\n",
       "        vertical-align: top;\n",
       "    }\n",
       "\n",
       "    .dataframe thead th {\n",
       "        text-align: right;\n",
       "    }\n",
       "</style>\n",
       "<table border=\"1\" class=\"dataframe\">\n",
       "  <thead>\n",
       "    <tr style=\"text-align: right;\">\n",
       "      <th></th>\n",
       "      <th>date</th>\n",
       "      <th>primary_cleaner.input.sulfate</th>\n",
       "      <th>primary_cleaner.input.depressant</th>\n",
       "      <th>primary_cleaner.input.feed_size</th>\n",
       "      <th>primary_cleaner.input.xanthate</th>\n",
       "      <th>primary_cleaner.state.floatbank8_a_air</th>\n",
       "      <th>primary_cleaner.state.floatbank8_a_level</th>\n",
       "      <th>primary_cleaner.state.floatbank8_b_air</th>\n",
       "      <th>primary_cleaner.state.floatbank8_b_level</th>\n",
       "      <th>primary_cleaner.state.floatbank8_c_air</th>\n",
       "      <th>...</th>\n",
       "      <th>secondary_cleaner.state.floatbank4_a_air</th>\n",
       "      <th>secondary_cleaner.state.floatbank4_a_level</th>\n",
       "      <th>secondary_cleaner.state.floatbank4_b_air</th>\n",
       "      <th>secondary_cleaner.state.floatbank4_b_level</th>\n",
       "      <th>secondary_cleaner.state.floatbank5_a_air</th>\n",
       "      <th>secondary_cleaner.state.floatbank5_a_level</th>\n",
       "      <th>secondary_cleaner.state.floatbank5_b_air</th>\n",
       "      <th>secondary_cleaner.state.floatbank5_b_level</th>\n",
       "      <th>secondary_cleaner.state.floatbank6_a_air</th>\n",
       "      <th>secondary_cleaner.state.floatbank6_a_level</th>\n",
       "    </tr>\n",
       "  </thead>\n",
       "  <tbody>\n",
       "    <tr>\n",
       "      <th>0</th>\n",
       "      <td>2016-09-01 00:59:59</td>\n",
       "      <td>210.800909</td>\n",
       "      <td>14.993118</td>\n",
       "      <td>8.080000</td>\n",
       "      <td>1.005021</td>\n",
       "      <td>1398.981301</td>\n",
       "      <td>-500.225577</td>\n",
       "      <td>1399.144926</td>\n",
       "      <td>-499.919735</td>\n",
       "      <td>1400.102998</td>\n",
       "      <td>...</td>\n",
       "      <td>12.023554</td>\n",
       "      <td>-497.795834</td>\n",
       "      <td>8.016656</td>\n",
       "      <td>-501.289139</td>\n",
       "      <td>7.946562</td>\n",
       "      <td>-432.317850</td>\n",
       "      <td>4.872511</td>\n",
       "      <td>-500.037437</td>\n",
       "      <td>26.705889</td>\n",
       "      <td>-499.709414</td>\n",
       "    </tr>\n",
       "    <tr>\n",
       "      <th>1</th>\n",
       "      <td>2016-09-01 01:59:59</td>\n",
       "      <td>215.392455</td>\n",
       "      <td>14.987471</td>\n",
       "      <td>8.080000</td>\n",
       "      <td>0.990469</td>\n",
       "      <td>1398.777912</td>\n",
       "      <td>-500.057435</td>\n",
       "      <td>1398.055362</td>\n",
       "      <td>-499.778182</td>\n",
       "      <td>1396.151033</td>\n",
       "      <td>...</td>\n",
       "      <td>12.058140</td>\n",
       "      <td>-498.695773</td>\n",
       "      <td>8.130979</td>\n",
       "      <td>-499.634209</td>\n",
       "      <td>7.958270</td>\n",
       "      <td>-525.839648</td>\n",
       "      <td>4.878850</td>\n",
       "      <td>-500.162375</td>\n",
       "      <td>25.019940</td>\n",
       "      <td>-499.819438</td>\n",
       "    </tr>\n",
       "    <tr>\n",
       "      <th>2</th>\n",
       "      <td>2016-09-01 02:59:59</td>\n",
       "      <td>215.259946</td>\n",
       "      <td>12.884934</td>\n",
       "      <td>7.786667</td>\n",
       "      <td>0.996043</td>\n",
       "      <td>1398.493666</td>\n",
       "      <td>-500.868360</td>\n",
       "      <td>1398.860436</td>\n",
       "      <td>-499.764529</td>\n",
       "      <td>1398.075709</td>\n",
       "      <td>...</td>\n",
       "      <td>11.962366</td>\n",
       "      <td>-498.767484</td>\n",
       "      <td>8.096893</td>\n",
       "      <td>-500.827423</td>\n",
       "      <td>8.071056</td>\n",
       "      <td>-500.801673</td>\n",
       "      <td>4.905125</td>\n",
       "      <td>-499.828510</td>\n",
       "      <td>24.994862</td>\n",
       "      <td>-500.622559</td>\n",
       "    </tr>\n",
       "    <tr>\n",
       "      <th>3</th>\n",
       "      <td>2016-09-01 03:59:59</td>\n",
       "      <td>215.336236</td>\n",
       "      <td>12.006805</td>\n",
       "      <td>7.640000</td>\n",
       "      <td>0.863514</td>\n",
       "      <td>1399.618111</td>\n",
       "      <td>-498.863574</td>\n",
       "      <td>1397.440120</td>\n",
       "      <td>-499.211024</td>\n",
       "      <td>1400.129303</td>\n",
       "      <td>...</td>\n",
       "      <td>12.033091</td>\n",
       "      <td>-498.350935</td>\n",
       "      <td>8.074946</td>\n",
       "      <td>-499.474407</td>\n",
       "      <td>7.897085</td>\n",
       "      <td>-500.868509</td>\n",
       "      <td>4.931400</td>\n",
       "      <td>-499.963623</td>\n",
       "      <td>24.948919</td>\n",
       "      <td>-498.709987</td>\n",
       "    </tr>\n",
       "    <tr>\n",
       "      <th>4</th>\n",
       "      <td>2016-09-01 04:59:59</td>\n",
       "      <td>199.099327</td>\n",
       "      <td>10.682530</td>\n",
       "      <td>7.530000</td>\n",
       "      <td>0.805575</td>\n",
       "      <td>1401.268123</td>\n",
       "      <td>-500.808305</td>\n",
       "      <td>1398.128818</td>\n",
       "      <td>-499.504543</td>\n",
       "      <td>1402.172226</td>\n",
       "      <td>...</td>\n",
       "      <td>12.025367</td>\n",
       "      <td>-500.786497</td>\n",
       "      <td>8.054678</td>\n",
       "      <td>-500.397500</td>\n",
       "      <td>8.107890</td>\n",
       "      <td>-509.526725</td>\n",
       "      <td>4.957674</td>\n",
       "      <td>-500.360026</td>\n",
       "      <td>25.003331</td>\n",
       "      <td>-500.856333</td>\n",
       "    </tr>\n",
       "  </tbody>\n",
       "</table>\n",
       "<p>5 rows × 53 columns</p>\n",
       "</div>"
      ],
      "text/plain": [
       "                  date  primary_cleaner.input.sulfate  \\\n",
       "0  2016-09-01 00:59:59                     210.800909   \n",
       "1  2016-09-01 01:59:59                     215.392455   \n",
       "2  2016-09-01 02:59:59                     215.259946   \n",
       "3  2016-09-01 03:59:59                     215.336236   \n",
       "4  2016-09-01 04:59:59                     199.099327   \n",
       "\n",
       "   primary_cleaner.input.depressant  primary_cleaner.input.feed_size  \\\n",
       "0                         14.993118                         8.080000   \n",
       "1                         14.987471                         8.080000   \n",
       "2                         12.884934                         7.786667   \n",
       "3                         12.006805                         7.640000   \n",
       "4                         10.682530                         7.530000   \n",
       "\n",
       "   primary_cleaner.input.xanthate  primary_cleaner.state.floatbank8_a_air  \\\n",
       "0                        1.005021                             1398.981301   \n",
       "1                        0.990469                             1398.777912   \n",
       "2                        0.996043                             1398.493666   \n",
       "3                        0.863514                             1399.618111   \n",
       "4                        0.805575                             1401.268123   \n",
       "\n",
       "   primary_cleaner.state.floatbank8_a_level  \\\n",
       "0                               -500.225577   \n",
       "1                               -500.057435   \n",
       "2                               -500.868360   \n",
       "3                               -498.863574   \n",
       "4                               -500.808305   \n",
       "\n",
       "   primary_cleaner.state.floatbank8_b_air  \\\n",
       "0                             1399.144926   \n",
       "1                             1398.055362   \n",
       "2                             1398.860436   \n",
       "3                             1397.440120   \n",
       "4                             1398.128818   \n",
       "\n",
       "   primary_cleaner.state.floatbank8_b_level  \\\n",
       "0                               -499.919735   \n",
       "1                               -499.778182   \n",
       "2                               -499.764529   \n",
       "3                               -499.211024   \n",
       "4                               -499.504543   \n",
       "\n",
       "   primary_cleaner.state.floatbank8_c_air  ...  \\\n",
       "0                             1400.102998  ...   \n",
       "1                             1396.151033  ...   \n",
       "2                             1398.075709  ...   \n",
       "3                             1400.129303  ...   \n",
       "4                             1402.172226  ...   \n",
       "\n",
       "   secondary_cleaner.state.floatbank4_a_air  \\\n",
       "0                                 12.023554   \n",
       "1                                 12.058140   \n",
       "2                                 11.962366   \n",
       "3                                 12.033091   \n",
       "4                                 12.025367   \n",
       "\n",
       "   secondary_cleaner.state.floatbank4_a_level  \\\n",
       "0                                 -497.795834   \n",
       "1                                 -498.695773   \n",
       "2                                 -498.767484   \n",
       "3                                 -498.350935   \n",
       "4                                 -500.786497   \n",
       "\n",
       "   secondary_cleaner.state.floatbank4_b_air  \\\n",
       "0                                  8.016656   \n",
       "1                                  8.130979   \n",
       "2                                  8.096893   \n",
       "3                                  8.074946   \n",
       "4                                  8.054678   \n",
       "\n",
       "   secondary_cleaner.state.floatbank4_b_level  \\\n",
       "0                                 -501.289139   \n",
       "1                                 -499.634209   \n",
       "2                                 -500.827423   \n",
       "3                                 -499.474407   \n",
       "4                                 -500.397500   \n",
       "\n",
       "   secondary_cleaner.state.floatbank5_a_air  \\\n",
       "0                                  7.946562   \n",
       "1                                  7.958270   \n",
       "2                                  8.071056   \n",
       "3                                  7.897085   \n",
       "4                                  8.107890   \n",
       "\n",
       "   secondary_cleaner.state.floatbank5_a_level  \\\n",
       "0                                 -432.317850   \n",
       "1                                 -525.839648   \n",
       "2                                 -500.801673   \n",
       "3                                 -500.868509   \n",
       "4                                 -509.526725   \n",
       "\n",
       "   secondary_cleaner.state.floatbank5_b_air  \\\n",
       "0                                  4.872511   \n",
       "1                                  4.878850   \n",
       "2                                  4.905125   \n",
       "3                                  4.931400   \n",
       "4                                  4.957674   \n",
       "\n",
       "   secondary_cleaner.state.floatbank5_b_level  \\\n",
       "0                                 -500.037437   \n",
       "1                                 -500.162375   \n",
       "2                                 -499.828510   \n",
       "3                                 -499.963623   \n",
       "4                                 -500.360026   \n",
       "\n",
       "   secondary_cleaner.state.floatbank6_a_air  \\\n",
       "0                                 26.705889   \n",
       "1                                 25.019940   \n",
       "2                                 24.994862   \n",
       "3                                 24.948919   \n",
       "4                                 25.003331   \n",
       "\n",
       "   secondary_cleaner.state.floatbank6_a_level  \n",
       "0                                 -499.709414  \n",
       "1                                 -499.819438  \n",
       "2                                 -500.622559  \n",
       "3                                 -498.709987  \n",
       "4                                 -500.856333  \n",
       "\n",
       "[5 rows x 53 columns]"
      ]
     },
     "execution_count": 8,
     "metadata": {},
     "output_type": "execute_result"
    }
   ],
   "source": [
    "df_test.head()"
   ]
  },
  {
   "cell_type": "code",
   "execution_count": 9,
   "metadata": {
    "scrolled": true
   },
   "outputs": [
    {
     "name": "stdout",
     "output_type": "stream",
     "text": [
      "<class 'pandas.core.frame.DataFrame'>\n",
      "RangeIndex: 5290 entries, 0 to 5289\n",
      "Data columns (total 53 columns):\n",
      " #   Column                                      Non-Null Count  Dtype  \n",
      "---  ------                                      --------------  -----  \n",
      " 0   date                                        5290 non-null   object \n",
      " 1   primary_cleaner.input.sulfate               5286 non-null   float64\n",
      " 2   primary_cleaner.input.depressant            5285 non-null   float64\n",
      " 3   primary_cleaner.input.feed_size             5290 non-null   float64\n",
      " 4   primary_cleaner.input.xanthate              5286 non-null   float64\n",
      " 5   primary_cleaner.state.floatbank8_a_air      5290 non-null   float64\n",
      " 6   primary_cleaner.state.floatbank8_a_level    5290 non-null   float64\n",
      " 7   primary_cleaner.state.floatbank8_b_air      5290 non-null   float64\n",
      " 8   primary_cleaner.state.floatbank8_b_level    5290 non-null   float64\n",
      " 9   primary_cleaner.state.floatbank8_c_air      5290 non-null   float64\n",
      " 10  primary_cleaner.state.floatbank8_c_level    5290 non-null   float64\n",
      " 11  primary_cleaner.state.floatbank8_d_air      5290 non-null   float64\n",
      " 12  primary_cleaner.state.floatbank8_d_level    5290 non-null   float64\n",
      " 13  rougher.input.feed_ag                       5290 non-null   float64\n",
      " 14  rougher.input.feed_pb                       5290 non-null   float64\n",
      " 15  rougher.input.feed_rate                     5287 non-null   float64\n",
      " 16  rougher.input.feed_size                     5289 non-null   float64\n",
      " 17  rougher.input.feed_sol                      5269 non-null   float64\n",
      " 18  rougher.input.feed_au                       5290 non-null   float64\n",
      " 19  rougher.input.floatbank10_sulfate           5285 non-null   float64\n",
      " 20  rougher.input.floatbank10_xanthate          5290 non-null   float64\n",
      " 21  rougher.input.floatbank11_sulfate           5282 non-null   float64\n",
      " 22  rougher.input.floatbank11_xanthate          5265 non-null   float64\n",
      " 23  rougher.state.floatbank10_a_air             5290 non-null   float64\n",
      " 24  rougher.state.floatbank10_a_level           5290 non-null   float64\n",
      " 25  rougher.state.floatbank10_b_air             5290 non-null   float64\n",
      " 26  rougher.state.floatbank10_b_level           5290 non-null   float64\n",
      " 27  rougher.state.floatbank10_c_air             5290 non-null   float64\n",
      " 28  rougher.state.floatbank10_c_level           5290 non-null   float64\n",
      " 29  rougher.state.floatbank10_d_air             5290 non-null   float64\n",
      " 30  rougher.state.floatbank10_d_level           5290 non-null   float64\n",
      " 31  rougher.state.floatbank10_e_air             5290 non-null   float64\n",
      " 32  rougher.state.floatbank10_e_level           5290 non-null   float64\n",
      " 33  rougher.state.floatbank10_f_air             5290 non-null   float64\n",
      " 34  rougher.state.floatbank10_f_level           5290 non-null   float64\n",
      " 35  secondary_cleaner.state.floatbank2_a_air    5287 non-null   float64\n",
      " 36  secondary_cleaner.state.floatbank2_a_level  5290 non-null   float64\n",
      " 37  secondary_cleaner.state.floatbank2_b_air    5288 non-null   float64\n",
      " 38  secondary_cleaner.state.floatbank2_b_level  5290 non-null   float64\n",
      " 39  secondary_cleaner.state.floatbank3_a_air    5281 non-null   float64\n",
      " 40  secondary_cleaner.state.floatbank3_a_level  5290 non-null   float64\n",
      " 41  secondary_cleaner.state.floatbank3_b_air    5290 non-null   float64\n",
      " 42  secondary_cleaner.state.floatbank3_b_level  5290 non-null   float64\n",
      " 43  secondary_cleaner.state.floatbank4_a_air    5290 non-null   float64\n",
      " 44  secondary_cleaner.state.floatbank4_a_level  5290 non-null   float64\n",
      " 45  secondary_cleaner.state.floatbank4_b_air    5290 non-null   float64\n",
      " 46  secondary_cleaner.state.floatbank4_b_level  5290 non-null   float64\n",
      " 47  secondary_cleaner.state.floatbank5_a_air    5290 non-null   float64\n",
      " 48  secondary_cleaner.state.floatbank5_a_level  5290 non-null   float64\n",
      " 49  secondary_cleaner.state.floatbank5_b_air    5290 non-null   float64\n",
      " 50  secondary_cleaner.state.floatbank5_b_level  5290 non-null   float64\n",
      " 51  secondary_cleaner.state.floatbank6_a_air    5290 non-null   float64\n",
      " 52  secondary_cleaner.state.floatbank6_a_level  5290 non-null   float64\n",
      "dtypes: float64(52), object(1)\n",
      "memory usage: 2.1+ MB\n"
     ]
    }
   ],
   "source": [
    "df_test.info()"
   ]
  },
  {
   "cell_type": "code",
   "execution_count": 10,
   "metadata": {
    "scrolled": true
   },
   "outputs": [
    {
     "data": {
      "text/plain": [
       "0.0003210043870599565"
      ]
     },
     "execution_count": 10,
     "metadata": {},
     "output_type": "execute_result"
    }
   ],
   "source": [
    "(df_test.isna().sum()/len(df_test)).mean()"
   ]
  },
  {
   "cell_type": "code",
   "execution_count": 11,
   "metadata": {},
   "outputs": [
    {
     "data": {
      "text/plain": [
       "0.004725897920604915"
      ]
     },
     "execution_count": 11,
     "metadata": {},
     "output_type": "execute_result"
    }
   ],
   "source": [
    "(df_test.isna().sum()/len(df_test)).max()"
   ]
  },
  {
   "cell_type": "markdown",
   "metadata": {},
   "source": [
    "**В тесте 5290 объектов, 52 признака, нет целевых.** Есть столбец `date`. Пропусков меньше чем в трейне - в средним по признакам 0.3%, максимально 4%"
   ]
  },
  {
   "cell_type": "code",
   "execution_count": 12,
   "metadata": {
    "scrolled": true
   },
   "outputs": [
    {
     "name": "stdout",
     "output_type": "stream",
     "text": [
      "<class 'pandas.core.frame.DataFrame'>\n",
      "RangeIndex: 19439 entries, 0 to 19438\n",
      "Data columns (total 87 columns):\n",
      " #   Column                                              Non-Null Count  Dtype  \n",
      "---  ------                                              --------------  -----  \n",
      " 0   date                                                19439 non-null  object \n",
      " 1   final.output.concentrate_ag                         19438 non-null  float64\n",
      " 2   final.output.concentrate_pb                         19438 non-null  float64\n",
      " 3   final.output.concentrate_sol                        19228 non-null  float64\n",
      " 4   final.output.concentrate_au                         19439 non-null  float64\n",
      " 5   final.output.recovery                               19439 non-null  float64\n",
      " 6   final.output.tail_ag                                19438 non-null  float64\n",
      " 7   final.output.tail_pb                                19338 non-null  float64\n",
      " 8   final.output.tail_sol                               19433 non-null  float64\n",
      " 9   final.output.tail_au                                19439 non-null  float64\n",
      " 10  primary_cleaner.input.sulfate                       19415 non-null  float64\n",
      " 11  primary_cleaner.input.depressant                    19402 non-null  float64\n",
      " 12  primary_cleaner.input.feed_size                     19439 non-null  float64\n",
      " 13  primary_cleaner.input.xanthate                      19335 non-null  float64\n",
      " 14  primary_cleaner.output.concentrate_ag               19439 non-null  float64\n",
      " 15  primary_cleaner.output.concentrate_pb               19323 non-null  float64\n",
      " 16  primary_cleaner.output.concentrate_sol              19069 non-null  float64\n",
      " 17  primary_cleaner.output.concentrate_au               19439 non-null  float64\n",
      " 18  primary_cleaner.output.tail_ag                      19435 non-null  float64\n",
      " 19  primary_cleaner.output.tail_pb                      19418 non-null  float64\n",
      " 20  primary_cleaner.output.tail_sol                     19377 non-null  float64\n",
      " 21  primary_cleaner.output.tail_au                      19439 non-null  float64\n",
      " 22  primary_cleaner.state.floatbank8_a_air              19435 non-null  float64\n",
      " 23  primary_cleaner.state.floatbank8_a_level            19438 non-null  float64\n",
      " 24  primary_cleaner.state.floatbank8_b_air              19435 non-null  float64\n",
      " 25  primary_cleaner.state.floatbank8_b_level            19438 non-null  float64\n",
      " 26  primary_cleaner.state.floatbank8_c_air              19437 non-null  float64\n",
      " 27  primary_cleaner.state.floatbank8_c_level            19438 non-null  float64\n",
      " 28  primary_cleaner.state.floatbank8_d_air              19436 non-null  float64\n",
      " 29  primary_cleaner.state.floatbank8_d_level            19438 non-null  float64\n",
      " 30  rougher.calculation.sulfate_to_au_concentrate       19437 non-null  float64\n",
      " 31  rougher.calculation.floatbank10_sulfate_to_au_feed  19437 non-null  float64\n",
      " 32  rougher.calculation.floatbank11_sulfate_to_au_feed  19437 non-null  float64\n",
      " 33  rougher.calculation.au_pb_ratio                     19439 non-null  float64\n",
      " 34  rougher.input.feed_ag                               19439 non-null  float64\n",
      " 35  rougher.input.feed_pb                               19339 non-null  float64\n",
      " 36  rougher.input.feed_rate                             19428 non-null  float64\n",
      " 37  rougher.input.feed_size                             19294 non-null  float64\n",
      " 38  rougher.input.feed_sol                              19340 non-null  float64\n",
      " 39  rougher.input.feed_au                               19439 non-null  float64\n",
      " 40  rougher.input.floatbank10_sulfate                   19405 non-null  float64\n",
      " 41  rougher.input.floatbank10_xanthate                  19431 non-null  float64\n",
      " 42  rougher.input.floatbank11_sulfate                   19395 non-null  float64\n",
      " 43  rougher.input.floatbank11_xanthate                  18986 non-null  float64\n",
      " 44  rougher.output.concentrate_ag                       19439 non-null  float64\n",
      " 45  rougher.output.concentrate_pb                       19439 non-null  float64\n",
      " 46  rougher.output.concentrate_sol                      19416 non-null  float64\n",
      " 47  rougher.output.concentrate_au                       19439 non-null  float64\n",
      " 48  rougher.output.recovery                             19439 non-null  float64\n",
      " 49  rougher.output.tail_ag                              19438 non-null  float64\n",
      " 50  rougher.output.tail_pb                              19439 non-null  float64\n",
      " 51  rougher.output.tail_sol                             19439 non-null  float64\n",
      " 52  rougher.output.tail_au                              19439 non-null  float64\n",
      " 53  rougher.state.floatbank10_a_air                     19438 non-null  float64\n",
      " 54  rougher.state.floatbank10_a_level                   19438 non-null  float64\n",
      " 55  rougher.state.floatbank10_b_air                     19438 non-null  float64\n",
      " 56  rougher.state.floatbank10_b_level                   19438 non-null  float64\n",
      " 57  rougher.state.floatbank10_c_air                     19438 non-null  float64\n",
      " 58  rougher.state.floatbank10_c_level                   19438 non-null  float64\n",
      " 59  rougher.state.floatbank10_d_air                     19439 non-null  float64\n",
      " 60  rougher.state.floatbank10_d_level                   19439 non-null  float64\n",
      " 61  rougher.state.floatbank10_e_air                     19003 non-null  float64\n",
      " 62  rougher.state.floatbank10_e_level                   19439 non-null  float64\n",
      " 63  rougher.state.floatbank10_f_air                     19439 non-null  float64\n",
      " 64  rougher.state.floatbank10_f_level                   19439 non-null  float64\n",
      " 65  secondary_cleaner.output.tail_ag                    19437 non-null  float64\n",
      " 66  secondary_cleaner.output.tail_pb                    19427 non-null  float64\n",
      " 67  secondary_cleaner.output.tail_sol                   17691 non-null  float64\n",
      " 68  secondary_cleaner.output.tail_au                    19439 non-null  float64\n",
      " 69  secondary_cleaner.state.floatbank2_a_air            19219 non-null  float64\n",
      " 70  secondary_cleaner.state.floatbank2_a_level          19438 non-null  float64\n",
      " 71  secondary_cleaner.state.floatbank2_b_air            19416 non-null  float64\n",
      " 72  secondary_cleaner.state.floatbank2_b_level          19438 non-null  float64\n",
      " 73  secondary_cleaner.state.floatbank3_a_air            19426 non-null  float64\n",
      " 74  secondary_cleaner.state.floatbank3_a_level          19438 non-null  float64\n",
      " 75  secondary_cleaner.state.floatbank3_b_air            19438 non-null  float64\n",
      " 76  secondary_cleaner.state.floatbank3_b_level          19438 non-null  float64\n",
      " 77  secondary_cleaner.state.floatbank4_a_air            19433 non-null  float64\n",
      " 78  secondary_cleaner.state.floatbank4_a_level          19438 non-null  float64\n",
      " 79  secondary_cleaner.state.floatbank4_b_air            19438 non-null  float64\n",
      " 80  secondary_cleaner.state.floatbank4_b_level          19438 non-null  float64\n",
      " 81  secondary_cleaner.state.floatbank5_a_air            19438 non-null  float64\n",
      " 82  secondary_cleaner.state.floatbank5_a_level          19438 non-null  float64\n",
      " 83  secondary_cleaner.state.floatbank5_b_air            19438 non-null  float64\n",
      " 84  secondary_cleaner.state.floatbank5_b_level          19438 non-null  float64\n",
      " 85  secondary_cleaner.state.floatbank6_a_air            19437 non-null  float64\n",
      " 86  secondary_cleaner.state.floatbank6_a_level          19438 non-null  float64\n",
      "dtypes: float64(86), object(1)\n",
      "memory usage: 12.9+ MB\n"
     ]
    }
   ],
   "source": [
    "df_full.info()"
   ]
  },
  {
   "cell_type": "code",
   "execution_count": 13,
   "metadata": {},
   "outputs": [
    {
     "data": {
      "text/plain": [
       "0"
      ]
     },
     "execution_count": 13,
     "metadata": {},
     "output_type": "execute_result"
    }
   ],
   "source": [
    "df_full.duplicated().sum()"
   ]
  },
  {
   "cell_type": "markdown",
   "metadata": {},
   "source": [
    "В полном датафрейме содержатся как тестовая, так и трейн выборки. Восстановить целевые признаки в тесте можно по этой табличке. Дубликатов не обнаружено."
   ]
  },
  {
   "cell_type": "markdown",
   "metadata": {},
   "source": [
    "### Проверка правильности расчета выхода"
   ]
  },
  {
   "cell_type": "code",
   "execution_count": 14,
   "metadata": {},
   "outputs": [],
   "source": [
    "df_recov_check = pd.DataFrame()\n",
    "df_recov_check['train'] = df_train['rougher.output.recovery']\n",
    "df_recov_check['check'] = (\n",
    "    df_train['rougher.output.concentrate_au'] * (df_train['rougher.input.feed_au'] - df_train['rougher.output.tail_au']) /\n",
    "    (df_train['rougher.input.feed_au'] * (df_train['rougher.output.concentrate_au'] - df_train['rougher.output.tail_au']))\n",
    ")"
   ]
  },
  {
   "cell_type": "code",
   "execution_count": 15,
   "metadata": {
    "scrolled": false
   },
   "outputs": [
    {
     "data": {
      "text/html": [
       "<div>\n",
       "<style scoped>\n",
       "    .dataframe tbody tr th:only-of-type {\n",
       "        vertical-align: middle;\n",
       "    }\n",
       "\n",
       "    .dataframe tbody tr th {\n",
       "        vertical-align: top;\n",
       "    }\n",
       "\n",
       "    .dataframe thead th {\n",
       "        text-align: right;\n",
       "    }\n",
       "</style>\n",
       "<table border=\"1\" class=\"dataframe\">\n",
       "  <thead>\n",
       "    <tr style=\"text-align: right;\">\n",
       "      <th></th>\n",
       "      <th>train</th>\n",
       "      <th>check</th>\n",
       "    </tr>\n",
       "  </thead>\n",
       "  <tbody>\n",
       "    <tr>\n",
       "      <th>0</th>\n",
       "      <td>87.107763</td>\n",
       "      <td>0.871078</td>\n",
       "    </tr>\n",
       "    <tr>\n",
       "      <th>1</th>\n",
       "      <td>86.843261</td>\n",
       "      <td>0.868433</td>\n",
       "    </tr>\n",
       "    <tr>\n",
       "      <th>2</th>\n",
       "      <td>86.842308</td>\n",
       "      <td>0.868423</td>\n",
       "    </tr>\n",
       "    <tr>\n",
       "      <th>3</th>\n",
       "      <td>87.226430</td>\n",
       "      <td>0.872264</td>\n",
       "    </tr>\n",
       "    <tr>\n",
       "      <th>4</th>\n",
       "      <td>86.688794</td>\n",
       "      <td>0.866888</td>\n",
       "    </tr>\n",
       "  </tbody>\n",
       "</table>\n",
       "</div>"
      ],
      "text/plain": [
       "       train     check\n",
       "0  87.107763  0.871078\n",
       "1  86.843261  0.868433\n",
       "2  86.842308  0.868423\n",
       "3  87.226430  0.872264\n",
       "4  86.688794  0.866888"
      ]
     },
     "execution_count": 15,
     "metadata": {},
     "output_type": "execute_result"
    }
   ],
   "source": [
    "df_recov_check.head()"
   ]
  },
  {
   "cell_type": "code",
   "execution_count": 16,
   "metadata": {
    "scrolled": true
   },
   "outputs": [
    {
     "data": {
      "text/plain": [
       "9.73512347450521e-15"
      ]
     },
     "execution_count": 16,
     "metadata": {},
     "output_type": "execute_result"
    }
   ],
   "source": [
    "mean_absolute_error(df_recov_check['train'], df_recov_check['check']*100)"
   ]
  },
  {
   "cell_type": "markdown",
   "metadata": {},
   "source": [
    "Расчет recovery проведен верно"
   ]
  },
  {
   "cell_type": "markdown",
   "metadata": {},
   "source": [
    "### Недоступные признаки"
   ]
  },
  {
   "cell_type": "code",
   "execution_count": 17,
   "metadata": {
    "scrolled": true
   },
   "outputs": [
    {
     "data": {
      "text/plain": [
       "{'final.output.concentrate_ag',\n",
       " 'final.output.concentrate_au',\n",
       " 'final.output.concentrate_pb',\n",
       " 'final.output.concentrate_sol',\n",
       " 'final.output.recovery',\n",
       " 'final.output.tail_ag',\n",
       " 'final.output.tail_au',\n",
       " 'final.output.tail_pb',\n",
       " 'final.output.tail_sol',\n",
       " 'primary_cleaner.output.concentrate_ag',\n",
       " 'primary_cleaner.output.concentrate_au',\n",
       " 'primary_cleaner.output.concentrate_pb',\n",
       " 'primary_cleaner.output.concentrate_sol',\n",
       " 'primary_cleaner.output.tail_ag',\n",
       " 'primary_cleaner.output.tail_au',\n",
       " 'primary_cleaner.output.tail_pb',\n",
       " 'primary_cleaner.output.tail_sol',\n",
       " 'rougher.calculation.au_pb_ratio',\n",
       " 'rougher.calculation.floatbank10_sulfate_to_au_feed',\n",
       " 'rougher.calculation.floatbank11_sulfate_to_au_feed',\n",
       " 'rougher.calculation.sulfate_to_au_concentrate',\n",
       " 'rougher.output.concentrate_ag',\n",
       " 'rougher.output.concentrate_au',\n",
       " 'rougher.output.concentrate_pb',\n",
       " 'rougher.output.concentrate_sol',\n",
       " 'rougher.output.recovery',\n",
       " 'rougher.output.tail_ag',\n",
       " 'rougher.output.tail_au',\n",
       " 'rougher.output.tail_pb',\n",
       " 'rougher.output.tail_sol',\n",
       " 'secondary_cleaner.output.tail_ag',\n",
       " 'secondary_cleaner.output.tail_au',\n",
       " 'secondary_cleaner.output.tail_pb',\n",
       " 'secondary_cleaner.output.tail_sol'}"
      ]
     },
     "execution_count": 17,
     "metadata": {},
     "output_type": "execute_result"
    }
   ],
   "source": [
    "inaccessible_features_all = set(df_test.columns) ^ set(df_train.columns)\n",
    "inaccessible_features_all"
   ]
  },
  {
   "cell_type": "code",
   "execution_count": 18,
   "metadata": {},
   "outputs": [],
   "source": [
    "inaccessible_features = inaccessible_features_all - set(['rougher.output.recovery', 'final.output.recovery'])"
   ]
  },
  {
   "cell_type": "markdown",
   "metadata": {},
   "source": [
    "34 признака которые есть в тесте но которых нету в трейне, очевидно, измеряются уже на производстве. Эти признаки(исключая целевые) нельзя подавать моделям для обучения."
   ]
  },
  {
   "cell_type": "code",
   "execution_count": 19,
   "metadata": {
    "scrolled": true
   },
   "outputs": [
    {
     "data": {
      "text/plain": [
       "{'final.output.concentrate_ag',\n",
       " 'final.output.concentrate_au',\n",
       " 'final.output.concentrate_pb',\n",
       " 'final.output.concentrate_sol',\n",
       " 'final.output.recovery',\n",
       " 'final.output.tail_ag',\n",
       " 'final.output.tail_au',\n",
       " 'final.output.tail_pb',\n",
       " 'final.output.tail_sol',\n",
       " 'primary_cleaner.output.concentrate_ag',\n",
       " 'primary_cleaner.output.concentrate_au',\n",
       " 'primary_cleaner.output.concentrate_pb',\n",
       " 'primary_cleaner.output.concentrate_sol',\n",
       " 'primary_cleaner.output.tail_ag',\n",
       " 'primary_cleaner.output.tail_au',\n",
       " 'primary_cleaner.output.tail_pb',\n",
       " 'primary_cleaner.output.tail_sol',\n",
       " 'rougher.calculation.au_pb_ratio',\n",
       " 'rougher.calculation.floatbank10_sulfate_to_au_feed',\n",
       " 'rougher.calculation.floatbank11_sulfate_to_au_feed',\n",
       " 'rougher.calculation.sulfate_to_au_concentrate',\n",
       " 'rougher.output.concentrate_ag',\n",
       " 'rougher.output.concentrate_au',\n",
       " 'rougher.output.concentrate_pb',\n",
       " 'rougher.output.concentrate_sol',\n",
       " 'rougher.output.recovery',\n",
       " 'rougher.output.tail_ag',\n",
       " 'rougher.output.tail_au',\n",
       " 'rougher.output.tail_pb',\n",
       " 'rougher.output.tail_sol',\n",
       " 'secondary_cleaner.output.tail_ag',\n",
       " 'secondary_cleaner.output.tail_au',\n",
       " 'secondary_cleaner.output.tail_pb',\n",
       " 'secondary_cleaner.output.tail_sol'}"
      ]
     },
     "execution_count": 19,
     "metadata": {},
     "output_type": "execute_result"
    }
   ],
   "source": [
    "inaccessible_features.union(set(['rougher.output.recovery', 'final.output.recovery']))"
   ]
  },
  {
   "cell_type": "markdown",
   "metadata": {},
   "source": [
    "### Предобработка"
   ]
  },
  {
   "cell_type": "markdown",
   "metadata": {},
   "source": [
    "Добавим целевые признаки в тест, удалим лишние признаки, дропать `date` пока не будем. Пропуски заполним предыдущим значением"
   ]
  },
  {
   "cell_type": "code",
   "execution_count": 20,
   "metadata": {},
   "outputs": [],
   "source": [
    "df_test = df_test.join(\n",
    "    df_full[['date', 'rougher.output.recovery', 'final.output.recovery']].set_index('date'),\n",
    "    on='date'\n",
    ")"
   ]
  },
  {
   "cell_type": "code",
   "execution_count": 21,
   "metadata": {},
   "outputs": [],
   "source": [
    "df_train.drop(columns=inaccessible_features, inplace=True)"
   ]
  },
  {
   "cell_type": "code",
   "execution_count": 22,
   "metadata": {},
   "outputs": [
    {
     "data": {
      "text/plain": [
       "(5290, 55)"
      ]
     },
     "execution_count": 22,
     "metadata": {},
     "output_type": "execute_result"
    }
   ],
   "source": [
    "df_test.shape"
   ]
  },
  {
   "cell_type": "code",
   "execution_count": 23,
   "metadata": {},
   "outputs": [
    {
     "data": {
      "text/plain": [
       "(14149, 55)"
      ]
     },
     "execution_count": 23,
     "metadata": {},
     "output_type": "execute_result"
    }
   ],
   "source": [
    "df_train.shape"
   ]
  },
  {
   "cell_type": "code",
   "execution_count": 24,
   "metadata": {
    "scrolled": true
   },
   "outputs": [],
   "source": [
    "df_test.fillna(method='ffill', inplace=True)\n",
    "df_train.fillna(method='ffill', inplace=True)"
   ]
  },
  {
   "cell_type": "markdown",
   "metadata": {},
   "source": [
    "## Анализ данных"
   ]
  },
  {
   "cell_type": "markdown",
   "metadata": {},
   "source": [
    "### Изменение концентраций металлов в процессе "
   ]
  },
  {
   "cell_type": "code",
   "execution_count": 25,
   "metadata": {
    "scrolled": false
   },
   "outputs": [
    {
     "data": {
      "image/png": "[encoded data removed]",
      "text/plain": [
       "<Figure size 1080x1440 with 1 Axes>"
      ]
     },
     "metadata": {
      "needs_background": "light"
     },
     "output_type": "display_data"
    },
    {
     "data": {
      "image/png": "[encoded data removed]",
      "text/plain": [
       "<Figure size 1080x1440 with 1 Axes>"
      ]
     },
     "metadata": {
      "needs_background": "light"
     },
     "output_type": "display_data"
    },
    {
     "data": {
      "image/png": "[encoded data removed]",
      "text/plain": [
       "<Figure size 1080x1440 with 1 Axes>"
      ]
     },
     "metadata": {
      "needs_background": "light"
     },
     "output_type": "display_data"
    }
   ],
   "source": [
    "plot_columns = ['rougher.input.feed_', 'rougher.output.concentrate_',\n",
    "                'primary_cleaner.output.concentrate_', 'final.output.concentrate_']\n",
    "plot_metals = ['au', 'ag', 'pb']\n",
    "\n",
    "for i, me in enumerate(plot_metals):\n",
    "    plt.figure(figsize=(15, 20))\n",
    "    plt.subplot(3,1,i+1)\n",
    "    for col in plot_columns:\n",
    "        plt.hist(df_full[col+me], bins=50, density=True, alpha=0.75);\n",
    "        plt.legend(['Ore', 'Rough', \n",
    "                    'Primary purified', 'Repurified'])\n",
    "\n",
    "    plt.title(me)\n",
    "    plt.xlabel('concentration')\n",
    "    plt.ylabel('frequency')\n",
    "    plt.grid()"
   ]
  },
  {
   "cell_type": "markdown",
   "metadata": {},
   "source": [
    "Концентрация золота на каждом этапе увеличивается. Основная примесь - свинец, тоже увеличивает свое содержание. Серебро, в отличие от предыдущих двух металлов, сначала увеличивает свою концентрацию (этап грубой очистки), а затем уменьшает."
   ]
  },
  {
   "cell_type": "markdown",
   "metadata": {},
   "source": [
    "### Сравнение распределений на выборках"
   ]
  },
  {
   "cell_type": "code",
   "execution_count": 26,
   "metadata": {},
   "outputs": [
    {
     "data": {
      "image/png": "[encoded data removed]",
      "text/plain": [
       "<Figure size 1080x360 with 2 Axes>"
      ]
     },
     "metadata": {
      "needs_background": "light"
     },
     "output_type": "display_data"
    }
   ],
   "source": [
    "plt.figure(figsize=(15, 5))\n",
    "\n",
    "plt.subplot(1,2,1)\n",
    "plt.hist(df_train['primary_cleaner.input.feed_size'], bins=50, density=True, alpha=0.75);\n",
    "plt.hist(df_test['primary_cleaner.input.feed_size'], bins=50, density=True, alpha=0.75);\n",
    "plt.legend(['train', 'test'])\n",
    "plt.title('primary_cleaner.input.feed_size')\n",
    "plt.xlabel('feed_size')\n",
    "plt.ylabel('frequency')\n",
    "plt.grid()\n",
    "\n",
    "plt.subplot(1,2,2)\n",
    "plt.hist(df_train['rougher.input.feed_size'], bins=50, density=True, alpha=0.75);\n",
    "plt.hist(df_test['rougher.input.feed_size'], bins=50, density=True, alpha=0.75);\n",
    "plt.legend(['train', 'test'])\n",
    "plt.title('rougher.input.feed_size')\n",
    "plt.xlabel('feed_size')\n",
    "plt.ylabel('frequency')\n",
    "plt.grid()"
   ]
  },
  {
   "cell_type": "markdown",
   "metadata": {},
   "source": [
    "Распределения гранул отличаются не сильно, данные однородны"
   ]
  },
  {
   "cell_type": "markdown",
   "metadata": {},
   "source": [
    "### Проверка суммарных концентраций"
   ]
  },
  {
   "cell_type": "code",
   "execution_count": 27,
   "metadata": {},
   "outputs": [],
   "source": [
    "df_concentrations = pd.DataFrame()"
   ]
  },
  {
   "cell_type": "code",
   "execution_count": 28,
   "metadata": {
    "scrolled": false
   },
   "outputs": [
    {
     "data": {
      "image/png": "[encoded data removed]",
      "text/plain": [
       "<Figure size 1080x720 with 4 Axes>"
      ]
     },
     "metadata": {
      "needs_background": "light"
     },
     "output_type": "display_data"
    }
   ],
   "source": [
    "df_concentrations['date'] = df_full['date']\n",
    "df_concentrations['final_sum'] = df_full[['final.output.concentrate_ag', 'final.output.concentrate_au',\n",
    "                                         'final.output.concentrate_pb']].sum(axis=1)\n",
    "df_concentrations['rougher_input_sum'] = df_full[['rougher.input.feed_ag', 'rougher.input.feed_au',\n",
    "                                         'rougher.input.feed_pb']].sum(axis=1)\n",
    "df_concentrations['rougher_output_sum'] = df_full[['rougher.output.concentrate_ag', 'rougher.output.concentrate_au',\n",
    "                                         'rougher.output.concentrate_pb']].sum(axis=1)\n",
    "\n",
    "df_concentrations.hist(figsize=(15,10), bins = 100);"
   ]
  },
  {
   "cell_type": "markdown",
   "metadata": {},
   "source": [
    "Видны нулевые концентрации. Это однозначно выбросы - не может быть так что на всех стадиях ничего нет. Эти значения необходимо удалить"
   ]
  },
  {
   "cell_type": "code",
   "execution_count": 29,
   "metadata": {},
   "outputs": [],
   "source": [
    "date_to_keep = df_concentrations.query('not ((final_sum == 0) or (rougher_output_sum == 0))')['date']"
   ]
  },
  {
   "cell_type": "code",
   "execution_count": 30,
   "metadata": {},
   "outputs": [],
   "source": [
    "df_test = df_test.query('date in @date_to_keep')\n",
    "df_train = df_train.query('date in @date_to_keep')"
   ]
  },
  {
   "cell_type": "code",
   "execution_count": 31,
   "metadata": {},
   "outputs": [],
   "source": [
    "df_test.drop(columns='date', inplace=True)\n",
    "df_train.drop(columns='date', inplace=True)"
   ]
  },
  {
   "cell_type": "markdown",
   "metadata": {},
   "source": [
    "## Модель"
   ]
  },
  {
   "cell_type": "markdown",
   "metadata": {},
   "source": [
    "Обучать будем линейную регрессию, модель Лассо и случайный лес. Оценивать качество будем с помощью гибридной метрики smape"
   ]
  },
  {
   "cell_type": "markdown",
   "metadata": {},
   "source": [
    "### sMAPE"
   ]
  },
  {
   "cell_type": "markdown",
   "metadata": {},
   "source": [
    "$$sMAPE=\\frac{1}{N}\\sum_{i=1}^{N} \\frac{|y_{i}-\\hat{y}_{i}|} {(|y_{i}|+|\\hat{y}_{i}|)/2}\\cdot100\\%$$\n",
    "\n",
    "$$\\text{Итоговое }sMAPE = 0.25\\cdot sMAPE(rougher)+0.75\\cdot sMAPE(final)$$\n",
    "\n",
    "$$\\text{Где }y_{i}\\text{ - значение целевого признака для объекта с порядковым номером i в выборке, на которой измеряется качество}$$\n",
    "\n",
    "$$\\hat{y}_{i}\\text{ - значение предсказания для объекта с порядковым номером i, например, в тестовой выборке.}$$\n",
    "\n",
    "$$N\\text{ - количество объектов в выборке}$$"
   ]
  },
  {
   "cell_type": "code",
   "execution_count": 32,
   "metadata": {},
   "outputs": [],
   "source": [
    "def smape(y_true, y_pred):\n",
    "    return sum(abs(y_true-y_pred) / ((abs(y_true)+abs(y_pred))/2)) / len(y_pred) * 100\n",
    "\n",
    "def smape_loss_func(y_true, y_pred):\n",
    "    return 0.25*smape(y_true[:,0], y_pred[:,0]) + 0.75*smape(y_true[:,1], y_pred[:,1])\n",
    "smape_loss = make_scorer(smape_loss_func, greater_is_better=False)"
   ]
  },
  {
   "cell_type": "markdown",
   "metadata": {},
   "source": [
    "### Формирование выборок"
   ]
  },
  {
   "cell_type": "code",
   "execution_count": 33,
   "metadata": {},
   "outputs": [],
   "source": [
    "X_train = np.asarray(df_train.drop(columns=['rougher.output.recovery', 'final.output.recovery']))\n",
    "y_train = np.asarray(df_train[['rougher.output.recovery', 'final.output.recovery']])\n",
    "\n",
    "X_test = np.asarray(df_test.drop(columns=['rougher.output.recovery', 'final.output.recovery']))\n",
    "y_test = np.asarray(df_test[['rougher.output.recovery', 'final.output.recovery']])\n",
    "\n",
    "scaler = StandardScaler()\n",
    "X_train = scaler.fit_transform(X_train)\n",
    "X_test = scaler.transform(X_test)"
   ]
  },
  {
   "cell_type": "markdown",
   "metadata": {},
   "source": [
    "### Линейная регрессия\n"
   ]
  },
  {
   "cell_type": "code",
   "execution_count": 34,
   "metadata": {},
   "outputs": [
    {
     "data": {
      "text/plain": [
       "-10.0596020690936"
      ]
     },
     "execution_count": 34,
     "metadata": {},
     "output_type": "execute_result"
    }
   ],
   "source": [
    "model = LinearRegression()\n",
    "cross_val_score(model, X_train, y_train, cv=5, scoring=smape_loss).mean()"
   ]
  },
  {
   "cell_type": "markdown",
   "metadata": {},
   "source": [
    "Качество линейной регрессии сильно падает из-за мультиколлинеарности, исправим это"
   ]
  },
  {
   "cell_type": "code",
   "execution_count": 35,
   "metadata": {
    "scrolled": false
   },
   "outputs": [
    {
     "data": {
      "image/png": "[encoded data removed]",
      "text/plain": [
       "<Figure size 720x504 with 2 Axes>"
      ]
     },
     "metadata": {
      "needs_background": "light"
     },
     "output_type": "display_data"
    }
   ],
   "source": [
    "sns.heatmap(df_train.corr().abs())\n",
    "plt.gcf().set_size_inches(10,7);"
   ]
  },
  {
   "cell_type": "markdown",
   "metadata": {},
   "source": [
    "Избавимся от избыточных признаков PCA преобразованием"
   ]
  },
  {
   "cell_type": "code",
   "execution_count": 36,
   "metadata": {
    "scrolled": true
   },
   "outputs": [
    {
     "data": {
      "image/png": "[encoded data removed]",
      "text/plain": [
       "<Figure size 432x288 with 1 Axes>"
      ]
     },
     "metadata": {
      "needs_background": "light"
     },
     "output_type": "display_data"
    }
   ],
   "source": [
    "pca = PCA(n_components = X_train.shape[1])\n",
    "pca_data = pca.fit_transform(X_train)\n",
    "\n",
    "percent_var_explained = pca.explained_variance_/(np.sum(pca.explained_variance_))\n",
    "cumm_var_explained = np.cumsum(percent_var_explained)\n",
    "\n",
    "plt.plot(cumm_var_explained)\n",
    "plt.grid()\n",
    "plt.xlabel(\"n_components\")\n",
    "plt.ylabel(\"% variance explained\")\n",
    "plt.show()"
   ]
  },
  {
   "cell_type": "code",
   "execution_count": 37,
   "metadata": {},
   "outputs": [
    {
     "data": {
      "text/plain": [
       "array([0.20688479, 0.35745763, 0.46533436, 0.54894832, 0.60545721,\n",
       "       0.65389514, 0.70077374, 0.73771217, 0.77022123, 0.79536266,\n",
       "       0.81775804, 0.83462489, 0.84938313, 0.86372383, 0.87684485,\n",
       "       0.888025  , 0.89846203, 0.90853283, 0.91740489, 0.92565132,\n",
       "       0.93330297, 0.94030786, 0.94693042, 0.95205031, 0.95698041,\n",
       "       0.96117728, 0.96497655, 0.96847887, 0.97167852, 0.97472106,\n",
       "       0.9777177 , 0.98037342, 0.98270265, 0.98459093, 0.9863344 ,\n",
       "       0.98796414, 0.98941789, 0.99081147, 0.99191026, 0.99296998,\n",
       "       0.99398292, 0.99495351, 0.99573762, 0.9965197 , 0.99723096,\n",
       "       0.99789712, 0.9984658 , 0.99890678, 0.99930655, 0.99967117,\n",
       "       0.99987609, 1.        ])"
      ]
     },
     "execution_count": 37,
     "metadata": {},
     "output_type": "execute_result"
    }
   ],
   "source": [
    "cumm_var_explained"
   ]
  },
  {
   "cell_type": "code",
   "execution_count": 38,
   "metadata": {},
   "outputs": [],
   "source": [
    "pca = PCA(n_components=25)\n",
    "X_train_pca = pca.fit_transform(X_train)\n",
    "X_test_pca = pca.transform(X_test)"
   ]
  },
  {
   "cell_type": "code",
   "execution_count": 39,
   "metadata": {},
   "outputs": [
    {
     "data": {
      "image/png": "[encoded data removed]",
      "text/plain": [
       "<Figure size 720x504 with 2 Axes>"
      ]
     },
     "metadata": {
      "needs_background": "light"
     },
     "output_type": "display_data"
    }
   ],
   "source": [
    "df_train_pca = pd.DataFrame(X_train_pca)\n",
    "df_train_pca['rougher.output.recovery'] = df_train['rougher.output.recovery']\n",
    "df_train_pca['final.output.recovery'] = df_train['final.output.recovery']\n",
    "\n",
    "sns.heatmap(df_train_pca.corr().abs())\n",
    "plt.gcf().set_size_inches(10,7);"
   ]
  },
  {
   "cell_type": "code",
   "execution_count": 40,
   "metadata": {},
   "outputs": [
    {
     "data": {
      "text/plain": [
       "-8.79238237172441"
      ]
     },
     "execution_count": 40,
     "metadata": {},
     "output_type": "execute_result"
    }
   ],
   "source": [
    "model = LinearRegression()\n",
    "cross_val_score(model, X_train_pca, y_train, cv=5, scoring=smape_loss).mean()"
   ]
  },
  {
   "cell_type": "markdown",
   "metadata": {},
   "source": [
    "Качество заметно улучшилось, посмотрим как проявит себя Лассо "
   ]
  },
  {
   "cell_type": "code",
   "execution_count": 41,
   "metadata": {},
   "outputs": [],
   "source": [
    "model = Lasso()"
   ]
  },
  {
   "cell_type": "code",
   "execution_count": 42,
   "metadata": {},
   "outputs": [
    {
     "data": {
      "text/plain": [
       "GridSearchCV(estimator=Lasso(),\n",
       "             param_grid={'alpha': [0.4, 0.41500000000000004, 0.43, 0.445, 0.46,\n",
       "                                   0.475, 0.49, 0.505, 0.52, 0.5349999999999999,\n",
       "                                   0.55, 0.565, 0.58, 0.595, 0.61, 0.625,\n",
       "                                   0.6399999999999999, 0.655,\n",
       "                                   0.6699999999999999, 0.6849999999999999,\n",
       "                                   0.7]},\n",
       "             scoring=make_scorer(smape_loss_func, greater_is_better=False))"
      ]
     },
     "execution_count": 42,
     "metadata": {},
     "output_type": "execute_result"
    }
   ],
   "source": [
    "clf = GridSearchCV(model, {'alpha': list(np.linspace(0.4, 0.7, 21))}, scoring=smape_loss)\n",
    "clf.fit(X_train, y_train)"
   ]
  },
  {
   "cell_type": "code",
   "execution_count": 43,
   "metadata": {},
   "outputs": [
    {
     "data": {
      "text/plain": [
       "-8.558927178261417"
      ]
     },
     "execution_count": 43,
     "metadata": {},
     "output_type": "execute_result"
    }
   ],
   "source": [
    "clf.best_score_"
   ]
  },
  {
   "cell_type": "code",
   "execution_count": 44,
   "metadata": {},
   "outputs": [
    {
     "data": {
      "text/plain": [
       "{'alpha': 0.55}"
      ]
     },
     "execution_count": 44,
     "metadata": {},
     "output_type": "execute_result"
    }
   ],
   "source": [
    "clf.best_params_"
   ]
  },
  {
   "cell_type": "markdown",
   "metadata": {},
   "source": [
    "Качество модели Лассо немного лучше. В дальнейшем можно удалить линейно незначимые столбцы"
   ]
  },
  {
   "cell_type": "markdown",
   "metadata": {},
   "source": [
    "### Модель случайного леса"
   ]
  },
  {
   "cell_type": "code",
   "execution_count": 45,
   "metadata": {
    "scrolled": false
   },
   "outputs": [
    {
     "name": "stdout",
     "output_type": "stream",
     "text": [
      "interval columns not set, guessing: ['final.output.recovery', 'primary_cleaner.input.sulfate', 'primary_cleaner.input.depressant', 'primary_cleaner.input.feed_size', 'primary_cleaner.input.xanthate', 'primary_cleaner.state.floatbank8_a_air', 'primary_cleaner.state.floatbank8_a_level', 'primary_cleaner.state.floatbank8_b_air', 'primary_cleaner.state.floatbank8_b_level', 'primary_cleaner.state.floatbank8_c_air', 'primary_cleaner.state.floatbank8_c_level', 'primary_cleaner.state.floatbank8_d_air', 'primary_cleaner.state.floatbank8_d_level', 'rougher.input.feed_ag', 'rougher.input.feed_pb', 'rougher.input.feed_rate', 'rougher.input.feed_size', 'rougher.input.feed_sol', 'rougher.input.feed_au', 'rougher.input.floatbank10_sulfate', 'rougher.input.floatbank10_xanthate', 'rougher.input.floatbank11_sulfate', 'rougher.input.floatbank11_xanthate', 'rougher.output.recovery', 'rougher.state.floatbank10_a_air', 'rougher.state.floatbank10_a_level', 'rougher.state.floatbank10_b_air', 'rougher.state.floatbank10_b_level', 'rougher.state.floatbank10_c_air', 'rougher.state.floatbank10_c_level', 'rougher.state.floatbank10_d_air', 'rougher.state.floatbank10_d_level', 'rougher.state.floatbank10_e_air', 'rougher.state.floatbank10_e_level', 'rougher.state.floatbank10_f_air', 'rougher.state.floatbank10_f_level', 'secondary_cleaner.state.floatbank2_a_air', 'secondary_cleaner.state.floatbank2_a_level', 'secondary_cleaner.state.floatbank2_b_air', 'secondary_cleaner.state.floatbank2_b_level', 'secondary_cleaner.state.floatbank3_a_air', 'secondary_cleaner.state.floatbank3_a_level', 'secondary_cleaner.state.floatbank3_b_air', 'secondary_cleaner.state.floatbank3_b_level', 'secondary_cleaner.state.floatbank4_a_air', 'secondary_cleaner.state.floatbank4_a_level', 'secondary_cleaner.state.floatbank4_b_air', 'secondary_cleaner.state.floatbank4_b_level', 'secondary_cleaner.state.floatbank5_a_air', 'secondary_cleaner.state.floatbank5_a_level', 'secondary_cleaner.state.floatbank5_b_air', 'secondary_cleaner.state.floatbank5_b_level', 'secondary_cleaner.state.floatbank6_a_air', 'secondary_cleaner.state.floatbank6_a_level']\n"
     ]
    },
    {
     "data": {
      "image/png": "[encoded data removed]",
      "text/plain": [
       "<Figure size 1152x864 with 2 Axes>"
      ]
     },
     "metadata": {
      "needs_background": "light"
     },
     "output_type": "display_data"
    }
   ],
   "source": [
    "sns.heatmap(df_train.phik_matrix());\n",
    "plt.gcf().set_size_inches(16,12);"
   ]
  },
  {
   "cell_type": "markdown",
   "metadata": {},
   "source": [
    "Как видно по матрице корреляций Фика, много признаков коррелируют между собой, однако для деревянных моделей это не критично, а вот удалить слабо-коррелирующие к целевым признаки будет полезно, чтобы исключить переобучение на шумах. Если качество будет неудовлетворительным, то сделаем это"
   ]
  },
  {
   "cell_type": "code",
   "execution_count": 46,
   "metadata": {
    "scrolled": true
   },
   "outputs": [
    {
     "data": {
      "text/plain": [
       "RandomizedSearchCV(estimator=RandomForestRegressor(), n_iter=15, n_jobs=-1,\n",
       "                   param_distributions={'max_depth': [3, 6, 9, 12, 15],\n",
       "                                        'max_features': <scipy.stats._distn_infrastructure.rv_discrete_frozen object at 0x7fd4668df580>,\n",
       "                                        'min_samples_leaf': <scipy.stats._distn_infrastructure.rv_discrete_frozen object at 0x7fd466754850>,\n",
       "                                        'min_samples_split': array([2, 4, 6, 8]),\n",
       "                                        'n_estimators': array([ 10,  60, 110, 160])},\n",
       "                   scoring=make_scorer(smape_loss_func, greater_is_better=False))"
      ]
     },
     "execution_count": 46,
     "metadata": {},
     "output_type": "execute_result"
    }
   ],
   "source": [
    "rs_space={'max_depth':list(np.arange(3, 16, step=3)),\n",
    "          'n_estimators':np.arange(10, 210, step=50),\n",
    "          'max_features':randint(1,7),\n",
    "          'min_samples_leaf':randint(1,4),\n",
    "          'min_samples_split':np.arange(2, 10, step=2)\n",
    "          }\n",
    "\n",
    "model = RandomForestRegressor()\n",
    "\n",
    "clf = RandomizedSearchCV(model, rs_space, n_iter=10, scoring=smape_loss, n_jobs=-1)\n",
    "clf.fit(X_train, y_train)"
   ]
  },
  {
   "cell_type": "code",
   "execution_count": 47,
   "metadata": {},
   "outputs": [
    {
     "data": {
      "text/plain": [
       "{'max_depth': 6,\n",
       " 'max_features': 6,\n",
       " 'min_samples_leaf': 3,\n",
       " 'min_samples_split': 6,\n",
       " 'n_estimators': 160}"
      ]
     },
     "execution_count": 47,
     "metadata": {},
     "output_type": "execute_result"
    }
   ],
   "source": [
    "clf.best_params_"
   ]
  },
  {
   "cell_type": "code",
   "execution_count": 48,
   "metadata": {
    "scrolled": true
   },
   "outputs": [
    {
     "data": {
      "text/plain": [
       "-8.423475866682084"
      ]
     },
     "execution_count": 48,
     "metadata": {},
     "output_type": "execute_result"
    }
   ],
   "source": [
    "clf.best_score_"
   ]
  },
  {
   "cell_type": "markdown",
   "metadata": {},
   "source": [
    "Модель случайного леса показывает себя сходно."
   ]
  },
  {
   "cell_type": "markdown",
   "metadata": {},
   "source": [
    "### Тестирование модели"
   ]
  },
  {
   "cell_type": "markdown",
   "metadata": {},
   "source": [
    "Выберем в пользу быстроты и интерпретируемостимодель Лассо и протестируем . "
   ]
  },
  {
   "cell_type": "code",
   "execution_count": 49,
   "metadata": {},
   "outputs": [
    {
     "data": {
      "text/plain": [
       "6.432050661803889"
      ]
     },
     "execution_count": 49,
     "metadata": {},
     "output_type": "execute_result"
    }
   ],
   "source": [
    "model = Lasso(alpha=0.55)\n",
    "model.fit(X_train, y_train)\n",
    "\n",
    "y_pred = model.predict(X_test)\n",
    "smape_loss_func(y_test, y_pred)"
   ]
  },
  {
   "cell_type": "code",
   "execution_count": 50,
   "metadata": {
    "scrolled": true
   },
   "outputs": [
    {
     "data": {
      "text/plain": [
       "7.766604067388502"
      ]
     },
     "execution_count": 50,
     "metadata": {},
     "output_type": "execute_result"
    }
   ],
   "source": [
    "dummy = DummyRegressor(strategy=\"mean\")\n",
    "dummy.fit(X_train, y_train)\n",
    "\n",
    "smape_loss_func(y_test, dummy.predict(X_test))"
   ]
  },
  {
   "cell_type": "markdown",
   "metadata": {},
   "source": [
    "Модель имеет хороший скор 6.42%. Для сравнения модель, которая выдает средняя имеет 7.76%. Качество отличное!"
   ]
  },
  {
   "cell_type": "markdown",
   "metadata": {},
   "source": [
    "### Вывод"
   ]
  },
  {
   "cell_type": "markdown",
   "metadata": {},
   "source": [
    "1. Изучили, проверили правильность данных. Заполнили пустые значения предыдущими. В тест добавили целевые признаки\n",
    "2. Проанализировали данные на тесте и трейне, подтвердили их однородность. Исключили наблюдения с нулевыми суммарными концентрациями после очистки.\n",
    "3. Обучили линейную модель/PCA, Лассо и случайный лес. Тестировали модель Лассо, так как sMAPE на трейне был схож со случайным лесом, а скорость скорость и простота в интерпретировании лучше . На тесте sMAPE 6.43%, у случайной модели 7.76% - отличный результат!"
   ]
  }
 ],
 "metadata": {
  "ExecuteTimeLog": [
   {
    "duration": 1375,
    "start_time": "2022-12-14T19:24:56.496Z"
   },
   {
    "duration": 2143,
    "start_time": "2022-12-14T19:26:21.739Z"
   },
   {
    "duration": 23,
    "start_time": "2022-12-14T19:26:29.718Z"
   },
   {
    "duration": 80,
    "start_time": "2022-12-14T19:26:52.918Z"
   },
   {
    "duration": 97,
    "start_time": "2022-12-14T19:26:56.841Z"
   },
   {
    "duration": 83,
    "start_time": "2022-12-14T19:27:09.852Z"
   },
   {
    "duration": 141,
    "start_time": "2022-12-14T19:27:12.784Z"
   },
   {
    "duration": 79,
    "start_time": "2022-12-14T19:27:24.901Z"
   },
   {
    "duration": 20,
    "start_time": "2022-12-14T19:27:35.537Z"
   },
   {
    "duration": 12,
    "start_time": "2022-12-14T19:28:40.072Z"
   },
   {
    "duration": 7,
    "start_time": "2022-12-14T19:28:43.522Z"
   },
   {
    "duration": 6,
    "start_time": "2022-12-14T19:28:51.572Z"
   },
   {
    "duration": 9,
    "start_time": "2022-12-14T19:29:41.673Z"
   },
   {
    "duration": 9,
    "start_time": "2022-12-14T19:29:45.571Z"
   },
   {
    "duration": 19,
    "start_time": "2022-12-14T19:35:02.442Z"
   },
   {
    "duration": 13,
    "start_time": "2022-12-14T19:35:30.459Z"
   },
   {
    "duration": 30,
    "start_time": "2022-12-14T19:35:47.068Z"
   },
   {
    "duration": 9,
    "start_time": "2022-12-14T19:35:54.131Z"
   },
   {
    "duration": 5,
    "start_time": "2022-12-14T19:35:56.073Z"
   },
   {
    "duration": 10,
    "start_time": "2022-12-14T19:36:59.617Z"
   },
   {
    "duration": 161,
    "start_time": "2022-12-14T19:45:32.615Z"
   },
   {
    "duration": 267,
    "start_time": "2022-12-14T19:45:38.682Z"
   },
   {
    "duration": 56,
    "start_time": "2022-12-15T08:05:50.038Z"
   },
   {
    "duration": 7,
    "start_time": "2022-12-15T08:05:54.369Z"
   },
   {
    "duration": 1637,
    "start_time": "2022-12-15T08:05:57.088Z"
   },
   {
    "duration": 2842,
    "start_time": "2022-12-15T08:05:58.728Z"
   },
   {
    "duration": 4,
    "start_time": "2022-12-15T08:06:01.572Z"
   },
   {
    "duration": 6,
    "start_time": "2022-12-15T08:11:51.835Z"
   },
   {
    "duration": 6,
    "start_time": "2022-12-15T08:15:53.446Z"
   },
   {
    "duration": 6,
    "start_time": "2022-12-15T08:18:40.702Z"
   },
   {
    "duration": 70,
    "start_time": "2022-12-15T08:23:32.363Z"
   },
   {
    "duration": 12,
    "start_time": "2022-12-15T08:23:55.031Z"
   },
   {
    "duration": 11,
    "start_time": "2022-12-15T08:24:33.322Z"
   },
   {
    "duration": 8,
    "start_time": "2022-12-15T08:24:54.303Z"
   },
   {
    "duration": 12,
    "start_time": "2022-12-15T08:25:05.425Z"
   },
   {
    "duration": 252,
    "start_time": "2022-12-15T08:25:37.863Z"
   },
   {
    "duration": 287,
    "start_time": "2022-12-15T08:27:28.547Z"
   },
   {
    "duration": 7,
    "start_time": "2022-12-15T08:28:04.433Z"
   },
   {
    "duration": 7,
    "start_time": "2022-12-15T08:28:17.232Z"
   },
   {
    "duration": 8,
    "start_time": "2022-12-15T08:28:22.370Z"
   },
   {
    "duration": 13,
    "start_time": "2022-12-15T08:28:48.131Z"
   },
   {
    "duration": 7,
    "start_time": "2022-12-15T08:28:58.986Z"
   },
   {
    "duration": 9,
    "start_time": "2022-12-15T08:31:55.432Z"
   },
   {
    "duration": 5,
    "start_time": "2022-12-15T08:31:57.444Z"
   },
   {
    "duration": 19,
    "start_time": "2022-12-15T08:34:51.315Z"
   },
   {
    "duration": 22,
    "start_time": "2022-12-15T08:38:00.482Z"
   },
   {
    "duration": 10,
    "start_time": "2022-12-15T08:38:03.734Z"
   },
   {
    "duration": 9,
    "start_time": "2022-12-15T08:38:17.487Z"
   },
   {
    "duration": 9,
    "start_time": "2022-12-15T08:38:33.268Z"
   },
   {
    "duration": 13,
    "start_time": "2022-12-15T08:38:51.183Z"
   },
   {
    "duration": 9,
    "start_time": "2022-12-15T08:38:56.056Z"
   },
   {
    "duration": 15,
    "start_time": "2022-12-15T08:39:14.886Z"
   },
   {
    "duration": 114,
    "start_time": "2022-12-15T08:39:27.694Z"
   },
   {
    "duration": 1916,
    "start_time": "2022-12-15T08:39:38.020Z"
   },
   {
    "duration": 12,
    "start_time": "2022-12-15T08:41:46.853Z"
   },
   {
    "duration": 10,
    "start_time": "2022-12-15T08:41:58.038Z"
   },
   {
    "duration": 10,
    "start_time": "2022-12-15T08:42:01.320Z"
   },
   {
    "duration": 9,
    "start_time": "2022-12-15T08:49:19.801Z"
   },
   {
    "duration": 10,
    "start_time": "2022-12-15T08:50:10.160Z"
   },
   {
    "duration": 17,
    "start_time": "2022-12-15T08:50:38.093Z"
   },
   {
    "duration": 16,
    "start_time": "2022-12-15T08:50:51.062Z"
   },
   {
    "duration": 9,
    "start_time": "2022-12-15T08:55:22.719Z"
   },
   {
    "duration": 11,
    "start_time": "2022-12-15T08:55:28.407Z"
   },
   {
    "duration": 7,
    "start_time": "2022-12-15T08:55:36.956Z"
   },
   {
    "duration": 8,
    "start_time": "2022-12-15T08:55:49.624Z"
   },
   {
    "duration": 8,
    "start_time": "2022-12-15T08:55:49.814Z"
   },
   {
    "duration": 11,
    "start_time": "2022-12-15T08:59:00.303Z"
   },
   {
    "duration": 12,
    "start_time": "2022-12-15T08:59:05.992Z"
   },
   {
    "duration": 3,
    "start_time": "2022-12-15T09:01:08.711Z"
   },
   {
    "duration": 5,
    "start_time": "2022-12-15T09:01:28.033Z"
   },
   {
    "duration": 9,
    "start_time": "2022-12-15T09:01:42.673Z"
   },
   {
    "duration": 5,
    "start_time": "2022-12-15T09:02:22.437Z"
   },
   {
    "duration": 13,
    "start_time": "2022-12-15T09:02:39.594Z"
   },
   {
    "duration": 5,
    "start_time": "2022-12-15T09:02:48.173Z"
   },
   {
    "duration": 11,
    "start_time": "2022-12-15T09:03:16.008Z"
   },
   {
    "duration": 5,
    "start_time": "2022-12-15T09:03:57.766Z"
   },
   {
    "duration": 67,
    "start_time": "2022-12-15T09:04:05.305Z"
   },
   {
    "duration": 5,
    "start_time": "2022-12-15T09:04:59.514Z"
   },
   {
    "duration": 6,
    "start_time": "2022-12-15T09:05:31.788Z"
   },
   {
    "duration": 22,
    "start_time": "2022-12-15T09:13:59.517Z"
   },
   {
    "duration": 51,
    "start_time": "2022-12-15T09:17:58.613Z"
   },
   {
    "duration": 57,
    "start_time": "2022-12-15T10:03:54.912Z"
   },
   {
    "duration": 1591,
    "start_time": "2022-12-15T10:04:00.567Z"
   },
   {
    "duration": 2178,
    "start_time": "2022-12-15T10:04:02.160Z"
   },
   {
    "duration": 18,
    "start_time": "2022-12-15T10:04:04.340Z"
   },
   {
    "duration": 74,
    "start_time": "2022-12-15T10:04:04.360Z"
   },
   {
    "duration": 20,
    "start_time": "2022-12-15T10:04:04.435Z"
   },
   {
    "duration": 12,
    "start_time": "2022-12-15T10:04:04.877Z"
   },
   {
    "duration": 6,
    "start_time": "2022-12-15T10:04:05.567Z"
   },
   {
    "duration": 8,
    "start_time": "2022-12-15T10:04:06.048Z"
   },
   {
    "duration": 18,
    "start_time": "2022-12-15T10:04:07.018Z"
   },
   {
    "duration": 89,
    "start_time": "2022-12-15T10:04:07.545Z"
   },
   {
    "duration": 88,
    "start_time": "2022-12-15T10:04:11.579Z"
   },
   {
    "duration": 72,
    "start_time": "2022-12-15T10:05:41.848Z"
   },
   {
    "duration": 70,
    "start_time": "2022-12-15T10:06:04.946Z"
   },
   {
    "duration": 22,
    "start_time": "2022-12-15T10:06:14.367Z"
   },
   {
    "duration": 15,
    "start_time": "2022-12-15T10:07:12.882Z"
   },
   {
    "duration": 14,
    "start_time": "2022-12-15T10:07:20.402Z"
   },
   {
    "duration": 20,
    "start_time": "2022-12-15T10:07:32.321Z"
   },
   {
    "duration": 12,
    "start_time": "2022-12-15T10:08:04.021Z"
   },
   {
    "duration": 18,
    "start_time": "2022-12-15T10:08:08.063Z"
   },
   {
    "duration": 21,
    "start_time": "2022-12-15T10:08:50.802Z"
   },
   {
    "duration": 21,
    "start_time": "2022-12-15T10:08:57.085Z"
   },
   {
    "duration": 14,
    "start_time": "2022-12-15T10:09:09.685Z"
   },
   {
    "duration": 21,
    "start_time": "2022-12-15T10:09:20.494Z"
   },
   {
    "duration": 22,
    "start_time": "2022-12-15T10:10:27.856Z"
   },
   {
    "duration": 28,
    "start_time": "2022-12-15T10:11:21.733Z"
   },
   {
    "duration": 31,
    "start_time": "2022-12-15T10:11:31.060Z"
   },
   {
    "duration": 28,
    "start_time": "2022-12-15T10:12:34.036Z"
   },
   {
    "duration": 26,
    "start_time": "2022-12-15T10:12:56.979Z"
   },
   {
    "duration": 16,
    "start_time": "2022-12-15T10:13:06.307Z"
   },
   {
    "duration": 21,
    "start_time": "2022-12-15T10:13:12.142Z"
   },
   {
    "duration": 1418,
    "start_time": "2022-12-15T10:13:56.393Z"
   },
   {
    "duration": 641,
    "start_time": "2022-12-15T10:13:57.813Z"
   },
   {
    "duration": 18,
    "start_time": "2022-12-15T10:13:58.456Z"
   },
   {
    "duration": 12,
    "start_time": "2022-12-15T10:13:58.475Z"
   },
   {
    "duration": 26,
    "start_time": "2022-12-15T10:13:58.490Z"
   },
   {
    "duration": 29,
    "start_time": "2022-12-15T10:13:58.517Z"
   },
   {
    "duration": 28,
    "start_time": "2022-12-15T10:13:58.547Z"
   },
   {
    "duration": 35,
    "start_time": "2022-12-15T10:13:58.577Z"
   },
   {
    "duration": 41,
    "start_time": "2022-12-15T10:13:58.614Z"
   },
   {
    "duration": 90,
    "start_time": "2022-12-15T10:13:58.657Z"
   },
   {
    "duration": 8,
    "start_time": "2022-12-15T10:13:58.749Z"
   },
   {
    "duration": 30,
    "start_time": "2022-12-15T10:13:58.758Z"
   },
   {
    "duration": 12,
    "start_time": "2022-12-15T10:13:58.790Z"
   },
   {
    "duration": 40,
    "start_time": "2022-12-15T10:13:58.804Z"
   },
   {
    "duration": 144,
    "start_time": "2022-12-15T10:13:58.845Z"
   },
   {
    "duration": 0,
    "start_time": "2022-12-15T10:13:58.990Z"
   },
   {
    "duration": 0,
    "start_time": "2022-12-15T10:13:58.991Z"
   },
   {
    "duration": 13,
    "start_time": "2022-12-15T10:14:05.876Z"
   },
   {
    "duration": 1154,
    "start_time": "2022-12-15T10:14:28.676Z"
   },
   {
    "duration": 21,
    "start_time": "2022-12-15T10:14:39.925Z"
   },
   {
    "duration": 22,
    "start_time": "2022-12-15T10:15:27.241Z"
   },
   {
    "duration": 22,
    "start_time": "2022-12-15T10:16:33.493Z"
   },
   {
    "duration": 35,
    "start_time": "2022-12-15T10:17:13.738Z"
   },
   {
    "duration": 43,
    "start_time": "2022-12-15T10:17:28.938Z"
   },
   {
    "duration": 25,
    "start_time": "2022-12-15T10:17:34.650Z"
   },
   {
    "duration": 12,
    "start_time": "2022-12-15T10:17:50.517Z"
   },
   {
    "duration": 14,
    "start_time": "2022-12-15T10:17:58.773Z"
   },
   {
    "duration": 4,
    "start_time": "2022-12-15T10:19:31.653Z"
   },
   {
    "duration": 35,
    "start_time": "2022-12-15T10:19:36.070Z"
   },
   {
    "duration": 7,
    "start_time": "2022-12-15T10:19:51.958Z"
   },
   {
    "duration": 11,
    "start_time": "2022-12-15T10:20:34.322Z"
   },
   {
    "duration": 6,
    "start_time": "2022-12-15T10:20:44.246Z"
   },
   {
    "duration": 5,
    "start_time": "2022-12-15T10:20:53.162Z"
   },
   {
    "duration": 5,
    "start_time": "2022-12-15T10:21:35.885Z"
   },
   {
    "duration": 8,
    "start_time": "2022-12-15T10:21:40.920Z"
   },
   {
    "duration": 16,
    "start_time": "2022-12-15T10:21:50.360Z"
   },
   {
    "duration": 10,
    "start_time": "2022-12-15T10:21:54.124Z"
   },
   {
    "duration": 6,
    "start_time": "2022-12-15T10:21:55.767Z"
   },
   {
    "duration": 22,
    "start_time": "2022-12-15T10:23:22.143Z"
   },
   {
    "duration": 1426,
    "start_time": "2022-12-15T10:23:28.699Z"
   },
   {
    "duration": 790,
    "start_time": "2022-12-15T10:23:30.127Z"
   },
   {
    "duration": 38,
    "start_time": "2022-12-15T10:23:30.920Z"
   },
   {
    "duration": 19,
    "start_time": "2022-12-15T10:23:30.961Z"
   },
   {
    "duration": 34,
    "start_time": "2022-12-15T10:23:30.982Z"
   },
   {
    "duration": 9,
    "start_time": "2022-12-15T10:23:31.018Z"
   },
   {
    "duration": 15,
    "start_time": "2022-12-15T10:23:31.028Z"
   },
   {
    "duration": 11,
    "start_time": "2022-12-15T10:23:31.045Z"
   },
   {
    "duration": 9,
    "start_time": "2022-12-15T10:23:31.058Z"
   },
   {
    "duration": 58,
    "start_time": "2022-12-15T10:23:31.069Z"
   },
   {
    "duration": 124,
    "start_time": "2022-12-15T10:23:31.129Z"
   },
   {
    "duration": 9,
    "start_time": "2022-12-15T10:23:31.255Z"
   },
   {
    "duration": 20,
    "start_time": "2022-12-15T10:23:31.265Z"
   },
   {
    "duration": 13,
    "start_time": "2022-12-15T10:23:31.286Z"
   },
   {
    "duration": 6,
    "start_time": "2022-12-15T10:23:31.313Z"
   },
   {
    "duration": 38,
    "start_time": "2022-12-15T10:23:31.322Z"
   },
   {
    "duration": 10,
    "start_time": "2022-12-15T10:23:31.363Z"
   },
   {
    "duration": 24,
    "start_time": "2022-12-15T10:23:31.375Z"
   },
   {
    "duration": 6,
    "start_time": "2022-12-15T10:23:31.402Z"
   },
   {
    "duration": 5,
    "start_time": "2022-12-15T10:23:31.414Z"
   },
   {
    "duration": 13,
    "start_time": "2022-12-15T10:23:31.421Z"
   },
   {
    "duration": 126,
    "start_time": "2022-12-15T10:23:31.437Z"
   },
   {
    "duration": 33,
    "start_time": "2022-12-15T10:25:16.906Z"
   },
   {
    "duration": 1378,
    "start_time": "2022-12-15T10:25:22.751Z"
   },
   {
    "duration": 670,
    "start_time": "2022-12-15T10:25:24.131Z"
   },
   {
    "duration": 28,
    "start_time": "2022-12-15T10:25:24.805Z"
   },
   {
    "duration": 17,
    "start_time": "2022-12-15T10:25:24.836Z"
   },
   {
    "duration": 10,
    "start_time": "2022-12-15T10:25:24.855Z"
   },
   {
    "duration": 47,
    "start_time": "2022-12-15T10:25:24.868Z"
   },
   {
    "duration": 38,
    "start_time": "2022-12-15T10:25:24.918Z"
   },
   {
    "duration": 23,
    "start_time": "2022-12-15T10:25:24.959Z"
   },
   {
    "duration": 35,
    "start_time": "2022-12-15T10:25:24.985Z"
   },
   {
    "duration": 10,
    "start_time": "2022-12-15T10:25:25.023Z"
   },
   {
    "duration": 36,
    "start_time": "2022-12-15T10:25:25.035Z"
   },
   {
    "duration": 154,
    "start_time": "2022-12-15T10:25:25.074Z"
   },
   {
    "duration": 9,
    "start_time": "2022-12-15T10:25:25.231Z"
   },
   {
    "duration": 11,
    "start_time": "2022-12-15T10:25:25.242Z"
   },
   {
    "duration": 9,
    "start_time": "2022-12-15T10:25:25.255Z"
   },
   {
    "duration": 8,
    "start_time": "2022-12-15T10:25:25.267Z"
   },
   {
    "duration": 45,
    "start_time": "2022-12-15T10:25:25.277Z"
   },
   {
    "duration": 7,
    "start_time": "2022-12-15T10:25:25.324Z"
   },
   {
    "duration": 15,
    "start_time": "2022-12-15T10:25:25.333Z"
   },
   {
    "duration": 5,
    "start_time": "2022-12-15T10:25:25.350Z"
   },
   {
    "duration": 9,
    "start_time": "2022-12-15T10:25:25.356Z"
   },
   {
    "duration": 20,
    "start_time": "2022-12-15T10:25:25.366Z"
   },
   {
    "duration": 135,
    "start_time": "2022-12-15T10:25:25.387Z"
   },
   {
    "duration": 49,
    "start_time": "2022-12-15T10:29:55.858Z"
   },
   {
    "duration": 9,
    "start_time": "2022-12-15T10:30:22.459Z"
   },
   {
    "duration": 37,
    "start_time": "2022-12-15T10:30:30.642Z"
   },
   {
    "duration": 1419,
    "start_time": "2022-12-15T10:30:36.806Z"
   },
   {
    "duration": 645,
    "start_time": "2022-12-15T10:30:38.227Z"
   },
   {
    "duration": 30,
    "start_time": "2022-12-15T10:30:38.873Z"
   },
   {
    "duration": 22,
    "start_time": "2022-12-15T10:30:38.914Z"
   },
   {
    "duration": 17,
    "start_time": "2022-12-15T10:30:38.939Z"
   },
   {
    "duration": 15,
    "start_time": "2022-12-15T10:30:38.959Z"
   },
   {
    "duration": 53,
    "start_time": "2022-12-15T10:30:38.977Z"
   },
   {
    "duration": 14,
    "start_time": "2022-12-15T10:30:39.033Z"
   },
   {
    "duration": 9,
    "start_time": "2022-12-15T10:30:39.049Z"
   },
   {
    "duration": 11,
    "start_time": "2022-12-15T10:30:39.061Z"
   },
   {
    "duration": 54,
    "start_time": "2022-12-15T10:30:39.074Z"
   },
   {
    "duration": 100,
    "start_time": "2022-12-15T10:30:39.130Z"
   },
   {
    "duration": 11,
    "start_time": "2022-12-15T10:30:39.232Z"
   },
   {
    "duration": 11,
    "start_time": "2022-12-15T10:30:39.245Z"
   },
   {
    "duration": 20,
    "start_time": "2022-12-15T10:30:39.258Z"
   },
   {
    "duration": 33,
    "start_time": "2022-12-15T10:30:39.280Z"
   },
   {
    "duration": 13,
    "start_time": "2022-12-15T10:30:39.315Z"
   },
   {
    "duration": 10,
    "start_time": "2022-12-15T10:30:39.330Z"
   },
   {
    "duration": 17,
    "start_time": "2022-12-15T10:30:39.341Z"
   },
   {
    "duration": 4,
    "start_time": "2022-12-15T10:30:39.360Z"
   },
   {
    "duration": 7,
    "start_time": "2022-12-15T10:30:39.367Z"
   },
   {
    "duration": 44,
    "start_time": "2022-12-15T10:30:39.377Z"
   },
   {
    "duration": 55,
    "start_time": "2022-12-15T10:30:39.424Z"
   },
   {
    "duration": 45,
    "start_time": "2022-12-15T10:30:39.482Z"
   },
   {
    "duration": 30,
    "start_time": "2022-12-15T10:30:54.460Z"
   },
   {
    "duration": 27,
    "start_time": "2022-12-15T10:31:05.905Z"
   },
   {
    "duration": 25,
    "start_time": "2022-12-15T10:31:13.493Z"
   },
   {
    "duration": 75,
    "start_time": "2022-12-15T10:31:35.688Z"
   },
   {
    "duration": 103,
    "start_time": "2022-12-15T10:31:45.796Z"
   },
   {
    "duration": 11,
    "start_time": "2022-12-15T10:32:27.626Z"
   },
   {
    "duration": 31,
    "start_time": "2022-12-15T10:32:29.907Z"
   },
   {
    "duration": 27,
    "start_time": "2022-12-15T10:32:43.315Z"
   },
   {
    "duration": 22,
    "start_time": "2022-12-15T10:33:04.239Z"
   },
   {
    "duration": 23,
    "start_time": "2022-12-15T10:33:16.786Z"
   },
   {
    "duration": 83,
    "start_time": "2022-12-15T10:33:33.406Z"
   },
   {
    "duration": 1339,
    "start_time": "2022-12-15T10:33:58.484Z"
   },
   {
    "duration": 723,
    "start_time": "2022-12-15T10:33:59.825Z"
   },
   {
    "duration": 36,
    "start_time": "2022-12-15T10:34:00.552Z"
   },
   {
    "duration": 34,
    "start_time": "2022-12-15T10:34:00.591Z"
   },
   {
    "duration": 28,
    "start_time": "2022-12-15T10:34:00.628Z"
   },
   {
    "duration": 34,
    "start_time": "2022-12-15T10:34:00.658Z"
   },
   {
    "duration": 43,
    "start_time": "2022-12-15T10:34:00.694Z"
   },
   {
    "duration": 17,
    "start_time": "2022-12-15T10:34:00.739Z"
   },
   {
    "duration": 11,
    "start_time": "2022-12-15T10:34:00.758Z"
   },
   {
    "duration": 21,
    "start_time": "2022-12-15T10:34:00.773Z"
   },
   {
    "duration": 42,
    "start_time": "2022-12-15T10:34:00.796Z"
   },
   {
    "duration": 106,
    "start_time": "2022-12-15T10:34:00.840Z"
   },
   {
    "duration": 11,
    "start_time": "2022-12-15T10:34:00.951Z"
   },
   {
    "duration": 49,
    "start_time": "2022-12-15T10:34:00.965Z"
   },
   {
    "duration": 38,
    "start_time": "2022-12-15T10:34:01.017Z"
   },
   {
    "duration": 11,
    "start_time": "2022-12-15T10:34:01.057Z"
   },
   {
    "duration": 18,
    "start_time": "2022-12-15T10:34:01.070Z"
   },
   {
    "duration": 23,
    "start_time": "2022-12-15T10:34:01.091Z"
   },
   {
    "duration": 78,
    "start_time": "2022-12-15T10:34:01.116Z"
   },
   {
    "duration": 17,
    "start_time": "2022-12-15T10:34:01.196Z"
   },
   {
    "duration": 14,
    "start_time": "2022-12-15T10:34:01.215Z"
   },
   {
    "duration": 13,
    "start_time": "2022-12-15T10:34:01.231Z"
   },
   {
    "duration": 21,
    "start_time": "2022-12-15T10:34:01.246Z"
   },
   {
    "duration": 47,
    "start_time": "2022-12-15T10:34:01.269Z"
   },
   {
    "duration": 88,
    "start_time": "2022-12-15T10:34:01.317Z"
   },
   {
    "duration": 33,
    "start_time": "2022-12-15T10:35:01.497Z"
   },
   {
    "duration": 62,
    "start_time": "2022-12-15T10:35:06.930Z"
   },
   {
    "duration": 36,
    "start_time": "2022-12-15T10:35:12.061Z"
   },
   {
    "duration": 5,
    "start_time": "2022-12-15T10:39:24.209Z"
   },
   {
    "duration": 7,
    "start_time": "2022-12-15T10:39:37.312Z"
   },
   {
    "duration": 1342,
    "start_time": "2022-12-15T10:39:44.867Z"
   },
   {
    "duration": 681,
    "start_time": "2022-12-15T10:39:46.212Z"
   },
   {
    "duration": 36,
    "start_time": "2022-12-15T10:39:46.895Z"
   },
   {
    "duration": 21,
    "start_time": "2022-12-15T10:39:46.934Z"
   },
   {
    "duration": 12,
    "start_time": "2022-12-15T10:39:46.957Z"
   },
   {
    "duration": 46,
    "start_time": "2022-12-15T10:39:46.972Z"
   },
   {
    "duration": 38,
    "start_time": "2022-12-15T10:39:47.020Z"
   },
   {
    "duration": 13,
    "start_time": "2022-12-15T10:39:47.060Z"
   },
   {
    "duration": 44,
    "start_time": "2022-12-15T10:39:47.075Z"
   },
   {
    "duration": 14,
    "start_time": "2022-12-15T10:39:47.123Z"
   },
   {
    "duration": 20,
    "start_time": "2022-12-15T10:39:47.139Z"
   },
   {
    "duration": 112,
    "start_time": "2022-12-15T10:39:47.161Z"
   },
   {
    "duration": 10,
    "start_time": "2022-12-15T10:39:47.275Z"
   },
   {
    "duration": 27,
    "start_time": "2022-12-15T10:39:47.287Z"
   },
   {
    "duration": 6,
    "start_time": "2022-12-15T10:39:47.317Z"
   },
   {
    "duration": 8,
    "start_time": "2022-12-15T10:39:47.325Z"
   },
   {
    "duration": 15,
    "start_time": "2022-12-15T10:39:47.335Z"
   },
   {
    "duration": 6,
    "start_time": "2022-12-15T10:39:47.352Z"
   },
   {
    "duration": 53,
    "start_time": "2022-12-15T10:39:47.360Z"
   },
   {
    "duration": 5,
    "start_time": "2022-12-15T10:39:47.415Z"
   },
   {
    "duration": 8,
    "start_time": "2022-12-15T10:39:47.422Z"
   },
   {
    "duration": 10,
    "start_time": "2022-12-15T10:39:47.433Z"
   },
   {
    "duration": 21,
    "start_time": "2022-12-15T10:39:47.445Z"
   },
   {
    "duration": 44,
    "start_time": "2022-12-15T10:39:47.469Z"
   },
   {
    "duration": 14,
    "start_time": "2022-12-15T10:39:47.515Z"
   },
   {
    "duration": 1420,
    "start_time": "2022-12-15T10:42:56.789Z"
   },
   {
    "duration": 674,
    "start_time": "2022-12-15T10:42:58.211Z"
   },
   {
    "duration": 47,
    "start_time": "2022-12-15T10:42:58.886Z"
   },
   {
    "duration": 19,
    "start_time": "2022-12-15T10:42:58.935Z"
   },
   {
    "duration": 18,
    "start_time": "2022-12-15T10:42:58.956Z"
   },
   {
    "duration": 45,
    "start_time": "2022-12-15T10:42:58.976Z"
   },
   {
    "duration": 30,
    "start_time": "2022-12-15T10:42:59.023Z"
   },
   {
    "duration": 54,
    "start_time": "2022-12-15T10:42:59.055Z"
   },
   {
    "duration": 15,
    "start_time": "2022-12-15T10:42:59.111Z"
   },
   {
    "duration": 39,
    "start_time": "2022-12-15T10:42:59.129Z"
   },
   {
    "duration": 31,
    "start_time": "2022-12-15T10:42:59.170Z"
   },
   {
    "duration": 114,
    "start_time": "2022-12-15T10:42:59.203Z"
   },
   {
    "duration": 9,
    "start_time": "2022-12-15T10:42:59.319Z"
   },
   {
    "duration": 59,
    "start_time": "2022-12-15T10:42:59.329Z"
   },
   {
    "duration": 41,
    "start_time": "2022-12-15T10:42:59.390Z"
   },
   {
    "duration": 27,
    "start_time": "2022-12-15T10:42:59.433Z"
   },
   {
    "duration": 50,
    "start_time": "2022-12-15T10:42:59.462Z"
   },
   {
    "duration": 105,
    "start_time": "2022-12-15T10:42:59.514Z"
   },
   {
    "duration": 0,
    "start_time": "2022-12-15T10:42:59.621Z"
   },
   {
    "duration": 0,
    "start_time": "2022-12-15T10:42:59.622Z"
   },
   {
    "duration": 0,
    "start_time": "2022-12-15T10:42:59.623Z"
   },
   {
    "duration": 0,
    "start_time": "2022-12-15T10:42:59.624Z"
   },
   {
    "duration": 13,
    "start_time": "2022-12-15T10:43:20.339Z"
   },
   {
    "duration": 10,
    "start_time": "2022-12-15T10:43:26.055Z"
   },
   {
    "duration": 4,
    "start_time": "2022-12-15T10:43:53.840Z"
   },
   {
    "duration": 9,
    "start_time": "2022-12-15T10:45:27.816Z"
   },
   {
    "duration": 7,
    "start_time": "2022-12-15T10:45:30.667Z"
   },
   {
    "duration": 3,
    "start_time": "2022-12-15T10:45:31.450Z"
   },
   {
    "duration": 24,
    "start_time": "2022-12-15T10:45:37.772Z"
   },
   {
    "duration": 8,
    "start_time": "2022-12-15T10:45:40.307Z"
   },
   {
    "duration": 11,
    "start_time": "2022-12-15T10:45:42.338Z"
   },
   {
    "duration": 4,
    "start_time": "2022-12-15T10:45:42.901Z"
   },
   {
    "duration": 4,
    "start_time": "2022-12-15T10:45:43.676Z"
   },
   {
    "duration": 5,
    "start_time": "2022-12-15T10:45:44.764Z"
   },
   {
    "duration": 1437,
    "start_time": "2022-12-15T10:45:49.436Z"
   },
   {
    "duration": 660,
    "start_time": "2022-12-15T10:45:50.876Z"
   },
   {
    "duration": 27,
    "start_time": "2022-12-15T10:45:51.538Z"
   },
   {
    "duration": 20,
    "start_time": "2022-12-15T10:45:51.566Z"
   },
   {
    "duration": 31,
    "start_time": "2022-12-15T10:45:51.588Z"
   },
   {
    "duration": 9,
    "start_time": "2022-12-15T10:45:51.621Z"
   },
   {
    "duration": 31,
    "start_time": "2022-12-15T10:45:51.632Z"
   },
   {
    "duration": 27,
    "start_time": "2022-12-15T10:45:51.666Z"
   },
   {
    "duration": 24,
    "start_time": "2022-12-15T10:45:51.694Z"
   },
   {
    "duration": 8,
    "start_time": "2022-12-15T10:45:51.720Z"
   },
   {
    "duration": 20,
    "start_time": "2022-12-15T10:45:51.729Z"
   },
   {
    "duration": 113,
    "start_time": "2022-12-15T10:45:51.750Z"
   },
   {
    "duration": 8,
    "start_time": "2022-12-15T10:45:51.865Z"
   },
   {
    "duration": 8,
    "start_time": "2022-12-15T10:45:51.876Z"
   },
   {
    "duration": 9,
    "start_time": "2022-12-15T10:45:51.886Z"
   },
   {
    "duration": 10,
    "start_time": "2022-12-15T10:45:51.914Z"
   },
   {
    "duration": 6,
    "start_time": "2022-12-15T10:45:51.925Z"
   },
   {
    "duration": 17,
    "start_time": "2022-12-15T10:45:51.933Z"
   },
   {
    "duration": 5,
    "start_time": "2022-12-15T10:45:51.952Z"
   },
   {
    "duration": 15,
    "start_time": "2022-12-15T10:45:51.959Z"
   },
   {
    "duration": 5,
    "start_time": "2022-12-15T10:45:51.976Z"
   },
   {
    "duration": 32,
    "start_time": "2022-12-15T10:45:51.982Z"
   },
   {
    "duration": 5,
    "start_time": "2022-12-15T10:45:52.016Z"
   },
   {
    "duration": 2,
    "start_time": "2022-12-15T10:46:20.448Z"
   },
   {
    "duration": 1381,
    "start_time": "2022-12-15T10:46:25.878Z"
   },
   {
    "duration": 666,
    "start_time": "2022-12-15T10:46:27.261Z"
   },
   {
    "duration": 26,
    "start_time": "2022-12-15T10:46:27.929Z"
   },
   {
    "duration": 18,
    "start_time": "2022-12-15T10:46:27.957Z"
   },
   {
    "duration": 10,
    "start_time": "2022-12-15T10:46:27.978Z"
   },
   {
    "duration": 11,
    "start_time": "2022-12-15T10:46:28.012Z"
   },
   {
    "duration": 22,
    "start_time": "2022-12-15T10:46:28.024Z"
   },
   {
    "duration": 14,
    "start_time": "2022-12-15T10:46:28.048Z"
   },
   {
    "duration": 8,
    "start_time": "2022-12-15T10:46:28.064Z"
   },
   {
    "duration": 9,
    "start_time": "2022-12-15T10:46:28.112Z"
   },
   {
    "duration": 21,
    "start_time": "2022-12-15T10:46:28.122Z"
   },
   {
    "duration": 117,
    "start_time": "2022-12-15T10:46:28.145Z"
   },
   {
    "duration": 7,
    "start_time": "2022-12-15T10:46:28.265Z"
   },
   {
    "duration": 7,
    "start_time": "2022-12-15T10:46:28.275Z"
   },
   {
    "duration": 6,
    "start_time": "2022-12-15T10:46:28.284Z"
   },
   {
    "duration": 22,
    "start_time": "2022-12-15T10:46:28.292Z"
   },
   {
    "duration": 4,
    "start_time": "2022-12-15T10:46:28.316Z"
   },
   {
    "duration": 15,
    "start_time": "2022-12-15T10:46:28.321Z"
   },
   {
    "duration": 6,
    "start_time": "2022-12-15T10:46:28.338Z"
   },
   {
    "duration": 27,
    "start_time": "2022-12-15T10:46:28.346Z"
   },
   {
    "duration": 4,
    "start_time": "2022-12-15T10:46:28.374Z"
   },
   {
    "duration": 9,
    "start_time": "2022-12-15T10:46:28.380Z"
   },
   {
    "duration": 22,
    "start_time": "2022-12-15T10:46:28.391Z"
   },
   {
    "duration": 111,
    "start_time": "2022-12-15T11:13:51.408Z"
   },
   {
    "duration": 145,
    "start_time": "2022-12-15T11:13:57.334Z"
   },
   {
    "duration": 235,
    "start_time": "2022-12-15T11:14:07.992Z"
   },
   {
    "duration": 371,
    "start_time": "2022-12-15T11:17:11.927Z"
   },
   {
    "duration": 462,
    "start_time": "2022-12-15T11:19:32.124Z"
   },
   {
    "duration": 380,
    "start_time": "2022-12-15T11:19:38.675Z"
   },
   {
    "duration": 835,
    "start_time": "2022-12-15T11:20:35.187Z"
   },
   {
    "duration": 17,
    "start_time": "2022-12-15T11:21:50.564Z"
   },
   {
    "duration": 874,
    "start_time": "2022-12-15T11:22:36.930Z"
   },
   {
    "duration": 144,
    "start_time": "2022-12-15T11:22:55.524Z"
   },
   {
    "duration": 398,
    "start_time": "2022-12-15T11:23:16.743Z"
   },
   {
    "duration": 379,
    "start_time": "2022-12-15T11:23:24.586Z"
   },
   {
    "duration": 351,
    "start_time": "2022-12-15T11:24:28.818Z"
   },
   {
    "duration": 348,
    "start_time": "2022-12-15T11:24:37.206Z"
   },
   {
    "duration": 563,
    "start_time": "2022-12-15T11:25:00.452Z"
   },
   {
    "duration": 14,
    "start_time": "2022-12-15T11:25:36.028Z"
   },
   {
    "duration": 380,
    "start_time": "2022-12-15T11:25:41.645Z"
   },
   {
    "duration": 381,
    "start_time": "2022-12-15T11:25:48.316Z"
   },
   {
    "duration": 248,
    "start_time": "2022-12-15T11:26:00.926Z"
   },
   {
    "duration": 583,
    "start_time": "2022-12-15T11:35:08.861Z"
   },
   {
    "duration": 416,
    "start_time": "2022-12-15T11:35:37.573Z"
   },
   {
    "duration": 395,
    "start_time": "2022-12-15T11:35:41.994Z"
   },
   {
    "duration": 506,
    "start_time": "2022-12-15T11:37:24.616Z"
   },
   {
    "duration": 695,
    "start_time": "2022-12-15T11:38:00.983Z"
   },
   {
    "duration": 478,
    "start_time": "2022-12-15T11:38:08.768Z"
   },
   {
    "duration": 484,
    "start_time": "2022-12-15T11:40:05.136Z"
   },
   {
    "duration": 671,
    "start_time": "2022-12-15T11:40:10.724Z"
   },
   {
    "duration": 187,
    "start_time": "2022-12-15T11:43:35.999Z"
   },
   {
    "duration": 1815,
    "start_time": "2022-12-15T11:52:51.970Z"
   },
   {
    "duration": 1614,
    "start_time": "2022-12-15T11:53:00.117Z"
   },
   {
    "duration": 1827,
    "start_time": "2022-12-15T11:53:10.276Z"
   },
   {
    "duration": 1740,
    "start_time": "2022-12-15T11:53:23.037Z"
   },
   {
    "duration": 1830,
    "start_time": "2022-12-15T11:53:34.068Z"
   },
   {
    "duration": 1701,
    "start_time": "2022-12-15T11:56:40.639Z"
   },
   {
    "duration": 1364,
    "start_time": "2022-12-15T12:01:19.895Z"
   },
   {
    "duration": 1395,
    "start_time": "2022-12-15T12:01:37.404Z"
   },
   {
    "duration": 1408,
    "start_time": "2022-12-15T12:01:57.453Z"
   },
   {
    "duration": 1867,
    "start_time": "2022-12-15T12:02:00.437Z"
   },
   {
    "duration": 719,
    "start_time": "2022-12-15T12:12:51.584Z"
   },
   {
    "duration": 612,
    "start_time": "2022-12-15T12:13:00.453Z"
   },
   {
    "duration": 826,
    "start_time": "2022-12-15T12:13:05.737Z"
   },
   {
    "duration": 731,
    "start_time": "2022-12-15T12:14:05.988Z"
   },
   {
    "duration": 780,
    "start_time": "2022-12-15T12:14:17.189Z"
   },
   {
    "duration": 4,
    "start_time": "2022-12-15T12:22:43.945Z"
   },
   {
    "duration": 1217,
    "start_time": "2022-12-15T12:25:08.749Z"
   },
   {
    "duration": 6,
    "start_time": "2022-12-15T12:25:21.827Z"
   },
   {
    "duration": 6,
    "start_time": "2022-12-15T12:25:26.205Z"
   },
   {
    "duration": 7,
    "start_time": "2022-12-15T12:25:31.942Z"
   },
   {
    "duration": 11,
    "start_time": "2022-12-15T12:25:50.481Z"
   },
   {
    "duration": 7,
    "start_time": "2022-12-15T12:25:51.660Z"
   },
   {
    "duration": 6,
    "start_time": "2022-12-15T12:25:54.178Z"
   },
   {
    "duration": 8,
    "start_time": "2022-12-15T12:25:54.504Z"
   },
   {
    "duration": 12,
    "start_time": "2022-12-15T12:26:37.768Z"
   },
   {
    "duration": 14,
    "start_time": "2022-12-15T12:26:42.927Z"
   },
   {
    "duration": 8,
    "start_time": "2022-12-15T12:26:54.130Z"
   },
   {
    "duration": 6,
    "start_time": "2022-12-15T12:26:54.895Z"
   },
   {
    "duration": 2,
    "start_time": "2022-12-15T12:27:02.456Z"
   },
   {
    "duration": 11,
    "start_time": "2022-12-15T12:27:03.210Z"
   },
   {
    "duration": 14,
    "start_time": "2022-12-15T12:27:03.523Z"
   },
   {
    "duration": 14,
    "start_time": "2022-12-15T12:28:59.933Z"
   },
   {
    "duration": 11,
    "start_time": "2022-12-15T12:30:36.587Z"
   },
   {
    "duration": 34,
    "start_time": "2022-12-15T12:30:52.132Z"
   },
   {
    "duration": 13,
    "start_time": "2022-12-15T12:31:17.594Z"
   },
   {
    "duration": 22,
    "start_time": "2022-12-15T12:31:24.556Z"
   },
   {
    "duration": 22,
    "start_time": "2022-12-15T12:31:35.830Z"
   },
   {
    "duration": 3,
    "start_time": "2022-12-15T12:31:41.287Z"
   },
   {
    "duration": 36,
    "start_time": "2022-12-15T12:31:41.592Z"
   },
   {
    "duration": 367,
    "start_time": "2022-12-15T12:31:51.087Z"
   },
   {
    "duration": 369,
    "start_time": "2022-12-15T12:32:07.125Z"
   },
   {
    "duration": 531,
    "start_time": "2022-12-15T12:32:10.674Z"
   },
   {
    "duration": 1195,
    "start_time": "2022-12-15T12:32:18.738Z"
   },
   {
    "duration": 1378,
    "start_time": "2022-12-15T12:35:24.869Z"
   },
   {
    "duration": 747,
    "start_time": "2022-12-15T12:35:26.250Z"
   },
   {
    "duration": 35,
    "start_time": "2022-12-15T12:35:26.999Z"
   },
   {
    "duration": 35,
    "start_time": "2022-12-15T12:35:27.037Z"
   },
   {
    "duration": 36,
    "start_time": "2022-12-15T12:35:27.074Z"
   },
   {
    "duration": 25,
    "start_time": "2022-12-15T12:35:27.113Z"
   },
   {
    "duration": 34,
    "start_time": "2022-12-15T12:35:27.140Z"
   },
   {
    "duration": 32,
    "start_time": "2022-12-15T12:35:27.176Z"
   },
   {
    "duration": 28,
    "start_time": "2022-12-15T12:35:27.210Z"
   },
   {
    "duration": 22,
    "start_time": "2022-12-15T12:35:27.240Z"
   },
   {
    "duration": 27,
    "start_time": "2022-12-15T12:35:27.263Z"
   },
   {
    "duration": 115,
    "start_time": "2022-12-15T12:35:27.292Z"
   },
   {
    "duration": 18,
    "start_time": "2022-12-15T12:35:27.409Z"
   },
   {
    "duration": 10,
    "start_time": "2022-12-15T12:35:27.431Z"
   },
   {
    "duration": 23,
    "start_time": "2022-12-15T12:35:27.443Z"
   },
   {
    "duration": 64,
    "start_time": "2022-12-15T12:35:27.468Z"
   },
   {
    "duration": 25,
    "start_time": "2022-12-15T12:35:27.534Z"
   },
   {
    "duration": 24,
    "start_time": "2022-12-15T12:35:27.562Z"
   },
   {
    "duration": 64,
    "start_time": "2022-12-15T12:35:27.588Z"
   },
   {
    "duration": 17,
    "start_time": "2022-12-15T12:35:27.654Z"
   },
   {
    "duration": 18,
    "start_time": "2022-12-15T12:35:27.673Z"
   },
   {
    "duration": 28,
    "start_time": "2022-12-15T12:35:27.692Z"
   },
   {
    "duration": 29,
    "start_time": "2022-12-15T12:35:27.721Z"
   },
   {
    "duration": 29,
    "start_time": "2022-12-15T12:35:27.753Z"
   },
   {
    "duration": 1711,
    "start_time": "2022-12-15T12:35:27.784Z"
   },
   {
    "duration": 653,
    "start_time": "2022-12-15T12:35:29.497Z"
   },
   {
    "duration": 4,
    "start_time": "2022-12-15T12:35:30.152Z"
   },
   {
    "duration": 1305,
    "start_time": "2022-12-15T12:35:30.158Z"
   },
   {
    "duration": 13,
    "start_time": "2022-12-15T12:35:31.465Z"
   },
   {
    "duration": 128,
    "start_time": "2022-12-15T12:40:44.464Z"
   },
   {
    "duration": 19,
    "start_time": "2022-12-15T12:40:59.829Z"
   },
   {
    "duration": 978,
    "start_time": "2022-12-15T12:41:26.758Z"
   },
   {
    "duration": 1191,
    "start_time": "2022-12-15T12:41:39.957Z"
   },
   {
    "duration": 6,
    "start_time": "2022-12-16T09:42:36.989Z"
   },
   {
    "duration": 685,
    "start_time": "2022-12-16T09:42:36.996Z"
   },
   {
    "duration": 22,
    "start_time": "2022-12-16T09:42:37.682Z"
   },
   {
    "duration": 29,
    "start_time": "2022-12-16T09:42:37.706Z"
   },
   {
    "duration": 18,
    "start_time": "2022-12-16T09:42:37.737Z"
   },
   {
    "duration": 10,
    "start_time": "2022-12-16T09:42:37.757Z"
   },
   {
    "duration": 27,
    "start_time": "2022-12-16T09:42:37.769Z"
   },
   {
    "duration": 18,
    "start_time": "2022-12-16T09:42:37.798Z"
   },
   {
    "duration": 8,
    "start_time": "2022-12-16T09:42:37.818Z"
   },
   {
    "duration": 47,
    "start_time": "2022-12-16T09:42:37.827Z"
   },
   {
    "duration": 23,
    "start_time": "2022-12-16T09:42:37.876Z"
   },
   {
    "duration": 96,
    "start_time": "2022-12-16T09:42:37.900Z"
   },
   {
    "duration": 8,
    "start_time": "2022-12-16T09:42:37.998Z"
   },
   {
    "duration": 13,
    "start_time": "2022-12-16T09:42:38.008Z"
   },
   {
    "duration": 8,
    "start_time": "2022-12-16T09:42:38.023Z"
   },
   {
    "duration": 23,
    "start_time": "2022-12-16T09:42:38.033Z"
   },
   {
    "duration": 3,
    "start_time": "2022-12-16T09:42:38.058Z"
   },
   {
    "duration": 8,
    "start_time": "2022-12-16T09:42:38.062Z"
   },
   {
    "duration": 15,
    "start_time": "2022-12-16T09:42:38.071Z"
   },
   {
    "duration": 7,
    "start_time": "2022-12-16T09:42:38.087Z"
   },
   {
    "duration": 5,
    "start_time": "2022-12-16T09:42:38.095Z"
   },
   {
    "duration": 6,
    "start_time": "2022-12-16T09:42:38.102Z"
   },
   {
    "duration": 6,
    "start_time": "2022-12-16T09:42:38.109Z"
   },
   {
    "duration": 39,
    "start_time": "2022-12-16T09:42:38.116Z"
   },
   {
    "duration": 1494,
    "start_time": "2022-12-16T09:42:38.157Z"
   },
   {
    "duration": 731,
    "start_time": "2022-12-16T09:42:39.653Z"
   },
   {
    "duration": 3,
    "start_time": "2022-12-16T09:42:40.386Z"
   },
   {
    "duration": 741,
    "start_time": "2022-12-16T09:42:40.391Z"
   },
   {
    "duration": 14,
    "start_time": "2022-12-16T09:42:41.134Z"
   },
   {
    "duration": 6,
    "start_time": "2022-12-16T09:44:33.284Z"
   },
   {
    "duration": 11,
    "start_time": "2022-12-16T09:44:40.033Z"
   },
   {
    "duration": 828,
    "start_time": "2022-12-16T09:45:30.006Z"
   },
   {
    "duration": 7,
    "start_time": "2022-12-16T09:45:34.565Z"
   },
   {
    "duration": 13,
    "start_time": "2022-12-16T09:45:34.726Z"
   },
   {
    "duration": 136,
    "start_time": "2022-12-16T09:46:05.743Z"
   },
   {
    "duration": 31,
    "start_time": "2022-12-16T09:46:24.237Z"
   },
   {
    "duration": 28,
    "start_time": "2022-12-16T09:46:52.181Z"
   },
   {
    "duration": 0,
    "start_time": "2022-12-16T09:46:52.211Z"
   },
   {
    "duration": 32,
    "start_time": "2022-12-16T09:46:58.224Z"
   },
   {
    "duration": 33,
    "start_time": "2022-12-16T09:47:16.796Z"
   },
   {
    "duration": 33,
    "start_time": "2022-12-16T09:47:31.045Z"
   },
   {
    "duration": 49,
    "start_time": "2022-12-16T09:47:38.638Z"
   },
   {
    "duration": 28,
    "start_time": "2022-12-16T09:47:42.244Z"
   },
   {
    "duration": 1118,
    "start_time": "2022-12-16T09:47:56.479Z"
   },
   {
    "duration": 37,
    "start_time": "2022-12-16T09:47:58.557Z"
   },
   {
    "duration": 6,
    "start_time": "2022-12-16T09:48:02.059Z"
   },
   {
    "duration": 21,
    "start_time": "2022-12-16T09:48:04.610Z"
   },
   {
    "duration": 6,
    "start_time": "2022-12-16T09:49:59.091Z"
   },
   {
    "duration": 14,
    "start_time": "2022-12-16T09:49:59.444Z"
   },
   {
    "duration": 4,
    "start_time": "2022-12-16T09:50:20.514Z"
   },
   {
    "duration": 874,
    "start_time": "2022-12-16T09:50:21.127Z"
   },
   {
    "duration": 5,
    "start_time": "2022-12-16T09:53:20.165Z"
   },
   {
    "duration": 6,
    "start_time": "2022-12-16T09:53:20.637Z"
   },
   {
    "duration": 6,
    "start_time": "2022-12-16T09:53:43.483Z"
   },
   {
    "duration": 1366,
    "start_time": "2022-12-16T09:54:50.422Z"
   },
   {
    "duration": 716,
    "start_time": "2022-12-16T09:54:51.790Z"
   },
   {
    "duration": 25,
    "start_time": "2022-12-16T09:54:52.508Z"
   },
   {
    "duration": 28,
    "start_time": "2022-12-16T09:54:52.536Z"
   },
   {
    "duration": 9,
    "start_time": "2022-12-16T09:54:52.567Z"
   },
   {
    "duration": 23,
    "start_time": "2022-12-16T09:54:52.578Z"
   },
   {
    "duration": 21,
    "start_time": "2022-12-16T09:54:52.603Z"
   },
   {
    "duration": 36,
    "start_time": "2022-12-16T09:54:52.626Z"
   },
   {
    "duration": 8,
    "start_time": "2022-12-16T09:54:52.664Z"
   },
   {
    "duration": 8,
    "start_time": "2022-12-16T09:54:52.674Z"
   },
   {
    "duration": 24,
    "start_time": "2022-12-16T09:54:52.684Z"
   },
   {
    "duration": 116,
    "start_time": "2022-12-16T09:54:52.710Z"
   },
   {
    "duration": 8,
    "start_time": "2022-12-16T09:54:52.828Z"
   },
   {
    "duration": 32,
    "start_time": "2022-12-16T09:54:52.838Z"
   },
   {
    "duration": 18,
    "start_time": "2022-12-16T09:54:52.872Z"
   },
   {
    "duration": 18,
    "start_time": "2022-12-16T09:54:52.891Z"
   },
   {
    "duration": 13,
    "start_time": "2022-12-16T09:54:52.911Z"
   },
   {
    "duration": 19,
    "start_time": "2022-12-16T09:54:52.926Z"
   },
   {
    "duration": 23,
    "start_time": "2022-12-16T09:54:52.947Z"
   },
   {
    "duration": 17,
    "start_time": "2022-12-16T09:54:52.972Z"
   },
   {
    "duration": 16,
    "start_time": "2022-12-16T09:54:52.991Z"
   },
   {
    "duration": 23,
    "start_time": "2022-12-16T09:54:53.009Z"
   },
   {
    "duration": 15,
    "start_time": "2022-12-16T09:54:53.034Z"
   },
   {
    "duration": 17,
    "start_time": "2022-12-16T09:54:53.051Z"
   },
   {
    "duration": 1727,
    "start_time": "2022-12-16T09:54:53.070Z"
   },
   {
    "duration": 639,
    "start_time": "2022-12-16T09:54:54.799Z"
   },
   {
    "duration": 3,
    "start_time": "2022-12-16T09:54:55.440Z"
   },
   {
    "duration": 951,
    "start_time": "2022-12-16T09:54:55.444Z"
   },
   {
    "duration": 7,
    "start_time": "2022-12-16T09:54:56.397Z"
   },
   {
    "duration": 19,
    "start_time": "2022-12-16T09:54:56.406Z"
   },
   {
    "duration": 18,
    "start_time": "2022-12-16T09:54:56.428Z"
   },
   {
    "duration": 6,
    "start_time": "2022-12-16T09:55:51.125Z"
   },
   {
    "duration": 5,
    "start_time": "2022-12-16T09:55:51.571Z"
   },
   {
    "duration": 42,
    "start_time": "2022-12-16T09:58:03.757Z"
   },
   {
    "duration": 28,
    "start_time": "2022-12-16T09:58:20.141Z"
   },
   {
    "duration": 7,
    "start_time": "2022-12-16T09:58:44.282Z"
   },
   {
    "duration": 7,
    "start_time": "2022-12-16T09:58:48.653Z"
   },
   {
    "duration": 5,
    "start_time": "2022-12-16T09:58:49.038Z"
   },
   {
    "duration": 13,
    "start_time": "2022-12-16T09:58:59.769Z"
   },
   {
    "duration": 23,
    "start_time": "2022-12-16T09:59:34.246Z"
   },
   {
    "duration": 4,
    "start_time": "2022-12-16T09:59:48.923Z"
   },
   {
    "duration": 604,
    "start_time": "2022-12-16T10:00:31.583Z"
   },
   {
    "duration": 602,
    "start_time": "2022-12-16T10:00:37.574Z"
   },
   {
    "duration": 716,
    "start_time": "2022-12-16T10:01:10.477Z"
   },
   {
    "duration": 692,
    "start_time": "2022-12-16T10:01:14.270Z"
   },
   {
    "duration": 169,
    "start_time": "2022-12-16T10:02:09.757Z"
   },
   {
    "duration": 209,
    "start_time": "2022-12-16T10:02:20.887Z"
   },
   {
    "duration": 705,
    "start_time": "2022-12-16T10:02:43.010Z"
   },
   {
    "duration": 824,
    "start_time": "2022-12-16T10:03:23.407Z"
   },
   {
    "duration": 905,
    "start_time": "2022-12-16T10:03:29.439Z"
   },
   {
    "duration": 974,
    "start_time": "2022-12-16T10:03:36.041Z"
   },
   {
    "duration": 816,
    "start_time": "2022-12-16T10:03:42.405Z"
   },
   {
    "duration": 830,
    "start_time": "2022-12-16T10:04:12.023Z"
   },
   {
    "duration": 3129,
    "start_time": "2022-12-16T10:05:18.486Z"
   },
   {
    "duration": 13,
    "start_time": "2022-12-16T10:05:36.670Z"
   },
   {
    "duration": 14,
    "start_time": "2022-12-16T10:06:24.532Z"
   },
   {
    "duration": 2322,
    "start_time": "2022-12-16T10:06:43.158Z"
   },
   {
    "duration": 1393,
    "start_time": "2022-12-16T10:06:45.482Z"
   },
   {
    "duration": 685,
    "start_time": "2022-12-16T10:06:46.877Z"
   },
   {
    "duration": 26,
    "start_time": "2022-12-16T10:06:47.564Z"
   },
   {
    "duration": 18,
    "start_time": "2022-12-16T10:06:47.591Z"
   },
   {
    "duration": 10,
    "start_time": "2022-12-16T10:06:47.610Z"
   },
   {
    "duration": 36,
    "start_time": "2022-12-16T10:06:47.622Z"
   },
   {
    "duration": 26,
    "start_time": "2022-12-16T10:06:47.660Z"
   },
   {
    "duration": 17,
    "start_time": "2022-12-16T10:06:47.689Z"
   },
   {
    "duration": 12,
    "start_time": "2022-12-16T10:06:47.709Z"
   },
   {
    "duration": 14,
    "start_time": "2022-12-16T10:06:47.722Z"
   },
   {
    "duration": 34,
    "start_time": "2022-12-16T10:06:47.737Z"
   },
   {
    "duration": 97,
    "start_time": "2022-12-16T10:06:47.772Z"
   },
   {
    "duration": 7,
    "start_time": "2022-12-16T10:06:47.871Z"
   },
   {
    "duration": 31,
    "start_time": "2022-12-16T10:06:47.879Z"
   },
   {
    "duration": 24,
    "start_time": "2022-12-16T10:06:47.912Z"
   },
   {
    "duration": 15,
    "start_time": "2022-12-16T10:06:47.938Z"
   },
   {
    "duration": 22,
    "start_time": "2022-12-16T10:06:47.954Z"
   },
   {
    "duration": 28,
    "start_time": "2022-12-16T10:06:47.978Z"
   },
   {
    "duration": 22,
    "start_time": "2022-12-16T10:06:48.008Z"
   },
   {
    "duration": 10,
    "start_time": "2022-12-16T10:06:48.032Z"
   },
   {
    "duration": 14,
    "start_time": "2022-12-16T10:06:48.044Z"
   },
   {
    "duration": 24,
    "start_time": "2022-12-16T10:06:48.060Z"
   },
   {
    "duration": 19,
    "start_time": "2022-12-16T10:06:48.086Z"
   },
   {
    "duration": 1618,
    "start_time": "2022-12-16T10:06:48.106Z"
   },
   {
    "duration": 617,
    "start_time": "2022-12-16T10:06:49.726Z"
   },
   {
    "duration": 3,
    "start_time": "2022-12-16T10:06:50.345Z"
   },
   {
    "duration": 880,
    "start_time": "2022-12-16T10:06:50.356Z"
   },
   {
    "duration": 7,
    "start_time": "2022-12-16T10:06:51.238Z"
   },
   {
    "duration": 38,
    "start_time": "2022-12-16T10:06:51.246Z"
   },
   {
    "duration": 10,
    "start_time": "2022-12-16T10:06:51.286Z"
   },
   {
    "duration": 880,
    "start_time": "2022-12-16T10:06:51.298Z"
   },
   {
    "duration": 116,
    "start_time": "2022-12-16T10:07:38.421Z"
   },
   {
    "duration": 13570,
    "start_time": "2022-12-16T10:07:44.585Z"
   },
   {
    "duration": 14386,
    "start_time": "2022-12-16T10:08:18.076Z"
   },
   {
    "duration": 14453,
    "start_time": "2022-12-16T10:09:01.926Z"
   },
   {
    "duration": 1375,
    "start_time": "2022-12-16T11:37:10.790Z"
   },
   {
    "duration": 3344,
    "start_time": "2022-12-16T11:37:19.990Z"
   },
   {
    "duration": 1291,
    "start_time": "2022-12-16T11:37:23.335Z"
   },
   {
    "duration": 2276,
    "start_time": "2022-12-16T11:37:24.628Z"
   },
   {
    "duration": 23,
    "start_time": "2022-12-16T11:37:26.906Z"
   },
   {
    "duration": 18,
    "start_time": "2022-12-16T11:37:26.931Z"
   },
   {
    "duration": 9,
    "start_time": "2022-12-16T11:37:26.950Z"
   },
   {
    "duration": 19,
    "start_time": "2022-12-16T11:37:26.961Z"
   },
   {
    "duration": 43,
    "start_time": "2022-12-16T11:37:26.986Z"
   },
   {
    "duration": 28,
    "start_time": "2022-12-16T11:37:27.031Z"
   },
   {
    "duration": 13,
    "start_time": "2022-12-16T11:37:27.062Z"
   },
   {
    "duration": 38,
    "start_time": "2022-12-16T11:37:27.077Z"
   },
   {
    "duration": 28,
    "start_time": "2022-12-16T11:37:27.116Z"
   },
   {
    "duration": 93,
    "start_time": "2022-12-16T11:37:27.146Z"
   },
   {
    "duration": 8,
    "start_time": "2022-12-16T11:37:27.241Z"
   },
   {
    "duration": 44,
    "start_time": "2022-12-16T11:37:27.250Z"
   },
   {
    "duration": 21,
    "start_time": "2022-12-16T11:37:27.296Z"
   },
   {
    "duration": 16,
    "start_time": "2022-12-16T11:37:27.318Z"
   },
   {
    "duration": 15,
    "start_time": "2022-12-16T11:37:27.335Z"
   },
   {
    "duration": 24,
    "start_time": "2022-12-16T11:37:27.352Z"
   },
   {
    "duration": 36,
    "start_time": "2022-12-16T11:37:27.377Z"
   },
   {
    "duration": 28,
    "start_time": "2022-12-16T11:37:27.415Z"
   },
   {
    "duration": 38,
    "start_time": "2022-12-16T11:37:27.445Z"
   },
   {
    "duration": 17,
    "start_time": "2022-12-16T11:37:27.489Z"
   },
   {
    "duration": 49,
    "start_time": "2022-12-16T11:37:27.507Z"
   },
   {
    "duration": 1548,
    "start_time": "2022-12-16T11:37:27.557Z"
   },
   {
    "duration": 584,
    "start_time": "2022-12-16T11:37:29.107Z"
   },
   {
    "duration": 4,
    "start_time": "2022-12-16T11:37:29.692Z"
   },
   {
    "duration": 899,
    "start_time": "2022-12-16T11:37:29.699Z"
   },
   {
    "duration": 7,
    "start_time": "2022-12-16T11:37:30.600Z"
   },
   {
    "duration": 68,
    "start_time": "2022-12-16T11:37:30.608Z"
   },
   {
    "duration": 29,
    "start_time": "2022-12-16T11:37:30.683Z"
   },
   {
    "duration": 935,
    "start_time": "2022-12-16T11:37:30.714Z"
   },
   {
    "duration": 12862,
    "start_time": "2022-12-16T11:37:31.651Z"
   },
   {
    "duration": 3,
    "start_time": "2022-12-16T11:40:45.215Z"
   },
   {
    "duration": 4,
    "start_time": "2022-12-16T11:41:38.006Z"
   },
   {
    "duration": 6,
    "start_time": "2022-12-16T11:44:18.637Z"
   },
   {
    "duration": 3,
    "start_time": "2022-12-16T11:44:20.003Z"
   },
   {
    "duration": 2342,
    "start_time": "2022-12-16T11:44:30.357Z"
   },
   {
    "duration": 4,
    "start_time": "2022-12-16T11:44:50.897Z"
   },
   {
    "duration": 2542,
    "start_time": "2022-12-16T11:46:23.523Z"
   },
   {
    "duration": 1472,
    "start_time": "2022-12-16T11:46:26.068Z"
   },
   {
    "duration": 733,
    "start_time": "2022-12-16T11:46:27.542Z"
   },
   {
    "duration": 31,
    "start_time": "2022-12-16T11:46:28.277Z"
   },
   {
    "duration": 16,
    "start_time": "2022-12-16T11:46:28.310Z"
   },
   {
    "duration": 9,
    "start_time": "2022-12-16T11:46:28.327Z"
   },
   {
    "duration": 9,
    "start_time": "2022-12-16T11:46:28.337Z"
   },
   {
    "duration": 51,
    "start_time": "2022-12-16T11:46:28.347Z"
   },
   {
    "duration": 16,
    "start_time": "2022-12-16T11:46:28.400Z"
   },
   {
    "duration": 6,
    "start_time": "2022-12-16T11:46:28.418Z"
   },
   {
    "duration": 6,
    "start_time": "2022-12-16T11:46:28.425Z"
   },
   {
    "duration": 50,
    "start_time": "2022-12-16T11:46:28.433Z"
   },
   {
    "duration": 96,
    "start_time": "2022-12-16T11:46:28.487Z"
   },
   {
    "duration": 11,
    "start_time": "2022-12-16T11:46:28.587Z"
   },
   {
    "duration": 12,
    "start_time": "2022-12-16T11:46:28.600Z"
   },
   {
    "duration": 11,
    "start_time": "2022-12-16T11:46:28.614Z"
   },
   {
    "duration": 6,
    "start_time": "2022-12-16T11:46:28.627Z"
   },
   {
    "duration": 6,
    "start_time": "2022-12-16T11:46:28.634Z"
   },
   {
    "duration": 9,
    "start_time": "2022-12-16T11:46:28.642Z"
   },
   {
    "duration": 13,
    "start_time": "2022-12-16T11:46:28.653Z"
   },
   {
    "duration": 18,
    "start_time": "2022-12-16T11:46:28.668Z"
   },
   {
    "duration": 15,
    "start_time": "2022-12-16T11:46:28.690Z"
   },
   {
    "duration": 7,
    "start_time": "2022-12-16T11:46:28.708Z"
   },
   {
    "duration": 11,
    "start_time": "2022-12-16T11:46:28.717Z"
   },
   {
    "duration": 1588,
    "start_time": "2022-12-16T11:46:28.730Z"
   },
   {
    "duration": 637,
    "start_time": "2022-12-16T11:46:30.320Z"
   },
   {
    "duration": 5,
    "start_time": "2022-12-16T11:46:30.959Z"
   },
   {
    "duration": 936,
    "start_time": "2022-12-16T11:46:30.966Z"
   },
   {
    "duration": 9,
    "start_time": "2022-12-16T11:46:31.904Z"
   },
   {
    "duration": 45,
    "start_time": "2022-12-16T11:46:31.915Z"
   },
   {
    "duration": 20,
    "start_time": "2022-12-16T11:46:31.961Z"
   },
   {
    "duration": 839,
    "start_time": "2022-12-16T11:46:31.982Z"
   },
   {
    "duration": 13184,
    "start_time": "2022-12-16T11:46:32.823Z"
   },
   {
    "duration": 6,
    "start_time": "2022-12-16T11:46:46.009Z"
   },
   {
    "duration": 8,
    "start_time": "2022-12-16T11:46:46.016Z"
   },
   {
    "duration": 2781,
    "start_time": "2022-12-16T11:46:46.026Z"
   },
   {
    "duration": 95198,
    "start_time": "2022-12-16T11:46:48.817Z"
   },
   {
    "duration": 9,
    "start_time": "2022-12-16T11:50:39.341Z"
   },
   {
    "duration": 7,
    "start_time": "2022-12-16T11:50:40.547Z"
   },
   {
    "duration": 3,
    "start_time": "2022-12-16T11:50:40.959Z"
   },
   {
    "duration": 2806,
    "start_time": "2022-12-16T11:50:41.426Z"
   },
   {
    "duration": 88549,
    "start_time": "2022-12-16T11:51:04.863Z"
   },
   {
    "duration": 1442,
    "start_time": "2022-12-16T11:53:10.730Z"
   },
   {
    "duration": 2409,
    "start_time": "2022-12-16T11:53:14.038Z"
   },
   {
    "duration": 5,
    "start_time": "2022-12-16T11:53:16.449Z"
   },
   {
    "duration": 760,
    "start_time": "2022-12-16T11:53:16.456Z"
   },
   {
    "duration": 38,
    "start_time": "2022-12-16T11:53:17.218Z"
   },
   {
    "duration": 41,
    "start_time": "2022-12-16T11:53:17.258Z"
   },
   {
    "duration": 32,
    "start_time": "2022-12-16T11:53:17.302Z"
   },
   {
    "duration": 7,
    "start_time": "2022-12-16T11:53:17.336Z"
   },
   {
    "duration": 24,
    "start_time": "2022-12-16T11:53:17.345Z"
   },
   {
    "duration": 19,
    "start_time": "2022-12-16T11:53:17.371Z"
   },
   {
    "duration": 17,
    "start_time": "2022-12-16T11:53:17.393Z"
   },
   {
    "duration": 12,
    "start_time": "2022-12-16T11:53:17.411Z"
   },
   {
    "duration": 28,
    "start_time": "2022-12-16T11:53:17.425Z"
   },
   {
    "duration": 119,
    "start_time": "2022-12-16T11:53:17.454Z"
   },
   {
    "duration": 16,
    "start_time": "2022-12-16T11:53:17.575Z"
   },
   {
    "duration": 29,
    "start_time": "2022-12-16T11:53:17.594Z"
   },
   {
    "duration": 13,
    "start_time": "2022-12-16T11:53:17.625Z"
   },
   {
    "duration": 6,
    "start_time": "2022-12-16T11:53:17.749Z"
   },
   {
    "duration": 3,
    "start_time": "2022-12-16T11:53:17.814Z"
   },
   {
    "duration": 6,
    "start_time": "2022-12-16T11:53:17.993Z"
   },
   {
    "duration": 15,
    "start_time": "2022-12-16T11:53:18.248Z"
   },
   {
    "duration": 8,
    "start_time": "2022-12-16T11:53:18.327Z"
   },
   {
    "duration": 5,
    "start_time": "2022-12-16T11:53:18.424Z"
   },
   {
    "duration": 5,
    "start_time": "2022-12-16T11:53:18.504Z"
   },
   {
    "duration": 14,
    "start_time": "2022-12-16T11:53:18.599Z"
   },
   {
    "duration": 1893,
    "start_time": "2022-12-16T11:53:18.854Z"
   },
   {
    "duration": 701,
    "start_time": "2022-12-16T11:53:20.749Z"
   },
   {
    "duration": 3,
    "start_time": "2022-12-16T11:53:21.452Z"
   },
   {
    "duration": 932,
    "start_time": "2022-12-16T11:53:21.457Z"
   },
   {
    "duration": 8,
    "start_time": "2022-12-16T11:53:22.395Z"
   },
   {
    "duration": 28,
    "start_time": "2022-12-16T11:53:22.405Z"
   },
   {
    "duration": 10,
    "start_time": "2022-12-16T11:53:23.228Z"
   },
   {
    "duration": 4,
    "start_time": "2022-12-16T11:53:33.919Z"
   },
   {
    "duration": 3,
    "start_time": "2022-12-16T11:53:51.750Z"
   },
   {
    "duration": 139,
    "start_time": "2022-12-16T11:53:57.358Z"
   },
   {
    "duration": 7,
    "start_time": "2022-12-16T11:54:04.408Z"
   },
   {
    "duration": 8,
    "start_time": "2022-12-16T11:54:06.601Z"
   },
   {
    "duration": 4,
    "start_time": "2022-12-16T11:54:08.184Z"
   },
   {
    "duration": 54703,
    "start_time": "2022-12-16T11:54:09.238Z"
   },
   {
    "duration": 16,
    "start_time": "2022-12-16T11:55:56.393Z"
   },
   {
    "duration": 14,
    "start_time": "2022-12-16T11:56:02.020Z"
   },
   {
    "duration": 7,
    "start_time": "2022-12-16T11:56:08.830Z"
   },
   {
    "duration": 3,
    "start_time": "2022-12-16T11:56:10.347Z"
   },
   {
    "duration": 2991,
    "start_time": "2022-12-16T11:56:10.701Z"
   },
   {
    "duration": 20,
    "start_time": "2022-12-16T11:56:50.596Z"
   },
   {
    "duration": 18,
    "start_time": "2022-12-16T11:56:56.534Z"
   },
   {
    "duration": 11,
    "start_time": "2022-12-16T11:57:15.819Z"
   },
   {
    "duration": 5,
    "start_time": "2022-12-16T11:57:35.022Z"
   },
   {
    "duration": 13,
    "start_time": "2022-12-16T11:57:47.237Z"
   },
   {
    "duration": 2406,
    "start_time": "2022-12-16T11:58:37.398Z"
   },
   {
    "duration": 2390,
    "start_time": "2022-12-16T11:59:12.707Z"
   },
   {
    "duration": 2274,
    "start_time": "2022-12-16T12:05:21.042Z"
   },
   {
    "duration": 1512,
    "start_time": "2022-12-16T12:05:23.318Z"
   },
   {
    "duration": 763,
    "start_time": "2022-12-16T12:05:24.833Z"
   },
   {
    "duration": 38,
    "start_time": "2022-12-16T12:05:25.599Z"
   },
   {
    "duration": 18,
    "start_time": "2022-12-16T12:05:25.638Z"
   },
   {
    "duration": 33,
    "start_time": "2022-12-16T12:05:25.658Z"
   },
   {
    "duration": 10,
    "start_time": "2022-12-16T12:05:25.692Z"
   },
   {
    "duration": 21,
    "start_time": "2022-12-16T12:05:25.703Z"
   },
   {
    "duration": 15,
    "start_time": "2022-12-16T12:05:25.726Z"
   },
   {
    "duration": 6,
    "start_time": "2022-12-16T12:05:25.745Z"
   },
   {
    "duration": 31,
    "start_time": "2022-12-16T12:05:25.753Z"
   },
   {
    "duration": 23,
    "start_time": "2022-12-16T12:05:25.786Z"
   },
   {
    "duration": 106,
    "start_time": "2022-12-16T12:05:25.811Z"
   },
   {
    "duration": 7,
    "start_time": "2022-12-16T12:05:25.919Z"
   },
   {
    "duration": 14,
    "start_time": "2022-12-16T12:05:25.928Z"
   },
   {
    "duration": 7,
    "start_time": "2022-12-16T12:05:25.944Z"
   },
   {
    "duration": 5,
    "start_time": "2022-12-16T12:05:25.953Z"
   },
   {
    "duration": 10,
    "start_time": "2022-12-16T12:05:25.959Z"
   },
   {
    "duration": 32,
    "start_time": "2022-12-16T12:05:25.979Z"
   },
   {
    "duration": 39,
    "start_time": "2022-12-16T12:05:26.013Z"
   },
   {
    "duration": 9,
    "start_time": "2022-12-16T12:05:26.054Z"
   },
   {
    "duration": 32,
    "start_time": "2022-12-16T12:05:26.065Z"
   },
   {
    "duration": 11,
    "start_time": "2022-12-16T12:05:26.099Z"
   },
   {
    "duration": 14,
    "start_time": "2022-12-16T12:05:26.112Z"
   },
   {
    "duration": 1580,
    "start_time": "2022-12-16T12:05:26.128Z"
   },
   {
    "duration": 587,
    "start_time": "2022-12-16T12:05:27.710Z"
   },
   {
    "duration": 3,
    "start_time": "2022-12-16T12:05:28.299Z"
   },
   {
    "duration": 912,
    "start_time": "2022-12-16T12:05:28.305Z"
   },
   {
    "duration": 6,
    "start_time": "2022-12-16T12:05:29.219Z"
   },
   {
    "duration": 36,
    "start_time": "2022-12-16T12:05:29.227Z"
   },
   {
    "duration": 8,
    "start_time": "2022-12-16T12:05:29.265Z"
   },
   {
    "duration": 916,
    "start_time": "2022-12-16T12:05:29.275Z"
   },
   {
    "duration": 12819,
    "start_time": "2022-12-16T12:05:30.193Z"
   },
   {
    "duration": 7,
    "start_time": "2022-12-16T12:05:43.014Z"
   },
   {
    "duration": 11,
    "start_time": "2022-12-16T12:05:43.022Z"
   },
   {
    "duration": 1862,
    "start_time": "2022-12-16T12:05:43.034Z"
   },
   {
    "duration": 63399,
    "start_time": "2022-12-16T12:05:44.898Z"
   },
   {
    "duration": 8,
    "start_time": "2022-12-16T12:06:48.380Z"
   },
   {
    "duration": 52478,
    "start_time": "2022-12-16T12:06:48.390Z"
   },
   {
    "duration": 12675,
    "start_time": "2022-12-16T12:08:56.805Z"
   },
   {
    "duration": 3365,
    "start_time": "2022-12-16T12:09:45.314Z"
   },
   {
    "duration": 2295,
    "start_time": "2022-12-16T12:10:01.294Z"
   },
   {
    "duration": 4,
    "start_time": "2022-12-16T12:50:47.204Z"
   },
   {
    "duration": 2,
    "start_time": "2022-12-16T12:51:11.792Z"
   },
   {
    "duration": 2,
    "start_time": "2022-12-16T12:51:19.538Z"
   },
   {
    "duration": 15,
    "start_time": "2022-12-16T12:51:52.003Z"
   },
   {
    "duration": 105,
    "start_time": "2022-12-16T12:52:14.191Z"
   },
   {
    "duration": 530,
    "start_time": "2022-12-16T12:52:34.607Z"
   },
   {
    "duration": 6,
    "start_time": "2022-12-16T13:01:40.389Z"
   },
   {
    "duration": 28,
    "start_time": "2022-12-16T13:15:06.763Z"
   },
   {
    "duration": 27,
    "start_time": "2022-12-16T13:15:29.006Z"
   },
   {
    "duration": 5,
    "start_time": "2022-12-16T13:15:42.222Z"
   },
   {
    "duration": 9,
    "start_time": "2022-12-16T13:15:51.962Z"
   },
   {
    "duration": 3,
    "start_time": "2022-12-16T13:17:32.692Z"
   },
   {
    "duration": 4,
    "start_time": "2022-12-16T13:17:38.746Z"
   },
   {
    "duration": 4,
    "start_time": "2022-12-16T13:19:08.374Z"
   },
   {
    "duration": 4,
    "start_time": "2022-12-16T13:19:14.727Z"
   },
   {
    "duration": 5,
    "start_time": "2022-12-16T13:19:37.193Z"
   },
   {
    "duration": 3,
    "start_time": "2022-12-16T13:19:42.695Z"
   },
   {
    "duration": 3,
    "start_time": "2022-12-16T13:21:08.667Z"
   },
   {
    "duration": 10,
    "start_time": "2022-12-16T13:21:36.200Z"
   },
   {
    "duration": 12,
    "start_time": "2022-12-16T13:21:45.625Z"
   },
   {
    "duration": 10,
    "start_time": "2022-12-16T13:26:23.289Z"
   },
   {
    "duration": 5,
    "start_time": "2022-12-16T13:26:33.613Z"
   },
   {
    "duration": 4,
    "start_time": "2022-12-16T13:29:34.258Z"
   },
   {
    "duration": 6,
    "start_time": "2022-12-16T13:29:35.600Z"
   },
   {
    "duration": 3,
    "start_time": "2022-12-16T13:30:01.060Z"
   },
   {
    "duration": 1747,
    "start_time": "2022-12-16T13:30:22.172Z"
   },
   {
    "duration": 6,
    "start_time": "2022-12-16T13:31:13.501Z"
   },
   {
    "duration": 3,
    "start_time": "2022-12-16T13:31:16.986Z"
   },
   {
    "duration": 1546,
    "start_time": "2022-12-16T13:31:17.133Z"
   },
   {
    "duration": 5,
    "start_time": "2022-12-16T13:31:35.637Z"
   },
   {
    "duration": 6,
    "start_time": "2022-12-16T13:31:51.351Z"
   },
   {
    "duration": 5,
    "start_time": "2022-12-16T13:31:51.926Z"
   },
   {
    "duration": 3,
    "start_time": "2022-12-16T13:31:54.644Z"
   },
   {
    "duration": 1318,
    "start_time": "2022-12-16T13:31:54.767Z"
   },
   {
    "duration": 81,
    "start_time": "2022-12-16T13:32:18.648Z"
   },
   {
    "duration": 13,
    "start_time": "2022-12-16T13:32:23.137Z"
   },
   {
    "duration": 3,
    "start_time": "2022-12-16T13:34:05.278Z"
   },
   {
    "duration": 7,
    "start_time": "2022-12-16T13:34:05.736Z"
   },
   {
    "duration": 13,
    "start_time": "2022-12-16T13:34:06.016Z"
   },
   {
    "duration": 4,
    "start_time": "2022-12-16T13:34:53.646Z"
   },
   {
    "duration": 97,
    "start_time": "2022-12-16T13:35:07.409Z"
   },
   {
    "duration": 6,
    "start_time": "2022-12-16T13:35:08.434Z"
   },
   {
    "duration": 5,
    "start_time": "2022-12-16T13:35:08.587Z"
   },
   {
    "duration": 4,
    "start_time": "2022-12-16T13:35:20.770Z"
   },
   {
    "duration": 5,
    "start_time": "2022-12-16T13:35:27.063Z"
   },
   {
    "duration": 5,
    "start_time": "2022-12-16T13:35:35.373Z"
   },
   {
    "duration": 8,
    "start_time": "2022-12-16T13:35:49.500Z"
   },
   {
    "duration": 4,
    "start_time": "2022-12-16T13:35:53.447Z"
   },
   {
    "duration": 5,
    "start_time": "2022-12-16T13:36:19.647Z"
   },
   {
    "duration": 4,
    "start_time": "2022-12-16T13:37:31.304Z"
   },
   {
    "duration": 7,
    "start_time": "2022-12-16T13:37:31.869Z"
   },
   {
    "duration": 5,
    "start_time": "2022-12-16T13:37:32.241Z"
   },
   {
    "duration": 8,
    "start_time": "2022-12-16T13:37:33.009Z"
   },
   {
    "duration": 7,
    "start_time": "2022-12-16T13:37:41.714Z"
   },
   {
    "duration": 7,
    "start_time": "2022-12-16T13:37:46.582Z"
   },
   {
    "duration": 88,
    "start_time": "2022-12-16T13:37:52.664Z"
   },
   {
    "duration": 9,
    "start_time": "2022-12-16T13:37:56.880Z"
   },
   {
    "duration": 7,
    "start_time": "2022-12-16T13:38:03.038Z"
   },
   {
    "duration": 6,
    "start_time": "2022-12-16T13:39:23.241Z"
   },
   {
    "duration": 7,
    "start_time": "2022-12-16T13:39:30.313Z"
   },
   {
    "duration": 5,
    "start_time": "2022-12-16T13:39:32.683Z"
   },
   {
    "duration": 6,
    "start_time": "2022-12-16T13:40:03.091Z"
   },
   {
    "duration": 3,
    "start_time": "2022-12-16T13:42:05.892Z"
   },
   {
    "duration": 4,
    "start_time": "2022-12-16T13:42:12.295Z"
   },
   {
    "duration": 7,
    "start_time": "2022-12-16T13:42:32.842Z"
   },
   {
    "duration": 4,
    "start_time": "2022-12-16T13:44:55.933Z"
   },
   {
    "duration": 6,
    "start_time": "2022-12-16T13:44:58.459Z"
   },
   {
    "duration": 5,
    "start_time": "2022-12-16T13:45:00.924Z"
   },
   {
    "duration": 4,
    "start_time": "2022-12-16T13:45:19.781Z"
   },
   {
    "duration": 6,
    "start_time": "2022-12-16T13:45:21.468Z"
   },
   {
    "duration": 5,
    "start_time": "2022-12-16T13:45:25.791Z"
   },
   {
    "duration": 6,
    "start_time": "2022-12-16T13:45:26.296Z"
   },
   {
    "duration": 6,
    "start_time": "2022-12-16T13:45:26.715Z"
   },
   {
    "duration": 3,
    "start_time": "2022-12-16T13:46:31.265Z"
   },
   {
    "duration": 6,
    "start_time": "2022-12-16T13:46:31.593Z"
   },
   {
    "duration": 5,
    "start_time": "2022-12-16T13:46:31.808Z"
   },
   {
    "duration": 3,
    "start_time": "2022-12-16T13:46:32.601Z"
   },
   {
    "duration": 4,
    "start_time": "2022-12-16T13:46:32.824Z"
   },
   {
    "duration": 4,
    "start_time": "2022-12-16T13:46:36.310Z"
   },
   {
    "duration": 5,
    "start_time": "2022-12-16T13:46:36.552Z"
   },
   {
    "duration": 5,
    "start_time": "2022-12-16T13:46:36.762Z"
   },
   {
    "duration": 3,
    "start_time": "2022-12-16T13:46:37.481Z"
   },
   {
    "duration": 5,
    "start_time": "2022-12-16T13:46:37.909Z"
   },
   {
    "duration": 4,
    "start_time": "2022-12-16T13:46:49.309Z"
   },
   {
    "duration": 6,
    "start_time": "2022-12-16T13:46:49.723Z"
   },
   {
    "duration": 6,
    "start_time": "2022-12-16T13:46:49.926Z"
   },
   {
    "duration": 2,
    "start_time": "2022-12-16T13:46:50.361Z"
   },
   {
    "duration": 4,
    "start_time": "2022-12-16T13:46:50.982Z"
   },
   {
    "duration": 4,
    "start_time": "2022-12-16T13:48:06.399Z"
   },
   {
    "duration": 6,
    "start_time": "2022-12-16T13:48:06.613Z"
   },
   {
    "duration": 6,
    "start_time": "2022-12-16T13:48:06.828Z"
   },
   {
    "duration": 3,
    "start_time": "2022-12-16T13:48:07.573Z"
   },
   {
    "duration": 5,
    "start_time": "2022-12-16T13:48:07.936Z"
   },
   {
    "duration": 7,
    "start_time": "2022-12-16T13:48:09.722Z"
   },
   {
    "duration": 3,
    "start_time": "2022-12-16T13:48:25.918Z"
   },
   {
    "duration": 6,
    "start_time": "2022-12-16T13:48:26.144Z"
   },
   {
    "duration": 6,
    "start_time": "2022-12-16T13:48:26.399Z"
   },
   {
    "duration": 3,
    "start_time": "2022-12-16T13:48:26.680Z"
   },
   {
    "duration": 6,
    "start_time": "2022-12-16T13:48:27.472Z"
   },
   {
    "duration": 6,
    "start_time": "2022-12-16T13:48:29.128Z"
   },
   {
    "duration": 88,
    "start_time": "2022-12-16T13:48:38.155Z"
   },
   {
    "duration": 2,
    "start_time": "2022-12-16T13:48:38.505Z"
   },
   {
    "duration": 1216,
    "start_time": "2022-12-16T13:48:39.066Z"
   },
   {
    "duration": 6,
    "start_time": "2022-12-16T13:48:52.734Z"
   },
   {
    "duration": 10,
    "start_time": "2022-12-16T13:50:32.643Z"
   },
   {
    "duration": 3,
    "start_time": "2022-12-16T13:51:31.080Z"
   },
   {
    "duration": 2,
    "start_time": "2022-12-16T13:51:38.089Z"
   },
   {
    "duration": 2525,
    "start_time": "2022-12-16T13:51:38.362Z"
   },
   {
    "duration": 2,
    "start_time": "2022-12-16T13:51:55.899Z"
   },
   {
    "duration": 2154,
    "start_time": "2022-12-16T13:51:56.325Z"
   },
   {
    "duration": 1998,
    "start_time": "2022-12-16T13:52:01.581Z"
   },
   {
    "duration": 3,
    "start_time": "2022-12-16T13:52:10.124Z"
   },
   {
    "duration": 2438,
    "start_time": "2022-12-16T13:52:10.349Z"
   },
   {
    "duration": 2,
    "start_time": "2022-12-16T13:52:19.117Z"
   },
   {
    "duration": 1789,
    "start_time": "2022-12-16T13:52:19.492Z"
   },
   {
    "duration": 757,
    "start_time": "2022-12-16T13:57:52.995Z"
   },
   {
    "duration": 4,
    "start_time": "2022-12-16T13:58:57.394Z"
   },
   {
    "duration": 13,
    "start_time": "2022-12-16T14:00:57.767Z"
   },
   {
    "duration": 26,
    "start_time": "2022-12-16T14:01:25.125Z"
   },
   {
    "duration": 25,
    "start_time": "2022-12-16T14:01:35.373Z"
   },
   {
    "duration": 21,
    "start_time": "2022-12-16T14:01:55.577Z"
   },
   {
    "duration": 754,
    "start_time": "2022-12-16T14:01:59.169Z"
   },
   {
    "duration": 3,
    "start_time": "2022-12-16T14:02:17.725Z"
   },
   {
    "duration": 868,
    "start_time": "2022-12-16T14:02:17.920Z"
   },
   {
    "duration": 8,
    "start_time": "2022-12-16T14:02:35.448Z"
   },
   {
    "duration": 692,
    "start_time": "2022-12-16T14:02:35.929Z"
   },
   {
    "duration": 84,
    "start_time": "2022-12-16T14:02:36.651Z"
   },
   {
    "duration": 3,
    "start_time": "2022-12-16T14:02:36.939Z"
   },
   {
    "duration": 3226,
    "start_time": "2022-12-16T14:02:37.552Z"
   },
   {
    "duration": 9,
    "start_time": "2022-12-16T14:04:28.481Z"
   },
   {
    "duration": 5,
    "start_time": "2022-12-16T14:05:06.488Z"
   },
   {
    "duration": 9,
    "start_time": "2022-12-16T14:05:27.816Z"
   },
   {
    "duration": 9,
    "start_time": "2022-12-16T14:05:42.255Z"
   },
   {
    "duration": 11,
    "start_time": "2022-12-16T14:06:38.165Z"
   },
   {
    "duration": 3,
    "start_time": "2022-12-16T14:06:59.125Z"
   },
   {
    "duration": 10,
    "start_time": "2022-12-16T14:07:00.662Z"
   },
   {
    "duration": 49203,
    "start_time": "2022-12-16T14:07:28.583Z"
   },
   {
    "duration": 4,
    "start_time": "2022-12-16T14:08:59.449Z"
   },
   {
    "duration": 12,
    "start_time": "2022-12-16T14:09:41.372Z"
   },
   {
    "duration": 9,
    "start_time": "2022-12-16T14:09:49.373Z"
   },
   {
    "duration": 4,
    "start_time": "2022-12-16T14:09:53.298Z"
   },
   {
    "duration": 6,
    "start_time": "2022-12-16T14:10:58.380Z"
   },
   {
    "duration": 5,
    "start_time": "2022-12-16T14:12:03.914Z"
   },
   {
    "duration": 4,
    "start_time": "2022-12-16T14:12:14.941Z"
   },
   {
    "duration": 4,
    "start_time": "2022-12-16T14:12:24.243Z"
   },
   {
    "duration": 5,
    "start_time": "2022-12-16T14:12:36.418Z"
   },
   {
    "duration": 36809,
    "start_time": "2022-12-16T14:12:54.573Z"
   },
   {
    "duration": 95,
    "start_time": "2022-12-16T14:13:31.384Z"
   },
   {
    "duration": 11,
    "start_time": "2022-12-16T14:13:31.481Z"
   },
   {
    "duration": 5,
    "start_time": "2022-12-16T14:13:31.494Z"
   },
   {
    "duration": 28038,
    "start_time": "2022-12-16T14:14:41.442Z"
   },
   {
    "duration": 5,
    "start_time": "2022-12-16T14:15:09.483Z"
   },
   {
    "duration": 16,
    "start_time": "2022-12-16T14:15:09.578Z"
   },
   {
    "duration": 6,
    "start_time": "2022-12-16T14:15:09.596Z"
   },
   {
    "duration": 14170,
    "start_time": "2022-12-16T14:16:07.915Z"
   },
   {
    "duration": 97,
    "start_time": "2022-12-16T14:16:22.091Z"
   },
   {
    "duration": 7,
    "start_time": "2022-12-16T14:16:22.192Z"
   },
   {
    "duration": 5,
    "start_time": "2022-12-16T14:16:22.200Z"
   },
   {
    "duration": 33325,
    "start_time": "2022-12-16T14:16:47.354Z"
   },
   {
    "duration": 10,
    "start_time": "2022-12-16T14:17:20.682Z"
   },
   {
    "duration": 118,
    "start_time": "2022-12-16T14:17:20.695Z"
   },
   {
    "duration": 21,
    "start_time": "2022-12-16T14:17:20.815Z"
   },
   {
    "duration": 3,
    "start_time": "2022-12-16T14:18:15.704Z"
   },
   {
    "duration": 2417,
    "start_time": "2022-12-16T14:18:15.874Z"
   },
   {
    "duration": 3,
    "start_time": "2022-12-16T14:18:26.849Z"
   },
   {
    "duration": 2866,
    "start_time": "2022-12-16T14:18:28.613Z"
   },
   {
    "duration": 21,
    "start_time": "2022-12-16T14:19:58.741Z"
   },
   {
    "duration": 730,
    "start_time": "2022-12-16T14:20:01.650Z"
   },
   {
    "duration": 2869,
    "start_time": "2022-12-16T15:27:11.826Z"
   },
   {
    "duration": 1567,
    "start_time": "2022-12-16T15:27:14.697Z"
   },
   {
    "duration": 2695,
    "start_time": "2022-12-16T15:27:16.265Z"
   },
   {
    "duration": 25,
    "start_time": "2022-12-16T15:27:18.962Z"
   },
   {
    "duration": 17,
    "start_time": "2022-12-16T15:27:18.990Z"
   },
   {
    "duration": 14,
    "start_time": "2022-12-16T15:27:19.009Z"
   },
   {
    "duration": 8,
    "start_time": "2022-12-16T15:27:19.025Z"
   },
   {
    "duration": 26,
    "start_time": "2022-12-16T15:27:19.035Z"
   },
   {
    "duration": 21,
    "start_time": "2022-12-16T15:27:19.063Z"
   },
   {
    "duration": 7,
    "start_time": "2022-12-16T15:27:19.085Z"
   },
   {
    "duration": 26,
    "start_time": "2022-12-16T15:27:19.094Z"
   },
   {
    "duration": 22,
    "start_time": "2022-12-16T15:27:19.122Z"
   },
   {
    "duration": 100,
    "start_time": "2022-12-16T15:27:19.145Z"
   },
   {
    "duration": 7,
    "start_time": "2022-12-16T15:27:19.248Z"
   },
   {
    "duration": 11,
    "start_time": "2022-12-16T15:27:19.256Z"
   },
   {
    "duration": 7,
    "start_time": "2022-12-16T15:27:19.269Z"
   },
   {
    "duration": 6,
    "start_time": "2022-12-16T15:27:19.277Z"
   },
   {
    "duration": 7,
    "start_time": "2022-12-16T15:27:19.284Z"
   },
   {
    "duration": 6,
    "start_time": "2022-12-16T15:27:19.292Z"
   },
   {
    "duration": 12,
    "start_time": "2022-12-16T15:27:19.315Z"
   },
   {
    "duration": 39,
    "start_time": "2022-12-16T15:27:19.328Z"
   },
   {
    "duration": 18,
    "start_time": "2022-12-16T15:27:19.368Z"
   },
   {
    "duration": 20,
    "start_time": "2022-12-16T15:27:19.387Z"
   },
   {
    "duration": 16,
    "start_time": "2022-12-16T15:27:19.408Z"
   },
   {
    "duration": 1552,
    "start_time": "2022-12-16T15:27:19.426Z"
   },
   {
    "duration": 579,
    "start_time": "2022-12-16T15:27:20.980Z"
   },
   {
    "duration": 3,
    "start_time": "2022-12-16T15:27:21.561Z"
   },
   {
    "duration": 859,
    "start_time": "2022-12-16T15:27:21.566Z"
   },
   {
    "duration": 7,
    "start_time": "2022-12-16T15:27:22.428Z"
   },
   {
    "duration": 31,
    "start_time": "2022-12-16T15:27:22.437Z"
   },
   {
    "duration": 10,
    "start_time": "2022-12-16T15:27:22.470Z"
   },
   {
    "duration": 8,
    "start_time": "2022-12-16T15:27:22.482Z"
   },
   {
    "duration": 37,
    "start_time": "2022-12-16T15:27:22.492Z"
   },
   {
    "duration": 809,
    "start_time": "2022-12-16T15:27:22.531Z"
   },
   {
    "duration": 115,
    "start_time": "2022-12-16T15:27:23.342Z"
   },
   {
    "duration": 0,
    "start_time": "2022-12-16T15:27:23.460Z"
   },
   {
    "duration": 0,
    "start_time": "2022-12-16T15:27:23.461Z"
   },
   {
    "duration": 0,
    "start_time": "2022-12-16T15:27:23.463Z"
   },
   {
    "duration": 3,
    "start_time": "2022-12-16T15:28:10.987Z"
   },
   {
    "duration": 10907,
    "start_time": "2022-12-16T15:28:11.519Z"
   },
   {
    "duration": 6,
    "start_time": "2022-12-16T15:28:22.517Z"
   },
   {
    "duration": 93,
    "start_time": "2022-12-16T15:28:22.525Z"
   },
   {
    "duration": 12290,
    "start_time": "2022-12-16T15:28:22.620Z"
   },
   {
    "duration": 19530,
    "start_time": "2022-12-16T15:29:55.295Z"
   },
   {
    "duration": 101,
    "start_time": "2022-12-16T15:30:14.828Z"
   },
   {
    "duration": 96,
    "start_time": "2022-12-16T15:30:14.931Z"
   },
   {
    "duration": 9773,
    "start_time": "2022-12-16T15:30:39.048Z"
   },
   {
    "duration": 93,
    "start_time": "2022-12-16T15:30:48.824Z"
   },
   {
    "duration": 3,
    "start_time": "2022-12-16T15:30:49.015Z"
   },
   {
    "duration": 6431,
    "start_time": "2022-12-16T15:31:26.886Z"
   },
   {
    "duration": 6,
    "start_time": "2022-12-16T15:31:33.320Z"
   },
   {
    "duration": 95,
    "start_time": "2022-12-16T15:31:33.328Z"
   },
   {
    "duration": 1197,
    "start_time": "2022-12-16T15:31:58.620Z"
   },
   {
    "duration": 6,
    "start_time": "2022-12-16T15:31:59.820Z"
   },
   {
    "duration": 7,
    "start_time": "2022-12-16T15:31:59.916Z"
   },
   {
    "duration": 2,
    "start_time": "2022-12-16T15:32:27.855Z"
   },
   {
    "duration": 1544,
    "start_time": "2022-12-16T15:33:41.576Z"
   },
   {
    "duration": 1222,
    "start_time": "2022-12-16T15:34:47.797Z"
   },
   {
    "duration": 1196,
    "start_time": "2022-12-16T15:34:55.421Z"
   },
   {
    "duration": 77,
    "start_time": "2022-12-16T15:36:13.070Z"
   },
   {
    "duration": 22,
    "start_time": "2022-12-16T15:36:23.499Z"
   },
   {
    "duration": 21,
    "start_time": "2022-12-16T15:36:45.307Z"
   },
   {
    "duration": 21,
    "start_time": "2022-12-16T15:36:49.915Z"
   },
   {
    "duration": 20,
    "start_time": "2022-12-16T15:37:04.213Z"
   },
   {
    "duration": 20,
    "start_time": "2022-12-16T15:37:18.824Z"
   },
   {
    "duration": 19,
    "start_time": "2022-12-16T15:37:24.211Z"
   },
   {
    "duration": 21,
    "start_time": "2022-12-16T15:37:29.073Z"
   },
   {
    "duration": 2,
    "start_time": "2022-12-16T15:37:32.976Z"
   },
   {
    "duration": 2096,
    "start_time": "2022-12-16T15:38:46.243Z"
   },
   {
    "duration": 1359,
    "start_time": "2022-12-16T15:38:48.341Z"
   },
   {
    "duration": 697,
    "start_time": "2022-12-16T15:38:49.702Z"
   },
   {
    "duration": 24,
    "start_time": "2022-12-16T15:38:50.401Z"
   },
   {
    "duration": 15,
    "start_time": "2022-12-16T15:38:50.427Z"
   },
   {
    "duration": 9,
    "start_time": "2022-12-16T15:38:50.443Z"
   },
   {
    "duration": 8,
    "start_time": "2022-12-16T15:38:50.454Z"
   },
   {
    "duration": 37,
    "start_time": "2022-12-16T15:38:50.463Z"
   },
   {
    "duration": 26,
    "start_time": "2022-12-16T15:38:50.501Z"
   },
   {
    "duration": 6,
    "start_time": "2022-12-16T15:38:50.529Z"
   },
   {
    "duration": 8,
    "start_time": "2022-12-16T15:38:50.537Z"
   },
   {
    "duration": 18,
    "start_time": "2022-12-16T15:38:50.547Z"
   },
   {
    "duration": 137,
    "start_time": "2022-12-16T15:38:50.566Z"
   },
   {
    "duration": 14,
    "start_time": "2022-12-16T15:38:50.706Z"
   },
   {
    "duration": 8,
    "start_time": "2022-12-16T15:38:50.721Z"
   },
   {
    "duration": 6,
    "start_time": "2022-12-16T15:38:50.731Z"
   },
   {
    "duration": 7,
    "start_time": "2022-12-16T15:38:50.739Z"
   },
   {
    "duration": 10,
    "start_time": "2022-12-16T15:38:50.748Z"
   },
   {
    "duration": 19,
    "start_time": "2022-12-16T15:38:50.760Z"
   },
   {
    "duration": 13,
    "start_time": "2022-12-16T15:38:50.781Z"
   },
   {
    "duration": 27,
    "start_time": "2022-12-16T15:38:50.795Z"
   },
   {
    "duration": 5,
    "start_time": "2022-12-16T15:38:50.824Z"
   },
   {
    "duration": 6,
    "start_time": "2022-12-16T15:38:50.831Z"
   },
   {
    "duration": 20,
    "start_time": "2022-12-16T15:38:50.839Z"
   },
   {
    "duration": 1541,
    "start_time": "2022-12-16T15:38:50.861Z"
   },
   {
    "duration": 615,
    "start_time": "2022-12-16T15:38:52.404Z"
   },
   {
    "duration": 3,
    "start_time": "2022-12-16T15:38:53.020Z"
   },
   {
    "duration": 863,
    "start_time": "2022-12-16T15:38:53.025Z"
   },
   {
    "duration": 6,
    "start_time": "2022-12-16T15:38:53.890Z"
   },
   {
    "duration": 31,
    "start_time": "2022-12-16T15:38:53.898Z"
   },
   {
    "duration": 7,
    "start_time": "2022-12-16T15:38:53.931Z"
   },
   {
    "duration": 8,
    "start_time": "2022-12-16T15:38:53.940Z"
   },
   {
    "duration": 23,
    "start_time": "2022-12-16T15:38:53.949Z"
   },
   {
    "duration": 789,
    "start_time": "2022-12-16T15:38:53.974Z"
   },
   {
    "duration": 3,
    "start_time": "2022-12-16T15:38:54.765Z"
   },
   {
    "duration": 7048,
    "start_time": "2022-12-16T15:38:54.770Z"
   },
   {
    "duration": 5,
    "start_time": "2022-12-16T15:39:01.820Z"
   },
   {
    "duration": 96,
    "start_time": "2022-12-16T15:39:01.827Z"
   },
   {
    "duration": 1397,
    "start_time": "2022-12-16T15:39:01.925Z"
   },
   {
    "duration": 12655,
    "start_time": "2022-12-16T15:39:03.324Z"
   },
   {
    "duration": 126,
    "start_time": "2022-12-16T15:39:18.544Z"
   },
   {
    "duration": 21,
    "start_time": "2022-12-16T15:39:23.688Z"
   },
   {
    "duration": 21,
    "start_time": "2022-12-16T15:39:29.918Z"
   },
   {
    "duration": 3,
    "start_time": "2022-12-16T15:39:34.678Z"
   },
   {
    "duration": 2059,
    "start_time": "2022-12-16T15:41:19.596Z"
   },
   {
    "duration": 1397,
    "start_time": "2022-12-16T15:41:21.658Z"
   },
   {
    "duration": 683,
    "start_time": "2022-12-16T15:41:23.057Z"
   },
   {
    "duration": 24,
    "start_time": "2022-12-16T15:41:23.742Z"
   },
   {
    "duration": 16,
    "start_time": "2022-12-16T15:41:23.767Z"
   },
   {
    "duration": 8,
    "start_time": "2022-12-16T15:41:23.784Z"
   },
   {
    "duration": 24,
    "start_time": "2022-12-16T15:41:23.794Z"
   },
   {
    "duration": 20,
    "start_time": "2022-12-16T15:41:23.819Z"
   },
   {
    "duration": 15,
    "start_time": "2022-12-16T15:41:23.841Z"
   },
   {
    "duration": 5,
    "start_time": "2022-12-16T15:41:23.859Z"
   },
   {
    "duration": 7,
    "start_time": "2022-12-16T15:41:23.865Z"
   },
   {
    "duration": 47,
    "start_time": "2022-12-16T15:41:23.873Z"
   },
   {
    "duration": 95,
    "start_time": "2022-12-16T15:41:23.921Z"
   },
   {
    "duration": 6,
    "start_time": "2022-12-16T15:41:24.018Z"
   },
   {
    "duration": 12,
    "start_time": "2022-12-16T15:41:24.026Z"
   },
   {
    "duration": 19,
    "start_time": "2022-12-16T15:41:24.040Z"
   },
   {
    "duration": 9,
    "start_time": "2022-12-16T15:41:24.062Z"
   },
   {
    "duration": 4,
    "start_time": "2022-12-16T15:41:24.073Z"
   },
   {
    "duration": 9,
    "start_time": "2022-12-16T15:41:24.079Z"
   },
   {
    "duration": 14,
    "start_time": "2022-12-16T15:41:24.090Z"
   },
   {
    "duration": 15,
    "start_time": "2022-12-16T15:41:24.105Z"
   },
   {
    "duration": 8,
    "start_time": "2022-12-16T15:41:24.121Z"
   },
   {
    "duration": 6,
    "start_time": "2022-12-16T15:41:24.130Z"
   },
   {
    "duration": 10,
    "start_time": "2022-12-16T15:41:24.138Z"
   },
   {
    "duration": 1587,
    "start_time": "2022-12-16T15:41:24.149Z"
   },
   {
    "duration": 612,
    "start_time": "2022-12-16T15:41:25.738Z"
   },
   {
    "duration": 4,
    "start_time": "2022-12-16T15:41:26.353Z"
   },
   {
    "duration": 884,
    "start_time": "2022-12-16T15:41:26.361Z"
   },
   {
    "duration": 7,
    "start_time": "2022-12-16T15:41:27.247Z"
   },
   {
    "duration": 30,
    "start_time": "2022-12-16T15:41:27.256Z"
   },
   {
    "duration": 8,
    "start_time": "2022-12-16T15:41:27.288Z"
   },
   {
    "duration": 18,
    "start_time": "2022-12-16T15:41:27.297Z"
   },
   {
    "duration": 22,
    "start_time": "2022-12-16T15:41:27.317Z"
   },
   {
    "duration": 766,
    "start_time": "2022-12-16T15:41:27.341Z"
   },
   {
    "duration": 3,
    "start_time": "2022-12-16T15:41:28.109Z"
   },
   {
    "duration": 7406,
    "start_time": "2022-12-16T15:41:28.114Z"
   },
   {
    "duration": 95,
    "start_time": "2022-12-16T15:41:35.522Z"
   },
   {
    "duration": 3,
    "start_time": "2022-12-16T15:41:35.619Z"
   },
   {
    "duration": 1396,
    "start_time": "2022-12-16T15:41:35.623Z"
   },
   {
    "duration": 12533,
    "start_time": "2022-12-16T15:41:37.022Z"
   },
   {
    "duration": 10,
    "start_time": "2022-12-16T15:41:58.457Z"
   },
   {
    "duration": 702,
    "start_time": "2022-12-16T15:41:59.245Z"
   },
   {
    "duration": 3,
    "start_time": "2022-12-16T15:41:59.949Z"
   },
   {
    "duration": 47110,
    "start_time": "2022-12-16T15:42:00.816Z"
   },
   {
    "duration": 4,
    "start_time": "2022-12-16T15:42:54.211Z"
   },
   {
    "duration": 5,
    "start_time": "2022-12-16T15:42:56.432Z"
   },
   {
    "duration": 26224,
    "start_time": "2022-12-16T15:43:05.493Z"
   },
   {
    "duration": 5,
    "start_time": "2022-12-16T15:43:31.719Z"
   },
   {
    "duration": 100,
    "start_time": "2022-12-16T15:43:31.725Z"
   },
   {
    "duration": 2,
    "start_time": "2022-12-16T15:44:20.879Z"
   },
   {
    "duration": 105,
    "start_time": "2022-12-16T15:45:09.623Z"
   },
   {
    "duration": 775,
    "start_time": "2022-12-16T15:45:09.729Z"
   },
   {
    "duration": 3,
    "start_time": "2022-12-16T15:45:10.506Z"
   },
   {
    "duration": 6708,
    "start_time": "2022-12-16T15:45:10.515Z"
   },
   {
    "duration": 5,
    "start_time": "2022-12-16T15:45:17.225Z"
   },
   {
    "duration": 105,
    "start_time": "2022-12-16T15:45:17.317Z"
   },
   {
    "duration": 1239,
    "start_time": "2022-12-16T15:45:22.177Z"
   },
   {
    "duration": 108,
    "start_time": "2022-12-16T15:46:46.878Z"
   },
   {
    "duration": 5,
    "start_time": "2022-12-16T15:47:02.038Z"
   },
   {
    "duration": 424,
    "start_time": "2022-12-16T15:47:36.998Z"
   },
   {
    "duration": 6,
    "start_time": "2022-12-16T15:49:33.958Z"
   },
   {
    "duration": 4,
    "start_time": "2022-12-16T15:51:23.942Z"
   },
   {
    "duration": 2205,
    "start_time": "2022-12-16T15:52:45.613Z"
   },
   {
    "duration": 778,
    "start_time": "2022-12-16T15:58:05.288Z"
   },
   {
    "duration": 485,
    "start_time": "2022-12-16T15:58:12.187Z"
   },
   {
    "duration": 2102,
    "start_time": "2022-12-16T15:58:40.518Z"
   },
   {
    "duration": 647,
    "start_time": "2022-12-16T15:58:42.623Z"
   },
   {
    "duration": 13,
    "start_time": "2022-12-16T15:59:23.010Z"
   },
   {
    "duration": 491,
    "start_time": "2022-12-16T15:59:26.325Z"
   },
   {
    "duration": 532,
    "start_time": "2022-12-16T15:59:27.017Z"
   },
   {
    "duration": 261,
    "start_time": "2022-12-16T15:59:36.562Z"
   },
   {
    "duration": 553,
    "start_time": "2022-12-16T15:59:40.310Z"
   },
   {
    "duration": 3,
    "start_time": "2022-12-16T15:59:45.154Z"
   },
   {
    "duration": 7115,
    "start_time": "2022-12-16T15:59:45.410Z"
   },
   {
    "duration": 11,
    "start_time": "2022-12-16T15:59:55.993Z"
   },
   {
    "duration": 5032,
    "start_time": "2022-12-16T16:00:06.284Z"
   },
   {
    "duration": 4,
    "start_time": "2022-12-16T16:00:11.319Z"
   },
   {
    "duration": 93,
    "start_time": "2022-12-16T16:00:11.325Z"
   },
   {
    "duration": 1260,
    "start_time": "2022-12-16T16:00:21.059Z"
   },
   {
    "duration": 1313,
    "start_time": "2022-12-16T16:00:57.504Z"
   },
   {
    "duration": 449,
    "start_time": "2022-12-16T16:00:59.117Z"
   },
   {
    "duration": 3,
    "start_time": "2022-12-16T16:00:59.999Z"
   },
   {
    "duration": 2570,
    "start_time": "2022-12-16T16:01:00.753Z"
   },
   {
    "duration": 93,
    "start_time": "2022-12-16T16:01:03.325Z"
   },
   {
    "duration": 108,
    "start_time": "2022-12-16T16:01:03.420Z"
   },
   {
    "duration": 1390,
    "start_time": "2022-12-16T16:01:03.530Z"
   },
   {
    "duration": 23,
    "start_time": "2022-12-16T16:01:25.938Z"
   },
   {
    "duration": 9,
    "start_time": "2022-12-16T16:01:26.137Z"
   },
   {
    "duration": 9,
    "start_time": "2022-12-16T16:01:26.298Z"
   },
   {
    "duration": 19,
    "start_time": "2022-12-16T16:01:37.351Z"
   },
   {
    "duration": 2,
    "start_time": "2022-12-16T16:01:45.820Z"
   },
   {
    "duration": 6947,
    "start_time": "2022-12-16T16:01:45.978Z"
   },
   {
    "duration": 99,
    "start_time": "2022-12-16T16:01:53.017Z"
   },
   {
    "duration": 5,
    "start_time": "2022-12-16T16:01:53.117Z"
   },
   {
    "duration": 1401,
    "start_time": "2022-12-16T16:03:02.821Z"
   },
   {
    "duration": 336,
    "start_time": "2022-12-16T16:03:24.688Z"
   },
   {
    "duration": 1761,
    "start_time": "2022-12-16T16:03:36.257Z"
   },
   {
    "duration": 408,
    "start_time": "2022-12-16T16:03:39.538Z"
   },
   {
    "duration": 239,
    "start_time": "2022-12-16T16:03:45.283Z"
   },
   {
    "duration": 970,
    "start_time": "2022-12-16T16:03:53.847Z"
   },
   {
    "duration": 195,
    "start_time": "2022-12-16T16:03:57.321Z"
   },
   {
    "duration": 2046,
    "start_time": "2022-12-16T16:04:23.778Z"
   },
   {
    "duration": 396,
    "start_time": "2022-12-16T16:04:29.026Z"
   },
   {
    "duration": 2329,
    "start_time": "2022-12-16T16:05:06.199Z"
   },
   {
    "duration": 393,
    "start_time": "2022-12-16T16:05:14.831Z"
   },
   {
    "duration": 1236,
    "start_time": "2022-12-16T16:05:26.082Z"
   },
   {
    "duration": 318,
    "start_time": "2022-12-16T16:05:32.306Z"
   },
   {
    "duration": 2357,
    "start_time": "2022-12-16T16:05:36.963Z"
   },
   {
    "duration": 423,
    "start_time": "2022-12-16T16:05:51.899Z"
   },
   {
    "duration": 2,
    "start_time": "2022-12-16T16:06:03.782Z"
   },
   {
    "duration": 6153,
    "start_time": "2022-12-16T16:06:09.470Z"
   },
   {
    "duration": 5,
    "start_time": "2022-12-16T16:06:15.715Z"
   },
   {
    "duration": 102,
    "start_time": "2022-12-16T16:06:15.722Z"
   },
   {
    "duration": 1967,
    "start_time": "2022-12-16T16:06:19.754Z"
   },
   {
    "duration": 6525,
    "start_time": "2022-12-16T16:06:30.299Z"
   },
   {
    "duration": 10,
    "start_time": "2022-12-16T16:06:36.915Z"
   },
   {
    "duration": 92,
    "start_time": "2022-12-16T16:06:36.927Z"
   },
   {
    "duration": 201,
    "start_time": "2022-12-16T16:06:58.527Z"
   },
   {
    "duration": 218,
    "start_time": "2022-12-16T16:10:01.499Z"
   },
   {
    "duration": 1189,
    "start_time": "2022-12-16T16:10:06.028Z"
   },
   {
    "duration": 740,
    "start_time": "2022-12-16T16:10:12.722Z"
   },
   {
    "duration": 384,
    "start_time": "2022-12-16T16:10:19.348Z"
   },
   {
    "duration": 4,
    "start_time": "2022-12-16T16:10:24.560Z"
   },
   {
    "duration": 713,
    "start_time": "2022-12-16T16:10:26.904Z"
   },
   {
    "duration": 428,
    "start_time": "2022-12-16T16:10:28.958Z"
   },
   {
    "duration": 3,
    "start_time": "2022-12-16T16:12:55.006Z"
   },
   {
    "duration": 6760,
    "start_time": "2022-12-16T16:12:56.164Z"
   },
   {
    "duration": 95,
    "start_time": "2022-12-16T16:13:02.926Z"
   },
   {
    "duration": 94,
    "start_time": "2022-12-16T16:13:03.024Z"
   },
   {
    "duration": 64,
    "start_time": "2022-12-16T16:22:58.166Z"
   },
   {
    "duration": 9,
    "start_time": "2022-12-16T16:23:09.168Z"
   },
   {
    "duration": 2068,
    "start_time": "2022-12-16T16:29:42.642Z"
   },
   {
    "duration": 1355,
    "start_time": "2022-12-16T16:29:44.712Z"
   },
   {
    "duration": 711,
    "start_time": "2022-12-16T16:29:46.068Z"
   },
   {
    "duration": 26,
    "start_time": "2022-12-16T16:29:46.781Z"
   },
   {
    "duration": 21,
    "start_time": "2022-12-16T16:29:46.809Z"
   },
   {
    "duration": 10,
    "start_time": "2022-12-16T16:29:46.832Z"
   },
   {
    "duration": 10,
    "start_time": "2022-12-16T16:29:46.843Z"
   },
   {
    "duration": 20,
    "start_time": "2022-12-16T16:29:46.855Z"
   },
   {
    "duration": 39,
    "start_time": "2022-12-16T16:29:46.877Z"
   },
   {
    "duration": 5,
    "start_time": "2022-12-16T16:29:46.919Z"
   },
   {
    "duration": 5,
    "start_time": "2022-12-16T16:29:46.926Z"
   },
   {
    "duration": 16,
    "start_time": "2022-12-16T16:29:46.933Z"
   },
   {
    "duration": 111,
    "start_time": "2022-12-16T16:29:46.950Z"
   },
   {
    "duration": 8,
    "start_time": "2022-12-16T16:29:47.062Z"
   },
   {
    "duration": 10,
    "start_time": "2022-12-16T16:29:47.071Z"
   },
   {
    "duration": 7,
    "start_time": "2022-12-16T16:29:47.083Z"
   },
   {
    "duration": 11,
    "start_time": "2022-12-16T16:29:47.091Z"
   },
   {
    "duration": 3,
    "start_time": "2022-12-16T16:29:47.116Z"
   },
   {
    "duration": 5,
    "start_time": "2022-12-16T16:29:47.121Z"
   },
   {
    "duration": 13,
    "start_time": "2022-12-16T16:29:47.128Z"
   },
   {
    "duration": 7,
    "start_time": "2022-12-16T16:29:47.142Z"
   },
   {
    "duration": 5,
    "start_time": "2022-12-16T16:29:47.151Z"
   },
   {
    "duration": 10,
    "start_time": "2022-12-16T16:29:47.157Z"
   },
   {
    "duration": 11,
    "start_time": "2022-12-16T16:29:47.169Z"
   },
   {
    "duration": 1549,
    "start_time": "2022-12-16T16:29:47.182Z"
   },
   {
    "duration": 616,
    "start_time": "2022-12-16T16:29:48.733Z"
   },
   {
    "duration": 4,
    "start_time": "2022-12-16T16:29:49.351Z"
   },
   {
    "duration": 865,
    "start_time": "2022-12-16T16:29:49.358Z"
   },
   {
    "duration": 6,
    "start_time": "2022-12-16T16:29:50.225Z"
   },
   {
    "duration": 25,
    "start_time": "2022-12-16T16:29:50.233Z"
   },
   {
    "duration": 8,
    "start_time": "2022-12-16T16:29:50.259Z"
   },
   {
    "duration": 17,
    "start_time": "2022-12-16T16:29:50.268Z"
   },
   {
    "duration": 39,
    "start_time": "2022-12-16T16:29:50.287Z"
   },
   {
    "duration": 1388,
    "start_time": "2022-12-16T16:29:50.328Z"
   },
   {
    "duration": 938,
    "start_time": "2022-12-16T16:29:51.718Z"
   },
   {
    "duration": 376,
    "start_time": "2022-12-16T16:29:52.657Z"
   },
   {
    "duration": 5,
    "start_time": "2022-12-16T16:29:53.034Z"
   },
   {
    "duration": 1477,
    "start_time": "2022-12-16T16:29:53.040Z"
   },
   {
    "duration": 590,
    "start_time": "2022-12-16T16:29:54.519Z"
   },
   {
    "duration": 314,
    "start_time": "2022-12-16T16:29:55.110Z"
   },
   {
    "duration": 89,
    "start_time": "2022-12-16T16:29:55.426Z"
   },
   {
    "duration": 6799,
    "start_time": "2022-12-16T16:29:55.518Z"
   },
   {
    "duration": 5,
    "start_time": "2022-12-16T16:30:02.319Z"
   },
   {
    "duration": 114,
    "start_time": "2022-12-16T16:30:02.326Z"
   },
   {
    "duration": 12587,
    "start_time": "2022-12-16T16:30:02.442Z"
   },
   {
    "duration": 249299,
    "start_time": "2022-12-16T16:30:15.031Z"
   },
   {
    "duration": 4,
    "start_time": "2022-12-16T16:34:24.332Z"
   },
   {
    "duration": 11,
    "start_time": "2022-12-16T16:34:24.337Z"
   },
   {
    "duration": 124580,
    "start_time": "2022-12-16T16:36:22.063Z"
   },
   {
    "duration": 64145,
    "start_time": "2022-12-16T16:39:35.883Z"
   },
   {
    "duration": 5,
    "start_time": "2022-12-16T16:50:47.682Z"
   },
   {
    "duration": 25,
    "start_time": "2022-12-16T16:50:54.421Z"
   },
   {
    "duration": 148,
    "start_time": "2022-12-16T16:55:52.693Z"
   },
   {
    "duration": 3,
    "start_time": "2022-12-16T16:56:01.042Z"
   },
   {
    "duration": 16556,
    "start_time": "2022-12-16T16:56:01.461Z"
   },
   {
    "duration": 6182,
    "start_time": "2022-12-16T16:56:32.040Z"
   },
   {
    "duration": 4,
    "start_time": "2022-12-16T16:57:02.493Z"
   },
   {
    "duration": 4,
    "start_time": "2022-12-16T16:57:03.808Z"
   },
   {
    "duration": 2117,
    "start_time": "2022-12-16T16:58:10.057Z"
   },
   {
    "duration": 1291,
    "start_time": "2022-12-16T16:58:12.176Z"
   },
   {
    "duration": 694,
    "start_time": "2022-12-16T16:58:13.468Z"
   },
   {
    "duration": 25,
    "start_time": "2022-12-16T16:58:14.164Z"
   },
   {
    "duration": 28,
    "start_time": "2022-12-16T16:58:14.190Z"
   },
   {
    "duration": 9,
    "start_time": "2022-12-16T16:58:14.219Z"
   },
   {
    "duration": 9,
    "start_time": "2022-12-16T16:58:14.229Z"
   },
   {
    "duration": 20,
    "start_time": "2022-12-16T16:58:14.240Z"
   },
   {
    "duration": 13,
    "start_time": "2022-12-16T16:58:14.262Z"
   },
   {
    "duration": 5,
    "start_time": "2022-12-16T16:58:14.278Z"
   },
   {
    "duration": 36,
    "start_time": "2022-12-16T16:58:14.285Z"
   },
   {
    "duration": 17,
    "start_time": "2022-12-16T16:58:14.323Z"
   },
   {
    "duration": 113,
    "start_time": "2022-12-16T16:58:14.342Z"
   },
   {
    "duration": 8,
    "start_time": "2022-12-16T16:58:14.457Z"
   },
   {
    "duration": 12,
    "start_time": "2022-12-16T16:58:14.466Z"
   },
   {
    "duration": 7,
    "start_time": "2022-12-16T16:58:14.479Z"
   },
   {
    "duration": 12,
    "start_time": "2022-12-16T16:58:14.487Z"
   },
   {
    "duration": 16,
    "start_time": "2022-12-16T16:58:14.500Z"
   },
   {
    "duration": 7,
    "start_time": "2022-12-16T16:58:14.517Z"
   },
   {
    "duration": 15,
    "start_time": "2022-12-16T16:58:14.526Z"
   },
   {
    "duration": 6,
    "start_time": "2022-12-16T16:58:14.543Z"
   },
   {
    "duration": 18,
    "start_time": "2022-12-16T16:58:14.551Z"
   },
   {
    "duration": 6,
    "start_time": "2022-12-16T16:58:14.570Z"
   },
   {
    "duration": 12,
    "start_time": "2022-12-16T16:58:14.578Z"
   },
   {
    "duration": 1562,
    "start_time": "2022-12-16T16:58:14.591Z"
   },
   {
    "duration": 641,
    "start_time": "2022-12-16T16:58:16.154Z"
   },
   {
    "duration": 4,
    "start_time": "2022-12-16T16:58:16.797Z"
   },
   {
    "duration": 866,
    "start_time": "2022-12-16T16:58:16.815Z"
   },
   {
    "duration": 7,
    "start_time": "2022-12-16T16:58:17.682Z"
   },
   {
    "duration": 29,
    "start_time": "2022-12-16T16:58:17.690Z"
   },
   {
    "duration": 9,
    "start_time": "2022-12-16T16:58:17.720Z"
   },
   {
    "duration": 6,
    "start_time": "2022-12-16T16:58:17.731Z"
   },
   {
    "duration": 25,
    "start_time": "2022-12-16T16:58:17.738Z"
   },
   {
    "duration": 1351,
    "start_time": "2022-12-16T16:58:17.764Z"
   },
   {
    "duration": 851,
    "start_time": "2022-12-16T16:58:19.117Z"
   },
   {
    "duration": 459,
    "start_time": "2022-12-16T16:58:19.969Z"
   },
   {
    "duration": 5,
    "start_time": "2022-12-16T16:58:20.429Z"
   },
   {
    "duration": 883,
    "start_time": "2022-12-16T16:58:20.435Z"
   },
   {
    "duration": 595,
    "start_time": "2022-12-16T16:58:21.321Z"
   },
   {
    "duration": 204,
    "start_time": "2022-12-16T16:58:21.918Z"
   },
   {
    "duration": 4,
    "start_time": "2022-12-16T16:58:22.124Z"
   },
   {
    "duration": 91,
    "start_time": "2022-12-16T16:58:22.130Z"
   },
   {
    "duration": 2123,
    "start_time": "2022-12-16T16:58:40.275Z"
   },
   {
    "duration": 1346,
    "start_time": "2022-12-16T16:58:42.401Z"
   },
   {
    "duration": 684,
    "start_time": "2022-12-16T16:58:43.749Z"
   },
   {
    "duration": 24,
    "start_time": "2022-12-16T16:58:44.435Z"
   },
   {
    "duration": 20,
    "start_time": "2022-12-16T16:58:44.461Z"
   },
   {
    "duration": 8,
    "start_time": "2022-12-16T16:58:44.483Z"
   },
   {
    "duration": 25,
    "start_time": "2022-12-16T16:58:44.492Z"
   },
   {
    "duration": 20,
    "start_time": "2022-12-16T16:58:44.518Z"
   },
   {
    "duration": 16,
    "start_time": "2022-12-16T16:58:44.540Z"
   },
   {
    "duration": 6,
    "start_time": "2022-12-16T16:58:44.559Z"
   },
   {
    "duration": 9,
    "start_time": "2022-12-16T16:58:44.566Z"
   },
   {
    "duration": 45,
    "start_time": "2022-12-16T16:58:44.577Z"
   },
   {
    "duration": 103,
    "start_time": "2022-12-16T16:58:44.624Z"
   },
   {
    "duration": 7,
    "start_time": "2022-12-16T16:58:44.729Z"
   },
   {
    "duration": 11,
    "start_time": "2022-12-16T16:58:44.738Z"
   },
   {
    "duration": 11,
    "start_time": "2022-12-16T16:58:44.750Z"
   },
   {
    "duration": 10,
    "start_time": "2022-12-16T16:58:44.763Z"
   },
   {
    "duration": 5,
    "start_time": "2022-12-16T16:58:44.774Z"
   },
   {
    "duration": 7,
    "start_time": "2022-12-16T16:58:44.781Z"
   },
   {
    "duration": 29,
    "start_time": "2022-12-16T16:58:44.790Z"
   },
   {
    "duration": 7,
    "start_time": "2022-12-16T16:58:44.821Z"
   },
   {
    "duration": 6,
    "start_time": "2022-12-16T16:58:44.830Z"
   },
   {
    "duration": 6,
    "start_time": "2022-12-16T16:58:44.837Z"
   },
   {
    "duration": 10,
    "start_time": "2022-12-16T16:58:44.844Z"
   },
   {
    "duration": 1626,
    "start_time": "2022-12-16T16:58:44.856Z"
   },
   {
    "duration": 589,
    "start_time": "2022-12-16T16:58:46.483Z"
   },
   {
    "duration": 3,
    "start_time": "2022-12-16T16:58:47.073Z"
   },
   {
    "duration": 830,
    "start_time": "2022-12-16T16:58:47.080Z"
   },
   {
    "duration": 8,
    "start_time": "2022-12-16T16:58:47.912Z"
   },
   {
    "duration": 30,
    "start_time": "2022-12-16T16:58:47.921Z"
   },
   {
    "duration": 8,
    "start_time": "2022-12-16T16:58:47.952Z"
   },
   {
    "duration": 5,
    "start_time": "2022-12-16T16:58:47.961Z"
   },
   {
    "duration": 24,
    "start_time": "2022-12-16T16:58:47.967Z"
   },
   {
    "duration": 1524,
    "start_time": "2022-12-16T16:58:47.993Z"
   },
   {
    "duration": 869,
    "start_time": "2022-12-16T16:58:49.519Z"
   },
   {
    "duration": 435,
    "start_time": "2022-12-16T16:58:50.389Z"
   },
   {
    "duration": 4,
    "start_time": "2022-12-16T16:58:50.825Z"
   },
   {
    "duration": 1493,
    "start_time": "2022-12-16T16:58:50.830Z"
   },
   {
    "duration": 518,
    "start_time": "2022-12-16T16:58:52.327Z"
   },
   {
    "duration": 371,
    "start_time": "2022-12-16T16:58:52.846Z"
   },
   {
    "duration": 3,
    "start_time": "2022-12-16T16:58:53.219Z"
   },
   {
    "duration": 101,
    "start_time": "2022-12-16T16:58:53.224Z"
   },
   {
    "duration": 2108,
    "start_time": "2022-12-16T16:59:32.896Z"
   },
   {
    "duration": 1374,
    "start_time": "2022-12-16T16:59:35.006Z"
   },
   {
    "duration": 690,
    "start_time": "2022-12-16T16:59:36.382Z"
   },
   {
    "duration": 26,
    "start_time": "2022-12-16T16:59:37.073Z"
   },
   {
    "duration": 26,
    "start_time": "2022-12-16T16:59:37.100Z"
   },
   {
    "duration": 9,
    "start_time": "2022-12-16T16:59:37.127Z"
   },
   {
    "duration": 8,
    "start_time": "2022-12-16T16:59:37.137Z"
   },
   {
    "duration": 19,
    "start_time": "2022-12-16T16:59:37.146Z"
   },
   {
    "duration": 12,
    "start_time": "2022-12-16T16:59:37.167Z"
   },
   {
    "duration": 35,
    "start_time": "2022-12-16T16:59:37.181Z"
   },
   {
    "duration": 6,
    "start_time": "2022-12-16T16:59:37.217Z"
   },
   {
    "duration": 19,
    "start_time": "2022-12-16T16:59:37.225Z"
   },
   {
    "duration": 104,
    "start_time": "2022-12-16T16:59:37.245Z"
   },
   {
    "duration": 9,
    "start_time": "2022-12-16T16:59:37.350Z"
   },
   {
    "duration": 10,
    "start_time": "2022-12-16T16:59:37.360Z"
   },
   {
    "duration": 6,
    "start_time": "2022-12-16T16:59:37.371Z"
   },
   {
    "duration": 4,
    "start_time": "2022-12-16T16:59:37.379Z"
   },
   {
    "duration": 5,
    "start_time": "2022-12-16T16:59:37.384Z"
   },
   {
    "duration": 6,
    "start_time": "2022-12-16T16:59:37.416Z"
   },
   {
    "duration": 14,
    "start_time": "2022-12-16T16:59:37.423Z"
   },
   {
    "duration": 19,
    "start_time": "2022-12-16T16:59:37.438Z"
   },
   {
    "duration": 5,
    "start_time": "2022-12-16T16:59:37.459Z"
   },
   {
    "duration": 5,
    "start_time": "2022-12-16T16:59:37.466Z"
   },
   {
    "duration": 10,
    "start_time": "2022-12-16T16:59:37.472Z"
   },
   {
    "duration": 1570,
    "start_time": "2022-12-16T16:59:37.483Z"
   },
   {
    "duration": 574,
    "start_time": "2022-12-16T16:59:39.054Z"
   },
   {
    "duration": 3,
    "start_time": "2022-12-16T16:59:39.629Z"
   },
   {
    "duration": 847,
    "start_time": "2022-12-16T16:59:39.635Z"
   },
   {
    "duration": 7,
    "start_time": "2022-12-16T16:59:40.483Z"
   },
   {
    "duration": 30,
    "start_time": "2022-12-16T16:59:40.491Z"
   },
   {
    "duration": 8,
    "start_time": "2022-12-16T16:59:40.523Z"
   },
   {
    "duration": 6,
    "start_time": "2022-12-16T16:59:40.532Z"
   },
   {
    "duration": 24,
    "start_time": "2022-12-16T16:59:40.539Z"
   },
   {
    "duration": 1456,
    "start_time": "2022-12-16T16:59:40.565Z"
   },
   {
    "duration": 911,
    "start_time": "2022-12-16T16:59:42.023Z"
   },
   {
    "duration": 396,
    "start_time": "2022-12-16T16:59:42.936Z"
   },
   {
    "duration": 5,
    "start_time": "2022-12-16T16:59:43.334Z"
   },
   {
    "duration": 1385,
    "start_time": "2022-12-16T16:59:43.340Z"
   },
   {
    "duration": 536,
    "start_time": "2022-12-16T16:59:44.817Z"
   },
   {
    "duration": 270,
    "start_time": "2022-12-16T16:59:45.355Z"
   },
   {
    "duration": 88,
    "start_time": "2022-12-16T16:59:45.628Z"
   },
   {
    "duration": 105,
    "start_time": "2022-12-16T16:59:45.718Z"
   },
   {
    "duration": 2132,
    "start_time": "2022-12-16T17:00:17.600Z"
   },
   {
    "duration": 1337,
    "start_time": "2022-12-16T17:00:19.734Z"
   },
   {
    "duration": 698,
    "start_time": "2022-12-16T17:00:21.073Z"
   },
   {
    "duration": 25,
    "start_time": "2022-12-16T17:00:21.774Z"
   },
   {
    "duration": 23,
    "start_time": "2022-12-16T17:00:21.801Z"
   },
   {
    "duration": 9,
    "start_time": "2022-12-16T17:00:21.826Z"
   },
   {
    "duration": 9,
    "start_time": "2022-12-16T17:00:21.838Z"
   },
   {
    "duration": 22,
    "start_time": "2022-12-16T17:00:21.848Z"
   },
   {
    "duration": 51,
    "start_time": "2022-12-16T17:00:21.872Z"
   },
   {
    "duration": 8,
    "start_time": "2022-12-16T17:00:21.927Z"
   },
   {
    "duration": 9,
    "start_time": "2022-12-16T17:00:21.937Z"
   },
   {
    "duration": 19,
    "start_time": "2022-12-16T17:00:21.948Z"
   },
   {
    "duration": 131,
    "start_time": "2022-12-16T17:00:21.969Z"
   },
   {
    "duration": 13,
    "start_time": "2022-12-16T17:00:22.102Z"
   },
   {
    "duration": 8,
    "start_time": "2022-12-16T17:00:22.118Z"
   },
   {
    "duration": 7,
    "start_time": "2022-12-16T17:00:22.128Z"
   },
   {
    "duration": 6,
    "start_time": "2022-12-16T17:00:22.137Z"
   },
   {
    "duration": 20,
    "start_time": "2022-12-16T17:00:22.145Z"
   },
   {
    "duration": 13,
    "start_time": "2022-12-16T17:00:22.167Z"
   },
   {
    "duration": 14,
    "start_time": "2022-12-16T17:00:22.181Z"
   },
   {
    "duration": 20,
    "start_time": "2022-12-16T17:00:22.196Z"
   },
   {
    "duration": 11,
    "start_time": "2022-12-16T17:00:22.218Z"
   },
   {
    "duration": 13,
    "start_time": "2022-12-16T17:00:22.230Z"
   },
   {
    "duration": 14,
    "start_time": "2022-12-16T17:00:22.244Z"
   },
   {
    "duration": 1548,
    "start_time": "2022-12-16T17:00:22.259Z"
   },
   {
    "duration": 606,
    "start_time": "2022-12-16T17:00:23.809Z"
   },
   {
    "duration": 3,
    "start_time": "2022-12-16T17:00:24.417Z"
   },
   {
    "duration": 862,
    "start_time": "2022-12-16T17:00:24.423Z"
   },
   {
    "duration": 7,
    "start_time": "2022-12-16T17:00:25.287Z"
   },
   {
    "duration": 35,
    "start_time": "2022-12-16T17:00:25.296Z"
   },
   {
    "duration": 9,
    "start_time": "2022-12-16T17:00:25.333Z"
   },
   {
    "duration": 9,
    "start_time": "2022-12-16T17:00:25.344Z"
   },
   {
    "duration": 26,
    "start_time": "2022-12-16T17:00:25.355Z"
   },
   {
    "duration": 2637,
    "start_time": "2022-12-16T17:00:25.383Z"
   },
   {
    "duration": 913,
    "start_time": "2022-12-16T17:00:28.022Z"
   },
   {
    "duration": 385,
    "start_time": "2022-12-16T17:00:28.938Z"
   },
   {
    "duration": 5,
    "start_time": "2022-12-16T17:00:29.325Z"
   },
   {
    "duration": 3898,
    "start_time": "2022-12-16T17:00:29.332Z"
   },
   {
    "duration": 503,
    "start_time": "2022-12-16T17:00:33.315Z"
   },
   {
    "duration": 308,
    "start_time": "2022-12-16T17:00:33.819Z"
   },
   {
    "duration": 91,
    "start_time": "2022-12-16T17:00:34.129Z"
   },
   {
    "duration": 15891,
    "start_time": "2022-12-16T17:00:34.225Z"
   },
   {
    "duration": 5,
    "start_time": "2022-12-16T17:00:50.119Z"
   },
   {
    "duration": 21,
    "start_time": "2022-12-16T17:00:50.215Z"
   },
   {
    "duration": 6681,
    "start_time": "2022-12-16T17:00:50.238Z"
   },
   {
    "duration": 96,
    "start_time": "2022-12-16T17:00:56.921Z"
   },
   {
    "duration": 12,
    "start_time": "2022-12-16T17:00:57.018Z"
   },
   {
    "duration": 12531,
    "start_time": "2022-12-16T17:00:57.031Z"
   },
   {
    "duration": 2057,
    "start_time": "2022-12-16T17:01:23.276Z"
   },
   {
    "duration": 1349,
    "start_time": "2022-12-16T17:01:25.337Z"
   },
   {
    "duration": 701,
    "start_time": "2022-12-16T17:01:26.688Z"
   },
   {
    "duration": 33,
    "start_time": "2022-12-16T17:01:27.390Z"
   },
   {
    "duration": 18,
    "start_time": "2022-12-16T17:01:27.426Z"
   },
   {
    "duration": 10,
    "start_time": "2022-12-16T17:01:27.445Z"
   },
   {
    "duration": 13,
    "start_time": "2022-12-16T17:01:27.456Z"
   },
   {
    "duration": 26,
    "start_time": "2022-12-16T17:01:27.471Z"
   },
   {
    "duration": 25,
    "start_time": "2022-12-16T17:01:27.498Z"
   },
   {
    "duration": 5,
    "start_time": "2022-12-16T17:01:27.525Z"
   },
   {
    "duration": 11,
    "start_time": "2022-12-16T17:01:27.531Z"
   },
   {
    "duration": 17,
    "start_time": "2022-12-16T17:01:27.543Z"
   },
   {
    "duration": 118,
    "start_time": "2022-12-16T17:01:27.562Z"
   },
   {
    "duration": 7,
    "start_time": "2022-12-16T17:01:27.683Z"
   },
   {
    "duration": 13,
    "start_time": "2022-12-16T17:01:27.692Z"
   },
   {
    "duration": 5,
    "start_time": "2022-12-16T17:01:27.715Z"
   },
   {
    "duration": 5,
    "start_time": "2022-12-16T17:01:27.722Z"
   },
   {
    "duration": 4,
    "start_time": "2022-12-16T17:01:27.729Z"
   },
   {
    "duration": 12,
    "start_time": "2022-12-16T17:01:27.734Z"
   },
   {
    "duration": 17,
    "start_time": "2022-12-16T17:01:27.747Z"
   },
   {
    "duration": 7,
    "start_time": "2022-12-16T17:01:27.766Z"
   },
   {
    "duration": 11,
    "start_time": "2022-12-16T17:01:27.775Z"
   },
   {
    "duration": 6,
    "start_time": "2022-12-16T17:01:27.788Z"
   },
   {
    "duration": 25,
    "start_time": "2022-12-16T17:01:27.796Z"
   },
   {
    "duration": 1529,
    "start_time": "2022-12-16T17:01:27.822Z"
   },
   {
    "duration": 578,
    "start_time": "2022-12-16T17:01:29.353Z"
   },
   {
    "duration": 3,
    "start_time": "2022-12-16T17:01:29.933Z"
   },
   {
    "duration": 883,
    "start_time": "2022-12-16T17:01:29.937Z"
   },
   {
    "duration": 10,
    "start_time": "2022-12-16T17:01:30.822Z"
   },
   {
    "duration": 53,
    "start_time": "2022-12-16T17:01:30.835Z"
   },
   {
    "duration": 15,
    "start_time": "2022-12-16T17:01:30.890Z"
   },
   {
    "duration": 37,
    "start_time": "2022-12-16T17:01:30.907Z"
   },
   {
    "duration": 55,
    "start_time": "2022-12-16T17:01:30.945Z"
   },
   {
    "duration": 1214,
    "start_time": "2022-12-16T17:01:31.002Z"
   },
   {
    "duration": 897,
    "start_time": "2022-12-16T17:01:32.219Z"
   },
   {
    "duration": 411,
    "start_time": "2022-12-16T17:01:33.118Z"
   },
   {
    "duration": 5,
    "start_time": "2022-12-16T17:01:33.531Z"
   },
   {
    "duration": 2078,
    "start_time": "2022-12-16T17:01:33.537Z"
   },
   {
    "duration": 525,
    "start_time": "2022-12-16T17:01:35.618Z"
   },
   {
    "duration": 278,
    "start_time": "2022-12-16T17:01:36.145Z"
   },
   {
    "duration": 88,
    "start_time": "2022-12-16T17:01:36.427Z"
   },
   {
    "duration": 18008,
    "start_time": "2022-12-16T17:01:36.518Z"
   },
   {
    "duration": 5,
    "start_time": "2022-12-16T17:01:54.617Z"
   },
   {
    "duration": 99,
    "start_time": "2022-12-16T17:01:54.624Z"
   },
   {
    "duration": 7591,
    "start_time": "2022-12-16T17:01:54.725Z"
   },
   {
    "duration": 5,
    "start_time": "2022-12-16T17:02:02.318Z"
   },
   {
    "duration": 92,
    "start_time": "2022-12-16T17:02:02.325Z"
   },
   {
    "duration": 12309,
    "start_time": "2022-12-16T17:02:02.419Z"
   },
   {
    "duration": 258951,
    "start_time": "2022-12-16T17:02:14.730Z"
   },
   {
    "duration": 4,
    "start_time": "2022-12-16T17:06:33.683Z"
   },
   {
    "duration": 7,
    "start_time": "2022-12-16T17:06:33.689Z"
   },
   {
    "duration": 128199,
    "start_time": "2022-12-16T17:06:33.697Z"
   },
   {
    "duration": 140,
    "start_time": "2022-12-16T17:08:41.899Z"
   },
   {
    "duration": 0,
    "start_time": "2022-12-16T17:08:42.042Z"
   },
   {
    "duration": 0,
    "start_time": "2022-12-16T17:08:42.043Z"
   },
   {
    "duration": 2,
    "start_time": "2022-12-16T17:09:13.311Z"
   },
   {
    "duration": 22371,
    "start_time": "2022-12-16T17:09:14.150Z"
   },
   {
    "duration": 4,
    "start_time": "2022-12-16T17:09:42.204Z"
   },
   {
    "duration": 4,
    "start_time": "2022-12-16T17:09:43.285Z"
   },
   {
    "duration": 35550,
    "start_time": "2022-12-16T17:10:04.167Z"
   },
   {
    "duration": 7,
    "start_time": "2022-12-16T17:10:39.719Z"
   },
   {
    "duration": 11,
    "start_time": "2022-12-16T17:10:39.817Z"
   },
   {
    "duration": 9,
    "start_time": "2022-12-16T17:12:56.722Z"
   },
   {
    "duration": 366,
    "start_time": "2022-12-16T17:13:06.457Z"
   },
   {
    "duration": 8,
    "start_time": "2022-12-16T17:14:01.124Z"
   },
   {
    "duration": 261,
    "start_time": "2022-12-16T17:14:30.958Z"
   },
   {
    "duration": 7,
    "start_time": "2022-12-16T17:14:32.769Z"
   },
   {
    "duration": 28,
    "start_time": "2022-12-16T17:14:59.101Z"
   },
   {
    "duration": 53,
    "start_time": "2022-12-16T17:15:00.369Z"
   },
   {
    "duration": 14,
    "start_time": "2022-12-16T17:15:04.786Z"
   },
   {
    "duration": 15,
    "start_time": "2022-12-16T17:15:08.308Z"
   },
   {
    "duration": 6,
    "start_time": "2022-12-16T17:15:12.903Z"
   },
   {
    "duration": 140,
    "start_time": "2022-12-16T17:15:26.783Z"
   },
   {
    "duration": 200,
    "start_time": "2022-12-16T17:15:27.017Z"
   },
   {
    "duration": 215,
    "start_time": "2022-12-16T17:16:54.302Z"
   },
   {
    "duration": 106,
    "start_time": "2022-12-16T17:16:54.519Z"
   },
   {
    "duration": 374,
    "start_time": "2022-12-16T17:16:57.753Z"
   },
   {
    "duration": 102,
    "start_time": "2022-12-16T17:16:58.216Z"
   },
   {
    "duration": 208,
    "start_time": "2022-12-16T17:17:02.711Z"
   },
   {
    "duration": 11,
    "start_time": "2022-12-16T17:17:03.117Z"
   },
   {
    "duration": 271,
    "start_time": "2022-12-16T17:17:07.146Z"
   },
   {
    "duration": 11,
    "start_time": "2022-12-16T17:17:07.626Z"
   },
   {
    "duration": 17,
    "start_time": "2022-12-16T17:17:11.773Z"
   },
   {
    "duration": 9,
    "start_time": "2022-12-16T17:17:12.547Z"
   },
   {
    "duration": 84,
    "start_time": "2022-12-16T17:17:15.736Z"
   },
   {
    "duration": 8,
    "start_time": "2022-12-16T17:17:16.053Z"
   },
   {
    "duration": 297,
    "start_time": "2022-12-16T17:17:20.418Z"
   },
   {
    "duration": 100,
    "start_time": "2022-12-16T17:17:20.724Z"
   },
   {
    "duration": 3022,
    "start_time": "2022-12-16T21:22:47.631Z"
   },
   {
    "duration": 1533,
    "start_time": "2022-12-16T21:22:50.656Z"
   },
   {
    "duration": 2707,
    "start_time": "2022-12-16T21:22:52.191Z"
   },
   {
    "duration": 25,
    "start_time": "2022-12-16T21:22:54.899Z"
   },
   {
    "duration": 15,
    "start_time": "2022-12-16T21:22:54.926Z"
   },
   {
    "duration": 8,
    "start_time": "2022-12-16T21:22:54.943Z"
   },
   {
    "duration": 7,
    "start_time": "2022-12-16T21:22:54.952Z"
   },
   {
    "duration": 17,
    "start_time": "2022-12-16T21:22:54.961Z"
   },
   {
    "duration": 36,
    "start_time": "2022-12-16T21:22:54.979Z"
   },
   {
    "duration": 6,
    "start_time": "2022-12-16T21:22:55.017Z"
   },
   {
    "duration": 10,
    "start_time": "2022-12-16T21:22:55.025Z"
   },
   {
    "duration": 17,
    "start_time": "2022-12-16T21:22:55.037Z"
   },
   {
    "duration": 113,
    "start_time": "2022-12-16T21:22:55.055Z"
   },
   {
    "duration": 7,
    "start_time": "2022-12-16T21:22:55.170Z"
   },
   {
    "duration": 9,
    "start_time": "2022-12-16T21:22:55.178Z"
   },
   {
    "duration": 9,
    "start_time": "2022-12-16T21:22:55.188Z"
   },
   {
    "duration": 18,
    "start_time": "2022-12-16T21:22:55.198Z"
   },
   {
    "duration": 2,
    "start_time": "2022-12-16T21:22:55.217Z"
   },
   {
    "duration": 9,
    "start_time": "2022-12-16T21:22:55.221Z"
   },
   {
    "duration": 16,
    "start_time": "2022-12-16T21:22:55.231Z"
   },
   {
    "duration": 8,
    "start_time": "2022-12-16T21:22:55.248Z"
   },
   {
    "duration": 9,
    "start_time": "2022-12-16T21:22:55.257Z"
   },
   {
    "duration": 23,
    "start_time": "2022-12-16T21:22:55.267Z"
   },
   {
    "duration": 22,
    "start_time": "2022-12-16T21:22:55.292Z"
   },
   {
    "duration": 1545,
    "start_time": "2022-12-16T21:22:55.316Z"
   },
   {
    "duration": 585,
    "start_time": "2022-12-16T21:22:56.863Z"
   },
   {
    "duration": 3,
    "start_time": "2022-12-16T21:22:57.450Z"
   },
   {
    "duration": 850,
    "start_time": "2022-12-16T21:22:57.454Z"
   },
   {
    "duration": 14,
    "start_time": "2022-12-16T21:22:58.306Z"
   },
   {
    "duration": 28,
    "start_time": "2022-12-16T21:22:58.321Z"
   },
   {
    "duration": 9,
    "start_time": "2022-12-16T21:22:58.351Z"
   },
   {
    "duration": 6,
    "start_time": "2022-12-16T21:22:58.362Z"
   },
   {
    "duration": 26,
    "start_time": "2022-12-16T21:22:58.369Z"
   },
   {
    "duration": 1325,
    "start_time": "2022-12-16T21:22:58.396Z"
   },
   {
    "duration": 893,
    "start_time": "2022-12-16T21:22:59.723Z"
   },
   {
    "duration": 422,
    "start_time": "2022-12-16T21:23:00.617Z"
   },
   {
    "duration": 4,
    "start_time": "2022-12-16T21:23:01.041Z"
   },
   {
    "duration": 1981,
    "start_time": "2022-12-16T21:23:01.046Z"
   },
   {
    "duration": 580,
    "start_time": "2022-12-16T21:23:03.029Z"
   },
   {
    "duration": 319,
    "start_time": "2022-12-16T21:23:03.611Z"
   },
   {
    "duration": 7,
    "start_time": "2022-12-16T21:23:04.020Z"
   },
   {
    "duration": 36603,
    "start_time": "2022-12-16T21:23:04.115Z"
   },
   {
    "duration": 5,
    "start_time": "2022-12-16T21:23:40.720Z"
   },
   {
    "duration": 8,
    "start_time": "2022-12-16T21:23:40.816Z"
   },
   {
    "duration": 12585,
    "start_time": "2022-12-16T21:23:40.825Z"
   },
   {
    "duration": 246238,
    "start_time": "2022-12-16T21:23:53.415Z"
   },
   {
    "duration": 4,
    "start_time": "2022-12-16T21:27:59.654Z"
   },
   {
    "duration": 7,
    "start_time": "2022-12-16T21:27:59.659Z"
   },
   {
    "duration": 123903,
    "start_time": "2022-12-16T21:27:59.667Z"
   },
   {
    "duration": 3,
    "start_time": "2022-12-16T21:30:03.572Z"
   },
   {
    "duration": 117,
    "start_time": "2022-12-16T21:40:21.380Z"
   },
   {
    "duration": 4,
    "start_time": "2022-12-16T21:40:42.483Z"
   },
   {
    "duration": 12,
    "start_time": "2022-12-16T21:40:47.120Z"
   },
   {
    "duration": 69645,
    "start_time": "2022-12-16T21:41:00.112Z"
   },
   {
    "duration": 3,
    "start_time": "2022-12-16T21:42:09.759Z"
   },
   {
    "duration": 9,
    "start_time": "2022-12-16T21:42:09.763Z"
   },
   {
    "duration": 168808,
    "start_time": "2022-12-16T21:43:05.164Z"
   },
   {
    "duration": 3,
    "start_time": "2022-12-16T21:45:53.974Z"
   },
   {
    "duration": 9,
    "start_time": "2022-12-16T21:45:53.979Z"
   },
   {
    "duration": 4,
    "start_time": "2022-12-16T21:46:58.144Z"
   },
   {
    "duration": 14,
    "start_time": "2022-12-16T21:47:13.115Z"
   },
   {
    "duration": 4,
    "start_time": "2022-12-16T21:47:29.165Z"
   },
   {
    "duration": 13,
    "start_time": "2022-12-16T21:47:30.734Z"
   },
   {
    "duration": 47,
    "start_time": "2022-12-16T21:48:30.898Z"
   },
   {
    "duration": 3,
    "start_time": "2022-12-16T21:49:36.936Z"
   },
   {
    "duration": 3014,
    "start_time": "2022-12-16T21:49:37.974Z"
   },
   {
    "duration": 35,
    "start_time": "2022-12-16T21:51:05.614Z"
   },
   {
    "duration": 281538,
    "start_time": "2022-12-16T21:53:15.588Z"
   },
   {
    "duration": 4,
    "start_time": "2022-12-16T21:57:57.128Z"
   },
   {
    "duration": 7,
    "start_time": "2022-12-16T21:57:57.134Z"
   },
   {
    "duration": 4,
    "start_time": "2022-12-16T21:58:53.085Z"
   },
   {
    "duration": 2659,
    "start_time": "2022-12-16T21:58:53.726Z"
   },
   {
    "duration": 48,
    "start_time": "2022-12-16T21:58:56.388Z"
   },
   {
    "duration": 143449,
    "start_time": "2022-12-16T22:04:56.309Z"
   },
   {
    "duration": 5,
    "start_time": "2022-12-16T22:07:19.759Z"
   },
   {
    "duration": 7,
    "start_time": "2022-12-16T22:07:19.765Z"
   },
   {
    "duration": 3,
    "start_time": "2022-12-16T22:08:42.674Z"
   },
   {
    "duration": 576,
    "start_time": "2022-12-16T22:08:42.999Z"
   },
   {
    "duration": 14,
    "start_time": "2022-12-16T22:08:43.611Z"
   },
   {
    "duration": 3,
    "start_time": "2022-12-16T22:09:05.456Z"
   },
   {
    "duration": 600,
    "start_time": "2022-12-16T22:09:05.616Z"
   },
   {
    "duration": 21,
    "start_time": "2022-12-16T22:09:06.218Z"
   },
   {
    "duration": 3,
    "start_time": "2022-12-16T22:09:11.691Z"
   },
   {
    "duration": 591,
    "start_time": "2022-12-16T22:09:11.846Z"
   },
   {
    "duration": 18,
    "start_time": "2022-12-16T22:09:12.439Z"
   },
   {
    "duration": 3,
    "start_time": "2022-12-16T22:09:17.772Z"
   },
   {
    "duration": 1143,
    "start_time": "2022-12-16T22:09:17.957Z"
   },
   {
    "duration": 33,
    "start_time": "2022-12-16T22:09:19.103Z"
   },
   {
    "duration": 3,
    "start_time": "2022-12-16T22:09:26.974Z"
   },
   {
    "duration": 2047,
    "start_time": "2022-12-16T22:09:27.131Z"
   },
   {
    "duration": 39,
    "start_time": "2022-12-16T22:09:29.180Z"
   },
   {
    "duration": 3,
    "start_time": "2022-12-16T22:09:37.147Z"
   },
   {
    "duration": 1023,
    "start_time": "2022-12-16T22:09:37.310Z"
   },
   {
    "duration": 18,
    "start_time": "2022-12-16T22:09:38.335Z"
   },
   {
    "duration": 303484,
    "start_time": "2022-12-16T22:10:06.504Z"
   },
   {
    "duration": 4,
    "start_time": "2022-12-16T22:15:09.991Z"
   },
   {
    "duration": 14,
    "start_time": "2022-12-16T22:15:09.996Z"
   },
   {
    "duration": 100,
    "start_time": "2022-12-16T22:15:10.016Z"
   },
   {
    "duration": 159,
    "start_time": "2022-12-16T22:16:56.474Z"
   },
   {
    "duration": 9,
    "start_time": "2022-12-16T22:17:09.374Z"
   },
   {
    "duration": 9,
    "start_time": "2022-12-16T22:17:10.628Z"
   },
   {
    "duration": 194,
    "start_time": "2022-12-16T22:17:19.925Z"
   },
   {
    "duration": 56,
    "start_time": "2022-12-16T22:19:05.272Z"
   },
   {
    "duration": 44,
    "start_time": "2022-12-16T22:19:21.177Z"
   },
   {
    "duration": 271,
    "start_time": "2022-12-16T22:19:57.561Z"
   },
   {
    "duration": 5,
    "start_time": "2022-12-16T22:20:30.742Z"
   },
   {
    "duration": 246,
    "start_time": "2022-12-16T22:20:39.983Z"
   },
   {
    "duration": 3,
    "start_time": "2022-12-16T22:23:53.125Z"
   },
   {
    "duration": 7238,
    "start_time": "2022-12-16T22:24:08.368Z"
   },
   {
    "duration": 51,
    "start_time": "2022-12-16T22:25:27.003Z"
   },
   {
    "duration": 5,
    "start_time": "2022-12-16T22:28:17.581Z"
   },
   {
    "duration": 3,
    "start_time": "2022-12-16T22:28:51.638Z"
   },
   {
    "duration": 6,
    "start_time": "2022-12-16T22:29:34.668Z"
   },
   {
    "duration": 104156,
    "start_time": "2022-12-16T22:30:30.561Z"
   },
   {
    "duration": 4,
    "start_time": "2022-12-16T22:32:14.719Z"
   },
   {
    "duration": 6,
    "start_time": "2022-12-16T22:32:14.724Z"
   },
   {
    "duration": 3,
    "start_time": "2022-12-16T22:33:20.911Z"
   },
   {
    "duration": 70952,
    "start_time": "2022-12-16T22:33:21.371Z"
   },
   {
    "duration": 93,
    "start_time": "2022-12-16T22:34:32.325Z"
   },
   {
    "duration": 103,
    "start_time": "2022-12-16T22:34:32.420Z"
   },
   {
    "duration": 3,
    "start_time": "2022-12-16T22:37:05.443Z"
   },
   {
    "duration": 199,
    "start_time": "2022-12-16T22:37:06.022Z"
   },
   {
    "duration": 8,
    "start_time": "2022-12-16T22:37:07.830Z"
   },
   {
    "duration": 6,
    "start_time": "2022-12-16T22:37:08.983Z"
   },
   {
    "duration": 2095,
    "start_time": "2022-12-16T22:37:39.389Z"
   },
   {
    "duration": 1427,
    "start_time": "2022-12-16T22:37:41.486Z"
   },
   {
    "duration": 701,
    "start_time": "2022-12-16T22:37:42.915Z"
   },
   {
    "duration": 27,
    "start_time": "2022-12-16T22:37:43.618Z"
   },
   {
    "duration": 18,
    "start_time": "2022-12-16T22:37:43.647Z"
   },
   {
    "duration": 10,
    "start_time": "2022-12-16T22:37:43.666Z"
   },
   {
    "duration": 8,
    "start_time": "2022-12-16T22:37:43.677Z"
   },
   {
    "duration": 28,
    "start_time": "2022-12-16T22:37:43.717Z"
   },
   {
    "duration": 14,
    "start_time": "2022-12-16T22:37:43.747Z"
   },
   {
    "duration": 26,
    "start_time": "2022-12-16T22:37:43.764Z"
   },
   {
    "duration": 13,
    "start_time": "2022-12-16T22:37:43.792Z"
   },
   {
    "duration": 27,
    "start_time": "2022-12-16T22:37:43.808Z"
   },
   {
    "duration": 125,
    "start_time": "2022-12-16T22:37:43.837Z"
   },
   {
    "duration": 7,
    "start_time": "2022-12-16T22:37:43.964Z"
   },
   {
    "duration": 11,
    "start_time": "2022-12-16T22:37:43.972Z"
   },
   {
    "duration": 6,
    "start_time": "2022-12-16T22:37:43.984Z"
   },
   {
    "duration": 26,
    "start_time": "2022-12-16T22:37:43.992Z"
   },
   {
    "duration": 5,
    "start_time": "2022-12-16T22:37:44.020Z"
   },
   {
    "duration": 10,
    "start_time": "2022-12-16T22:37:44.027Z"
   },
   {
    "duration": 19,
    "start_time": "2022-12-16T22:37:44.038Z"
   },
   {
    "duration": 16,
    "start_time": "2022-12-16T22:37:44.059Z"
   },
   {
    "duration": 9,
    "start_time": "2022-12-16T22:37:44.077Z"
   },
   {
    "duration": 10,
    "start_time": "2022-12-16T22:37:44.087Z"
   },
   {
    "duration": 22,
    "start_time": "2022-12-16T22:37:44.099Z"
   },
   {
    "duration": 1603,
    "start_time": "2022-12-16T22:37:44.122Z"
   },
   {
    "duration": 569,
    "start_time": "2022-12-16T22:37:45.727Z"
   },
   {
    "duration": 3,
    "start_time": "2022-12-16T22:37:46.297Z"
   },
   {
    "duration": 867,
    "start_time": "2022-12-16T22:37:46.304Z"
   },
   {
    "duration": 7,
    "start_time": "2022-12-16T22:37:47.173Z"
   },
   {
    "duration": 36,
    "start_time": "2022-12-16T22:37:47.182Z"
   },
   {
    "duration": 11,
    "start_time": "2022-12-16T22:37:47.219Z"
   },
   {
    "duration": 6,
    "start_time": "2022-12-16T22:37:47.231Z"
   },
   {
    "duration": 28,
    "start_time": "2022-12-16T22:37:47.239Z"
   },
   {
    "duration": 1454,
    "start_time": "2022-12-16T22:37:47.268Z"
   },
   {
    "duration": 896,
    "start_time": "2022-12-16T22:37:48.724Z"
   },
   {
    "duration": 405,
    "start_time": "2022-12-16T22:37:49.621Z"
   },
   {
    "duration": 4,
    "start_time": "2022-12-16T22:37:50.028Z"
   },
   {
    "duration": 1086,
    "start_time": "2022-12-16T22:37:50.034Z"
   },
   {
    "duration": 584,
    "start_time": "2022-12-16T22:37:51.122Z"
   },
   {
    "duration": 316,
    "start_time": "2022-12-16T22:37:51.708Z"
   },
   {
    "duration": 3,
    "start_time": "2022-12-16T22:37:52.026Z"
   },
   {
    "duration": 66512,
    "start_time": "2022-12-16T22:37:52.116Z"
   },
   {
    "duration": 88,
    "start_time": "2022-12-16T22:38:58.630Z"
   },
   {
    "duration": 101,
    "start_time": "2022-12-16T22:38:58.720Z"
   },
   {
    "duration": 12369,
    "start_time": "2022-12-16T22:38:58.822Z"
   },
   {
    "duration": 108917,
    "start_time": "2022-12-16T22:39:11.192Z"
   },
   {
    "duration": 5,
    "start_time": "2022-12-16T22:41:00.111Z"
   },
   {
    "duration": 35,
    "start_time": "2022-12-16T22:41:00.117Z"
   },
   {
    "duration": 45,
    "start_time": "2022-12-16T22:41:00.154Z"
   },
   {
    "duration": 222,
    "start_time": "2022-12-16T22:41:00.201Z"
   },
   {
    "duration": 198,
    "start_time": "2022-12-16T22:41:00.425Z"
   },
   {
    "duration": 227,
    "start_time": "2022-12-16T22:41:00.625Z"
   },
   {
    "duration": 2,
    "start_time": "2022-12-16T22:42:31.931Z"
   },
   {
    "duration": 15,
    "start_time": "2022-12-16T22:42:32.326Z"
   },
   {
    "duration": 5,
    "start_time": "2022-12-16T22:42:33.309Z"
   },
   {
    "duration": 103,
    "start_time": "2022-12-16T22:42:34.244Z"
   },
   {
    "duration": 10,
    "start_time": "2022-12-16T22:42:42.680Z"
   },
   {
    "duration": 6,
    "start_time": "2022-12-16T22:42:49.563Z"
   },
   {
    "duration": 3,
    "start_time": "2022-12-16T22:43:11.388Z"
   },
   {
    "duration": 133,
    "start_time": "2022-12-16T22:43:11.690Z"
   },
   {
    "duration": 8,
    "start_time": "2022-12-16T22:43:12.189Z"
   },
   {
    "duration": 10,
    "start_time": "2022-12-16T22:43:13.128Z"
   },
   {
    "duration": 7,
    "start_time": "2022-12-16T22:43:37.272Z"
   },
   {
    "duration": 3,
    "start_time": "2022-12-16T22:43:41.404Z"
   },
   {
    "duration": 130,
    "start_time": "2022-12-16T22:43:41.593Z"
   },
   {
    "duration": 8,
    "start_time": "2022-12-16T22:43:41.988Z"
   },
   {
    "duration": 8,
    "start_time": "2022-12-16T22:43:42.475Z"
   },
   {
    "duration": 9,
    "start_time": "2022-12-16T22:44:05.796Z"
   },
   {
    "duration": 336,
    "start_time": "2022-12-16T22:44:44.480Z"
   },
   {
    "duration": 4,
    "start_time": "2022-12-16T22:45:43.782Z"
   },
   {
    "duration": 5,
    "start_time": "2022-12-16T22:45:51.654Z"
   },
   {
    "duration": 6,
    "start_time": "2022-12-16T22:46:03.001Z"
   },
   {
    "duration": 124,
    "start_time": "2022-12-16T23:14:46.388Z"
   },
   {
    "duration": 120,
    "start_time": "2022-12-16T23:15:11.639Z"
   },
   {
    "duration": 103,
    "start_time": "2022-12-16T23:15:18.974Z"
   },
   {
    "duration": 193,
    "start_time": "2022-12-16T23:16:08.643Z"
   },
   {
    "duration": 64301,
    "start_time": "2022-12-16T23:17:14.742Z"
   },
   {
    "duration": 131,
    "start_time": "2022-12-16T23:18:19.045Z"
   },
   {
    "duration": 97,
    "start_time": "2022-12-16T23:19:02.120Z"
   },
   {
    "duration": 18,
    "start_time": "2022-12-16T23:19:06.908Z"
   },
   {
    "duration": 111,
    "start_time": "2022-12-16T23:19:08.990Z"
   },
   {
    "duration": 32255,
    "start_time": "2022-12-16T23:21:18.264Z"
   },
   {
    "duration": 31750,
    "start_time": "2022-12-16T23:22:02.566Z"
   },
   {
    "duration": 4,
    "start_time": "2022-12-16T23:22:34.318Z"
   },
   {
    "duration": 17,
    "start_time": "2022-12-16T23:22:34.323Z"
   },
   {
    "duration": 2079,
    "start_time": "2022-12-16T23:42:01.246Z"
   },
   {
    "duration": 1347,
    "start_time": "2022-12-16T23:42:03.327Z"
   },
   {
    "duration": 686,
    "start_time": "2022-12-16T23:42:04.676Z"
   },
   {
    "duration": 26,
    "start_time": "2022-12-16T23:42:05.364Z"
   },
   {
    "duration": 27,
    "start_time": "2022-12-16T23:42:05.391Z"
   },
   {
    "duration": 8,
    "start_time": "2022-12-16T23:42:05.419Z"
   },
   {
    "duration": 7,
    "start_time": "2022-12-16T23:42:05.429Z"
   },
   {
    "duration": 18,
    "start_time": "2022-12-16T23:42:05.437Z"
   },
   {
    "duration": 14,
    "start_time": "2022-12-16T23:42:05.456Z"
   },
   {
    "duration": 5,
    "start_time": "2022-12-16T23:42:05.472Z"
   },
   {
    "duration": 37,
    "start_time": "2022-12-16T23:42:05.479Z"
   },
   {
    "duration": 15,
    "start_time": "2022-12-16T23:42:05.518Z"
   },
   {
    "duration": 107,
    "start_time": "2022-12-16T23:42:05.534Z"
   },
   {
    "duration": 7,
    "start_time": "2022-12-16T23:42:05.642Z"
   },
   {
    "duration": 11,
    "start_time": "2022-12-16T23:42:05.650Z"
   },
   {
    "duration": 122,
    "start_time": "2022-12-16T23:42:05.662Z"
   },
   {
    "duration": 0,
    "start_time": "2022-12-16T23:42:05.786Z"
   },
   {
    "duration": 0,
    "start_time": "2022-12-16T23:42:05.788Z"
   },
   {
    "duration": 0,
    "start_time": "2022-12-16T23:42:05.789Z"
   },
   {
    "duration": 0,
    "start_time": "2022-12-16T23:42:05.790Z"
   },
   {
    "duration": 0,
    "start_time": "2022-12-16T23:42:05.791Z"
   },
   {
    "duration": 0,
    "start_time": "2022-12-16T23:42:05.792Z"
   },
   {
    "duration": 0,
    "start_time": "2022-12-16T23:42:05.793Z"
   },
   {
    "duration": 0,
    "start_time": "2022-12-16T23:42:05.795Z"
   },
   {
    "duration": 0,
    "start_time": "2022-12-16T23:42:05.796Z"
   },
   {
    "duration": 0,
    "start_time": "2022-12-16T23:42:05.797Z"
   },
   {
    "duration": 0,
    "start_time": "2022-12-16T23:42:05.815Z"
   },
   {
    "duration": 0,
    "start_time": "2022-12-16T23:42:05.815Z"
   },
   {
    "duration": 0,
    "start_time": "2022-12-16T23:42:05.816Z"
   },
   {
    "duration": 0,
    "start_time": "2022-12-16T23:42:05.817Z"
   },
   {
    "duration": 0,
    "start_time": "2022-12-16T23:42:05.818Z"
   },
   {
    "duration": 0,
    "start_time": "2022-12-16T23:42:05.819Z"
   },
   {
    "duration": 0,
    "start_time": "2022-12-16T23:42:05.820Z"
   },
   {
    "duration": 0,
    "start_time": "2022-12-16T23:42:05.821Z"
   },
   {
    "duration": 0,
    "start_time": "2022-12-16T23:42:05.822Z"
   },
   {
    "duration": 0,
    "start_time": "2022-12-16T23:42:05.823Z"
   },
   {
    "duration": 0,
    "start_time": "2022-12-16T23:42:05.824Z"
   },
   {
    "duration": 0,
    "start_time": "2022-12-16T23:42:05.826Z"
   },
   {
    "duration": 0,
    "start_time": "2022-12-16T23:42:05.827Z"
   },
   {
    "duration": 0,
    "start_time": "2022-12-16T23:42:05.828Z"
   },
   {
    "duration": 0,
    "start_time": "2022-12-16T23:42:05.829Z"
   },
   {
    "duration": 0,
    "start_time": "2022-12-16T23:42:05.830Z"
   },
   {
    "duration": 0,
    "start_time": "2022-12-16T23:42:05.831Z"
   },
   {
    "duration": 0,
    "start_time": "2022-12-16T23:42:05.832Z"
   },
   {
    "duration": 0,
    "start_time": "2022-12-16T23:42:05.833Z"
   },
   {
    "duration": 0,
    "start_time": "2022-12-16T23:42:05.834Z"
   },
   {
    "duration": 0,
    "start_time": "2022-12-16T23:42:05.834Z"
   },
   {
    "duration": 0,
    "start_time": "2022-12-16T23:42:05.835Z"
   },
   {
    "duration": 0,
    "start_time": "2022-12-16T23:42:05.836Z"
   },
   {
    "duration": 0,
    "start_time": "2022-12-16T23:42:05.837Z"
   },
   {
    "duration": 2128,
    "start_time": "2022-12-16T23:42:40.240Z"
   },
   {
    "duration": 1284,
    "start_time": "2022-12-16T23:42:42.370Z"
   },
   {
    "duration": 720,
    "start_time": "2022-12-16T23:42:43.656Z"
   },
   {
    "duration": 25,
    "start_time": "2022-12-16T23:42:44.378Z"
   },
   {
    "duration": 27,
    "start_time": "2022-12-16T23:42:44.405Z"
   },
   {
    "duration": 10,
    "start_time": "2022-12-16T23:42:44.433Z"
   },
   {
    "duration": 9,
    "start_time": "2022-12-16T23:42:44.445Z"
   },
   {
    "duration": 19,
    "start_time": "2022-12-16T23:42:44.455Z"
   },
   {
    "duration": 45,
    "start_time": "2022-12-16T23:42:44.476Z"
   },
   {
    "duration": 6,
    "start_time": "2022-12-16T23:42:44.523Z"
   },
   {
    "duration": 8,
    "start_time": "2022-12-16T23:42:44.530Z"
   },
   {
    "duration": 16,
    "start_time": "2022-12-16T23:42:44.539Z"
   },
   {
    "duration": 118,
    "start_time": "2022-12-16T23:42:44.557Z"
   },
   {
    "duration": 7,
    "start_time": "2022-12-16T23:42:44.677Z"
   },
   {
    "duration": 20,
    "start_time": "2022-12-16T23:42:44.685Z"
   },
   {
    "duration": 14,
    "start_time": "2022-12-16T23:42:44.707Z"
   },
   {
    "duration": 6,
    "start_time": "2022-12-16T23:42:44.722Z"
   },
   {
    "duration": 5,
    "start_time": "2022-12-16T23:42:44.729Z"
   },
   {
    "duration": 6,
    "start_time": "2022-12-16T23:42:44.736Z"
   },
   {
    "duration": 13,
    "start_time": "2022-12-16T23:42:44.743Z"
   },
   {
    "duration": 7,
    "start_time": "2022-12-16T23:42:44.757Z"
   },
   {
    "duration": 9,
    "start_time": "2022-12-16T23:42:44.765Z"
   },
   {
    "duration": 7,
    "start_time": "2022-12-16T23:42:44.776Z"
   },
   {
    "duration": 30,
    "start_time": "2022-12-16T23:42:44.785Z"
   },
   {
    "duration": 1562,
    "start_time": "2022-12-16T23:42:44.817Z"
   },
   {
    "duration": 581,
    "start_time": "2022-12-16T23:42:46.381Z"
   },
   {
    "duration": 4,
    "start_time": "2022-12-16T23:42:46.963Z"
   },
   {
    "duration": 807,
    "start_time": "2022-12-16T23:42:46.970Z"
   },
   {
    "duration": 7,
    "start_time": "2022-12-16T23:42:47.779Z"
   },
   {
    "duration": 33,
    "start_time": "2022-12-16T23:42:47.787Z"
   },
   {
    "duration": 10,
    "start_time": "2022-12-16T23:42:47.821Z"
   },
   {
    "duration": 5,
    "start_time": "2022-12-16T23:42:47.832Z"
   },
   {
    "duration": 24,
    "start_time": "2022-12-16T23:42:47.839Z"
   },
   {
    "duration": 1255,
    "start_time": "2022-12-16T23:42:47.865Z"
   },
   {
    "duration": 845,
    "start_time": "2022-12-16T23:42:49.123Z"
   },
   {
    "duration": 356,
    "start_time": "2022-12-16T23:42:49.969Z"
   },
   {
    "duration": 4,
    "start_time": "2022-12-16T23:42:50.326Z"
   },
   {
    "duration": 1288,
    "start_time": "2022-12-16T23:42:50.332Z"
   },
   {
    "duration": 611,
    "start_time": "2022-12-16T23:42:51.623Z"
   },
   {
    "duration": 389,
    "start_time": "2022-12-16T23:42:52.235Z"
   },
   {
    "duration": 3,
    "start_time": "2022-12-16T23:42:52.626Z"
   },
   {
    "duration": 64700,
    "start_time": "2022-12-16T23:42:52.717Z"
   },
   {
    "duration": 5,
    "start_time": "2022-12-16T23:43:57.420Z"
   },
   {
    "duration": 96,
    "start_time": "2022-12-16T23:43:57.426Z"
   },
   {
    "duration": 12043,
    "start_time": "2022-12-16T23:43:57.524Z"
   },
   {
    "duration": 154711,
    "start_time": "2022-12-16T23:44:09.569Z"
   },
   {
    "duration": 4,
    "start_time": "2022-12-16T23:46:44.281Z"
   },
   {
    "duration": 7,
    "start_time": "2022-12-16T23:46:44.287Z"
   },
   {
    "duration": 425,
    "start_time": "2022-12-16T23:46:44.295Z"
   },
   {
    "duration": 93,
    "start_time": "2022-12-16T23:46:44.726Z"
   },
   {
    "duration": 4,
    "start_time": "2022-12-16T23:48:51.237Z"
   },
   {
    "duration": 4544,
    "start_time": "2022-12-16T23:50:34.162Z"
   },
   {
    "duration": 7,
    "start_time": "2022-12-16T23:50:38.708Z"
   },
   {
    "duration": 4,
    "start_time": "2022-12-16T23:50:38.716Z"
   },
   {
    "duration": 1420,
    "start_time": "2022-12-16T23:50:44.203Z"
   },
   {
    "duration": 4,
    "start_time": "2022-12-16T23:50:45.626Z"
   },
   {
    "duration": 7,
    "start_time": "2022-12-16T23:50:45.632Z"
   },
   {
    "duration": 1065,
    "start_time": "2022-12-16T23:50:59.503Z"
   },
   {
    "duration": 4,
    "start_time": "2022-12-16T23:51:02.252Z"
   },
   {
    "duration": 3,
    "start_time": "2022-12-16T23:51:02.995Z"
   },
   {
    "duration": 20383,
    "start_time": "2022-12-16T23:51:04.756Z"
   },
   {
    "duration": 3,
    "start_time": "2022-12-16T23:51:25.141Z"
   },
   {
    "duration": 11,
    "start_time": "2022-12-16T23:51:25.145Z"
   },
   {
    "duration": 4159,
    "start_time": "2022-12-16T23:51:55.931Z"
   },
   {
    "duration": 4,
    "start_time": "2022-12-16T23:52:00.091Z"
   },
   {
    "duration": 18,
    "start_time": "2022-12-16T23:52:00.097Z"
   },
   {
    "duration": 2995,
    "start_time": "2022-12-16T23:52:05.572Z"
   },
   {
    "duration": 4,
    "start_time": "2022-12-16T23:52:08.568Z"
   },
   {
    "duration": 9,
    "start_time": "2022-12-16T23:52:08.573Z"
   },
   {
    "duration": 655,
    "start_time": "2022-12-16T23:52:47.303Z"
   },
   {
    "duration": 4,
    "start_time": "2022-12-16T23:52:48.063Z"
   },
   {
    "duration": 4,
    "start_time": "2022-12-16T23:52:49.014Z"
   },
   {
    "duration": 5082,
    "start_time": "2022-12-16T23:52:50.517Z"
   },
   {
    "duration": 3,
    "start_time": "2022-12-16T23:52:55.601Z"
   },
   {
    "duration": 13,
    "start_time": "2022-12-16T23:52:55.605Z"
   },
   {
    "duration": 36506,
    "start_time": "2022-12-16T23:53:16.266Z"
   },
   {
    "duration": 5,
    "start_time": "2022-12-16T23:53:52.773Z"
   },
   {
    "duration": 6,
    "start_time": "2022-12-16T23:53:52.780Z"
   },
   {
    "duration": 36491,
    "start_time": "2022-12-16T23:53:57.535Z"
   },
   {
    "duration": 4,
    "start_time": "2022-12-16T23:54:34.028Z"
   },
   {
    "duration": 11,
    "start_time": "2022-12-16T23:54:34.033Z"
   },
   {
    "duration": 74281,
    "start_time": "2022-12-16T23:54:49.922Z"
   },
   {
    "duration": 4,
    "start_time": "2022-12-16T23:56:04.205Z"
   },
   {
    "duration": 3,
    "start_time": "2022-12-16T23:56:04.216Z"
   },
   {
    "duration": 74264,
    "start_time": "2022-12-16T23:56:28.967Z"
   },
   {
    "duration": 4,
    "start_time": "2022-12-16T23:57:43.233Z"
   },
   {
    "duration": 9,
    "start_time": "2022-12-16T23:57:43.238Z"
   },
   {
    "duration": 36600,
    "start_time": "2022-12-16T23:58:09.298Z"
   },
   {
    "duration": 14,
    "start_time": "2022-12-16T23:58:45.901Z"
   },
   {
    "duration": 3,
    "start_time": "2022-12-16T23:58:45.917Z"
   },
   {
    "duration": 36517,
    "start_time": "2022-12-16T23:59:15.922Z"
   },
   {
    "duration": 4,
    "start_time": "2022-12-16T23:59:52.441Z"
   },
   {
    "duration": 10,
    "start_time": "2022-12-16T23:59:52.447Z"
   },
   {
    "duration": 36372,
    "start_time": "2022-12-17T00:00:01.698Z"
   },
   {
    "duration": 4,
    "start_time": "2022-12-17T00:00:38.072Z"
   },
   {
    "duration": 6,
    "start_time": "2022-12-17T00:00:38.078Z"
   },
   {
    "duration": 36623,
    "start_time": "2022-12-17T00:00:52.223Z"
   },
   {
    "duration": 4,
    "start_time": "2022-12-17T00:01:28.848Z"
   },
   {
    "duration": 8,
    "start_time": "2022-12-17T00:01:28.853Z"
   },
   {
    "duration": 5816,
    "start_time": "2022-12-17T00:01:43.437Z"
   },
   {
    "duration": 3,
    "start_time": "2022-12-17T00:01:49.255Z"
   },
   {
    "duration": 6,
    "start_time": "2022-12-17T00:01:49.259Z"
   },
   {
    "duration": 20733,
    "start_time": "2022-12-17T00:01:53.052Z"
   },
   {
    "duration": 4,
    "start_time": "2022-12-17T00:02:13.787Z"
   },
   {
    "duration": 10,
    "start_time": "2022-12-17T00:02:13.792Z"
   },
   {
    "duration": 49624,
    "start_time": "2022-12-17T00:03:50.504Z"
   },
   {
    "duration": 5,
    "start_time": "2022-12-17T00:04:40.129Z"
   },
   {
    "duration": 5,
    "start_time": "2022-12-17T00:04:40.136Z"
   },
   {
    "duration": 49773,
    "start_time": "2022-12-17T00:04:46.174Z"
   },
   {
    "duration": 4,
    "start_time": "2022-12-17T00:05:35.948Z"
   },
   {
    "duration": 18,
    "start_time": "2022-12-17T00:05:35.953Z"
   },
   {
    "duration": 4,
    "start_time": "2022-12-17T00:06:30.491Z"
   },
   {
    "duration": 107,
    "start_time": "2022-12-17T00:06:43.792Z"
   },
   {
    "duration": 4,
    "start_time": "2022-12-17T00:06:51.465Z"
   },
   {
    "duration": 49477,
    "start_time": "2022-12-17T00:07:05.414Z"
   },
   {
    "duration": 4,
    "start_time": "2022-12-17T00:07:54.893Z"
   },
   {
    "duration": 17,
    "start_time": "2022-12-17T00:07:54.899Z"
   },
   {
    "duration": 9,
    "start_time": "2022-12-17T00:08:14.711Z"
   },
   {
    "duration": 9,
    "start_time": "2022-12-17T00:08:21.244Z"
   },
   {
    "duration": 3,
    "start_time": "2022-12-17T00:08:27.408Z"
   },
   {
    "duration": 3,
    "start_time": "2022-12-17T00:08:31.563Z"
   },
   {
    "duration": 49823,
    "start_time": "2022-12-17T00:08:40.353Z"
   },
   {
    "duration": 3,
    "start_time": "2022-12-17T00:09:30.178Z"
   },
   {
    "duration": 27,
    "start_time": "2022-12-17T00:09:30.183Z"
   },
   {
    "duration": 2071,
    "start_time": "2022-12-17T00:13:40.565Z"
   },
   {
    "duration": 1310,
    "start_time": "2022-12-17T00:13:42.638Z"
   },
   {
    "duration": 685,
    "start_time": "2022-12-17T00:13:43.949Z"
   },
   {
    "duration": 24,
    "start_time": "2022-12-17T00:13:44.636Z"
   },
   {
    "duration": 15,
    "start_time": "2022-12-17T00:13:44.662Z"
   },
   {
    "duration": 8,
    "start_time": "2022-12-17T00:13:44.679Z"
   },
   {
    "duration": 28,
    "start_time": "2022-12-17T00:13:44.688Z"
   },
   {
    "duration": 17,
    "start_time": "2022-12-17T00:13:44.718Z"
   },
   {
    "duration": 15,
    "start_time": "2022-12-17T00:13:44.736Z"
   },
   {
    "duration": 6,
    "start_time": "2022-12-17T00:13:44.753Z"
   },
   {
    "duration": 8,
    "start_time": "2022-12-17T00:13:44.761Z"
   },
   {
    "duration": 16,
    "start_time": "2022-12-17T00:13:44.770Z"
   },
   {
    "duration": 101,
    "start_time": "2022-12-17T00:13:44.815Z"
   },
   {
    "duration": 7,
    "start_time": "2022-12-17T00:13:44.918Z"
   },
   {
    "duration": 13,
    "start_time": "2022-12-17T00:13:44.927Z"
   },
   {
    "duration": 10,
    "start_time": "2022-12-17T00:13:44.941Z"
   },
   {
    "duration": 9,
    "start_time": "2022-12-17T00:13:44.952Z"
   },
   {
    "duration": 7,
    "start_time": "2022-12-17T00:13:44.962Z"
   },
   {
    "duration": 6,
    "start_time": "2022-12-17T00:13:44.971Z"
   },
   {
    "duration": 15,
    "start_time": "2022-12-17T00:13:44.979Z"
   },
   {
    "duration": 24,
    "start_time": "2022-12-17T00:13:44.995Z"
   },
   {
    "duration": 12,
    "start_time": "2022-12-17T00:13:45.020Z"
   },
   {
    "duration": 7,
    "start_time": "2022-12-17T00:13:45.033Z"
   },
   {
    "duration": 12,
    "start_time": "2022-12-17T00:13:45.042Z"
   },
   {
    "duration": 1546,
    "start_time": "2022-12-17T00:13:45.055Z"
   },
   {
    "duration": 568,
    "start_time": "2022-12-17T00:13:46.603Z"
   },
   {
    "duration": 3,
    "start_time": "2022-12-17T00:13:47.173Z"
   },
   {
    "duration": 839,
    "start_time": "2022-12-17T00:13:47.180Z"
   },
   {
    "duration": 7,
    "start_time": "2022-12-17T00:13:48.020Z"
   },
   {
    "duration": 27,
    "start_time": "2022-12-17T00:13:48.029Z"
   },
   {
    "duration": 8,
    "start_time": "2022-12-17T00:13:48.058Z"
   },
   {
    "duration": 14,
    "start_time": "2022-12-17T00:13:48.068Z"
   },
   {
    "duration": 36,
    "start_time": "2022-12-17T00:13:48.084Z"
   },
   {
    "duration": 1503,
    "start_time": "2022-12-17T00:13:48.121Z"
   },
   {
    "duration": 890,
    "start_time": "2022-12-17T00:13:49.626Z"
   },
   {
    "duration": 420,
    "start_time": "2022-12-17T00:13:50.517Z"
   },
   {
    "duration": 4,
    "start_time": "2022-12-17T00:13:50.940Z"
   },
   {
    "duration": 879,
    "start_time": "2022-12-17T00:13:50.945Z"
   },
   {
    "duration": 637,
    "start_time": "2022-12-17T00:13:51.826Z"
   },
   {
    "duration": 252,
    "start_time": "2022-12-17T00:13:52.465Z"
   },
   {
    "duration": 6,
    "start_time": "2022-12-17T00:13:52.720Z"
   },
   {
    "duration": 2089,
    "start_time": "2022-12-17T00:14:02.356Z"
   },
   {
    "duration": 1309,
    "start_time": "2022-12-17T00:14:04.447Z"
   },
   {
    "duration": 707,
    "start_time": "2022-12-17T00:14:05.758Z"
   },
   {
    "duration": 24,
    "start_time": "2022-12-17T00:14:06.467Z"
   },
   {
    "duration": 24,
    "start_time": "2022-12-17T00:14:06.493Z"
   },
   {
    "duration": 8,
    "start_time": "2022-12-17T00:14:06.519Z"
   },
   {
    "duration": 8,
    "start_time": "2022-12-17T00:14:06.528Z"
   },
   {
    "duration": 18,
    "start_time": "2022-12-17T00:14:06.537Z"
   },
   {
    "duration": 14,
    "start_time": "2022-12-17T00:14:06.556Z"
   },
   {
    "duration": 6,
    "start_time": "2022-12-17T00:14:06.572Z"
   },
   {
    "duration": 37,
    "start_time": "2022-12-17T00:14:06.579Z"
   },
   {
    "duration": 16,
    "start_time": "2022-12-17T00:14:06.617Z"
   },
   {
    "duration": 109,
    "start_time": "2022-12-17T00:14:06.634Z"
   },
   {
    "duration": 7,
    "start_time": "2022-12-17T00:14:06.744Z"
   },
   {
    "duration": 8,
    "start_time": "2022-12-17T00:14:06.753Z"
   },
   {
    "duration": 6,
    "start_time": "2022-12-17T00:14:06.762Z"
   },
   {
    "duration": 5,
    "start_time": "2022-12-17T00:14:06.770Z"
   },
   {
    "duration": 5,
    "start_time": "2022-12-17T00:14:06.776Z"
   },
   {
    "duration": 17,
    "start_time": "2022-12-17T00:14:06.782Z"
   },
   {
    "duration": 10,
    "start_time": "2022-12-17T00:14:06.815Z"
   },
   {
    "duration": 8,
    "start_time": "2022-12-17T00:14:06.827Z"
   },
   {
    "duration": 15,
    "start_time": "2022-12-17T00:14:06.836Z"
   },
   {
    "duration": 6,
    "start_time": "2022-12-17T00:14:06.852Z"
   },
   {
    "duration": 16,
    "start_time": "2022-12-17T00:14:06.859Z"
   },
   {
    "duration": 1508,
    "start_time": "2022-12-17T00:14:06.877Z"
   },
   {
    "duration": 565,
    "start_time": "2022-12-17T00:14:08.387Z"
   },
   {
    "duration": 3,
    "start_time": "2022-12-17T00:14:08.955Z"
   },
   {
    "duration": 813,
    "start_time": "2022-12-17T00:14:08.961Z"
   },
   {
    "duration": 7,
    "start_time": "2022-12-17T00:14:09.776Z"
   },
   {
    "duration": 39,
    "start_time": "2022-12-17T00:14:09.784Z"
   },
   {
    "duration": 10,
    "start_time": "2022-12-17T00:14:09.824Z"
   },
   {
    "duration": 7,
    "start_time": "2022-12-17T00:14:09.835Z"
   },
   {
    "duration": 24,
    "start_time": "2022-12-17T00:14:09.843Z"
   },
   {
    "duration": 1152,
    "start_time": "2022-12-17T00:14:09.869Z"
   },
   {
    "duration": 844,
    "start_time": "2022-12-17T00:14:11.023Z"
   },
   {
    "duration": 454,
    "start_time": "2022-12-17T00:14:11.869Z"
   },
   {
    "duration": 5,
    "start_time": "2022-12-17T00:14:12.325Z"
   },
   {
    "duration": 1388,
    "start_time": "2022-12-17T00:14:12.331Z"
   },
   {
    "duration": 584,
    "start_time": "2022-12-17T00:14:13.721Z"
   },
   {
    "duration": 220,
    "start_time": "2022-12-17T00:14:14.307Z"
   },
   {
    "duration": 88,
    "start_time": "2022-12-17T00:14:14.529Z"
   },
   {
    "duration": 63297,
    "start_time": "2022-12-17T00:14:14.619Z"
   },
   {
    "duration": 98,
    "start_time": "2022-12-17T00:15:17.918Z"
   },
   {
    "duration": 4,
    "start_time": "2022-12-17T00:15:18.018Z"
   },
   {
    "duration": 12366,
    "start_time": "2022-12-17T00:15:18.024Z"
   },
   {
    "duration": 167559,
    "start_time": "2022-12-17T00:15:30.392Z"
   },
   {
    "duration": 3,
    "start_time": "2022-12-17T00:18:17.953Z"
   },
   {
    "duration": 7,
    "start_time": "2022-12-17T00:18:17.958Z"
   },
   {
    "duration": 449,
    "start_time": "2022-12-17T00:18:17.966Z"
   },
   {
    "duration": 7,
    "start_time": "2022-12-17T00:18:18.417Z"
   },
   {
    "duration": 126,
    "start_time": "2022-12-17T08:51:41.931Z"
   },
   {
    "duration": 18,
    "start_time": "2022-12-17T08:52:00.606Z"
   },
   {
    "duration": 6,
    "start_time": "2022-12-17T08:52:20.634Z"
   },
   {
    "duration": 62,
    "start_time": "2022-12-17T11:20:15.129Z"
   },
   {
    "duration": 51,
    "start_time": "2022-12-17T11:20:17.081Z"
   }
  ],
  "kernelspec": {
   "display_name": "Python 3 (ipykernel)",
   "language": "python",
   "name": "python3"
  },
  "language_info": {
   "codemirror_mode": {
    "name": "ipython",
    "version": 3
   },
   "file_extension": ".py",
   "mimetype": "text/x-python",
   "name": "python",
   "nbconvert_exporter": "python",
   "pygments_lexer": "ipython3",
   "version": "3.9.13"
  },
  "toc": {
   "base_numbering": 1,
   "nav_menu": {},
   "number_sections": true,
   "sideBar": true,
   "skip_h1_title": true,
   "title_cell": "Содержание",
   "title_sidebar": "Contents",
   "toc_cell": true,
   "toc_position": {
    "height": "calc(100% - 180px)",
    "left": "10px",
    "top": "150px",
    "width": "195.391px"
   },
   "toc_section_display": true,
   "toc_window_display": true
  }
 },
 "nbformat": 4,
 "nbformat_minor": 2
}
