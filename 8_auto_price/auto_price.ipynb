{
 "cells": [
  {
   "cell_type": "markdown",
   "metadata": {},
   "source": [
    "# Определение стоимости автомобилей"
   ]
  },
  {
   "cell_type": "markdown",
   "metadata": {},
   "source": [
    "Сервис по продаже автомобилей с пробегом «Не бит, не крашен» разрабатывает приложение для привлечения новых клиентов. В нём можно быстро узнать рыночную стоимость своего автомобиля. В вашем распоряжении исторические данные: технические характеристики, комплектации и цены автомобилей. Вам нужно построить модель для определения стоимости. \n",
    "\n",
    "**Заказчику важны:**\n",
    "\n",
    "- качество предсказания;\n",
    "- скорость предсказания;\n",
    "- время обучения.\n",
    "\n",
    "**Вам нужно:**\n",
    "\n",
    "1. Подготовить данные:\n",
    "* Изучить данные, удалить неинформативные признаки\n",
    "* Предобработать данные\n",
    "\n",
    "2. Построить и обучить модели:\n",
    "* Градиентного бустинга на деревьях\n",
    "* Случайного леса\n",
    "\n",
    "3. Провести сравнительный анализ моделей\n",
    "* Сравнить качество и время предикта\n",
    "\n",
    "4. Протестировать наилучшую модель"
   ]
  },
  {
   "cell_type": "markdown",
   "metadata": {},
   "source": [
    "## Подготовка данных"
   ]
  },
  {
   "cell_type": "markdown",
   "metadata": {},
   "source": [
    "### Первичный анализ"
   ]
  },
  {
   "cell_type": "code",
   "execution_count": 1,
   "metadata": {},
   "outputs": [
    {
     "name": "stdout",
     "output_type": "stream",
     "text": [
      "Requirement already satisfied: phik in /opt/conda/lib/python3.9/site-packages (0.12.3)\n",
      "Requirement already satisfied: pandas>=0.25.1 in /opt/conda/lib/python3.9/site-packages (from phik) (1.2.4)\n",
      "Requirement already satisfied: joblib>=0.14.1 in /opt/conda/lib/python3.9/site-packages (from phik) (1.1.0)\n",
      "Requirement already satisfied: scipy>=1.5.2 in /opt/conda/lib/python3.9/site-packages (from phik) (1.9.1)\n",
      "Requirement already satisfied: matplotlib>=2.2.3 in /opt/conda/lib/python3.9/site-packages (from phik) (3.3.4)\n",
      "Requirement already satisfied: numpy>=1.18.0 in /opt/conda/lib/python3.9/site-packages (from phik) (1.21.1)\n",
      "Requirement already satisfied: python-dateutil>=2.1 in /opt/conda/lib/python3.9/site-packages (from matplotlib>=2.2.3->phik) (2.8.1)\n",
      "Requirement already satisfied: pillow>=6.2.0 in /opt/conda/lib/python3.9/site-packages (from matplotlib>=2.2.3->phik) (8.4.0)\n",
      "Requirement already satisfied: pyparsing!=2.0.4,!=2.1.2,!=2.1.6,>=2.0.3 in /opt/conda/lib/python3.9/site-packages (from matplotlib>=2.2.3->phik) (2.4.7)\n",
      "Requirement already satisfied: cycler>=0.10 in /opt/conda/lib/python3.9/site-packages (from matplotlib>=2.2.3->phik) (0.11.0)\n",
      "Requirement already satisfied: kiwisolver>=1.0.1 in /opt/conda/lib/python3.9/site-packages (from matplotlib>=2.2.3->phik) (1.4.4)\n",
      "Requirement already satisfied: pytz>=2017.3 in /opt/conda/lib/python3.9/site-packages (from pandas>=0.25.1->phik) (2021.1)\n",
      "Requirement already satisfied: six>=1.5 in /opt/conda/lib/python3.9/site-packages (from python-dateutil>=2.1->matplotlib>=2.2.3->phik) (1.16.0)\n",
      "Note: you may need to restart the kernel to use updated packages.\n"
     ]
    }
   ],
   "source": [
    "pip install phik"
   ]
  },
  {
   "cell_type": "code",
   "execution_count": 2,
   "metadata": {},
   "outputs": [],
   "source": [
    "import pandas as pd\n",
    "import numpy as np\n",
    "import matplotlib.pyplot as plt\n",
    "import seaborn as sns\n",
    "import phik\n",
    "\n",
    "from sklearn.model_selection import cross_val_score, RandomizedSearchCV, train_test_split, GridSearchCV\n",
    "from sklearn.ensemble import RandomForestRegressor\n",
    "from sklearn.preprocessing import StandardScaler, OrdinalEncoder, OneHotEncoder\n",
    "from sklearn.metrics import mean_squared_error\n",
    "from sklearn.dummy import DummyRegressor\n",
    "from sklearn.pipeline import make_pipeline, Pipeline\n",
    "from sklearn.compose import ColumnTransformer\n",
    "\n",
    "from catboost import CatBoostRegressor, cv, Pool\n",
    "import lightgbm as lgb\n",
    "from scipy.stats import randint"
   ]
  },
  {
   "cell_type": "code",
   "execution_count": 3,
   "metadata": {},
   "outputs": [],
   "source": [
    "df = pd.read_csv('/datasets/autos.csv')"
   ]
  },
  {
   "cell_type": "code",
   "execution_count": 4,
   "metadata": {},
   "outputs": [
    {
     "data": {
      "text/html": [
       "<div>\n",
       "<style scoped>\n",
       "    .dataframe tbody tr th:only-of-type {\n",
       "        vertical-align: middle;\n",
       "    }\n",
       "\n",
       "    .dataframe tbody tr th {\n",
       "        vertical-align: top;\n",
       "    }\n",
       "\n",
       "    .dataframe thead th {\n",
       "        text-align: right;\n",
       "    }\n",
       "</style>\n",
       "<table border=\"1\" class=\"dataframe\">\n",
       "  <thead>\n",
       "    <tr style=\"text-align: right;\">\n",
       "      <th></th>\n",
       "      <th>DateCrawled</th>\n",
       "      <th>Price</th>\n",
       "      <th>VehicleType</th>\n",
       "      <th>RegistrationYear</th>\n",
       "      <th>Gearbox</th>\n",
       "      <th>Power</th>\n",
       "      <th>Model</th>\n",
       "      <th>Kilometer</th>\n",
       "      <th>RegistrationMonth</th>\n",
       "      <th>FuelType</th>\n",
       "      <th>Brand</th>\n",
       "      <th>Repaired</th>\n",
       "      <th>DateCreated</th>\n",
       "      <th>NumberOfPictures</th>\n",
       "      <th>PostalCode</th>\n",
       "      <th>LastSeen</th>\n",
       "    </tr>\n",
       "  </thead>\n",
       "  <tbody>\n",
       "    <tr>\n",
       "      <th>0</th>\n",
       "      <td>2016-03-24 11:52:17</td>\n",
       "      <td>480</td>\n",
       "      <td>NaN</td>\n",
       "      <td>1993</td>\n",
       "      <td>manual</td>\n",
       "      <td>0</td>\n",
       "      <td>golf</td>\n",
       "      <td>150000</td>\n",
       "      <td>0</td>\n",
       "      <td>petrol</td>\n",
       "      <td>volkswagen</td>\n",
       "      <td>NaN</td>\n",
       "      <td>2016-03-24 00:00:00</td>\n",
       "      <td>0</td>\n",
       "      <td>70435</td>\n",
       "      <td>2016-04-07 03:16:57</td>\n",
       "    </tr>\n",
       "    <tr>\n",
       "      <th>1</th>\n",
       "      <td>2016-03-24 10:58:45</td>\n",
       "      <td>18300</td>\n",
       "      <td>coupe</td>\n",
       "      <td>2011</td>\n",
       "      <td>manual</td>\n",
       "      <td>190</td>\n",
       "      <td>NaN</td>\n",
       "      <td>125000</td>\n",
       "      <td>5</td>\n",
       "      <td>gasoline</td>\n",
       "      <td>audi</td>\n",
       "      <td>yes</td>\n",
       "      <td>2016-03-24 00:00:00</td>\n",
       "      <td>0</td>\n",
       "      <td>66954</td>\n",
       "      <td>2016-04-07 01:46:50</td>\n",
       "    </tr>\n",
       "    <tr>\n",
       "      <th>2</th>\n",
       "      <td>2016-03-14 12:52:21</td>\n",
       "      <td>9800</td>\n",
       "      <td>suv</td>\n",
       "      <td>2004</td>\n",
       "      <td>auto</td>\n",
       "      <td>163</td>\n",
       "      <td>grand</td>\n",
       "      <td>125000</td>\n",
       "      <td>8</td>\n",
       "      <td>gasoline</td>\n",
       "      <td>jeep</td>\n",
       "      <td>NaN</td>\n",
       "      <td>2016-03-14 00:00:00</td>\n",
       "      <td>0</td>\n",
       "      <td>90480</td>\n",
       "      <td>2016-04-05 12:47:46</td>\n",
       "    </tr>\n",
       "    <tr>\n",
       "      <th>3</th>\n",
       "      <td>2016-03-17 16:54:04</td>\n",
       "      <td>1500</td>\n",
       "      <td>small</td>\n",
       "      <td>2001</td>\n",
       "      <td>manual</td>\n",
       "      <td>75</td>\n",
       "      <td>golf</td>\n",
       "      <td>150000</td>\n",
       "      <td>6</td>\n",
       "      <td>petrol</td>\n",
       "      <td>volkswagen</td>\n",
       "      <td>no</td>\n",
       "      <td>2016-03-17 00:00:00</td>\n",
       "      <td>0</td>\n",
       "      <td>91074</td>\n",
       "      <td>2016-03-17 17:40:17</td>\n",
       "    </tr>\n",
       "    <tr>\n",
       "      <th>4</th>\n",
       "      <td>2016-03-31 17:25:20</td>\n",
       "      <td>3600</td>\n",
       "      <td>small</td>\n",
       "      <td>2008</td>\n",
       "      <td>manual</td>\n",
       "      <td>69</td>\n",
       "      <td>fabia</td>\n",
       "      <td>90000</td>\n",
       "      <td>7</td>\n",
       "      <td>gasoline</td>\n",
       "      <td>skoda</td>\n",
       "      <td>no</td>\n",
       "      <td>2016-03-31 00:00:00</td>\n",
       "      <td>0</td>\n",
       "      <td>60437</td>\n",
       "      <td>2016-04-06 10:17:21</td>\n",
       "    </tr>\n",
       "  </tbody>\n",
       "</table>\n",
       "</div>"
      ],
      "text/plain": [
       "           DateCrawled  Price VehicleType  RegistrationYear Gearbox  Power  \\\n",
       "0  2016-03-24 11:52:17    480         NaN              1993  manual      0   \n",
       "1  2016-03-24 10:58:45  18300       coupe              2011  manual    190   \n",
       "2  2016-03-14 12:52:21   9800         suv              2004    auto    163   \n",
       "3  2016-03-17 16:54:04   1500       small              2001  manual     75   \n",
       "4  2016-03-31 17:25:20   3600       small              2008  manual     69   \n",
       "\n",
       "   Model  Kilometer  RegistrationMonth  FuelType       Brand Repaired  \\\n",
       "0   golf     150000                  0    petrol  volkswagen      NaN   \n",
       "1    NaN     125000                  5  gasoline        audi      yes   \n",
       "2  grand     125000                  8  gasoline        jeep      NaN   \n",
       "3   golf     150000                  6    petrol  volkswagen       no   \n",
       "4  fabia      90000                  7  gasoline       skoda       no   \n",
       "\n",
       "           DateCreated  NumberOfPictures  PostalCode             LastSeen  \n",
       "0  2016-03-24 00:00:00                 0       70435  2016-04-07 03:16:57  \n",
       "1  2016-03-24 00:00:00                 0       66954  2016-04-07 01:46:50  \n",
       "2  2016-03-14 00:00:00                 0       90480  2016-04-05 12:47:46  \n",
       "3  2016-03-17 00:00:00                 0       91074  2016-03-17 17:40:17  \n",
       "4  2016-03-31 00:00:00                 0       60437  2016-04-06 10:17:21  "
      ]
     },
     "execution_count": 4,
     "metadata": {},
     "output_type": "execute_result"
    }
   ],
   "source": [
    "df.head()"
   ]
  },
  {
   "cell_type": "markdown",
   "metadata": {},
   "source": [
    "\n",
    "**Признаки**\n",
    "* DateCrawled — дата скачивания анкеты из базы\n",
    "* VehicleType — тип автомобильного кузова\n",
    "* RegistrationYear — год регистрации автомобиля\n",
    "* Gearbox — тип коробки передач\n",
    "* Power — мощность (л. с.)\n",
    "* Model — модель автомобиля\n",
    "* Kilometer — пробег (км)\n",
    "* RegistrationMonth — месяц регистрации автомобиля\n",
    "* FuelType — тип топлива\n",
    "* Brand — марка автомобиля\n",
    "* Repaired — была машина в ремонте или нет\n",
    "* DateCreated — дата создания анкеты\n",
    "* NumberOfPictures — количество фотографий автомобиля\n",
    "* PostalCode — почтовый индекс владельца анкеты (пользователя)\n",
    "* LastSeen — дата последней активности пользователя\n",
    "\n",
    "**Целевой признак**\n",
    "* Price — цена (евро)"
   ]
  },
  {
   "cell_type": "code",
   "execution_count": 5,
   "metadata": {},
   "outputs": [],
   "source": [
    "df.columns = [col.lower() for col in df.columns]"
   ]
  },
  {
   "cell_type": "code",
   "execution_count": 6,
   "metadata": {
    "scrolled": true
   },
   "outputs": [
    {
     "data": {
      "text/html": [
       "<div>\n",
       "<style scoped>\n",
       "    .dataframe tbody tr th:only-of-type {\n",
       "        vertical-align: middle;\n",
       "    }\n",
       "\n",
       "    .dataframe tbody tr th {\n",
       "        vertical-align: top;\n",
       "    }\n",
       "\n",
       "    .dataframe thead th {\n",
       "        text-align: right;\n",
       "    }\n",
       "</style>\n",
       "<table border=\"1\" class=\"dataframe\">\n",
       "  <thead>\n",
       "    <tr style=\"text-align: right;\">\n",
       "      <th></th>\n",
       "      <th>datecrawled</th>\n",
       "      <th>price</th>\n",
       "      <th>vehicletype</th>\n",
       "      <th>registrationyear</th>\n",
       "      <th>gearbox</th>\n",
       "      <th>power</th>\n",
       "      <th>model</th>\n",
       "      <th>kilometer</th>\n",
       "      <th>registrationmonth</th>\n",
       "      <th>fueltype</th>\n",
       "      <th>brand</th>\n",
       "      <th>repaired</th>\n",
       "      <th>datecreated</th>\n",
       "      <th>numberofpictures</th>\n",
       "      <th>postalcode</th>\n",
       "      <th>lastseen</th>\n",
       "    </tr>\n",
       "  </thead>\n",
       "  <tbody>\n",
       "    <tr>\n",
       "      <th>0</th>\n",
       "      <td>2016-03-24 11:52:17</td>\n",
       "      <td>480</td>\n",
       "      <td>NaN</td>\n",
       "      <td>1993</td>\n",
       "      <td>manual</td>\n",
       "      <td>0</td>\n",
       "      <td>golf</td>\n",
       "      <td>150000</td>\n",
       "      <td>0</td>\n",
       "      <td>petrol</td>\n",
       "      <td>volkswagen</td>\n",
       "      <td>NaN</td>\n",
       "      <td>2016-03-24 00:00:00</td>\n",
       "      <td>0</td>\n",
       "      <td>70435</td>\n",
       "      <td>2016-04-07 03:16:57</td>\n",
       "    </tr>\n",
       "    <tr>\n",
       "      <th>1</th>\n",
       "      <td>2016-03-24 10:58:45</td>\n",
       "      <td>18300</td>\n",
       "      <td>coupe</td>\n",
       "      <td>2011</td>\n",
       "      <td>manual</td>\n",
       "      <td>190</td>\n",
       "      <td>NaN</td>\n",
       "      <td>125000</td>\n",
       "      <td>5</td>\n",
       "      <td>gasoline</td>\n",
       "      <td>audi</td>\n",
       "      <td>yes</td>\n",
       "      <td>2016-03-24 00:00:00</td>\n",
       "      <td>0</td>\n",
       "      <td>66954</td>\n",
       "      <td>2016-04-07 01:46:50</td>\n",
       "    </tr>\n",
       "    <tr>\n",
       "      <th>2</th>\n",
       "      <td>2016-03-14 12:52:21</td>\n",
       "      <td>9800</td>\n",
       "      <td>suv</td>\n",
       "      <td>2004</td>\n",
       "      <td>auto</td>\n",
       "      <td>163</td>\n",
       "      <td>grand</td>\n",
       "      <td>125000</td>\n",
       "      <td>8</td>\n",
       "      <td>gasoline</td>\n",
       "      <td>jeep</td>\n",
       "      <td>NaN</td>\n",
       "      <td>2016-03-14 00:00:00</td>\n",
       "      <td>0</td>\n",
       "      <td>90480</td>\n",
       "      <td>2016-04-05 12:47:46</td>\n",
       "    </tr>\n",
       "    <tr>\n",
       "      <th>3</th>\n",
       "      <td>2016-03-17 16:54:04</td>\n",
       "      <td>1500</td>\n",
       "      <td>small</td>\n",
       "      <td>2001</td>\n",
       "      <td>manual</td>\n",
       "      <td>75</td>\n",
       "      <td>golf</td>\n",
       "      <td>150000</td>\n",
       "      <td>6</td>\n",
       "      <td>petrol</td>\n",
       "      <td>volkswagen</td>\n",
       "      <td>no</td>\n",
       "      <td>2016-03-17 00:00:00</td>\n",
       "      <td>0</td>\n",
       "      <td>91074</td>\n",
       "      <td>2016-03-17 17:40:17</td>\n",
       "    </tr>\n",
       "    <tr>\n",
       "      <th>4</th>\n",
       "      <td>2016-03-31 17:25:20</td>\n",
       "      <td>3600</td>\n",
       "      <td>small</td>\n",
       "      <td>2008</td>\n",
       "      <td>manual</td>\n",
       "      <td>69</td>\n",
       "      <td>fabia</td>\n",
       "      <td>90000</td>\n",
       "      <td>7</td>\n",
       "      <td>gasoline</td>\n",
       "      <td>skoda</td>\n",
       "      <td>no</td>\n",
       "      <td>2016-03-31 00:00:00</td>\n",
       "      <td>0</td>\n",
       "      <td>60437</td>\n",
       "      <td>2016-04-06 10:17:21</td>\n",
       "    </tr>\n",
       "  </tbody>\n",
       "</table>\n",
       "</div>"
      ],
      "text/plain": [
       "           datecrawled  price vehicletype  registrationyear gearbox  power  \\\n",
       "0  2016-03-24 11:52:17    480         NaN              1993  manual      0   \n",
       "1  2016-03-24 10:58:45  18300       coupe              2011  manual    190   \n",
       "2  2016-03-14 12:52:21   9800         suv              2004    auto    163   \n",
       "3  2016-03-17 16:54:04   1500       small              2001  manual     75   \n",
       "4  2016-03-31 17:25:20   3600       small              2008  manual     69   \n",
       "\n",
       "   model  kilometer  registrationmonth  fueltype       brand repaired  \\\n",
       "0   golf     150000                  0    petrol  volkswagen      NaN   \n",
       "1    NaN     125000                  5  gasoline        audi      yes   \n",
       "2  grand     125000                  8  gasoline        jeep      NaN   \n",
       "3   golf     150000                  6    petrol  volkswagen       no   \n",
       "4  fabia      90000                  7  gasoline       skoda       no   \n",
       "\n",
       "           datecreated  numberofpictures  postalcode             lastseen  \n",
       "0  2016-03-24 00:00:00                 0       70435  2016-04-07 03:16:57  \n",
       "1  2016-03-24 00:00:00                 0       66954  2016-04-07 01:46:50  \n",
       "2  2016-03-14 00:00:00                 0       90480  2016-04-05 12:47:46  \n",
       "3  2016-03-17 00:00:00                 0       91074  2016-03-17 17:40:17  \n",
       "4  2016-03-31 00:00:00                 0       60437  2016-04-06 10:17:21  "
      ]
     },
     "execution_count": 6,
     "metadata": {},
     "output_type": "execute_result"
    }
   ],
   "source": [
    "df.head()"
   ]
  },
  {
   "cell_type": "code",
   "execution_count": 7,
   "metadata": {},
   "outputs": [
    {
     "name": "stdout",
     "output_type": "stream",
     "text": [
      "<class 'pandas.core.frame.DataFrame'>\n",
      "RangeIndex: 354369 entries, 0 to 354368\n",
      "Data columns (total 16 columns):\n",
      " #   Column             Non-Null Count   Dtype \n",
      "---  ------             --------------   ----- \n",
      " 0   datecrawled        354369 non-null  object\n",
      " 1   price              354369 non-null  int64 \n",
      " 2   vehicletype        316879 non-null  object\n",
      " 3   registrationyear   354369 non-null  int64 \n",
      " 4   gearbox            334536 non-null  object\n",
      " 5   power              354369 non-null  int64 \n",
      " 6   model              334664 non-null  object\n",
      " 7   kilometer          354369 non-null  int64 \n",
      " 8   registrationmonth  354369 non-null  int64 \n",
      " 9   fueltype           321474 non-null  object\n",
      " 10  brand              354369 non-null  object\n",
      " 11  repaired           283215 non-null  object\n",
      " 12  datecreated        354369 non-null  object\n",
      " 13  numberofpictures   354369 non-null  int64 \n",
      " 14  postalcode         354369 non-null  int64 \n",
      " 15  lastseen           354369 non-null  object\n",
      "dtypes: int64(7), object(9)\n",
      "memory usage: 43.3+ MB\n"
     ]
    }
   ],
   "source": [
    "df.info()"
   ]
  },
  {
   "cell_type": "code",
   "execution_count": 8,
   "metadata": {
    "scrolled": false
   },
   "outputs": [
    {
     "data": {
      "image/png": "[encoded data removed]",
      "text/plain": [
       "<Figure size 1080x720 with 9 Axes>"
      ]
     },
     "metadata": {
      "needs_background": "light"
     },
     "output_type": "display_data"
    }
   ],
   "source": [
    "df.hist(figsize=(15,10), bins=50, xrot=40);"
   ]
  },
  {
   "cell_type": "code",
   "execution_count": 9,
   "metadata": {
    "scrolled": true
   },
   "outputs": [
    {
     "data": {
      "text/plain": [
       "89"
      ]
     },
     "execution_count": 9,
     "metadata": {},
     "output_type": "execute_result"
    }
   ],
   "source": [
    "df.drop(columns=['datecrawled']).duplicated().sum()"
   ]
  },
  {
   "cell_type": "code",
   "execution_count": 10,
   "metadata": {},
   "outputs": [],
   "source": [
    "df.drop_duplicates(subset=df.columns[1:], inplace=True)"
   ]
  },
  {
   "cell_type": "markdown",
   "metadata": {},
   "source": [
    "### Обработка"
   ]
  },
  {
   "cell_type": "markdown",
   "metadata": {},
   "source": [
    "Сразу видны проблемы в данных:\n",
    "* Не хватает id пользователя для отслеживания дубликатов\n",
    "* Год регистрации и мощность автомобиля не все указывают верно\n",
    "* Число фото неинформативно\n",
    "* Для анализа дат необходимо привести их к одному формату daytime или взять хотя бы год\n",
    "* Что-то нужно сделать с индексом"
   ]
  },
  {
   "cell_type": "markdown",
   "metadata": {},
   "source": [
    "Почтовый индекс, в теории, может влиять на стоимость автомобиля. Первые три цифры отвечают за город, последние за отделение почты. Логично что в каких-то городах средняя стоимость автомобилей может сильно разниться, однако более точно будет предсказывать стоимость марка и модель авто, нежели город. К тому же это лишние категориальные признаки. Дропнем его"
   ]
  },
  {
   "cell_type": "code",
   "execution_count": 11,
   "metadata": {},
   "outputs": [],
   "source": [
    "df.drop(columns=['numberofpictures', 'postalcode'], inplace=True)"
   ]
  },
  {
   "cell_type": "code",
   "execution_count": 12,
   "metadata": {},
   "outputs": [],
   "source": [
    "df['datecrawled'] = pd.to_datetime(df['datecrawled'], format='%Y.%m.%dT%H:%M:%S')\n",
    "df['datecreated'] = pd.to_datetime(df['datecreated'], format='%Y.%m.%dT%H:%M:%S')\n",
    "df['lastseen'] = pd.to_datetime(df['lastseen'], format='%Y.%m.%dT%H:%M:%S')"
   ]
  },
  {
   "cell_type": "markdown",
   "metadata": {},
   "source": [
    "#### Обработка выбросов даты регистрации"
   ]
  },
  {
   "cell_type": "code",
   "execution_count": 13,
   "metadata": {
    "scrolled": true
   },
   "outputs": [
    {
     "data": {
      "text/plain": [
       "2018.0"
      ]
     },
     "execution_count": 13,
     "metadata": {},
     "output_type": "execute_result"
    }
   ],
   "source": [
    "df['registrationyear'].quantile(0.999)"
   ]
  },
  {
   "cell_type": "code",
   "execution_count": 14,
   "metadata": {},
   "outputs": [
    {
     "data": {
      "text/plain": [
       "1980.0"
      ]
     },
     "execution_count": 14,
     "metadata": {},
     "output_type": "execute_result"
    }
   ],
   "source": [
    "df['registrationyear'].quantile(0.01)"
   ]
  },
  {
   "cell_type": "code",
   "execution_count": 15,
   "metadata": {},
   "outputs": [],
   "source": [
    "df = df[df['registrationyear'] <= 2018]"
   ]
  },
  {
   "cell_type": "code",
   "execution_count": 16,
   "metadata": {},
   "outputs": [
    {
     "data": {
      "image/png": "[encoded data removed]",
      "text/plain": [
       "<Figure size 1080x360 with 1 Axes>"
      ]
     },
     "metadata": {
      "needs_background": "light"
     },
     "output_type": "display_data"
    }
   ],
   "source": [
    "df.query('registrationyear > 1900')['registrationyear'].hist(figsize=(15,5), bins=100);"
   ]
  },
  {
   "cell_type": "markdown",
   "metadata": {},
   "source": [
    "Если все что младше 2018 и старше 1960 года очевидно ошибка, то все что осталось в промежутке это вполне возможно. Дропать ли экстремальные значения вопрос филосовский. Если наша цель улучшить качество в среднем, а не на редкой группе, то стоит отбросить эти значения на тренировочной выборке."
   ]
  },
  {
   "cell_type": "markdown",
   "metadata": {},
   "source": [
    "#### Обработка выбросов мощности авто"
   ]
  },
  {
   "cell_type": "code",
   "execution_count": 17,
   "metadata": {
    "scrolled": true
   },
   "outputs": [
    {
     "data": {
      "text/plain": [
       "418.8079999999609"
      ]
     },
     "execution_count": 17,
     "metadata": {},
     "output_type": "execute_result"
    }
   ],
   "source": [
    "df['power'].quantile(0.998)"
   ]
  },
  {
   "cell_type": "markdown",
   "metadata": {},
   "source": [
    "Все что больше 400 это скорее всего выброс, нежели экстремальное значение - дропем перед формированием выборок"
   ]
  },
  {
   "cell_type": "code",
   "execution_count": 18,
   "metadata": {
    "scrolled": true
   },
   "outputs": [
    {
     "data": {
      "image/png": "[encoded data removed]",
      "text/plain": [
       "<Figure size 1080x360 with 1 Axes>"
      ]
     },
     "metadata": {
      "needs_background": "light"
     },
     "output_type": "display_data"
    }
   ],
   "source": [
    "df.query('power < 400')['power'].hist(figsize=(15,5), bins=100);"
   ]
  },
  {
   "cell_type": "code",
   "execution_count": 19,
   "metadata": {
    "scrolled": true
   },
   "outputs": [
    {
     "data": {
      "image/png": "[encoded data removed]",
      "text/plain": [
       "<Figure size 1080x360 with 1 Axes>"
      ]
     },
     "metadata": {
      "needs_background": "light"
     },
     "output_type": "display_data"
    }
   ],
   "source": [
    "df.query('power < 50')['power'].hist(figsize=(15,5), bins=100);"
   ]
  },
  {
   "cell_type": "code",
   "execution_count": 20,
   "metadata": {
    "scrolled": true
   },
   "outputs": [
    {
     "data": {
      "text/html": [
       "<div>\n",
       "<style scoped>\n",
       "    .dataframe tbody tr th:only-of-type {\n",
       "        vertical-align: middle;\n",
       "    }\n",
       "\n",
       "    .dataframe tbody tr th {\n",
       "        vertical-align: top;\n",
       "    }\n",
       "\n",
       "    .dataframe thead th {\n",
       "        text-align: right;\n",
       "    }\n",
       "</style>\n",
       "<table border=\"1\" class=\"dataframe\">\n",
       "  <thead>\n",
       "    <tr style=\"text-align: right;\">\n",
       "      <th></th>\n",
       "      <th>model</th>\n",
       "      <th>brand</th>\n",
       "      <th>price</th>\n",
       "    </tr>\n",
       "  </thead>\n",
       "  <tbody>\n",
       "    <tr>\n",
       "      <th>0</th>\n",
       "      <td>golf</td>\n",
       "      <td>volkswagen</td>\n",
       "      <td>480</td>\n",
       "    </tr>\n",
       "    <tr>\n",
       "      <th>15</th>\n",
       "      <td>ka</td>\n",
       "      <td>ford</td>\n",
       "      <td>450</td>\n",
       "    </tr>\n",
       "    <tr>\n",
       "      <th>32</th>\n",
       "      <td>golf</td>\n",
       "      <td>volkswagen</td>\n",
       "      <td>245</td>\n",
       "    </tr>\n",
       "    <tr>\n",
       "      <th>37</th>\n",
       "      <td>kangoo</td>\n",
       "      <td>renault</td>\n",
       "      <td>1500</td>\n",
       "    </tr>\n",
       "    <tr>\n",
       "      <th>40</th>\n",
       "      <td>corsa</td>\n",
       "      <td>opel</td>\n",
       "      <td>0</td>\n",
       "    </tr>\n",
       "    <tr>\n",
       "      <th>54</th>\n",
       "      <td>signum</td>\n",
       "      <td>opel</td>\n",
       "      <td>4700</td>\n",
       "    </tr>\n",
       "    <tr>\n",
       "      <th>55</th>\n",
       "      <td>astra</td>\n",
       "      <td>opel</td>\n",
       "      <td>550</td>\n",
       "    </tr>\n",
       "    <tr>\n",
       "      <th>69</th>\n",
       "      <td>astra</td>\n",
       "      <td>opel</td>\n",
       "      <td>1200</td>\n",
       "    </tr>\n",
       "    <tr>\n",
       "      <th>70</th>\n",
       "      <td>polo</td>\n",
       "      <td>volkswagen</td>\n",
       "      <td>800</td>\n",
       "    </tr>\n",
       "    <tr>\n",
       "      <th>90</th>\n",
       "      <td>a4</td>\n",
       "      <td>audi</td>\n",
       "      <td>2400</td>\n",
       "    </tr>\n",
       "  </tbody>\n",
       "</table>\n",
       "</div>"
      ],
      "text/plain": [
       "     model       brand  price\n",
       "0     golf  volkswagen    480\n",
       "15      ka        ford    450\n",
       "32    golf  volkswagen    245\n",
       "37  kangoo     renault   1500\n",
       "40   corsa        opel      0\n",
       "54  signum        opel   4700\n",
       "55   astra        opel    550\n",
       "69   astra        opel   1200\n",
       "70    polo  volkswagen    800\n",
       "90      a4        audi   2400"
      ]
     },
     "execution_count": 20,
     "metadata": {},
     "output_type": "execute_result"
    }
   ],
   "source": [
    "df.query('power == 0')[['model', 'brand', 'price']].head(10)"
   ]
  },
  {
   "cell_type": "code",
   "execution_count": 21,
   "metadata": {
    "scrolled": true
   },
   "outputs": [
    {
     "data": {
      "text/html": [
       "<div>\n",
       "<style scoped>\n",
       "    .dataframe tbody tr th:only-of-type {\n",
       "        vertical-align: middle;\n",
       "    }\n",
       "\n",
       "    .dataframe tbody tr th {\n",
       "        vertical-align: top;\n",
       "    }\n",
       "\n",
       "    .dataframe thead th {\n",
       "        text-align: right;\n",
       "    }\n",
       "</style>\n",
       "<table border=\"1\" class=\"dataframe\">\n",
       "  <thead>\n",
       "    <tr style=\"text-align: right;\">\n",
       "      <th></th>\n",
       "      <th>model</th>\n",
       "      <th>brand</th>\n",
       "      <th>price</th>\n",
       "    </tr>\n",
       "  </thead>\n",
       "  <tbody>\n",
       "    <tr>\n",
       "      <th>1</th>\n",
       "      <td>NaN</td>\n",
       "      <td>audi</td>\n",
       "      <td>18300</td>\n",
       "    </tr>\n",
       "    <tr>\n",
       "      <th>2</th>\n",
       "      <td>grand</td>\n",
       "      <td>jeep</td>\n",
       "      <td>9800</td>\n",
       "    </tr>\n",
       "    <tr>\n",
       "      <th>3</th>\n",
       "      <td>golf</td>\n",
       "      <td>volkswagen</td>\n",
       "      <td>1500</td>\n",
       "    </tr>\n",
       "    <tr>\n",
       "      <th>4</th>\n",
       "      <td>fabia</td>\n",
       "      <td>skoda</td>\n",
       "      <td>3600</td>\n",
       "    </tr>\n",
       "    <tr>\n",
       "      <th>5</th>\n",
       "      <td>3er</td>\n",
       "      <td>bmw</td>\n",
       "      <td>650</td>\n",
       "    </tr>\n",
       "    <tr>\n",
       "      <th>6</th>\n",
       "      <td>2_reihe</td>\n",
       "      <td>peugeot</td>\n",
       "      <td>2200</td>\n",
       "    </tr>\n",
       "    <tr>\n",
       "      <th>7</th>\n",
       "      <td>other</td>\n",
       "      <td>volkswagen</td>\n",
       "      <td>0</td>\n",
       "    </tr>\n",
       "    <tr>\n",
       "      <th>8</th>\n",
       "      <td>c_max</td>\n",
       "      <td>ford</td>\n",
       "      <td>14500</td>\n",
       "    </tr>\n",
       "    <tr>\n",
       "      <th>9</th>\n",
       "      <td>golf</td>\n",
       "      <td>volkswagen</td>\n",
       "      <td>999</td>\n",
       "    </tr>\n",
       "    <tr>\n",
       "      <th>10</th>\n",
       "      <td>3_reihe</td>\n",
       "      <td>mazda</td>\n",
       "      <td>2000</td>\n",
       "    </tr>\n",
       "  </tbody>\n",
       "</table>\n",
       "</div>"
      ],
      "text/plain": [
       "      model       brand  price\n",
       "1       NaN        audi  18300\n",
       "2     grand        jeep   9800\n",
       "3      golf  volkswagen   1500\n",
       "4     fabia       skoda   3600\n",
       "5       3er         bmw    650\n",
       "6   2_reihe     peugeot   2200\n",
       "7     other  volkswagen      0\n",
       "8     c_max        ford  14500\n",
       "9      golf  volkswagen    999\n",
       "10  3_reihe       mazda   2000"
      ]
     },
     "execution_count": 21,
     "metadata": {},
     "output_type": "execute_result"
    }
   ],
   "source": [
    "df.query('power != 0')[['model', 'brand', 'price']].head(10)"
   ]
  },
  {
   "cell_type": "markdown",
   "metadata": {},
   "source": [
    "Видно, что есть одинаковые модели в случае с нулевой мощностью и ненулевой. Посмотрим, это недочет пользователей, или это чем-то обусловлено"
   ]
  },
  {
   "cell_type": "code",
   "execution_count": 22,
   "metadata": {},
   "outputs": [],
   "source": [
    "df_check = df.copy()\n",
    "df_check['is_power_zero'] = df_check['power'].apply(lambda x: x == 0)"
   ]
  },
  {
   "cell_type": "code",
   "execution_count": 23,
   "metadata": {},
   "outputs": [
    {
     "data": {
      "image/png": "[encoded data removed]",
      "text/plain": [
       "<Figure size 1080x576 with 1 Axes>"
      ]
     },
     "metadata": {
      "needs_background": "light"
     },
     "output_type": "display_data"
    }
   ],
   "source": [
    "sns.histplot(df_check, x='price', hue='is_power_zero', element=\"poly\", bins = 50, stat=\"density\", common_norm=False)\n",
    "plt.gcf().set_size_inches(15,8);"
   ]
  },
  {
   "cell_type": "markdown",
   "metadata": {},
   "source": [
    "Судя о том что авто без мощности в целом стоят меньше наводит на мысль что они оказались в этой категории не случайно - дропать не станем"
   ]
  },
  {
   "cell_type": "markdown",
   "metadata": {},
   "source": [
    "#### Обработка даты создания заявления, даты выгрузки и даты последней активности"
   ]
  },
  {
   "cell_type": "code",
   "execution_count": 24,
   "metadata": {},
   "outputs": [
    {
     "data": {
      "image/png": "[encoded data removed]",
      "text/plain": [
       "<Figure size 1080x720 with 4 Axes>"
      ]
     },
     "metadata": {
      "needs_background": "light"
     },
     "output_type": "display_data"
    }
   ],
   "source": [
    "df[['datecrawled', 'datecreated', 'lastseen']].hist(figsize=(15,10), bins=50, xrot=40);"
   ]
  },
  {
   "cell_type": "markdown",
   "metadata": {},
   "source": [
    "Сам по себе год продажи мало на что влияет, а вот разность между годом продажи и регистрацией имеет уже несколько больший смысл. Однако здесь это не имеет значения - год продажи почти не меняется - данные за 16 - 18 года, поэтому от этого не будет толка. Дропнем дату продажи, время последней активности а так же дату выгрузки заявления, оставим лишь год регистрации."
   ]
  },
  {
   "cell_type": "code",
   "execution_count": 25,
   "metadata": {},
   "outputs": [],
   "source": [
    "df.drop(columns=['datecrawled', 'datecreated', 'registrationmonth', 'lastseen'], inplace=True)"
   ]
  },
  {
   "cell_type": "markdown",
   "metadata": {},
   "source": [
    "#### Обработка пропусков"
   ]
  },
  {
   "cell_type": "code",
   "execution_count": 26,
   "metadata": {
    "scrolled": false
   },
   "outputs": [
    {
     "name": "stdout",
     "output_type": "stream",
     "text": [
      "<class 'pandas.core.frame.DataFrame'>\n",
      "Int64Index: 354150 entries, 0 to 354368\n",
      "Data columns (total 10 columns):\n",
      " #   Column            Non-Null Count   Dtype \n",
      "---  ------            --------------   ----- \n",
      " 0   price             354150 non-null  int64 \n",
      " 1   vehicletype       316790 non-null  object\n",
      " 2   registrationyear  354150 non-null  int64 \n",
      " 3   gearbox           334405 non-null  object\n",
      " 4   power             354150 non-null  int64 \n",
      " 5   model             334492 non-null  object\n",
      " 6   kilometer         354150 non-null  int64 \n",
      " 7   fueltype          321344 non-null  object\n",
      " 8   brand             354150 non-null  object\n",
      " 9   repaired          283101 non-null  object\n",
      "dtypes: int64(4), object(6)\n",
      "memory usage: 29.7+ MB\n"
     ]
    }
   ],
   "source": [
    "df.info()"
   ]
  },
  {
   "cell_type": "code",
   "execution_count": 27,
   "metadata": {
    "scrolled": false
   },
   "outputs": [
    {
     "data": {
      "text/plain": [
       "array([nan, 'coupe', 'suv', 'small', 'sedan', 'convertible', 'bus',\n",
       "       'wagon', 'other'], dtype=object)"
      ]
     },
     "execution_count": 27,
     "metadata": {},
     "output_type": "execute_result"
    }
   ],
   "source": [
    "df['vehicletype'].unique()"
   ]
  },
  {
   "cell_type": "code",
   "execution_count": 28,
   "metadata": {},
   "outputs": [
    {
     "data": {
      "text/plain": [
       "array(['manual', 'auto', nan], dtype=object)"
      ]
     },
     "execution_count": 28,
     "metadata": {},
     "output_type": "execute_result"
    }
   ],
   "source": [
    "df['gearbox'].unique()"
   ]
  },
  {
   "cell_type": "code",
   "execution_count": 29,
   "metadata": {},
   "outputs": [
    {
     "data": {
      "text/plain": [
       "array(['petrol', 'gasoline', nan, 'lpg', 'other', 'hybrid', 'cng',\n",
       "       'electric'], dtype=object)"
      ]
     },
     "execution_count": 29,
     "metadata": {},
     "output_type": "execute_result"
    }
   ],
   "source": [
    "df['fueltype'].unique()"
   ]
  },
  {
   "cell_type": "code",
   "execution_count": 30,
   "metadata": {},
   "outputs": [
    {
     "data": {
      "text/plain": [
       "array([nan, 'yes', 'no'], dtype=object)"
      ]
     },
     "execution_count": 30,
     "metadata": {},
     "output_type": "execute_result"
    }
   ],
   "source": [
    "df['repaired'].unique()"
   ]
  },
  {
   "cell_type": "code",
   "execution_count": 31,
   "metadata": {},
   "outputs": [],
   "source": [
    "df.fillna('unknown', inplace=True)"
   ]
  },
  {
   "cell_type": "code",
   "execution_count": 32,
   "metadata": {
    "scrolled": true
   },
   "outputs": [
    {
     "name": "stdout",
     "output_type": "stream",
     "text": [
      "<class 'pandas.core.frame.DataFrame'>\n",
      "Int64Index: 354150 entries, 0 to 354368\n",
      "Data columns (total 10 columns):\n",
      " #   Column            Non-Null Count   Dtype \n",
      "---  ------            --------------   ----- \n",
      " 0   price             354150 non-null  int64 \n",
      " 1   vehicletype       354150 non-null  object\n",
      " 2   registrationyear  354150 non-null  int64 \n",
      " 3   gearbox           354150 non-null  object\n",
      " 4   power             354150 non-null  int64 \n",
      " 5   model             354150 non-null  object\n",
      " 6   kilometer         354150 non-null  int64 \n",
      " 7   fueltype          354150 non-null  object\n",
      " 8   brand             354150 non-null  object\n",
      " 9   repaired          354150 non-null  object\n",
      "dtypes: int64(4), object(6)\n",
      "memory usage: 29.7+ MB\n"
     ]
    }
   ],
   "source": [
    "df.info()"
   ]
  },
  {
   "cell_type": "code",
   "execution_count": 33,
   "metadata": {
    "scrolled": true
   },
   "outputs": [
    {
     "data": {
      "text/html": [
       "<div>\n",
       "<style scoped>\n",
       "    .dataframe tbody tr th:only-of-type {\n",
       "        vertical-align: middle;\n",
       "    }\n",
       "\n",
       "    .dataframe tbody tr th {\n",
       "        vertical-align: top;\n",
       "    }\n",
       "\n",
       "    .dataframe thead th {\n",
       "        text-align: right;\n",
       "    }\n",
       "</style>\n",
       "<table border=\"1\" class=\"dataframe\">\n",
       "  <thead>\n",
       "    <tr style=\"text-align: right;\">\n",
       "      <th></th>\n",
       "      <th>price</th>\n",
       "      <th>vehicletype</th>\n",
       "      <th>registrationyear</th>\n",
       "      <th>gearbox</th>\n",
       "      <th>power</th>\n",
       "      <th>model</th>\n",
       "      <th>kilometer</th>\n",
       "      <th>fueltype</th>\n",
       "      <th>brand</th>\n",
       "      <th>repaired</th>\n",
       "    </tr>\n",
       "  </thead>\n",
       "  <tbody>\n",
       "    <tr>\n",
       "      <th>0</th>\n",
       "      <td>480</td>\n",
       "      <td>unknown</td>\n",
       "      <td>1993</td>\n",
       "      <td>manual</td>\n",
       "      <td>0</td>\n",
       "      <td>golf</td>\n",
       "      <td>150000</td>\n",
       "      <td>petrol</td>\n",
       "      <td>volkswagen</td>\n",
       "      <td>unknown</td>\n",
       "    </tr>\n",
       "    <tr>\n",
       "      <th>1</th>\n",
       "      <td>18300</td>\n",
       "      <td>coupe</td>\n",
       "      <td>2011</td>\n",
       "      <td>manual</td>\n",
       "      <td>190</td>\n",
       "      <td>unknown</td>\n",
       "      <td>125000</td>\n",
       "      <td>gasoline</td>\n",
       "      <td>audi</td>\n",
       "      <td>yes</td>\n",
       "    </tr>\n",
       "    <tr>\n",
       "      <th>2</th>\n",
       "      <td>9800</td>\n",
       "      <td>suv</td>\n",
       "      <td>2004</td>\n",
       "      <td>auto</td>\n",
       "      <td>163</td>\n",
       "      <td>grand</td>\n",
       "      <td>125000</td>\n",
       "      <td>gasoline</td>\n",
       "      <td>jeep</td>\n",
       "      <td>unknown</td>\n",
       "    </tr>\n",
       "    <tr>\n",
       "      <th>3</th>\n",
       "      <td>1500</td>\n",
       "      <td>small</td>\n",
       "      <td>2001</td>\n",
       "      <td>manual</td>\n",
       "      <td>75</td>\n",
       "      <td>golf</td>\n",
       "      <td>150000</td>\n",
       "      <td>petrol</td>\n",
       "      <td>volkswagen</td>\n",
       "      <td>no</td>\n",
       "    </tr>\n",
       "    <tr>\n",
       "      <th>4</th>\n",
       "      <td>3600</td>\n",
       "      <td>small</td>\n",
       "      <td>2008</td>\n",
       "      <td>manual</td>\n",
       "      <td>69</td>\n",
       "      <td>fabia</td>\n",
       "      <td>90000</td>\n",
       "      <td>gasoline</td>\n",
       "      <td>skoda</td>\n",
       "      <td>no</td>\n",
       "    </tr>\n",
       "    <tr>\n",
       "      <th>5</th>\n",
       "      <td>650</td>\n",
       "      <td>sedan</td>\n",
       "      <td>1995</td>\n",
       "      <td>manual</td>\n",
       "      <td>102</td>\n",
       "      <td>3er</td>\n",
       "      <td>150000</td>\n",
       "      <td>petrol</td>\n",
       "      <td>bmw</td>\n",
       "      <td>yes</td>\n",
       "    </tr>\n",
       "    <tr>\n",
       "      <th>6</th>\n",
       "      <td>2200</td>\n",
       "      <td>convertible</td>\n",
       "      <td>2004</td>\n",
       "      <td>manual</td>\n",
       "      <td>109</td>\n",
       "      <td>2_reihe</td>\n",
       "      <td>150000</td>\n",
       "      <td>petrol</td>\n",
       "      <td>peugeot</td>\n",
       "      <td>no</td>\n",
       "    </tr>\n",
       "    <tr>\n",
       "      <th>7</th>\n",
       "      <td>0</td>\n",
       "      <td>sedan</td>\n",
       "      <td>1980</td>\n",
       "      <td>manual</td>\n",
       "      <td>50</td>\n",
       "      <td>other</td>\n",
       "      <td>40000</td>\n",
       "      <td>petrol</td>\n",
       "      <td>volkswagen</td>\n",
       "      <td>no</td>\n",
       "    </tr>\n",
       "    <tr>\n",
       "      <th>8</th>\n",
       "      <td>14500</td>\n",
       "      <td>bus</td>\n",
       "      <td>2014</td>\n",
       "      <td>manual</td>\n",
       "      <td>125</td>\n",
       "      <td>c_max</td>\n",
       "      <td>30000</td>\n",
       "      <td>petrol</td>\n",
       "      <td>ford</td>\n",
       "      <td>unknown</td>\n",
       "    </tr>\n",
       "    <tr>\n",
       "      <th>9</th>\n",
       "      <td>999</td>\n",
       "      <td>small</td>\n",
       "      <td>1998</td>\n",
       "      <td>manual</td>\n",
       "      <td>101</td>\n",
       "      <td>golf</td>\n",
       "      <td>150000</td>\n",
       "      <td>unknown</td>\n",
       "      <td>volkswagen</td>\n",
       "      <td>unknown</td>\n",
       "    </tr>\n",
       "  </tbody>\n",
       "</table>\n",
       "</div>"
      ],
      "text/plain": [
       "   price  vehicletype  registrationyear gearbox  power    model  kilometer  \\\n",
       "0    480      unknown              1993  manual      0     golf     150000   \n",
       "1  18300        coupe              2011  manual    190  unknown     125000   \n",
       "2   9800          suv              2004    auto    163    grand     125000   \n",
       "3   1500        small              2001  manual     75     golf     150000   \n",
       "4   3600        small              2008  manual     69    fabia      90000   \n",
       "5    650        sedan              1995  manual    102      3er     150000   \n",
       "6   2200  convertible              2004  manual    109  2_reihe     150000   \n",
       "7      0        sedan              1980  manual     50    other      40000   \n",
       "8  14500          bus              2014  manual    125    c_max      30000   \n",
       "9    999        small              1998  manual    101     golf     150000   \n",
       "\n",
       "   fueltype       brand repaired  \n",
       "0    petrol  volkswagen  unknown  \n",
       "1  gasoline        audi      yes  \n",
       "2  gasoline        jeep  unknown  \n",
       "3    petrol  volkswagen       no  \n",
       "4  gasoline       skoda       no  \n",
       "5    petrol         bmw      yes  \n",
       "6    petrol     peugeot       no  \n",
       "7    petrol  volkswagen       no  \n",
       "8    petrol        ford  unknown  \n",
       "9   unknown  volkswagen  unknown  "
      ]
     },
     "execution_count": 33,
     "metadata": {},
     "output_type": "execute_result"
    }
   ],
   "source": [
    "df.head(10)"
   ]
  },
  {
   "cell_type": "markdown",
   "metadata": {},
   "source": [
    "#### Проверка корреляций"
   ]
  },
  {
   "cell_type": "code",
   "execution_count": 34,
   "metadata": {
    "scrolled": false
   },
   "outputs": [
    {
     "name": "stdout",
     "output_type": "stream",
     "text": [
      "interval columns not set, guessing: ['price', 'registrationyear', 'power', 'kilometer']\n"
     ]
    },
    {
     "data": {
      "image/png": "[encoded data removed]",
      "text/plain": [
       "<Figure size 720x576 with 2 Axes>"
      ]
     },
     "metadata": {
      "needs_background": "light"
     },
     "output_type": "display_data"
    }
   ],
   "source": [
    "sns.heatmap(df.phik_matrix())\n",
    "plt.gcf().set_size_inches(10,8);"
   ]
  },
  {
   "cell_type": "markdown",
   "metadata": {},
   "source": [
    "Год регистрации и мощность двигателя практически не влияют на стоимость авто - можно отбросить эти признаки если модель будет плохо обучаться"
   ]
  },
  {
   "cell_type": "markdown",
   "metadata": {},
   "source": [
    "### Формирование выборок"
   ]
  },
  {
   "cell_type": "code",
   "execution_count": 36,
   "metadata": {},
   "outputs": [],
   "source": [
    "categorical_columns = [\n",
    "    'vehicletype', 'gearbox', 'model', 'fueltype', 'brand', 'repaired'\n",
    "]\n",
    "numerical_columns = ['registrationyear', 'power', 'kilometer']\n"
   ]
  },
  {
   "cell_type": "code",
   "execution_count": 37,
   "metadata": {},
   "outputs": [],
   "source": [
    "for feature in categorical_columns:\n",
    "    df[feature] = pd.Series(df[feature], dtype=\"category\")"
   ]
  },
  {
   "cell_type": "code",
   "execution_count": 38,
   "metadata": {},
   "outputs": [],
   "source": [
    "X_train, x_test, y_train, y_test = train_test_split(df.drop(columns=['price']), df['price'], \n",
    "                                                    test_size=0.25, random_state=42)"
   ]
  },
  {
   "cell_type": "markdown",
   "metadata": {},
   "source": [
    "## Обучение моделей"
   ]
  },
  {
   "cell_type": "markdown",
   "metadata": {},
   "source": [
    "Обучать будем деревянные модели, подберем для них сходные гиперпараметры и выберем наилучшие для каждой модели"
   ]
  },
  {
   "cell_type": "code",
   "execution_count": 39,
   "metadata": {},
   "outputs": [],
   "source": [
    "models_info_df = pd.DataFrame(index=['fit_time, s', 'pred_time, s', 'rmse'])"
   ]
  },
  {
   "cell_type": "code",
   "execution_count": 40,
   "metadata": {},
   "outputs": [],
   "source": [
    "def add_data_to_df(model, name, df=models_info_df):\n",
    "    df[name] = ([\n",
    "        model.refit_time_,\n",
    "        model.cv_results_['mean_score_time'][model.cv_results_['mean_test_score'].argmin()],\n",
    "        abs(model.best_score_)\n",
    "    ])"
   ]
  },
  {
   "cell_type": "markdown",
   "metadata": {},
   "source": [
    "### Случайный лес"
   ]
  },
  {
   "cell_type": "code",
   "execution_count": 41,
   "metadata": {},
   "outputs": [],
   "source": [
    "categorical_preprocessor = OrdinalEncoder(handle_unknown='use_encoded_value', unknown_value=-1)\n",
    "numerical_preprocessor = StandardScaler()\n",
    "\n",
    "preprocessor = ColumnTransformer([\n",
    "    ('ordinal_encoder', categorical_preprocessor, categorical_columns),\n",
    "    ('standard_scaler', numerical_preprocessor, numerical_columns)],\n",
    "    n_jobs=-1\n",
    ")"
   ]
  },
  {
   "cell_type": "code",
   "execution_count": 42,
   "metadata": {
    "scrolled": true
   },
   "outputs": [],
   "source": [
    "pipe = Pipeline([('pre', preprocessor), ('clf', RandomForestRegressor())])\n",
    "\n",
    "grid={\n",
    "    'clf__max_depth':list(np.arange(3, 40, step=3)),\n",
    "    'clf__n_estimators':np.arange(10, 100, step=10),\n",
    "    'clf__max_features':np.arange(1, 7),\n",
    "    'clf__min_samples_leaf':np.arange(1, 4),\n",
    "    'clf__min_samples_split':np.arange(2, 10, step=2)\n",
    "}\n",
    "\n",
    "random_forest_model = RandomizedSearchCV(pipe, grid, n_iter=10, cv=3, scoring='neg_root_mean_squared_error', n_jobs=-1, random_state=42)\n",
    "random_forest_model.fit(X_train, y_train);\n",
    "\n",
    "#cross_val_score(pipe, X_train, y_train, n_jobs=-1, scoring='neg_root_mean_squared_error', cv=3)"
   ]
  },
  {
   "cell_type": "code",
   "execution_count": 43,
   "metadata": {},
   "outputs": [],
   "source": [
    "add_data_to_df(random_forest_model, 'random_forest_model')"
   ]
  },
  {
   "cell_type": "code",
   "execution_count": 44,
   "metadata": {
    "scrolled": true
   },
   "outputs": [
    {
     "data": {
      "text/html": [
       "<div>\n",
       "<style scoped>\n",
       "    .dataframe tbody tr th:only-of-type {\n",
       "        vertical-align: middle;\n",
       "    }\n",
       "\n",
       "    .dataframe tbody tr th {\n",
       "        vertical-align: top;\n",
       "    }\n",
       "\n",
       "    .dataframe thead th {\n",
       "        text-align: right;\n",
       "    }\n",
       "</style>\n",
       "<table border=\"1\" class=\"dataframe\">\n",
       "  <thead>\n",
       "    <tr style=\"text-align: right;\">\n",
       "      <th></th>\n",
       "      <th>fit_time, s</th>\n",
       "      <th>pred_time, s</th>\n",
       "      <th>rmse</th>\n",
       "    </tr>\n",
       "  </thead>\n",
       "  <tbody>\n",
       "    <tr>\n",
       "      <th>random_forest_model</th>\n",
       "      <td>29.554896</td>\n",
       "      <td>0.30513</td>\n",
       "      <td>1751.165988</td>\n",
       "    </tr>\n",
       "  </tbody>\n",
       "</table>\n",
       "</div>"
      ],
      "text/plain": [
       "                     fit_time, s  pred_time, s         rmse\n",
       "random_forest_model    29.554896       0.30513  1751.165988"
      ]
     },
     "execution_count": 44,
     "metadata": {},
     "output_type": "execute_result"
    }
   ],
   "source": [
    "models_info_df.T"
   ]
  },
  {
   "cell_type": "code",
   "execution_count": 45,
   "metadata": {
    "scrolled": true
   },
   "outputs": [
    {
     "data": {
      "text/plain": [
       "{'clf__n_estimators': 80,\n",
       " 'clf__min_samples_split': 8,\n",
       " 'clf__min_samples_leaf': 2,\n",
       " 'clf__max_features': 4,\n",
       " 'clf__max_depth': 27}"
      ]
     },
     "execution_count": 45,
     "metadata": {},
     "output_type": "execute_result"
    }
   ],
   "source": [
    "random_forest_model.best_params_ "
   ]
  },
  {
   "cell_type": "markdown",
   "metadata": {},
   "source": [
    "### CatBoost"
   ]
  },
  {
   "cell_type": "code",
   "execution_count": 46,
   "metadata": {
    "scrolled": true
   },
   "outputs": [],
   "source": [
    "#cv_dataset = Pool(data=X_train, label=y_train, cat_features=categorical_columns)\n",
    "#cat_boost_model = CatBoostRegressor(loss_function='RMSE', iterations=100, verbose=False) \n",
    "\n",
    "#grid = {'learning_rate': [0.1, 0.3, 0.5],\n",
    "#        'depth': [6, 10, 12]}\n",
    "#\n",
    "#grid_search_result = cat_boost_model.grid_search(grid, cv_dataset, plot=True, cv=3)"
   ]
  },
  {
   "cell_type": "code",
   "execution_count": 47,
   "metadata": {
    "scrolled": true
   },
   "outputs": [],
   "source": [
    "pipe = Pipeline([('pre', preprocessor), ('clf', CatBoostRegressor(loss_function='RMSE', iterations=100, verbose=False))])\n",
    "\n",
    "grid={\n",
    "    'clf__depth':[6, 10, 12],\n",
    "    'clf__learning_rate': [0.3, 0.5, 1]\n",
    "}\n",
    "\n",
    "cat_boost_model = GridSearchCV(pipe, grid, cv=3, scoring='neg_root_mean_squared_error', n_jobs=-1)\n",
    "cat_boost_model.fit(X_train, y_train);"
   ]
  },
  {
   "cell_type": "code",
   "execution_count": 48,
   "metadata": {},
   "outputs": [],
   "source": [
    "add_data_to_df(cat_boost_model, 'cat_boost_model')"
   ]
  },
  {
   "cell_type": "code",
   "execution_count": 49,
   "metadata": {
    "scrolled": true
   },
   "outputs": [
    {
     "data": {
      "text/html": [
       "<div>\n",
       "<style scoped>\n",
       "    .dataframe tbody tr th:only-of-type {\n",
       "        vertical-align: middle;\n",
       "    }\n",
       "\n",
       "    .dataframe tbody tr th {\n",
       "        vertical-align: top;\n",
       "    }\n",
       "\n",
       "    .dataframe thead th {\n",
       "        text-align: right;\n",
       "    }\n",
       "</style>\n",
       "<table border=\"1\" class=\"dataframe\">\n",
       "  <thead>\n",
       "    <tr style=\"text-align: right;\">\n",
       "      <th></th>\n",
       "      <th>fit_time, s</th>\n",
       "      <th>pred_time, s</th>\n",
       "      <th>rmse</th>\n",
       "    </tr>\n",
       "  </thead>\n",
       "  <tbody>\n",
       "    <tr>\n",
       "      <th>random_forest_model</th>\n",
       "      <td>29.554896</td>\n",
       "      <td>0.30513</td>\n",
       "      <td>1751.165988</td>\n",
       "    </tr>\n",
       "    <tr>\n",
       "      <th>cat_boost_model</th>\n",
       "      <td>13.112234</td>\n",
       "      <td>0.36885</td>\n",
       "      <td>1767.580539</td>\n",
       "    </tr>\n",
       "  </tbody>\n",
       "</table>\n",
       "</div>"
      ],
      "text/plain": [
       "                     fit_time, s  pred_time, s         rmse\n",
       "random_forest_model    29.554896       0.30513  1751.165988\n",
       "cat_boost_model        13.112234       0.36885  1767.580539"
      ]
     },
     "execution_count": 49,
     "metadata": {},
     "output_type": "execute_result"
    }
   ],
   "source": [
    "models_info_df.T"
   ]
  },
  {
   "cell_type": "code",
   "execution_count": 50,
   "metadata": {},
   "outputs": [
    {
     "data": {
      "text/plain": [
       "{'clf__depth': 12, 'clf__learning_rate': 0.3}"
      ]
     },
     "execution_count": 50,
     "metadata": {},
     "output_type": "execute_result"
    }
   ],
   "source": [
    "cat_boost_model.best_params_ "
   ]
  },
  {
   "cell_type": "markdown",
   "metadata": {},
   "source": [
    "### LGBoost"
   ]
  },
  {
   "cell_type": "code",
   "execution_count": 52,
   "metadata": {
    "scrolled": false
   },
   "outputs": [],
   "source": [
    "pipe = Pipeline([('pre', preprocessor), ('clf', lgb.LGBMModel(objective=\"regression\", n_estimators=100))])\n",
    "\n",
    "grid={\n",
    "    'clf__max_depth':[6, 10, 12],\n",
    "    'clf__learning_rate': [0.3, 0.5, 1]\n",
    "}\n",
    "\n",
    "lgboost_model = GridSearchCV(pipe, grid, cv=3, scoring='neg_root_mean_squared_error', n_jobs=-1)\n",
    "lgboost_model.fit(X_train, y_train);"
   ]
  },
  {
   "cell_type": "code",
   "execution_count": 53,
   "metadata": {},
   "outputs": [],
   "source": [
    "add_data_to_df(lgboost_model, 'lgboost_model')"
   ]
  },
  {
   "cell_type": "code",
   "execution_count": 54,
   "metadata": {},
   "outputs": [
    {
     "data": {
      "text/html": [
       "<div>\n",
       "<style scoped>\n",
       "    .dataframe tbody tr th:only-of-type {\n",
       "        vertical-align: middle;\n",
       "    }\n",
       "\n",
       "    .dataframe tbody tr th {\n",
       "        vertical-align: top;\n",
       "    }\n",
       "\n",
       "    .dataframe thead th {\n",
       "        text-align: right;\n",
       "    }\n",
       "</style>\n",
       "<table border=\"1\" class=\"dataframe\">\n",
       "  <thead>\n",
       "    <tr style=\"text-align: right;\">\n",
       "      <th></th>\n",
       "      <th>fit_time, s</th>\n",
       "      <th>pred_time, s</th>\n",
       "      <th>rmse</th>\n",
       "    </tr>\n",
       "  </thead>\n",
       "  <tbody>\n",
       "    <tr>\n",
       "      <th>random_forest_model</th>\n",
       "      <td>29.554896</td>\n",
       "      <td>0.305130</td>\n",
       "      <td>1751.165988</td>\n",
       "    </tr>\n",
       "    <tr>\n",
       "      <th>cat_boost_model</th>\n",
       "      <td>13.112234</td>\n",
       "      <td>0.368850</td>\n",
       "      <td>1767.580539</td>\n",
       "    </tr>\n",
       "    <tr>\n",
       "      <th>lgboost_model</th>\n",
       "      <td>4.489944</td>\n",
       "      <td>0.574689</td>\n",
       "      <td>1795.669744</td>\n",
       "    </tr>\n",
       "  </tbody>\n",
       "</table>\n",
       "</div>"
      ],
      "text/plain": [
       "                     fit_time, s  pred_time, s         rmse\n",
       "random_forest_model    29.554896      0.305130  1751.165988\n",
       "cat_boost_model        13.112234      0.368850  1767.580539\n",
       "lgboost_model           4.489944      0.574689  1795.669744"
      ]
     },
     "execution_count": 54,
     "metadata": {},
     "output_type": "execute_result"
    }
   ],
   "source": [
    "models_info_df.T"
   ]
  },
  {
   "cell_type": "code",
   "execution_count": 55,
   "metadata": {},
   "outputs": [
    {
     "data": {
      "text/plain": [
       "{'clf__learning_rate': 0.3, 'clf__max_depth': 12}"
      ]
     },
     "execution_count": 55,
     "metadata": {},
     "output_type": "execute_result"
    }
   ],
   "source": [
    "lgboost_model.best_params_ "
   ]
  },
  {
   "cell_type": "markdown",
   "metadata": {},
   "source": [
    "## Анализ моделей и вывод"
   ]
  },
  {
   "cell_type": "code",
   "execution_count": 56,
   "metadata": {},
   "outputs": [
    {
     "data": {
      "text/html": [
       "<div>\n",
       "<style scoped>\n",
       "    .dataframe tbody tr th:only-of-type {\n",
       "        vertical-align: middle;\n",
       "    }\n",
       "\n",
       "    .dataframe tbody tr th {\n",
       "        vertical-align: top;\n",
       "    }\n",
       "\n",
       "    .dataframe thead th {\n",
       "        text-align: right;\n",
       "    }\n",
       "</style>\n",
       "<table border=\"1\" class=\"dataframe\">\n",
       "  <thead>\n",
       "    <tr style=\"text-align: right;\">\n",
       "      <th></th>\n",
       "      <th>fit_time, s</th>\n",
       "      <th>pred_time, s</th>\n",
       "      <th>rmse</th>\n",
       "    </tr>\n",
       "  </thead>\n",
       "  <tbody>\n",
       "    <tr>\n",
       "      <th>random_forest_model</th>\n",
       "      <td>29.554896</td>\n",
       "      <td>0.305130</td>\n",
       "      <td>1751.165988</td>\n",
       "    </tr>\n",
       "    <tr>\n",
       "      <th>cat_boost_model</th>\n",
       "      <td>13.112234</td>\n",
       "      <td>0.368850</td>\n",
       "      <td>1767.580539</td>\n",
       "    </tr>\n",
       "    <tr>\n",
       "      <th>lgboost_model</th>\n",
       "      <td>4.489944</td>\n",
       "      <td>0.574689</td>\n",
       "      <td>1795.669744</td>\n",
       "    </tr>\n",
       "  </tbody>\n",
       "</table>\n",
       "</div>"
      ],
      "text/plain": [
       "                     fit_time, s  pred_time, s         rmse\n",
       "random_forest_model    29.554896      0.305130  1751.165988\n",
       "cat_boost_model        13.112234      0.368850  1767.580539\n",
       "lgboost_model           4.489944      0.574689  1795.669744"
      ]
     },
     "execution_count": 56,
     "metadata": {},
     "output_type": "execute_result"
    }
   ],
   "source": [
    "models_info_df.T"
   ]
  },
  {
   "cell_type": "markdown",
   "metadata": {},
   "source": [
    "Заказчику важна не только метрика качества, но и время фита и предикта. Среди обученных моделей метрика качества меняется не сильно, как и время предикта, а вот время фита наоборот. Для lgboost `fit_time` на порядок меньше чем у других моделей, протестируем его. "
   ]
  },
  {
   "cell_type": "code",
   "execution_count": 57,
   "metadata": {},
   "outputs": [
    {
     "data": {
      "text/plain": [
       "1786.7661908577647"
      ]
     },
     "execution_count": 57,
     "metadata": {},
     "output_type": "execute_result"
    }
   ],
   "source": [
    "mean_squared_error(y_test, lgboost_model.predict(x_test))**0.5"
   ]
  },
  {
   "cell_type": "markdown",
   "metadata": {},
   "source": [
    "Как видно, модель прекрасно предсказывает тестовую выборку, сверим значения с наивным регрессором"
   ]
  },
  {
   "cell_type": "code",
   "execution_count": 58,
   "metadata": {},
   "outputs": [
    {
     "data": {
      "text/plain": [
       "4523.773673727047"
      ]
     },
     "execution_count": 58,
     "metadata": {},
     "output_type": "execute_result"
    }
   ],
   "source": [
    "dummy = DummyRegressor(strategy=\"mean\")\n",
    "dummy.fit(X_train, y_train)\n",
    "\n",
    "mean_squared_error(y_test, dummy.predict(x_test))**0.5"
   ]
  },
  {
   "cell_type": "markdown",
   "metadata": {},
   "source": [
    "Как видно,  lgboost показывает себя значительно лучше, а значит модель адекватна"
   ]
  },
  {
   "cell_type": "markdown",
   "metadata": {},
   "source": [
    "## Вывод\n",
    "* Быстрее всех среди деревянных моделей обучается LightGBM.\n",
    "* Самые лучшие метрики у CatBoost и random_forest. Они отличаются незначительно. Но и скорость обучения самая долгая.\n",
    "* Самые оптимальные показатели времени предсказания/качества модели - LightGBM."
   ]
  },
  {
   "cell_type": "markdown",
   "metadata": {},
   "source": [
    "* В целом, все модели предсказывают довольно быстро - меньше секунды, но все же для заказчика важна скорость предсказания и метрика, потому лучшая модель - LightGBM с параметрами: max_depth: 12, learning_rate: 0.3, n_estimators=100"
   ]
  }
 ],
 "metadata": {
  "ExecuteTimeLog": [
   {
    "duration": 1406,
    "start_time": "2023-01-27T23:46:02.462Z"
   },
   {
    "duration": 3570,
    "start_time": "2023-01-27T23:46:34.961Z"
   },
   {
    "duration": 24,
    "start_time": "2023-01-27T23:46:43.281Z"
   },
   {
    "duration": 4,
    "start_time": "2023-01-27T23:59:08.018Z"
   },
   {
    "duration": 20,
    "start_time": "2023-01-27T23:59:22.819Z"
   },
   {
    "duration": 235,
    "start_time": "2023-01-27T23:59:28.391Z"
   },
   {
    "duration": 1925,
    "start_time": "2023-01-28T00:40:40.574Z"
   },
   {
    "duration": 1748,
    "start_time": "2023-01-28T00:40:52.982Z"
   },
   {
    "duration": 2745,
    "start_time": "2023-01-28T00:41:31.808Z"
   },
   {
    "duration": 8,
    "start_time": "2023-01-28T00:41:51.010Z"
   },
   {
    "duration": 2184,
    "start_time": "2023-01-28T00:42:07.650Z"
   },
   {
    "duration": 167,
    "start_time": "2023-01-28T00:48:05.040Z"
   },
   {
    "duration": 96,
    "start_time": "2023-01-28T00:48:38.210Z"
   },
   {
    "duration": 49,
    "start_time": "2023-01-28T00:48:43.901Z"
   },
   {
    "duration": 117,
    "start_time": "2023-01-28T00:49:25.500Z"
   },
   {
    "duration": 113,
    "start_time": "2023-01-28T00:49:36.210Z"
   },
   {
    "duration": 78,
    "start_time": "2023-01-28T00:52:09.020Z"
   },
   {
    "duration": 74,
    "start_time": "2023-01-28T00:54:10.720Z"
   },
   {
    "duration": 137,
    "start_time": "2023-01-28T00:55:53.860Z"
   },
   {
    "duration": 98,
    "start_time": "2023-01-28T00:56:01.899Z"
   },
   {
    "duration": 2091,
    "start_time": "2023-01-28T00:56:04.070Z"
   },
   {
    "duration": 856,
    "start_time": "2023-01-28T00:57:10.630Z"
   },
   {
    "duration": 1787,
    "start_time": "2023-01-28T00:57:20.389Z"
   },
   {
    "duration": 2144,
    "start_time": "2023-01-28T00:57:25.570Z"
   },
   {
    "duration": 1675,
    "start_time": "2023-01-28T00:57:33.329Z"
   },
   {
    "duration": 111,
    "start_time": "2023-01-28T00:57:51.300Z"
   },
   {
    "duration": 20,
    "start_time": "2023-01-28T01:02:11.729Z"
   },
   {
    "duration": 48,
    "start_time": "2023-01-28T01:05:10.969Z"
   },
   {
    "duration": 46,
    "start_time": "2023-01-28T01:05:29.341Z"
   },
   {
    "duration": 47,
    "start_time": "2023-01-28T01:06:56.350Z"
   },
   {
    "duration": 385,
    "start_time": "2023-01-28T01:07:06.816Z"
   },
   {
    "duration": 54,
    "start_time": "2023-01-28T01:07:45.730Z"
   },
   {
    "duration": 2673,
    "start_time": "2023-01-28T01:08:45.750Z"
   },
   {
    "duration": 3,
    "start_time": "2023-01-28T01:08:52.680Z"
   },
   {
    "duration": 720,
    "start_time": "2023-01-28T01:08:52.940Z"
   },
   {
    "duration": 14,
    "start_time": "2023-01-28T01:08:53.661Z"
   },
   {
    "duration": 3,
    "start_time": "2023-01-28T01:08:53.740Z"
   },
   {
    "duration": 13,
    "start_time": "2023-01-28T01:08:54.100Z"
   },
   {
    "duration": 126,
    "start_time": "2023-01-28T01:08:54.540Z"
   },
   {
    "duration": 134,
    "start_time": "2023-01-28T01:08:56.668Z"
   },
   {
    "duration": 27,
    "start_time": "2023-01-28T01:08:56.940Z"
   },
   {
    "duration": 3432,
    "start_time": "2023-01-28T01:08:57.570Z"
   },
   {
    "duration": 1286,
    "start_time": "2023-01-28T01:09:01.005Z"
   },
   {
    "duration": 11,
    "start_time": "2023-01-28T01:10:38.740Z"
   },
   {
    "duration": 804,
    "start_time": "2023-01-28T01:10:38.940Z"
   },
   {
    "duration": 15,
    "start_time": "2023-01-28T01:10:39.746Z"
   },
   {
    "duration": 6,
    "start_time": "2023-01-28T01:10:39.763Z"
   },
   {
    "duration": 13,
    "start_time": "2023-01-28T01:10:39.950Z"
   },
   {
    "duration": 123,
    "start_time": "2023-01-28T01:10:41.550Z"
   },
   {
    "duration": 1146,
    "start_time": "2023-01-28T01:10:43.190Z"
   },
   {
    "duration": 56,
    "start_time": "2023-01-28T01:20:43.501Z"
   },
   {
    "duration": 35,
    "start_time": "2023-01-28T01:20:51.111Z"
   },
   {
    "duration": 168,
    "start_time": "2023-01-28T01:22:45.750Z"
   },
   {
    "duration": 100,
    "start_time": "2023-01-28T01:22:48.920Z"
   },
   {
    "duration": 396,
    "start_time": "2023-01-28T01:23:36.291Z"
   },
   {
    "duration": 9,
    "start_time": "2023-01-28T01:24:06.911Z"
   },
   {
    "duration": 10,
    "start_time": "2023-01-28T01:24:22.638Z"
   },
   {
    "duration": 43,
    "start_time": "2023-01-28T01:25:32.361Z"
   },
   {
    "duration": 1475,
    "start_time": "2023-01-28T01:25:34.649Z"
   },
   {
    "duration": 9,
    "start_time": "2023-01-28T01:25:51.932Z"
   },
   {
    "duration": 10,
    "start_time": "2023-01-28T01:26:11.591Z"
   },
   {
    "duration": 10,
    "start_time": "2023-01-28T01:26:13.871Z"
   },
   {
    "duration": 10,
    "start_time": "2023-01-28T01:27:51.811Z"
   },
   {
    "duration": 10,
    "start_time": "2023-01-28T01:27:54.660Z"
   },
   {
    "duration": 221,
    "start_time": "2023-01-28T01:35:27.548Z"
   },
   {
    "duration": 344,
    "start_time": "2023-01-28T01:35:35.547Z"
   },
   {
    "duration": 349,
    "start_time": "2023-01-28T01:36:00.996Z"
   },
   {
    "duration": 853,
    "start_time": "2023-01-28T01:37:25.319Z"
   },
   {
    "duration": 345,
    "start_time": "2023-01-28T01:37:30.319Z"
   },
   {
    "duration": 321,
    "start_time": "2023-01-28T01:37:35.777Z"
   },
   {
    "duration": 9,
    "start_time": "2023-01-28T01:38:22.039Z"
   },
   {
    "duration": 10,
    "start_time": "2023-01-28T01:38:43.757Z"
   },
   {
    "duration": 12,
    "start_time": "2023-01-28T01:39:29.435Z"
   },
   {
    "duration": 9,
    "start_time": "2023-01-28T01:39:32.557Z"
   },
   {
    "duration": 10,
    "start_time": "2023-01-28T01:39:37.007Z"
   },
   {
    "duration": 10,
    "start_time": "2023-01-28T01:39:40.388Z"
   },
   {
    "duration": 29,
    "start_time": "2023-01-28T01:40:24.037Z"
   },
   {
    "duration": 314,
    "start_time": "2023-01-28T01:40:29.895Z"
   },
   {
    "duration": 306,
    "start_time": "2023-01-28T01:41:12.157Z"
   },
   {
    "duration": 290,
    "start_time": "2023-01-28T01:43:26.888Z"
   },
   {
    "duration": 285,
    "start_time": "2023-01-28T01:43:32.183Z"
   },
   {
    "duration": 10,
    "start_time": "2023-01-28T01:43:35.997Z"
   },
   {
    "duration": 307,
    "start_time": "2023-01-28T01:43:38.409Z"
   },
   {
    "duration": 42,
    "start_time": "2023-01-28T01:43:53.350Z"
   },
   {
    "duration": 25,
    "start_time": "2023-01-28T01:44:05.767Z"
   },
   {
    "duration": 11,
    "start_time": "2023-01-28T01:46:10.624Z"
   },
   {
    "duration": 284,
    "start_time": "2023-01-28T01:47:24.088Z"
   },
   {
    "duration": 67,
    "start_time": "2023-01-28T01:50:00.111Z"
   },
   {
    "duration": 412,
    "start_time": "2023-01-28T01:50:06.064Z"
   },
   {
    "duration": 98,
    "start_time": "2023-01-28T01:50:13.987Z"
   },
   {
    "duration": 341,
    "start_time": "2023-01-28T01:50:58.557Z"
   },
   {
    "duration": 50,
    "start_time": "2023-01-28T01:51:09.977Z"
   },
   {
    "duration": 87,
    "start_time": "2023-01-28T01:51:12.387Z"
   },
   {
    "duration": 45,
    "start_time": "2023-01-28T01:55:05.950Z"
   },
   {
    "duration": 253,
    "start_time": "2023-01-28T02:01:42.622Z"
   },
   {
    "duration": 243,
    "start_time": "2023-01-28T02:01:47.594Z"
   },
   {
    "duration": 248,
    "start_time": "2023-01-28T02:01:52.084Z"
   },
   {
    "duration": 249,
    "start_time": "2023-01-28T02:01:55.374Z"
   },
   {
    "duration": 238,
    "start_time": "2023-01-28T02:02:00.484Z"
   },
   {
    "duration": 253,
    "start_time": "2023-01-28T02:02:04.703Z"
   },
   {
    "duration": 249,
    "start_time": "2023-01-28T02:02:15.797Z"
   },
   {
    "duration": 26,
    "start_time": "2023-01-28T02:06:26.695Z"
   },
   {
    "duration": 24,
    "start_time": "2023-01-28T02:06:37.452Z"
   },
   {
    "duration": 9,
    "start_time": "2023-01-28T02:07:15.582Z"
   },
   {
    "duration": 42,
    "start_time": "2023-01-28T02:07:25.424Z"
   },
   {
    "duration": 101,
    "start_time": "2023-01-28T02:09:06.495Z"
   },
   {
    "duration": 11,
    "start_time": "2023-01-28T02:10:36.154Z"
   },
   {
    "duration": 11,
    "start_time": "2023-01-28T02:10:38.384Z"
   },
   {
    "duration": 12,
    "start_time": "2023-01-28T02:10:40.323Z"
   },
   {
    "duration": 4,
    "start_time": "2023-01-28T02:10:45.624Z"
   },
   {
    "duration": 63,
    "start_time": "2023-01-28T02:10:55.849Z"
   },
   {
    "duration": 38,
    "start_time": "2023-01-28T02:11:07.815Z"
   },
   {
    "duration": 48,
    "start_time": "2023-01-28T02:11:22.721Z"
   },
   {
    "duration": 11,
    "start_time": "2023-01-28T02:11:35.114Z"
   },
   {
    "duration": 50,
    "start_time": "2023-01-28T02:11:39.784Z"
   },
   {
    "duration": 46,
    "start_time": "2023-01-28T02:11:49.209Z"
   },
   {
    "duration": 48,
    "start_time": "2023-01-28T02:12:06.174Z"
   },
   {
    "duration": 71,
    "start_time": "2023-01-28T02:12:51.593Z"
   },
   {
    "duration": 79,
    "start_time": "2023-01-28T02:13:08.824Z"
   },
   {
    "duration": 64,
    "start_time": "2023-01-28T02:13:19.941Z"
   },
   {
    "duration": 64,
    "start_time": "2023-01-28T02:14:01.260Z"
   },
   {
    "duration": 66,
    "start_time": "2023-01-28T02:17:47.108Z"
   },
   {
    "duration": 21,
    "start_time": "2023-01-28T02:19:20.878Z"
   },
   {
    "duration": 40,
    "start_time": "2023-01-28T02:22:35.938Z"
   },
   {
    "duration": 42,
    "start_time": "2023-01-28T02:23:53.878Z"
   },
   {
    "duration": 44,
    "start_time": "2023-01-28T02:24:20.579Z"
   },
   {
    "duration": 45,
    "start_time": "2023-01-28T02:24:27.564Z"
   },
   {
    "duration": 8,
    "start_time": "2023-01-28T02:24:39.538Z"
   },
   {
    "duration": 6,
    "start_time": "2023-01-28T02:24:47.296Z"
   },
   {
    "duration": 5,
    "start_time": "2023-01-28T02:24:52.649Z"
   },
   {
    "duration": 48,
    "start_time": "2023-01-28T02:25:16.186Z"
   },
   {
    "duration": 57,
    "start_time": "2023-01-28T02:25:39.756Z"
   },
   {
    "duration": 4,
    "start_time": "2023-01-28T02:26:02.181Z"
   },
   {
    "duration": 11,
    "start_time": "2023-01-28T02:27:03.792Z"
   },
   {
    "duration": 259,
    "start_time": "2023-01-28T02:27:08.382Z"
   },
   {
    "duration": 4,
    "start_time": "2023-01-28T02:34:02.800Z"
   },
   {
    "duration": 191,
    "start_time": "2023-01-28T02:34:03.749Z"
   },
   {
    "duration": 4533,
    "start_time": "2023-01-28T02:34:49.763Z"
   },
   {
    "duration": 289,
    "start_time": "2023-01-28T02:35:08.722Z"
   },
   {
    "duration": 1271,
    "start_time": "2023-01-28T11:11:26.619Z"
   },
   {
    "duration": 2899,
    "start_time": "2023-01-28T11:11:27.892Z"
   },
   {
    "duration": 16,
    "start_time": "2023-01-28T11:11:30.793Z"
   },
   {
    "duration": 11,
    "start_time": "2023-01-28T11:11:30.811Z"
   },
   {
    "duration": 29,
    "start_time": "2023-01-28T11:11:30.824Z"
   },
   {
    "duration": 107,
    "start_time": "2023-01-28T11:11:31.132Z"
   },
   {
    "duration": 1109,
    "start_time": "2023-01-28T11:11:31.846Z"
   },
   {
    "duration": 384,
    "start_time": "2023-01-28T11:11:33.053Z"
   },
   {
    "duration": 155,
    "start_time": "2023-01-28T11:11:33.439Z"
   },
   {
    "duration": 43,
    "start_time": "2023-01-28T11:12:17.540Z"
   },
   {
    "duration": 107,
    "start_time": "2023-01-28T11:12:17.751Z"
   },
   {
    "duration": 9,
    "start_time": "2023-01-28T11:12:21.042Z"
   },
   {
    "duration": 8,
    "start_time": "2023-01-28T11:12:21.456Z"
   },
   {
    "duration": 373,
    "start_time": "2023-01-28T11:12:23.232Z"
   },
   {
    "duration": 10,
    "start_time": "2023-01-28T11:12:47.131Z"
   },
   {
    "duration": 31,
    "start_time": "2023-01-28T11:12:47.346Z"
   },
   {
    "duration": 8,
    "start_time": "2023-01-28T11:12:47.692Z"
   },
   {
    "duration": 300,
    "start_time": "2023-01-28T11:12:48.127Z"
   },
   {
    "duration": 8,
    "start_time": "2023-01-28T11:13:07.118Z"
   },
   {
    "duration": 17,
    "start_time": "2023-01-28T11:15:04.255Z"
   },
   {
    "duration": 25,
    "start_time": "2023-01-28T11:15:15.226Z"
   },
   {
    "duration": 15,
    "start_time": "2023-01-28T11:15:52.434Z"
   },
   {
    "duration": 30,
    "start_time": "2023-01-28T11:15:56.965Z"
   },
   {
    "duration": 834,
    "start_time": "2023-01-28T11:16:16.539Z"
   },
   {
    "duration": 19,
    "start_time": "2023-01-28T11:16:28.735Z"
   },
   {
    "duration": 38,
    "start_time": "2023-01-28T11:16:34.674Z"
   },
   {
    "duration": 20,
    "start_time": "2023-01-28T11:16:56.093Z"
   },
   {
    "duration": 39,
    "start_time": "2023-01-28T11:16:56.343Z"
   },
   {
    "duration": 4,
    "start_time": "2023-01-28T11:21:18.858Z"
   },
   {
    "duration": 4,
    "start_time": "2023-01-28T11:21:22.183Z"
   },
   {
    "duration": 37,
    "start_time": "2023-01-28T11:22:22.019Z"
   },
   {
    "duration": 24,
    "start_time": "2023-01-28T11:22:26.554Z"
   },
   {
    "duration": 2,
    "start_time": "2023-01-28T11:22:37.776Z"
   },
   {
    "duration": 693,
    "start_time": "2023-01-28T11:22:37.945Z"
   },
   {
    "duration": 12,
    "start_time": "2023-01-28T11:22:38.640Z"
   },
   {
    "duration": 9,
    "start_time": "2023-01-28T11:22:38.653Z"
   },
   {
    "duration": 21,
    "start_time": "2023-01-28T11:22:38.663Z"
   },
   {
    "duration": 111,
    "start_time": "2023-01-28T11:22:38.726Z"
   },
   {
    "duration": 1064,
    "start_time": "2023-01-28T11:22:38.859Z"
   },
   {
    "duration": 346,
    "start_time": "2023-01-28T11:22:39.925Z"
   },
   {
    "duration": 134,
    "start_time": "2023-01-28T11:22:40.273Z"
   },
   {
    "duration": 35,
    "start_time": "2023-01-28T11:22:40.626Z"
   },
   {
    "duration": 109,
    "start_time": "2023-01-28T11:22:41.667Z"
   },
   {
    "duration": 8,
    "start_time": "2023-01-28T11:22:42.239Z"
   },
   {
    "duration": 7,
    "start_time": "2023-01-28T11:22:42.381Z"
   },
   {
    "duration": 30,
    "start_time": "2023-01-28T11:22:42.570Z"
   },
   {
    "duration": 373,
    "start_time": "2023-01-28T11:22:42.748Z"
   },
   {
    "duration": 8,
    "start_time": "2023-01-28T11:22:43.668Z"
   },
   {
    "duration": 302,
    "start_time": "2023-01-28T11:22:44.058Z"
   },
   {
    "duration": 260,
    "start_time": "2023-01-28T11:22:44.438Z"
   },
   {
    "duration": 22,
    "start_time": "2023-01-28T11:22:45.357Z"
   },
   {
    "duration": 35,
    "start_time": "2023-01-28T11:22:45.820Z"
   },
   {
    "duration": 47,
    "start_time": "2023-01-28T11:22:48.247Z"
   },
   {
    "duration": 22,
    "start_time": "2023-01-28T11:22:50.348Z"
   },
   {
    "duration": 7782,
    "start_time": "2023-01-28T11:23:36.375Z"
   },
   {
    "duration": 66,
    "start_time": "2023-01-28T11:24:02.534Z"
   },
   {
    "duration": 8112,
    "start_time": "2023-01-28T11:24:03.127Z"
   },
   {
    "duration": 7796,
    "start_time": "2023-01-28T11:24:36.118Z"
   },
   {
    "duration": 326,
    "start_time": "2023-01-28T11:30:53.622Z"
   },
   {
    "duration": 269,
    "start_time": "2023-01-28T11:31:26.510Z"
   },
   {
    "duration": 605,
    "start_time": "2023-01-28T11:31:43.640Z"
   },
   {
    "duration": 243,
    "start_time": "2023-01-28T11:31:58.764Z"
   },
   {
    "duration": 237,
    "start_time": "2023-01-28T11:32:27.040Z"
   },
   {
    "duration": 259,
    "start_time": "2023-01-28T11:32:30.619Z"
   },
   {
    "duration": 309,
    "start_time": "2023-01-28T11:32:36.184Z"
   },
   {
    "duration": 260,
    "start_time": "2023-01-28T11:32:43.941Z"
   },
   {
    "duration": 347,
    "start_time": "2023-01-28T11:32:49.376Z"
   },
   {
    "duration": 230,
    "start_time": "2023-01-28T11:33:00.826Z"
   },
   {
    "duration": 255,
    "start_time": "2023-01-28T11:33:11.920Z"
   },
   {
    "duration": 256,
    "start_time": "2023-01-28T11:34:26.810Z"
   },
   {
    "duration": 118,
    "start_time": "2023-01-28T11:34:57.889Z"
   },
   {
    "duration": 270,
    "start_time": "2023-01-28T11:35:09.410Z"
   },
   {
    "duration": 273,
    "start_time": "2023-01-28T11:38:29.948Z"
   },
   {
    "duration": 260,
    "start_time": "2023-01-28T11:38:33.363Z"
   },
   {
    "duration": 14,
    "start_time": "2023-01-28T11:49:03.764Z"
   },
   {
    "duration": 89,
    "start_time": "2023-01-28T11:49:04.718Z"
   },
   {
    "duration": 1551,
    "start_time": "2023-01-28T11:49:06.061Z"
   },
   {
    "duration": 3,
    "start_time": "2023-01-28T11:50:38.877Z"
   },
   {
    "duration": 716,
    "start_time": "2023-01-28T11:50:39.021Z"
   },
   {
    "duration": 14,
    "start_time": "2023-01-28T11:50:39.739Z"
   },
   {
    "duration": 4,
    "start_time": "2023-01-28T11:50:39.852Z"
   },
   {
    "duration": 13,
    "start_time": "2023-01-28T11:50:40.721Z"
   },
   {
    "duration": 110,
    "start_time": "2023-01-28T11:50:41.677Z"
   },
   {
    "duration": 1266,
    "start_time": "2023-01-28T11:50:44.335Z"
   },
   {
    "duration": 320,
    "start_time": "2023-01-28T11:50:47.788Z"
   },
   {
    "duration": 117,
    "start_time": "2023-01-28T11:50:48.572Z"
   },
   {
    "duration": 12,
    "start_time": "2023-01-28T11:50:55.961Z"
   },
   {
    "duration": 84,
    "start_time": "2023-01-28T11:50:58.421Z"
   },
   {
    "duration": 254,
    "start_time": "2023-01-28T11:51:44.676Z"
   },
   {
    "duration": 247,
    "start_time": "2023-01-28T11:52:14.048Z"
   },
   {
    "duration": 116,
    "start_time": "2023-01-28T11:52:16.402Z"
   },
   {
    "duration": 239,
    "start_time": "2023-01-28T11:52:17.017Z"
   },
   {
    "duration": 96,
    "start_time": "2023-01-28T11:52:18.089Z"
   },
   {
    "duration": 119,
    "start_time": "2023-01-28T11:52:31.497Z"
   },
   {
    "duration": 250,
    "start_time": "2023-01-28T11:52:32.731Z"
   },
   {
    "duration": 101,
    "start_time": "2023-01-28T11:52:33.634Z"
   },
   {
    "duration": 270,
    "start_time": "2023-01-28T11:53:51.559Z"
   },
   {
    "duration": 124,
    "start_time": "2023-01-28T11:53:51.831Z"
   },
   {
    "duration": 242,
    "start_time": "2023-01-28T11:53:53.336Z"
   },
   {
    "duration": 245,
    "start_time": "2023-01-28T11:55:42.072Z"
   },
   {
    "duration": 276,
    "start_time": "2023-01-28T11:55:43.266Z"
   },
   {
    "duration": 13,
    "start_time": "2023-01-28T11:55:47.269Z"
   },
   {
    "duration": 4,
    "start_time": "2023-01-28T11:55:47.688Z"
   },
   {
    "duration": 16,
    "start_time": "2023-01-28T11:55:47.893Z"
   },
   {
    "duration": 89,
    "start_time": "2023-01-28T11:55:48.079Z"
   },
   {
    "duration": 1279,
    "start_time": "2023-01-28T11:55:48.524Z"
   },
   {
    "duration": 283,
    "start_time": "2023-01-28T11:55:49.806Z"
   },
   {
    "duration": 3,
    "start_time": "2023-01-28T11:55:55.332Z"
   },
   {
    "duration": 789,
    "start_time": "2023-01-28T11:55:55.480Z"
   },
   {
    "duration": 19,
    "start_time": "2023-01-28T11:55:56.272Z"
   },
   {
    "duration": 15,
    "start_time": "2023-01-28T11:55:56.293Z"
   },
   {
    "duration": 30,
    "start_time": "2023-01-28T11:55:56.311Z"
   },
   {
    "duration": 154,
    "start_time": "2023-01-28T11:55:56.366Z"
   },
   {
    "duration": 1396,
    "start_time": "2023-01-28T11:55:56.617Z"
   },
   {
    "duration": 352,
    "start_time": "2023-01-28T11:55:58.016Z"
   },
   {
    "duration": 327,
    "start_time": "2023-01-28T11:56:01.027Z"
   },
   {
    "duration": 123,
    "start_time": "2023-01-28T11:56:02.767Z"
   },
   {
    "duration": 45,
    "start_time": "2023-01-28T11:56:11.253Z"
   },
   {
    "duration": 161,
    "start_time": "2023-01-28T11:56:11.583Z"
   },
   {
    "duration": 11,
    "start_time": "2023-01-28T11:56:12.839Z"
   },
   {
    "duration": 8,
    "start_time": "2023-01-28T11:56:13.320Z"
   },
   {
    "duration": 40,
    "start_time": "2023-01-28T11:56:14.017Z"
   },
   {
    "duration": 314,
    "start_time": "2023-01-28T11:56:15.448Z"
   },
   {
    "duration": 9,
    "start_time": "2023-01-28T11:56:18.371Z"
   },
   {
    "duration": 333,
    "start_time": "2023-01-28T11:56:22.978Z"
   },
   {
    "duration": 275,
    "start_time": "2023-01-28T11:56:25.470Z"
   },
   {
    "duration": 21,
    "start_time": "2023-01-28T11:56:25.760Z"
   },
   {
    "duration": 43,
    "start_time": "2023-01-28T11:56:31.133Z"
   },
   {
    "duration": 69,
    "start_time": "2023-01-28T11:56:32.378Z"
   },
   {
    "duration": 424,
    "start_time": "2023-01-28T11:56:33.350Z"
   },
   {
    "duration": 87,
    "start_time": "2023-01-28T11:56:47.849Z"
   },
   {
    "duration": 1388,
    "start_time": "2023-01-28T11:56:48.020Z"
   },
   {
    "duration": 198,
    "start_time": "2023-01-28T11:59:55.922Z"
   },
   {
    "duration": 391,
    "start_time": "2023-01-28T12:00:02.255Z"
   },
   {
    "duration": 4,
    "start_time": "2023-01-28T12:05:39.249Z"
   },
   {
    "duration": 816,
    "start_time": "2023-01-28T12:05:39.384Z"
   },
   {
    "duration": 16,
    "start_time": "2023-01-28T12:05:40.202Z"
   },
   {
    "duration": 4,
    "start_time": "2023-01-28T12:05:43.170Z"
   },
   {
    "duration": 15,
    "start_time": "2023-01-28T12:05:43.739Z"
   },
   {
    "duration": 112,
    "start_time": "2023-01-28T12:05:45.161Z"
   },
   {
    "duration": 1235,
    "start_time": "2023-01-28T12:05:47.237Z"
   },
   {
    "duration": 341,
    "start_time": "2023-01-28T12:06:01.552Z"
   },
   {
    "duration": 330,
    "start_time": "2023-01-28T12:06:03.779Z"
   },
   {
    "duration": 39,
    "start_time": "2023-01-28T12:06:06.111Z"
   },
   {
    "duration": 137,
    "start_time": "2023-01-28T12:06:06.619Z"
   },
   {
    "duration": 11,
    "start_time": "2023-01-28T12:06:12.124Z"
   },
   {
    "duration": 8,
    "start_time": "2023-01-28T12:06:12.364Z"
   },
   {
    "duration": 41,
    "start_time": "2023-01-28T12:06:12.538Z"
   },
   {
    "duration": 299,
    "start_time": "2023-01-28T12:06:12.684Z"
   },
   {
    "duration": 10,
    "start_time": "2023-01-28T12:06:13.242Z"
   },
   {
    "duration": 454,
    "start_time": "2023-01-28T12:06:13.772Z"
   },
   {
    "duration": 283,
    "start_time": "2023-01-28T12:06:14.267Z"
   },
   {
    "duration": 25,
    "start_time": "2023-01-28T12:06:16.018Z"
   },
   {
    "duration": 46,
    "start_time": "2023-01-28T12:06:16.160Z"
   },
   {
    "duration": 68,
    "start_time": "2023-01-28T12:06:18.593Z"
   },
   {
    "duration": 283,
    "start_time": "2023-01-28T12:06:18.998Z"
   },
   {
    "duration": 420,
    "start_time": "2023-01-28T12:08:40.485Z"
   },
   {
    "duration": 354,
    "start_time": "2023-01-28T12:08:43.110Z"
   },
   {
    "duration": 48,
    "start_time": "2023-01-28T12:08:58.371Z"
   },
   {
    "duration": 494,
    "start_time": "2023-01-28T12:09:07.771Z"
   },
   {
    "duration": 594,
    "start_time": "2023-01-28T12:09:14.850Z"
   },
   {
    "duration": 26,
    "start_time": "2023-01-28T12:11:43.187Z"
   },
   {
    "duration": 81,
    "start_time": "2023-01-28T12:11:47.727Z"
   },
   {
    "duration": 813,
    "start_time": "2023-01-28T12:11:48.464Z"
   },
   {
    "duration": 13,
    "start_time": "2023-01-28T12:13:05.240Z"
   },
   {
    "duration": 828,
    "start_time": "2023-01-28T12:14:25.726Z"
   },
   {
    "duration": 4,
    "start_time": "2023-01-28T12:14:30.194Z"
   },
   {
    "duration": 727,
    "start_time": "2023-01-28T12:14:30.343Z"
   },
   {
    "duration": 14,
    "start_time": "2023-01-28T12:14:31.072Z"
   },
   {
    "duration": 24,
    "start_time": "2023-01-28T12:14:31.088Z"
   },
   {
    "duration": 21,
    "start_time": "2023-01-28T12:14:31.114Z"
   },
   {
    "duration": 105,
    "start_time": "2023-01-28T12:14:31.188Z"
   },
   {
    "duration": 1204,
    "start_time": "2023-01-28T12:14:31.695Z"
   },
   {
    "duration": 350,
    "start_time": "2023-01-28T12:14:32.901Z"
   },
   {
    "duration": 345,
    "start_time": "2023-01-28T12:14:33.473Z"
   },
   {
    "duration": 1081,
    "start_time": "2023-01-28T12:14:37.012Z"
   },
   {
    "duration": 47,
    "start_time": "2023-01-28T12:14:48.518Z"
   },
   {
    "duration": 196,
    "start_time": "2023-01-28T12:14:48.895Z"
   },
   {
    "duration": 1805,
    "start_time": "2023-01-28T12:15:05.608Z"
   },
   {
    "duration": 680,
    "start_time": "2023-01-28T12:17:27.609Z"
   },
   {
    "duration": 893,
    "start_time": "2023-01-28T12:17:33.212Z"
   },
   {
    "duration": 1110,
    "start_time": "2023-01-28T12:17:48.966Z"
   },
   {
    "duration": 804,
    "start_time": "2023-01-28T12:17:50.080Z"
   },
   {
    "duration": 16,
    "start_time": "2023-01-28T12:17:50.886Z"
   },
   {
    "duration": 5,
    "start_time": "2023-01-28T12:17:50.905Z"
   },
   {
    "duration": 25,
    "start_time": "2023-01-28T12:17:50.911Z"
   },
   {
    "duration": 113,
    "start_time": "2023-01-28T12:17:50.937Z"
   },
   {
    "duration": 1160,
    "start_time": "2023-01-28T12:17:51.052Z"
   },
   {
    "duration": 393,
    "start_time": "2023-01-28T12:17:52.214Z"
   },
   {
    "duration": 383,
    "start_time": "2023-01-28T12:17:52.609Z"
   },
   {
    "duration": 52,
    "start_time": "2023-01-28T12:17:52.995Z"
   },
   {
    "duration": 261,
    "start_time": "2023-01-28T12:17:53.049Z"
   },
   {
    "duration": 11,
    "start_time": "2023-01-28T12:17:53.312Z"
   },
   {
    "duration": 8,
    "start_time": "2023-01-28T12:17:53.324Z"
   },
   {
    "duration": 56,
    "start_time": "2023-01-28T12:17:53.333Z"
   },
   {
    "duration": 371,
    "start_time": "2023-01-28T12:17:53.391Z"
   },
   {
    "duration": 17,
    "start_time": "2023-01-28T12:17:53.764Z"
   },
   {
    "duration": 304,
    "start_time": "2023-01-28T12:17:53.782Z"
   },
   {
    "duration": 272,
    "start_time": "2023-01-28T12:17:54.088Z"
   },
   {
    "duration": 25,
    "start_time": "2023-01-28T12:17:54.362Z"
   },
   {
    "duration": 35,
    "start_time": "2023-01-28T12:17:54.388Z"
   },
   {
    "duration": 91,
    "start_time": "2023-01-28T12:17:54.425Z"
   },
   {
    "duration": 282,
    "start_time": "2023-01-28T12:17:54.518Z"
   },
   {
    "duration": 781,
    "start_time": "2023-01-28T12:17:54.802Z"
   },
   {
    "duration": 23,
    "start_time": "2023-01-28T12:17:55.585Z"
   },
   {
    "duration": 19,
    "start_time": "2023-01-28T12:17:55.610Z"
   },
   {
    "duration": 1308,
    "start_time": "2023-01-28T12:17:55.630Z"
   },
   {
    "duration": 101,
    "start_time": "2023-01-28T12:17:56.940Z"
   },
   {
    "duration": 0,
    "start_time": "2023-01-28T12:17:57.043Z"
   },
   {
    "duration": 89,
    "start_time": "2023-01-28T12:24:58.332Z"
   },
   {
    "duration": 287,
    "start_time": "2023-01-28T12:26:18.148Z"
   },
   {
    "duration": 322,
    "start_time": "2023-01-28T12:27:48.876Z"
   },
   {
    "duration": 94,
    "start_time": "2023-01-28T12:31:42.534Z"
   },
   {
    "duration": 275,
    "start_time": "2023-01-28T12:31:42.993Z"
   },
   {
    "duration": 3,
    "start_time": "2023-01-28T12:35:18.448Z"
   },
   {
    "duration": 749,
    "start_time": "2023-01-28T12:35:18.600Z"
   },
   {
    "duration": 14,
    "start_time": "2023-01-28T12:35:19.351Z"
   },
   {
    "duration": 8,
    "start_time": "2023-01-28T12:35:19.366Z"
   },
   {
    "duration": 13,
    "start_time": "2023-01-28T12:35:19.382Z"
   },
   {
    "duration": 116,
    "start_time": "2023-01-28T12:35:19.400Z"
   },
   {
    "duration": 1344,
    "start_time": "2023-01-28T12:35:19.579Z"
   },
   {
    "duration": 402,
    "start_time": "2023-01-28T12:35:20.925Z"
   },
   {
    "duration": 328,
    "start_time": "2023-01-28T12:35:21.329Z"
   },
   {
    "duration": 40,
    "start_time": "2023-01-28T12:35:21.660Z"
   },
   {
    "duration": 247,
    "start_time": "2023-01-28T12:35:21.702Z"
   },
   {
    "duration": 10,
    "start_time": "2023-01-28T12:35:23.636Z"
   },
   {
    "duration": 8,
    "start_time": "2023-01-28T12:35:24.052Z"
   },
   {
    "duration": 30,
    "start_time": "2023-01-28T12:35:24.336Z"
   },
   {
    "duration": 261,
    "start_time": "2023-01-28T12:35:25.697Z"
   },
   {
    "duration": 71,
    "start_time": "2023-01-28T12:35:26.588Z"
   },
   {
    "duration": 250,
    "start_time": "2023-01-28T12:35:27.448Z"
   },
   {
    "duration": 3,
    "start_time": "2023-01-28T12:35:39.937Z"
   },
   {
    "duration": 731,
    "start_time": "2023-01-28T12:35:40.063Z"
   },
   {
    "duration": 13,
    "start_time": "2023-01-28T12:35:40.796Z"
   },
   {
    "duration": 6,
    "start_time": "2023-01-28T12:35:40.811Z"
   },
   {
    "duration": 18,
    "start_time": "2023-01-28T12:35:40.818Z"
   },
   {
    "duration": 113,
    "start_time": "2023-01-28T12:35:40.894Z"
   },
   {
    "duration": 1327,
    "start_time": "2023-01-28T12:35:41.048Z"
   },
   {
    "duration": 307,
    "start_time": "2023-01-28T12:35:42.382Z"
   },
   {
    "duration": 312,
    "start_time": "2023-01-28T12:35:42.690Z"
   },
   {
    "duration": 43,
    "start_time": "2023-01-28T12:35:43.211Z"
   },
   {
    "duration": 215,
    "start_time": "2023-01-28T12:35:44.193Z"
   },
   {
    "duration": 12,
    "start_time": "2023-01-28T12:35:45.548Z"
   },
   {
    "duration": 9,
    "start_time": "2023-01-28T12:35:45.893Z"
   },
   {
    "duration": 37,
    "start_time": "2023-01-28T12:35:46.311Z"
   },
   {
    "duration": 273,
    "start_time": "2023-01-28T12:35:46.799Z"
   },
   {
    "duration": 72,
    "start_time": "2023-01-28T12:36:32.495Z"
   },
   {
    "duration": 256,
    "start_time": "2023-01-28T12:36:32.753Z"
   },
   {
    "duration": 280,
    "start_time": "2023-01-28T12:36:33.765Z"
   },
   {
    "duration": 9,
    "start_time": "2023-01-28T12:36:38.687Z"
   },
   {
    "duration": 321,
    "start_time": "2023-01-28T12:36:39.652Z"
   },
   {
    "duration": 419,
    "start_time": "2023-01-28T12:36:40.775Z"
   },
   {
    "duration": 27,
    "start_time": "2023-01-28T12:36:41.428Z"
   },
   {
    "duration": 42,
    "start_time": "2023-01-28T12:36:43.061Z"
   },
   {
    "duration": 63,
    "start_time": "2023-01-28T12:36:49.779Z"
   },
   {
    "duration": 267,
    "start_time": "2023-01-28T12:36:50.296Z"
   },
   {
    "duration": 733,
    "start_time": "2023-01-28T12:36:55.084Z"
   },
   {
    "duration": 301,
    "start_time": "2023-01-28T12:37:14.652Z"
   },
   {
    "duration": 17,
    "start_time": "2023-01-28T12:42:11.714Z"
   },
   {
    "duration": 71,
    "start_time": "2023-01-28T12:42:15.200Z"
   },
   {
    "duration": 809,
    "start_time": "2023-01-28T12:42:17.883Z"
   },
   {
    "duration": 96,
    "start_time": "2023-01-28T12:43:33.138Z"
   },
   {
    "duration": 20,
    "start_time": "2023-01-28T12:46:39.360Z"
   },
   {
    "duration": 18,
    "start_time": "2023-01-28T12:47:02.781Z"
   },
   {
    "duration": 22,
    "start_time": "2023-01-28T12:47:17.345Z"
   },
   {
    "duration": 22,
    "start_time": "2023-01-28T12:47:40.442Z"
   },
   {
    "duration": 24,
    "start_time": "2023-01-28T12:48:47.264Z"
   },
   {
    "duration": 83,
    "start_time": "2023-01-28T12:49:29.395Z"
   },
   {
    "duration": 73,
    "start_time": "2023-01-28T12:49:45.429Z"
   },
   {
    "duration": 13,
    "start_time": "2023-01-28T12:50:23.853Z"
   },
   {
    "duration": 67,
    "start_time": "2023-01-28T12:50:58.015Z"
   },
   {
    "duration": 74,
    "start_time": "2023-01-28T12:51:15.588Z"
   },
   {
    "duration": 13,
    "start_time": "2023-01-28T12:51:25.977Z"
   },
   {
    "duration": 1145,
    "start_time": "2023-01-28T13:13:48.045Z"
   },
   {
    "duration": 874,
    "start_time": "2023-01-28T13:13:49.192Z"
   },
   {
    "duration": 22,
    "start_time": "2023-01-28T13:13:50.068Z"
   },
   {
    "duration": 9,
    "start_time": "2023-01-28T13:13:50.092Z"
   },
   {
    "duration": 22,
    "start_time": "2023-01-28T13:13:50.104Z"
   },
   {
    "duration": 147,
    "start_time": "2023-01-28T13:13:50.128Z"
   },
   {
    "duration": 1263,
    "start_time": "2023-01-28T13:13:50.280Z"
   },
   {
    "duration": 401,
    "start_time": "2023-01-28T13:13:51.544Z"
   },
   {
    "duration": 413,
    "start_time": "2023-01-28T13:13:51.948Z"
   },
   {
    "duration": 56,
    "start_time": "2023-01-28T13:13:52.362Z"
   },
   {
    "duration": 257,
    "start_time": "2023-01-28T13:13:52.419Z"
   },
   {
    "duration": 12,
    "start_time": "2023-01-28T13:13:52.678Z"
   },
   {
    "duration": 11,
    "start_time": "2023-01-28T13:13:52.692Z"
   },
   {
    "duration": 40,
    "start_time": "2023-01-28T13:13:52.706Z"
   },
   {
    "duration": 449,
    "start_time": "2023-01-28T13:13:52.748Z"
   },
   {
    "duration": 9,
    "start_time": "2023-01-28T13:13:53.198Z"
   },
   {
    "duration": 332,
    "start_time": "2023-01-28T13:13:53.210Z"
   },
   {
    "duration": 301,
    "start_time": "2023-01-28T13:13:53.544Z"
   },
   {
    "duration": 22,
    "start_time": "2023-01-28T13:13:53.847Z"
   },
   {
    "duration": 38,
    "start_time": "2023-01-28T13:13:53.881Z"
   },
   {
    "duration": 86,
    "start_time": "2023-01-28T13:13:53.920Z"
   },
   {
    "duration": 286,
    "start_time": "2023-01-28T13:13:54.007Z"
   },
   {
    "duration": 808,
    "start_time": "2023-01-28T13:13:54.294Z"
   },
   {
    "duration": 19,
    "start_time": "2023-01-28T13:13:55.103Z"
   },
   {
    "duration": 84,
    "start_time": "2023-01-28T13:13:55.124Z"
   },
   {
    "duration": 22,
    "start_time": "2023-01-28T13:13:55.210Z"
   },
   {
    "duration": 33,
    "start_time": "2023-01-28T13:13:55.234Z"
   },
   {
    "duration": 44,
    "start_time": "2023-01-28T13:13:55.269Z"
   },
   {
    "duration": 29,
    "start_time": "2023-01-28T13:13:55.315Z"
   },
   {
    "duration": 82,
    "start_time": "2023-01-28T13:13:55.346Z"
   },
   {
    "duration": 78,
    "start_time": "2023-01-28T13:13:55.430Z"
   },
   {
    "duration": 11,
    "start_time": "2023-01-28T13:13:55.510Z"
   },
   {
    "duration": 120,
    "start_time": "2023-01-28T13:13:55.523Z"
   },
   {
    "duration": 0,
    "start_time": "2023-01-28T13:13:55.645Z"
   },
   {
    "duration": 2774,
    "start_time": "2023-01-28T13:16:47.048Z"
   },
   {
    "duration": 33,
    "start_time": "2023-01-28T13:16:59.756Z"
   },
   {
    "duration": 1746,
    "start_time": "2023-01-28T13:18:43.356Z"
   },
   {
    "duration": 850,
    "start_time": "2023-01-28T13:19:17.749Z"
   },
   {
    "duration": 4766,
    "start_time": "2023-01-28T13:20:44.859Z"
   },
   {
    "duration": 4474,
    "start_time": "2023-01-28T13:24:19.257Z"
   },
   {
    "duration": 4852,
    "start_time": "2023-01-28T13:24:29.284Z"
   },
   {
    "duration": 20,
    "start_time": "2023-01-28T13:27:44.291Z"
   },
   {
    "duration": 4311,
    "start_time": "2023-01-28T13:29:02.444Z"
   },
   {
    "duration": 4319,
    "start_time": "2023-01-28T13:29:18.635Z"
   },
   {
    "duration": 82,
    "start_time": "2023-01-28T13:30:41.893Z"
   },
   {
    "duration": 327,
    "start_time": "2023-01-28T13:36:40.982Z"
   },
   {
    "duration": 80,
    "start_time": "2023-01-28T13:39:37.300Z"
   },
   {
    "duration": 24,
    "start_time": "2023-01-28T13:41:01.282Z"
   },
   {
    "duration": 1898,
    "start_time": "2023-01-28T13:41:51.131Z"
   },
   {
    "duration": 4,
    "start_time": "2023-01-28T13:42:51.146Z"
   },
   {
    "duration": 3,
    "start_time": "2023-01-28T13:44:49.300Z"
   },
   {
    "duration": 555,
    "start_time": "2023-01-28T13:47:00.335Z"
   },
   {
    "duration": 518,
    "start_time": "2023-01-28T13:47:53.287Z"
   },
   {
    "duration": 10,
    "start_time": "2023-01-28T13:48:11.930Z"
   },
   {
    "duration": 510,
    "start_time": "2023-01-28T13:48:33.803Z"
   },
   {
    "duration": 558,
    "start_time": "2023-01-28T13:52:07.604Z"
   },
   {
    "duration": 40,
    "start_time": "2023-01-28T13:55:22.348Z"
   },
   {
    "duration": 21,
    "start_time": "2023-01-28T14:00:07.419Z"
   },
   {
    "duration": 2232,
    "start_time": "2023-01-28T14:04:43.245Z"
   },
   {
    "duration": 5630,
    "start_time": "2023-01-28T14:05:13.770Z"
   },
   {
    "duration": 41723,
    "start_time": "2023-01-28T14:05:52.777Z"
   },
   {
    "duration": 1886,
    "start_time": "2023-01-28T14:08:07.495Z"
   },
   {
    "duration": 1335,
    "start_time": "2023-01-28T14:08:09.383Z"
   },
   {
    "duration": 775,
    "start_time": "2023-01-28T14:08:10.720Z"
   },
   {
    "duration": 16,
    "start_time": "2023-01-28T14:08:11.497Z"
   },
   {
    "duration": 4,
    "start_time": "2023-01-28T14:08:11.514Z"
   },
   {
    "duration": 17,
    "start_time": "2023-01-28T14:08:11.519Z"
   },
   {
    "duration": 139,
    "start_time": "2023-01-28T14:08:11.538Z"
   },
   {
    "duration": 1212,
    "start_time": "2023-01-28T14:08:11.681Z"
   },
   {
    "duration": 408,
    "start_time": "2023-01-28T14:08:12.895Z"
   },
   {
    "duration": 409,
    "start_time": "2023-01-28T14:08:13.306Z"
   },
   {
    "duration": 50,
    "start_time": "2023-01-28T14:08:13.717Z"
   },
   {
    "duration": 270,
    "start_time": "2023-01-28T14:08:13.769Z"
   },
   {
    "duration": 11,
    "start_time": "2023-01-28T14:08:14.041Z"
   },
   {
    "duration": 9,
    "start_time": "2023-01-28T14:08:14.054Z"
   },
   {
    "duration": 40,
    "start_time": "2023-01-28T14:08:14.082Z"
   },
   {
    "duration": 309,
    "start_time": "2023-01-28T14:08:14.124Z"
   },
   {
    "duration": 10,
    "start_time": "2023-01-28T14:08:14.435Z"
   },
   {
    "duration": 314,
    "start_time": "2023-01-28T14:08:14.447Z"
   },
   {
    "duration": 283,
    "start_time": "2023-01-28T14:08:14.763Z"
   },
   {
    "duration": 20,
    "start_time": "2023-01-28T14:08:15.048Z"
   },
   {
    "duration": 45,
    "start_time": "2023-01-28T14:08:15.070Z"
   },
   {
    "duration": 92,
    "start_time": "2023-01-28T14:08:15.117Z"
   },
   {
    "duration": 441,
    "start_time": "2023-01-28T14:08:15.212Z"
   },
   {
    "duration": 906,
    "start_time": "2023-01-28T14:08:15.655Z"
   },
   {
    "duration": 30,
    "start_time": "2023-01-28T14:08:16.564Z"
   },
   {
    "duration": 105,
    "start_time": "2023-01-28T14:08:16.596Z"
   },
   {
    "duration": 21,
    "start_time": "2023-01-28T14:08:16.704Z"
   },
   {
    "duration": 19,
    "start_time": "2023-01-28T14:08:16.730Z"
   },
   {
    "duration": 56,
    "start_time": "2023-01-28T14:08:16.751Z"
   },
   {
    "duration": 38,
    "start_time": "2023-01-28T14:08:16.809Z"
   },
   {
    "duration": 134,
    "start_time": "2023-01-28T14:08:16.848Z"
   },
   {
    "duration": 76,
    "start_time": "2023-01-28T14:08:16.984Z"
   },
   {
    "duration": 21,
    "start_time": "2023-01-28T14:08:17.063Z"
   },
   {
    "duration": 5186,
    "start_time": "2023-01-28T14:08:17.086Z"
   },
   {
    "duration": 8,
    "start_time": "2023-01-28T14:08:22.273Z"
   },
   {
    "duration": 25,
    "start_time": "2023-01-28T14:08:22.283Z"
   },
   {
    "duration": 88,
    "start_time": "2023-01-28T14:08:22.310Z"
   },
   {
    "duration": 53413,
    "start_time": "2023-01-28T14:08:22.400Z"
   },
   {
    "duration": 2891,
    "start_time": "2023-01-28T17:59:34.807Z"
   },
   {
    "duration": 1553,
    "start_time": "2023-01-28T17:59:37.700Z"
   },
   {
    "duration": 3224,
    "start_time": "2023-01-28T17:59:39.254Z"
   },
   {
    "duration": 16,
    "start_time": "2023-01-28T17:59:42.481Z"
   },
   {
    "duration": 2,
    "start_time": "2023-01-28T17:59:42.499Z"
   },
   {
    "duration": 16,
    "start_time": "2023-01-28T17:59:42.503Z"
   },
   {
    "duration": 115,
    "start_time": "2023-01-28T17:59:42.520Z"
   },
   {
    "duration": 1234,
    "start_time": "2023-01-28T17:59:42.637Z"
   },
   {
    "duration": 349,
    "start_time": "2023-01-28T17:59:43.872Z"
   },
   {
    "duration": 330,
    "start_time": "2023-01-28T17:59:44.223Z"
   },
   {
    "duration": 45,
    "start_time": "2023-01-28T17:59:44.555Z"
   },
   {
    "duration": 231,
    "start_time": "2023-01-28T17:59:44.602Z"
   },
   {
    "duration": 10,
    "start_time": "2023-01-28T17:59:44.835Z"
   },
   {
    "duration": 8,
    "start_time": "2023-01-28T17:59:44.846Z"
   },
   {
    "duration": 53,
    "start_time": "2023-01-28T17:59:44.855Z"
   },
   {
    "duration": 266,
    "start_time": "2023-01-28T17:59:44.910Z"
   },
   {
    "duration": 10,
    "start_time": "2023-01-28T17:59:45.177Z"
   },
   {
    "duration": 273,
    "start_time": "2023-01-28T17:59:45.188Z"
   },
   {
    "duration": 248,
    "start_time": "2023-01-28T17:59:45.462Z"
   },
   {
    "duration": 18,
    "start_time": "2023-01-28T17:59:45.712Z"
   },
   {
    "duration": 33,
    "start_time": "2023-01-28T17:59:45.732Z"
   },
   {
    "duration": 79,
    "start_time": "2023-01-28T17:59:45.766Z"
   },
   {
    "duration": 376,
    "start_time": "2023-01-28T17:59:45.846Z"
   },
   {
    "duration": 865,
    "start_time": "2023-01-28T17:59:46.224Z"
   },
   {
    "duration": 20,
    "start_time": "2023-01-28T17:59:47.090Z"
   },
   {
    "duration": 87,
    "start_time": "2023-01-28T17:59:47.111Z"
   },
   {
    "duration": 24,
    "start_time": "2023-01-28T17:59:47.200Z"
   },
   {
    "duration": 22,
    "start_time": "2023-01-28T17:59:47.228Z"
   },
   {
    "duration": 23,
    "start_time": "2023-01-28T17:59:47.251Z"
   },
   {
    "duration": 34,
    "start_time": "2023-01-28T17:59:47.276Z"
   },
   {
    "duration": 84,
    "start_time": "2023-01-28T17:59:47.312Z"
   },
   {
    "duration": 85,
    "start_time": "2023-01-28T17:59:47.398Z"
   },
   {
    "duration": 11,
    "start_time": "2023-01-28T17:59:47.485Z"
   },
   {
    "duration": 5101,
    "start_time": "2023-01-28T17:59:47.497Z"
   },
   {
    "duration": 3,
    "start_time": "2023-01-28T17:59:52.599Z"
   },
   {
    "duration": 26,
    "start_time": "2023-01-28T17:59:52.604Z"
   },
   {
    "duration": 103,
    "start_time": "2023-01-28T17:59:52.632Z"
   },
   {
    "duration": 51896,
    "start_time": "2023-01-28T17:59:52.737Z"
   },
   {
    "duration": 5,
    "start_time": "2023-01-28T18:06:22.602Z"
   },
   {
    "duration": 11,
    "start_time": "2023-01-28T18:20:19.273Z"
   },
   {
    "duration": 88,
    "start_time": "2023-01-28T18:20:49.520Z"
   },
   {
    "duration": 74,
    "start_time": "2023-01-28T18:20:55.114Z"
   },
   {
    "duration": 101,
    "start_time": "2023-01-28T18:21:04.638Z"
   },
   {
    "duration": 3,
    "start_time": "2023-01-28T18:21:06.711Z"
   },
   {
    "duration": 7,
    "start_time": "2023-01-28T18:22:08.909Z"
   },
   {
    "duration": 4,
    "start_time": "2023-01-28T18:29:03.014Z"
   },
   {
    "duration": 85,
    "start_time": "2023-01-28T18:29:17.164Z"
   },
   {
    "duration": 65,
    "start_time": "2023-01-28T18:29:17.544Z"
   },
   {
    "duration": 6,
    "start_time": "2023-01-28T18:29:17.930Z"
   },
   {
    "duration": 10,
    "start_time": "2023-01-28T18:30:41.656Z"
   },
   {
    "duration": 11,
    "start_time": "2023-01-28T18:40:41.605Z"
   },
   {
    "duration": 6,
    "start_time": "2023-01-28T18:41:04.400Z"
   },
   {
    "duration": 3,
    "start_time": "2023-01-28T18:41:08.072Z"
   },
   {
    "duration": 4,
    "start_time": "2023-01-28T18:42:00.119Z"
   },
   {
    "duration": 788,
    "start_time": "2023-01-28T18:42:21.380Z"
   },
   {
    "duration": 4,
    "start_time": "2023-01-28T18:42:44.028Z"
   },
   {
    "duration": 849,
    "start_time": "2023-01-28T18:42:44.922Z"
   },
   {
    "duration": 119,
    "start_time": "2023-01-28T18:43:23.538Z"
   },
   {
    "duration": 3,
    "start_time": "2023-01-28T18:43:24.458Z"
   },
   {
    "duration": 376,
    "start_time": "2023-01-28T18:43:25.435Z"
   },
   {
    "duration": 348,
    "start_time": "2023-01-28T18:43:33.978Z"
   },
   {
    "duration": 9,
    "start_time": "2023-01-28T18:43:51.653Z"
   },
   {
    "duration": 102,
    "start_time": "2023-01-28T18:44:12.012Z"
   },
   {
    "duration": 109,
    "start_time": "2023-01-28T18:44:16.780Z"
   },
   {
    "duration": 9,
    "start_time": "2023-01-28T18:44:31.483Z"
   },
   {
    "duration": 85,
    "start_time": "2023-01-28T18:45:49.994Z"
   },
   {
    "duration": 4,
    "start_time": "2023-01-28T18:45:50.452Z"
   },
   {
    "duration": 355,
    "start_time": "2023-01-28T18:45:51.125Z"
   },
   {
    "duration": 106,
    "start_time": "2023-01-28T18:45:52.181Z"
   },
   {
    "duration": 100,
    "start_time": "2023-01-28T18:46:25.265Z"
   },
   {
    "duration": 96,
    "start_time": "2023-01-28T18:46:28.632Z"
   },
   {
    "duration": 101,
    "start_time": "2023-01-28T18:46:31.281Z"
   },
   {
    "duration": 98,
    "start_time": "2023-01-28T18:46:38.128Z"
   },
   {
    "duration": 106,
    "start_time": "2023-01-28T18:46:41.678Z"
   },
   {
    "duration": 1570,
    "start_time": "2023-01-28T18:50:36.234Z"
   },
   {
    "duration": 1836,
    "start_time": "2023-01-28T18:54:07.167Z"
   },
   {
    "duration": 1317,
    "start_time": "2023-01-28T18:54:09.005Z"
   },
   {
    "duration": 750,
    "start_time": "2023-01-28T18:54:10.324Z"
   },
   {
    "duration": 17,
    "start_time": "2023-01-28T18:54:11.076Z"
   },
   {
    "duration": 3,
    "start_time": "2023-01-28T18:54:11.095Z"
   },
   {
    "duration": 22,
    "start_time": "2023-01-28T18:54:11.099Z"
   },
   {
    "duration": 108,
    "start_time": "2023-01-28T18:54:11.122Z"
   },
   {
    "duration": 1177,
    "start_time": "2023-01-28T18:54:11.232Z"
   },
   {
    "duration": 355,
    "start_time": "2023-01-28T18:54:12.410Z"
   },
   {
    "duration": 329,
    "start_time": "2023-01-28T18:54:12.768Z"
   },
   {
    "duration": 39,
    "start_time": "2023-01-28T18:54:13.099Z"
   },
   {
    "duration": 222,
    "start_time": "2023-01-28T18:54:13.139Z"
   },
   {
    "duration": 11,
    "start_time": "2023-01-28T18:54:13.363Z"
   },
   {
    "duration": 8,
    "start_time": "2023-01-28T18:54:13.383Z"
   },
   {
    "duration": 32,
    "start_time": "2023-01-28T18:54:13.393Z"
   },
   {
    "duration": 355,
    "start_time": "2023-01-28T18:54:13.427Z"
   },
   {
    "duration": 8,
    "start_time": "2023-01-28T18:54:13.784Z"
   },
   {
    "duration": 291,
    "start_time": "2023-01-28T18:54:13.794Z"
   },
   {
    "duration": 249,
    "start_time": "2023-01-28T18:54:14.087Z"
   },
   {
    "duration": 19,
    "start_time": "2023-01-28T18:54:14.338Z"
   },
   {
    "duration": 48,
    "start_time": "2023-01-28T18:54:14.358Z"
   },
   {
    "duration": 74,
    "start_time": "2023-01-28T18:54:14.407Z"
   },
   {
    "duration": 377,
    "start_time": "2023-01-28T18:54:14.483Z"
   },
   {
    "duration": 777,
    "start_time": "2023-01-28T18:54:14.861Z"
   },
   {
    "duration": 20,
    "start_time": "2023-01-28T18:54:15.640Z"
   },
   {
    "duration": 82,
    "start_time": "2023-01-28T18:54:15.661Z"
   },
   {
    "duration": 17,
    "start_time": "2023-01-28T18:54:15.745Z"
   },
   {
    "duration": 29,
    "start_time": "2023-01-28T18:54:15.765Z"
   },
   {
    "duration": 19,
    "start_time": "2023-01-28T18:54:15.795Z"
   },
   {
    "duration": 19,
    "start_time": "2023-01-28T18:54:15.815Z"
   },
   {
    "duration": 77,
    "start_time": "2023-01-28T18:54:15.835Z"
   },
   {
    "duration": 88,
    "start_time": "2023-01-28T18:54:15.914Z"
   },
   {
    "duration": 11,
    "start_time": "2023-01-28T18:54:16.005Z"
   },
   {
    "duration": 4855,
    "start_time": "2023-01-28T18:54:16.018Z"
   },
   {
    "duration": 7,
    "start_time": "2023-01-28T18:54:20.874Z"
   },
   {
    "duration": 83,
    "start_time": "2023-01-28T18:54:20.883Z"
   },
   {
    "duration": 115,
    "start_time": "2023-01-28T18:54:20.968Z"
   },
   {
    "duration": 0,
    "start_time": "2023-01-28T18:54:21.085Z"
   },
   {
    "duration": 0,
    "start_time": "2023-01-28T18:54:21.086Z"
   },
   {
    "duration": 0,
    "start_time": "2023-01-28T18:54:21.087Z"
   },
   {
    "duration": 0,
    "start_time": "2023-01-28T18:54:21.088Z"
   },
   {
    "duration": 0,
    "start_time": "2023-01-28T18:54:21.089Z"
   },
   {
    "duration": 0,
    "start_time": "2023-01-28T18:54:21.090Z"
   },
   {
    "duration": 11,
    "start_time": "2023-01-28T18:56:47.541Z"
   },
   {
    "duration": 3,
    "start_time": "2023-01-28T18:56:55.078Z"
   },
   {
    "duration": 23391,
    "start_time": "2023-01-28T18:56:57.985Z"
   },
   {
    "duration": 4,
    "start_time": "2023-01-28T19:33:33.645Z"
   },
   {
    "duration": 11,
    "start_time": "2023-01-28T19:33:35.597Z"
   },
   {
    "duration": 4,
    "start_time": "2023-01-28T19:33:54.438Z"
   },
   {
    "duration": 15,
    "start_time": "2023-01-28T19:33:58.709Z"
   },
   {
    "duration": 37,
    "start_time": "2023-01-28T19:34:05.090Z"
   },
   {
    "duration": 44,
    "start_time": "2023-01-28T19:34:35.183Z"
   },
   {
    "duration": 4,
    "start_time": "2023-01-28T19:39:10.507Z"
   },
   {
    "duration": 48,
    "start_time": "2023-01-28T19:41:53.991Z"
   },
   {
    "duration": 2049,
    "start_time": "2023-01-28T19:51:23.797Z"
   },
   {
    "duration": 1473,
    "start_time": "2023-01-28T19:51:25.848Z"
   },
   {
    "duration": 757,
    "start_time": "2023-01-28T19:51:27.322Z"
   },
   {
    "duration": 22,
    "start_time": "2023-01-28T19:51:28.080Z"
   },
   {
    "duration": 4,
    "start_time": "2023-01-28T19:51:28.105Z"
   },
   {
    "duration": 14,
    "start_time": "2023-01-28T19:51:28.111Z"
   },
   {
    "duration": 142,
    "start_time": "2023-01-28T19:51:28.127Z"
   },
   {
    "duration": 1343,
    "start_time": "2023-01-28T19:51:28.271Z"
   },
   {
    "duration": 372,
    "start_time": "2023-01-28T19:51:29.616Z"
   },
   {
    "duration": 378,
    "start_time": "2023-01-28T19:51:29.990Z"
   },
   {
    "duration": 48,
    "start_time": "2023-01-28T19:51:30.370Z"
   },
   {
    "duration": 257,
    "start_time": "2023-01-28T19:51:30.419Z"
   },
   {
    "duration": 17,
    "start_time": "2023-01-28T19:51:30.678Z"
   },
   {
    "duration": 28,
    "start_time": "2023-01-28T19:51:30.697Z"
   },
   {
    "duration": 39,
    "start_time": "2023-01-28T19:51:30.727Z"
   },
   {
    "duration": 306,
    "start_time": "2023-01-28T19:51:30.768Z"
   },
   {
    "duration": 15,
    "start_time": "2023-01-28T19:51:31.076Z"
   },
   {
    "duration": 326,
    "start_time": "2023-01-28T19:51:31.093Z"
   },
   {
    "duration": 295,
    "start_time": "2023-01-28T19:51:31.421Z"
   },
   {
    "duration": 18,
    "start_time": "2023-01-28T19:51:31.717Z"
   },
   {
    "duration": 50,
    "start_time": "2023-01-28T19:51:31.736Z"
   },
   {
    "duration": 72,
    "start_time": "2023-01-28T19:51:31.789Z"
   },
   {
    "duration": 462,
    "start_time": "2023-01-28T19:51:31.863Z"
   },
   {
    "duration": 890,
    "start_time": "2023-01-28T19:51:32.327Z"
   },
   {
    "duration": 21,
    "start_time": "2023-01-28T19:51:33.219Z"
   },
   {
    "duration": 92,
    "start_time": "2023-01-28T19:51:33.242Z"
   },
   {
    "duration": 22,
    "start_time": "2023-01-28T19:51:33.336Z"
   },
   {
    "duration": 28,
    "start_time": "2023-01-28T19:51:33.361Z"
   },
   {
    "duration": 35,
    "start_time": "2023-01-28T19:51:33.391Z"
   },
   {
    "duration": 36,
    "start_time": "2023-01-28T19:51:33.428Z"
   },
   {
    "duration": 96,
    "start_time": "2023-01-28T19:51:33.465Z"
   },
   {
    "duration": 81,
    "start_time": "2023-01-28T19:51:33.563Z"
   },
   {
    "duration": 11,
    "start_time": "2023-01-28T19:51:33.646Z"
   },
   {
    "duration": 5097,
    "start_time": "2023-01-28T19:51:33.659Z"
   },
   {
    "duration": 2,
    "start_time": "2023-01-28T19:51:38.758Z"
   },
   {
    "duration": 106,
    "start_time": "2023-01-28T19:51:38.762Z"
   },
   {
    "duration": 4,
    "start_time": "2023-01-28T19:51:38.870Z"
   },
   {
    "duration": 1878,
    "start_time": "2023-01-28T19:53:28.928Z"
   },
   {
    "duration": 1295,
    "start_time": "2023-01-28T19:53:30.808Z"
   },
   {
    "duration": 719,
    "start_time": "2023-01-28T19:53:32.104Z"
   },
   {
    "duration": 15,
    "start_time": "2023-01-28T19:53:32.825Z"
   },
   {
    "duration": 2,
    "start_time": "2023-01-28T19:53:32.842Z"
   },
   {
    "duration": 20,
    "start_time": "2023-01-28T19:53:32.845Z"
   },
   {
    "duration": 118,
    "start_time": "2023-01-28T19:53:32.867Z"
   },
   {
    "duration": 1236,
    "start_time": "2023-01-28T19:53:32.987Z"
   },
   {
    "duration": 355,
    "start_time": "2023-01-28T19:53:34.224Z"
   },
   {
    "duration": 316,
    "start_time": "2023-01-28T19:53:34.583Z"
   },
   {
    "duration": 41,
    "start_time": "2023-01-28T19:53:34.901Z"
   },
   {
    "duration": 208,
    "start_time": "2023-01-28T19:53:34.944Z"
   },
   {
    "duration": 10,
    "start_time": "2023-01-28T19:53:35.154Z"
   },
   {
    "duration": 17,
    "start_time": "2023-01-28T19:53:35.165Z"
   },
   {
    "duration": 36,
    "start_time": "2023-01-28T19:53:35.183Z"
   },
   {
    "duration": 262,
    "start_time": "2023-01-28T19:53:35.221Z"
   },
   {
    "duration": 8,
    "start_time": "2023-01-28T19:53:35.485Z"
   },
   {
    "duration": 283,
    "start_time": "2023-01-28T19:53:35.495Z"
   },
   {
    "duration": 234,
    "start_time": "2023-01-28T19:53:35.781Z"
   },
   {
    "duration": 18,
    "start_time": "2023-01-28T19:53:36.017Z"
   },
   {
    "duration": 45,
    "start_time": "2023-01-28T19:53:36.037Z"
   },
   {
    "duration": 68,
    "start_time": "2023-01-28T19:53:36.083Z"
   },
   {
    "duration": 454,
    "start_time": "2023-01-28T19:53:36.152Z"
   },
   {
    "duration": 721,
    "start_time": "2023-01-28T19:53:36.608Z"
   },
   {
    "duration": 21,
    "start_time": "2023-01-28T19:53:37.331Z"
   },
   {
    "duration": 77,
    "start_time": "2023-01-28T19:53:37.354Z"
   },
   {
    "duration": 18,
    "start_time": "2023-01-28T19:53:37.433Z"
   },
   {
    "duration": 35,
    "start_time": "2023-01-28T19:53:37.454Z"
   },
   {
    "duration": 20,
    "start_time": "2023-01-28T19:53:37.491Z"
   },
   {
    "duration": 19,
    "start_time": "2023-01-28T19:53:37.512Z"
   },
   {
    "duration": 81,
    "start_time": "2023-01-28T19:53:37.533Z"
   },
   {
    "duration": 70,
    "start_time": "2023-01-28T19:53:37.615Z"
   },
   {
    "duration": 11,
    "start_time": "2023-01-28T19:53:37.687Z"
   },
   {
    "duration": 1788,
    "start_time": "2023-01-28T19:53:42.227Z"
   },
   {
    "duration": 1301,
    "start_time": "2023-01-28T19:53:44.017Z"
   },
   {
    "duration": 725,
    "start_time": "2023-01-28T19:53:45.320Z"
   },
   {
    "duration": 18,
    "start_time": "2023-01-28T19:53:46.047Z"
   },
   {
    "duration": 3,
    "start_time": "2023-01-28T19:53:46.066Z"
   },
   {
    "duration": 12,
    "start_time": "2023-01-28T19:53:46.081Z"
   },
   {
    "duration": 124,
    "start_time": "2023-01-28T19:53:46.095Z"
   },
   {
    "duration": 1201,
    "start_time": "2023-01-28T19:53:46.221Z"
   },
   {
    "duration": 340,
    "start_time": "2023-01-28T19:53:47.423Z"
   },
   {
    "duration": 337,
    "start_time": "2023-01-28T19:53:47.765Z"
   },
   {
    "duration": 47,
    "start_time": "2023-01-28T19:53:48.103Z"
   },
   {
    "duration": 232,
    "start_time": "2023-01-28T19:53:48.152Z"
   },
   {
    "duration": 9,
    "start_time": "2023-01-28T19:53:48.386Z"
   },
   {
    "duration": 7,
    "start_time": "2023-01-28T19:53:48.396Z"
   },
   {
    "duration": 36,
    "start_time": "2023-01-28T19:53:48.404Z"
   },
   {
    "duration": 270,
    "start_time": "2023-01-28T19:53:48.441Z"
   },
   {
    "duration": 8,
    "start_time": "2023-01-28T19:53:48.712Z"
   },
   {
    "duration": 273,
    "start_time": "2023-01-28T19:53:48.721Z"
   },
   {
    "duration": 248,
    "start_time": "2023-01-28T19:53:48.996Z"
   },
   {
    "duration": 18,
    "start_time": "2023-01-28T19:53:49.245Z"
   },
   {
    "duration": 35,
    "start_time": "2023-01-28T19:53:49.264Z"
   },
   {
    "duration": 57,
    "start_time": "2023-01-28T19:53:49.301Z"
   },
   {
    "duration": 394,
    "start_time": "2023-01-28T19:53:49.359Z"
   },
   {
    "duration": 736,
    "start_time": "2023-01-28T19:53:49.755Z"
   },
   {
    "duration": 21,
    "start_time": "2023-01-28T19:53:50.493Z"
   },
   {
    "duration": 91,
    "start_time": "2023-01-28T19:53:50.516Z"
   },
   {
    "duration": 21,
    "start_time": "2023-01-28T19:53:50.609Z"
   },
   {
    "duration": 23,
    "start_time": "2023-01-28T19:53:50.633Z"
   },
   {
    "duration": 40,
    "start_time": "2023-01-28T19:53:50.658Z"
   },
   {
    "duration": 22,
    "start_time": "2023-01-28T19:53:50.700Z"
   },
   {
    "duration": 78,
    "start_time": "2023-01-28T19:53:50.724Z"
   },
   {
    "duration": 77,
    "start_time": "2023-01-28T19:53:50.804Z"
   },
   {
    "duration": 10,
    "start_time": "2023-01-28T19:53:50.883Z"
   },
   {
    "duration": 4641,
    "start_time": "2023-01-28T19:53:50.894Z"
   },
   {
    "duration": 2,
    "start_time": "2023-01-28T19:53:55.537Z"
   },
   {
    "duration": 95,
    "start_time": "2023-01-28T19:53:55.541Z"
   },
   {
    "duration": 4,
    "start_time": "2023-01-28T19:53:55.638Z"
   },
   {
    "duration": 59064,
    "start_time": "2023-01-28T19:53:55.644Z"
   },
   {
    "duration": 373,
    "start_time": "2023-01-28T19:54:54.710Z"
   },
   {
    "duration": 105,
    "start_time": "2023-01-28T19:54:55.085Z"
   },
   {
    "duration": 9,
    "start_time": "2023-01-28T19:54:55.191Z"
   },
   {
    "duration": 116,
    "start_time": "2023-01-28T19:54:55.202Z"
   },
   {
    "duration": 0,
    "start_time": "2023-01-28T19:54:55.320Z"
   },
   {
    "duration": 7,
    "start_time": "2023-01-28T19:55:54.834Z"
   },
   {
    "duration": 4,
    "start_time": "2023-01-28T19:56:42.792Z"
   },
   {
    "duration": 4,
    "start_time": "2023-01-28T19:57:08.931Z"
   },
   {
    "duration": 4,
    "start_time": "2023-01-28T19:57:43.208Z"
   },
   {
    "duration": 192641,
    "start_time": "2023-01-28T19:58:33.363Z"
   },
   {
    "duration": 4,
    "start_time": "2023-01-28T20:01:52.960Z"
   },
   {
    "duration": 6,
    "start_time": "2023-01-28T20:01:55.992Z"
   },
   {
    "duration": 8,
    "start_time": "2023-01-28T20:02:33.981Z"
   },
   {
    "duration": 11,
    "start_time": "2023-01-28T20:02:46.525Z"
   },
   {
    "duration": 45,
    "start_time": "2023-01-28T20:02:49.832Z"
   },
   {
    "duration": 5,
    "start_time": "2023-01-28T20:02:53.741Z"
   },
   {
    "duration": 4,
    "start_time": "2023-01-28T20:03:16.433Z"
   },
   {
    "duration": 54566,
    "start_time": "2023-01-28T20:17:19.856Z"
   },
   {
    "duration": 77738,
    "start_time": "2023-01-28T20:23:52.123Z"
   },
   {
    "duration": 3,
    "start_time": "2023-01-28T20:36:03.559Z"
   },
   {
    "duration": 35,
    "start_time": "2023-01-28T20:36:04.297Z"
   },
   {
    "duration": 134010,
    "start_time": "2023-01-28T20:36:23.124Z"
   },
   {
    "duration": 489,
    "start_time": "2023-01-28T20:38:39.703Z"
   },
   {
    "duration": 5,
    "start_time": "2023-01-28T20:42:33.555Z"
   },
   {
    "duration": 1640,
    "start_time": "2023-01-28T20:44:43.687Z"
   },
   {
    "duration": 10,
    "start_time": "2023-01-28T20:45:15.654Z"
   },
   {
    "duration": 5,
    "start_time": "2023-01-28T20:52:43.553Z"
   },
   {
    "duration": 244,
    "start_time": "2023-01-28T20:54:39.959Z"
   },
   {
    "duration": 1756,
    "start_time": "2023-01-28T20:54:46.479Z"
   },
   {
    "duration": 66691,
    "start_time": "2023-01-28T20:55:59.809Z"
   },
   {
    "duration": 13526,
    "start_time": "2023-01-28T20:57:10.264Z"
   },
   {
    "duration": 3148,
    "start_time": "2023-01-28T21:13:32.990Z"
   },
   {
    "duration": 2316,
    "start_time": "2023-01-28T21:13:36.141Z"
   },
   {
    "duration": 2889,
    "start_time": "2023-01-28T21:13:38.459Z"
   },
   {
    "duration": 20,
    "start_time": "2023-01-28T21:13:41.351Z"
   },
   {
    "duration": 4,
    "start_time": "2023-01-28T21:13:41.373Z"
   },
   {
    "duration": 16,
    "start_time": "2023-01-28T21:13:41.378Z"
   },
   {
    "duration": 180,
    "start_time": "2023-01-28T21:13:41.397Z"
   },
   {
    "duration": 1488,
    "start_time": "2023-01-28T21:13:41.580Z"
   },
   {
    "duration": 426,
    "start_time": "2023-01-28T21:13:43.070Z"
   },
   {
    "duration": 415,
    "start_time": "2023-01-28T21:13:43.500Z"
   },
   {
    "duration": 50,
    "start_time": "2023-01-28T21:13:43.917Z"
   },
   {
    "duration": 288,
    "start_time": "2023-01-28T21:13:43.969Z"
   },
   {
    "duration": 14,
    "start_time": "2023-01-28T21:13:44.259Z"
   },
   {
    "duration": 19,
    "start_time": "2023-01-28T21:13:44.275Z"
   },
   {
    "duration": 57,
    "start_time": "2023-01-28T21:13:44.296Z"
   },
   {
    "duration": 356,
    "start_time": "2023-01-28T21:13:44.356Z"
   },
   {
    "duration": 10,
    "start_time": "2023-01-28T21:13:44.715Z"
   },
   {
    "duration": 367,
    "start_time": "2023-01-28T21:13:44.727Z"
   },
   {
    "duration": 303,
    "start_time": "2023-01-28T21:13:45.096Z"
   },
   {
    "duration": 21,
    "start_time": "2023-01-28T21:13:45.401Z"
   },
   {
    "duration": 57,
    "start_time": "2023-01-28T21:13:45.423Z"
   },
   {
    "duration": 101,
    "start_time": "2023-01-28T21:13:45.482Z"
   },
   {
    "duration": 428,
    "start_time": "2023-01-28T21:13:45.585Z"
   },
   {
    "duration": 960,
    "start_time": "2023-01-28T21:13:46.014Z"
   },
   {
    "duration": 20,
    "start_time": "2023-01-28T21:13:46.978Z"
   },
   {
    "duration": 125,
    "start_time": "2023-01-28T21:13:47.000Z"
   },
   {
    "duration": 28,
    "start_time": "2023-01-28T21:13:47.127Z"
   },
   {
    "duration": 23,
    "start_time": "2023-01-28T21:13:47.159Z"
   },
   {
    "duration": 34,
    "start_time": "2023-01-28T21:13:47.184Z"
   },
   {
    "duration": 49,
    "start_time": "2023-01-28T21:13:47.220Z"
   },
   {
    "duration": 102,
    "start_time": "2023-01-28T21:13:47.271Z"
   },
   {
    "duration": 123,
    "start_time": "2023-01-28T21:13:47.375Z"
   },
   {
    "duration": 11,
    "start_time": "2023-01-28T21:13:47.500Z"
   },
   {
    "duration": 6168,
    "start_time": "2023-01-28T21:13:47.513Z"
   },
   {
    "duration": 4,
    "start_time": "2023-01-28T21:13:53.685Z"
   },
   {
    "duration": 141,
    "start_time": "2023-01-28T21:13:53.691Z"
   },
   {
    "duration": 4,
    "start_time": "2023-01-28T21:13:57.450Z"
   },
   {
    "duration": 57993,
    "start_time": "2023-01-28T21:14:02.245Z"
   },
   {
    "duration": 8,
    "start_time": "2023-01-28T21:15:33.017Z"
   },
   {
    "duration": 101706,
    "start_time": "2023-01-28T21:16:45.656Z"
   },
   {
    "duration": 23838,
    "start_time": "2023-01-28T21:20:24.224Z"
   },
   {
    "duration": 31969,
    "start_time": "2023-01-28T21:20:50.525Z"
   },
   {
    "duration": 46,
    "start_time": "2023-01-28T21:21:24.216Z"
   },
   {
    "duration": 53183,
    "start_time": "2023-01-28T21:21:28.291Z"
   },
   {
    "duration": 12084,
    "start_time": "2023-01-28T21:22:31.446Z"
   },
   {
    "duration": 874293,
    "start_time": "2023-01-28T21:23:09.114Z"
   },
   {
    "duration": 10,
    "start_time": "2023-01-28T21:39:34.471Z"
   },
   {
    "duration": 281,
    "start_time": "2023-01-28T21:40:16.997Z"
   },
   {
    "duration": 10,
    "start_time": "2023-01-28T21:41:01.993Z"
   },
   {
    "duration": 328,
    "start_time": "2023-01-28T21:41:32.674Z"
   },
   {
    "duration": 40286,
    "start_time": "2023-01-28T21:42:21.619Z"
   },
   {
    "duration": 870,
    "start_time": "2023-01-28T21:43:06.753Z"
   },
   {
    "duration": 124272,
    "start_time": "2023-01-28T21:43:18.314Z"
   },
   {
    "duration": 137164,
    "start_time": "2023-01-28T21:45:30.024Z"
   },
   {
    "duration": 2428,
    "start_time": "2023-01-28T21:51:25.389Z"
   },
   {
    "duration": 5,
    "start_time": "2023-01-28T21:51:27.819Z"
   },
   {
    "duration": 903,
    "start_time": "2023-01-28T21:51:27.826Z"
   },
   {
    "duration": 19,
    "start_time": "2023-01-28T21:51:28.732Z"
   },
   {
    "duration": 32,
    "start_time": "2023-01-28T21:51:28.753Z"
   },
   {
    "duration": 35,
    "start_time": "2023-01-28T21:51:28.788Z"
   },
   {
    "duration": 276,
    "start_time": "2023-01-28T21:51:28.825Z"
   },
   {
    "duration": 1292,
    "start_time": "2023-01-28T21:51:29.103Z"
   },
   {
    "duration": 423,
    "start_time": "2023-01-28T21:51:30.397Z"
   },
   {
    "duration": 366,
    "start_time": "2023-01-28T21:51:30.822Z"
   },
   {
    "duration": 56,
    "start_time": "2023-01-28T21:51:31.191Z"
   },
   {
    "duration": 250,
    "start_time": "2023-01-28T21:51:31.250Z"
   },
   {
    "duration": 11,
    "start_time": "2023-01-28T21:51:31.502Z"
   },
   {
    "duration": 32,
    "start_time": "2023-01-28T21:51:31.515Z"
   },
   {
    "duration": 53,
    "start_time": "2023-01-28T21:51:31.549Z"
   },
   {
    "duration": 491,
    "start_time": "2023-01-28T21:51:31.604Z"
   },
   {
    "duration": 9,
    "start_time": "2023-01-28T21:51:32.097Z"
   },
   {
    "duration": 423,
    "start_time": "2023-01-28T21:51:32.108Z"
   },
   {
    "duration": 345,
    "start_time": "2023-01-28T21:51:32.533Z"
   },
   {
    "duration": 20,
    "start_time": "2023-01-28T21:51:32.880Z"
   },
   {
    "duration": 55,
    "start_time": "2023-01-28T21:51:32.902Z"
   },
   {
    "duration": 80,
    "start_time": "2023-01-28T21:51:32.959Z"
   },
   {
    "duration": 312,
    "start_time": "2023-01-28T21:51:33.041Z"
   },
   {
    "duration": 870,
    "start_time": "2023-01-28T21:51:33.355Z"
   },
   {
    "duration": 32,
    "start_time": "2023-01-28T21:51:34.226Z"
   },
   {
    "duration": 107,
    "start_time": "2023-01-28T21:51:34.260Z"
   },
   {
    "duration": 27,
    "start_time": "2023-01-28T21:51:34.369Z"
   },
   {
    "duration": 40,
    "start_time": "2023-01-28T21:51:34.400Z"
   },
   {
    "duration": 27,
    "start_time": "2023-01-28T21:51:34.442Z"
   },
   {
    "duration": 36,
    "start_time": "2023-01-28T21:51:34.471Z"
   },
   {
    "duration": 110,
    "start_time": "2023-01-28T21:51:34.509Z"
   },
   {
    "duration": 103,
    "start_time": "2023-01-28T21:51:34.621Z"
   },
   {
    "duration": 15,
    "start_time": "2023-01-28T21:51:34.726Z"
   },
   {
    "duration": 5867,
    "start_time": "2023-01-28T21:51:34.743Z"
   },
   {
    "duration": 2,
    "start_time": "2023-01-28T21:51:40.612Z"
   },
   {
    "duration": 103,
    "start_time": "2023-01-28T21:51:40.616Z"
   },
   {
    "duration": 5,
    "start_time": "2023-01-28T21:51:40.721Z"
   },
   {
    "duration": 86605,
    "start_time": "2023-01-28T21:51:47.154Z"
   },
   {
    "duration": 57119,
    "start_time": "2023-01-28T21:53:24.257Z"
   },
   {
    "duration": 11,
    "start_time": "2023-01-28T21:54:21.378Z"
   },
   {
    "duration": 4,
    "start_time": "2023-01-28T21:54:41.696Z"
   },
   {
    "duration": 5,
    "start_time": "2023-01-28T21:54:50.218Z"
   },
   {
    "duration": 3,
    "start_time": "2023-01-28T21:57:03.163Z"
   },
   {
    "duration": 80143,
    "start_time": "2023-01-28T21:57:11.407Z"
   },
   {
    "duration": 9223,
    "start_time": "2023-01-28T21:58:32.545Z"
   },
   {
    "duration": 49251,
    "start_time": "2023-01-28T22:00:32.445Z"
   },
   {
    "duration": 54986,
    "start_time": "2023-01-28T22:01:57.680Z"
   },
   {
    "duration": 3,
    "start_time": "2023-01-28T22:05:11.069Z"
   },
   {
    "duration": 5,
    "start_time": "2023-01-28T22:05:19.088Z"
   },
   {
    "duration": 9,
    "start_time": "2023-01-28T22:05:31.886Z"
   },
   {
    "duration": 3,
    "start_time": "2023-01-28T22:05:36.126Z"
   },
   {
    "duration": 3,
    "start_time": "2023-01-28T22:05:36.497Z"
   },
   {
    "duration": 50,
    "start_time": "2023-01-28T22:05:44.017Z"
   },
   {
    "duration": 12,
    "start_time": "2023-01-28T22:06:54.197Z"
   },
   {
    "duration": 26652,
    "start_time": "2023-01-28T22:07:13.069Z"
   },
   {
    "duration": 180831,
    "start_time": "2023-01-28T22:07:44.384Z"
   },
   {
    "duration": 246042,
    "start_time": "2023-01-28T22:10:53.127Z"
   },
   {
    "duration": 4,
    "start_time": "2023-01-28T22:17:55.759Z"
   },
   {
    "duration": 8,
    "start_time": "2023-01-28T22:18:08.950Z"
   },
   {
    "duration": 50,
    "start_time": "2023-01-28T22:20:38.848Z"
   },
   {
    "duration": 19178,
    "start_time": "2023-01-28T22:20:43.629Z"
   },
   {
    "duration": 53540,
    "start_time": "2023-01-28T22:21:02.972Z"
   },
   {
    "duration": 10,
    "start_time": "2023-01-28T22:24:24.795Z"
   },
   {
    "duration": 9,
    "start_time": "2023-01-28T22:24:29.280Z"
   },
   {
    "duration": 192,
    "start_time": "2023-01-28T22:24:37.430Z"
   },
   {
    "duration": 2135,
    "start_time": "2023-01-28T22:27:33.978Z"
   },
   {
    "duration": 1407,
    "start_time": "2023-01-28T22:27:36.115Z"
   },
   {
    "duration": 914,
    "start_time": "2023-01-28T22:27:37.524Z"
   },
   {
    "duration": 17,
    "start_time": "2023-01-28T22:27:38.440Z"
   },
   {
    "duration": 4,
    "start_time": "2023-01-28T22:27:38.458Z"
   },
   {
    "duration": 19,
    "start_time": "2023-01-28T22:27:38.463Z"
   },
   {
    "duration": 168,
    "start_time": "2023-01-28T22:27:38.483Z"
   },
   {
    "duration": 1344,
    "start_time": "2023-01-28T22:27:38.653Z"
   },
   {
    "duration": 419,
    "start_time": "2023-01-28T22:27:39.999Z"
   },
   {
    "duration": 425,
    "start_time": "2023-01-28T22:27:40.421Z"
   },
   {
    "duration": 53,
    "start_time": "2023-01-28T22:27:40.847Z"
   },
   {
    "duration": 316,
    "start_time": "2023-01-28T22:27:40.902Z"
   },
   {
    "duration": 11,
    "start_time": "2023-01-28T22:27:41.219Z"
   },
   {
    "duration": 23,
    "start_time": "2023-01-28T22:27:41.231Z"
   },
   {
    "duration": 48,
    "start_time": "2023-01-28T22:27:41.256Z"
   },
   {
    "duration": 325,
    "start_time": "2023-01-28T22:27:41.306Z"
   },
   {
    "duration": 12,
    "start_time": "2023-01-28T22:27:41.632Z"
   },
   {
    "duration": 342,
    "start_time": "2023-01-28T22:27:41.646Z"
   },
   {
    "duration": 294,
    "start_time": "2023-01-28T22:27:41.989Z"
   },
   {
    "duration": 28,
    "start_time": "2023-01-28T22:27:42.286Z"
   },
   {
    "duration": 56,
    "start_time": "2023-01-28T22:27:42.316Z"
   },
   {
    "duration": 114,
    "start_time": "2023-01-28T22:27:42.374Z"
   },
   {
    "duration": 508,
    "start_time": "2023-01-28T22:27:42.491Z"
   },
   {
    "duration": 958,
    "start_time": "2023-01-28T22:27:43.001Z"
   },
   {
    "duration": 22,
    "start_time": "2023-01-28T22:27:43.961Z"
   },
   {
    "duration": 109,
    "start_time": "2023-01-28T22:27:43.984Z"
   },
   {
    "duration": 36,
    "start_time": "2023-01-28T22:27:44.095Z"
   },
   {
    "duration": 27,
    "start_time": "2023-01-28T22:27:44.135Z"
   },
   {
    "duration": 29,
    "start_time": "2023-01-28T22:27:44.164Z"
   },
   {
    "duration": 29,
    "start_time": "2023-01-28T22:27:44.195Z"
   },
   {
    "duration": 129,
    "start_time": "2023-01-28T22:27:44.226Z"
   },
   {
    "duration": 102,
    "start_time": "2023-01-28T22:27:44.357Z"
   },
   {
    "duration": 12,
    "start_time": "2023-01-28T22:27:44.461Z"
   },
   {
    "duration": 5597,
    "start_time": "2023-01-28T22:27:44.475Z"
   },
   {
    "duration": 2,
    "start_time": "2023-01-28T22:27:50.075Z"
   },
   {
    "duration": 119,
    "start_time": "2023-01-28T22:27:50.079Z"
   },
   {
    "duration": 4,
    "start_time": "2023-01-28T22:27:50.201Z"
   },
   {
    "duration": 2276,
    "start_time": "2023-01-28T22:29:01.384Z"
   },
   {
    "duration": 1458,
    "start_time": "2023-01-28T22:29:03.662Z"
   },
   {
    "duration": 937,
    "start_time": "2023-01-28T22:29:05.122Z"
   },
   {
    "duration": 18,
    "start_time": "2023-01-28T22:29:06.060Z"
   },
   {
    "duration": 4,
    "start_time": "2023-01-28T22:29:06.080Z"
   },
   {
    "duration": 26,
    "start_time": "2023-01-28T22:29:06.085Z"
   },
   {
    "duration": 210,
    "start_time": "2023-01-28T22:29:06.113Z"
   },
   {
    "duration": 1336,
    "start_time": "2023-01-28T22:29:06.325Z"
   },
   {
    "duration": 430,
    "start_time": "2023-01-28T22:29:07.662Z"
   },
   {
    "duration": 446,
    "start_time": "2023-01-28T22:29:08.093Z"
   },
   {
    "duration": 53,
    "start_time": "2023-01-28T22:29:08.541Z"
   },
   {
    "duration": 298,
    "start_time": "2023-01-28T22:29:08.596Z"
   },
   {
    "duration": 11,
    "start_time": "2023-01-28T22:29:08.895Z"
   },
   {
    "duration": 13,
    "start_time": "2023-01-28T22:29:08.909Z"
   },
   {
    "duration": 51,
    "start_time": "2023-01-28T22:29:08.923Z"
   },
   {
    "duration": 300,
    "start_time": "2023-01-28T22:29:08.975Z"
   },
   {
    "duration": 8,
    "start_time": "2023-01-28T22:29:09.277Z"
   },
   {
    "duration": 289,
    "start_time": "2023-01-28T22:29:09.287Z"
   },
   {
    "duration": 248,
    "start_time": "2023-01-28T22:29:09.578Z"
   },
   {
    "duration": 21,
    "start_time": "2023-01-28T22:29:09.828Z"
   },
   {
    "duration": 33,
    "start_time": "2023-01-28T22:29:09.851Z"
   },
   {
    "duration": 107,
    "start_time": "2023-01-28T22:29:09.886Z"
   },
   {
    "duration": 406,
    "start_time": "2023-01-28T22:29:09.994Z"
   },
   {
    "duration": 800,
    "start_time": "2023-01-28T22:29:10.401Z"
   },
   {
    "duration": 22,
    "start_time": "2023-01-28T22:29:11.202Z"
   },
   {
    "duration": 93,
    "start_time": "2023-01-28T22:29:11.226Z"
   },
   {
    "duration": 29,
    "start_time": "2023-01-28T22:29:11.320Z"
   },
   {
    "duration": 18,
    "start_time": "2023-01-28T22:29:11.350Z"
   },
   {
    "duration": 23,
    "start_time": "2023-01-28T22:29:11.370Z"
   },
   {
    "duration": 43,
    "start_time": "2023-01-28T22:29:11.395Z"
   },
   {
    "duration": 79,
    "start_time": "2023-01-28T22:29:11.439Z"
   },
   {
    "duration": 92,
    "start_time": "2023-01-28T22:29:11.520Z"
   },
   {
    "duration": 11,
    "start_time": "2023-01-28T22:29:11.613Z"
   },
   {
    "duration": 5359,
    "start_time": "2023-01-28T22:29:11.637Z"
   },
   {
    "duration": 2,
    "start_time": "2023-01-28T22:29:16.998Z"
   },
   {
    "duration": 104,
    "start_time": "2023-01-28T22:29:17.001Z"
   },
   {
    "duration": 4,
    "start_time": "2023-01-28T22:29:17.107Z"
   },
   {
    "duration": 340566,
    "start_time": "2023-01-28T22:29:17.112Z"
   },
   {
    "duration": 0,
    "start_time": "2023-01-28T22:34:57.680Z"
   },
   {
    "duration": 0,
    "start_time": "2023-01-28T22:34:57.681Z"
   },
   {
    "duration": 0,
    "start_time": "2023-01-28T22:34:57.682Z"
   },
   {
    "duration": 0,
    "start_time": "2023-01-28T22:34:57.683Z"
   },
   {
    "duration": 0,
    "start_time": "2023-01-28T22:34:57.684Z"
   },
   {
    "duration": 10,
    "start_time": "2023-01-28T22:35:03.923Z"
   },
   {
    "duration": 2543,
    "start_time": "2023-01-28T22:43:11.379Z"
   },
   {
    "duration": 1533,
    "start_time": "2023-01-28T22:43:13.924Z"
   },
   {
    "duration": 978,
    "start_time": "2023-01-28T22:43:15.459Z"
   },
   {
    "duration": 22,
    "start_time": "2023-01-28T22:43:16.441Z"
   },
   {
    "duration": 5,
    "start_time": "2023-01-28T22:43:16.464Z"
   },
   {
    "duration": 50,
    "start_time": "2023-01-28T22:43:16.470Z"
   },
   {
    "duration": 193,
    "start_time": "2023-01-28T22:43:16.522Z"
   },
   {
    "duration": 1402,
    "start_time": "2023-01-28T22:43:16.717Z"
   },
   {
    "duration": 456,
    "start_time": "2023-01-28T22:43:18.121Z"
   },
   {
    "duration": 431,
    "start_time": "2023-01-28T22:43:18.580Z"
   },
   {
    "duration": 62,
    "start_time": "2023-01-28T22:43:19.012Z"
   },
   {
    "duration": 308,
    "start_time": "2023-01-28T22:43:19.076Z"
   },
   {
    "duration": 11,
    "start_time": "2023-01-28T22:43:19.386Z"
   },
   {
    "duration": 12,
    "start_time": "2023-01-28T22:43:19.398Z"
   },
   {
    "duration": 63,
    "start_time": "2023-01-28T22:43:19.412Z"
   },
   {
    "duration": 339,
    "start_time": "2023-01-28T22:43:19.477Z"
   },
   {
    "duration": 9,
    "start_time": "2023-01-28T22:43:19.818Z"
   },
   {
    "duration": 342,
    "start_time": "2023-01-28T22:43:19.829Z"
   },
   {
    "duration": 302,
    "start_time": "2023-01-28T22:43:20.172Z"
   },
   {
    "duration": 21,
    "start_time": "2023-01-28T22:43:20.476Z"
   },
   {
    "duration": 54,
    "start_time": "2023-01-28T22:43:20.499Z"
   },
   {
    "duration": 94,
    "start_time": "2023-01-28T22:43:20.555Z"
   },
   {
    "duration": 463,
    "start_time": "2023-01-28T22:43:20.650Z"
   },
   {
    "duration": 879,
    "start_time": "2023-01-28T22:43:21.115Z"
   },
   {
    "duration": 22,
    "start_time": "2023-01-28T22:43:21.996Z"
   },
   {
    "duration": 120,
    "start_time": "2023-01-28T22:43:22.020Z"
   },
   {
    "duration": 38,
    "start_time": "2023-01-28T22:43:22.142Z"
   },
   {
    "duration": 34,
    "start_time": "2023-01-28T22:43:22.183Z"
   },
   {
    "duration": 45,
    "start_time": "2023-01-28T22:43:22.219Z"
   },
   {
    "duration": 57,
    "start_time": "2023-01-28T22:43:22.266Z"
   },
   {
    "duration": 121,
    "start_time": "2023-01-28T22:43:22.324Z"
   },
   {
    "duration": 158,
    "start_time": "2023-01-28T22:43:22.448Z"
   },
   {
    "duration": 30,
    "start_time": "2023-01-28T22:43:22.608Z"
   },
   {
    "duration": 5705,
    "start_time": "2023-01-28T22:43:22.643Z"
   },
   {
    "duration": 2,
    "start_time": "2023-01-28T22:43:35.523Z"
   },
   {
    "duration": 88,
    "start_time": "2023-01-28T22:43:37.072Z"
   },
   {
    "duration": 5,
    "start_time": "2023-01-28T22:43:40.015Z"
   },
   {
    "duration": 432186,
    "start_time": "2023-01-28T22:43:40.594Z"
   },
   {
    "duration": 6,
    "start_time": "2023-01-28T22:50:52.783Z"
   },
   {
    "duration": 26,
    "start_time": "2023-01-28T22:50:52.791Z"
   },
   {
    "duration": 41,
    "start_time": "2023-01-28T22:50:52.819Z"
   },
   {
    "duration": 279168,
    "start_time": "2023-01-28T22:50:52.862Z"
   },
   {
    "duration": 181,
    "start_time": "2023-01-28T22:55:32.032Z"
   },
   {
    "duration": 58052,
    "start_time": "2023-01-28T22:55:32.215Z"
   },
   {
    "duration": 115,
    "start_time": "2023-01-28T23:11:51.532Z"
   },
   {
    "duration": 17,
    "start_time": "2023-01-28T23:12:14.967Z"
   },
   {
    "duration": 18,
    "start_time": "2023-01-28T23:13:27.382Z"
   },
   {
    "duration": 4051,
    "start_time": "2023-01-29T13:11:44.960Z"
   },
   {
    "duration": 2822,
    "start_time": "2023-01-29T13:11:49.013Z"
   },
   {
    "duration": 1278,
    "start_time": "2023-01-29T13:11:51.838Z"
   },
   {
    "duration": 22,
    "start_time": "2023-01-29T13:11:53.119Z"
   },
   {
    "duration": 6,
    "start_time": "2023-01-29T13:11:53.143Z"
   },
   {
    "duration": 24,
    "start_time": "2023-01-29T13:11:53.150Z"
   },
   {
    "duration": 196,
    "start_time": "2023-01-29T13:11:53.177Z"
   },
   {
    "duration": 1477,
    "start_time": "2023-01-29T13:11:53.375Z"
   },
   {
    "duration": 545,
    "start_time": "2023-01-29T13:11:54.854Z"
   },
   {
    "duration": 407,
    "start_time": "2023-01-29T13:11:55.401Z"
   },
   {
    "duration": 57,
    "start_time": "2023-01-29T13:11:55.809Z"
   },
   {
    "duration": 313,
    "start_time": "2023-01-29T13:11:55.870Z"
   },
   {
    "duration": 11,
    "start_time": "2023-01-29T13:11:56.186Z"
   },
   {
    "duration": 9,
    "start_time": "2023-01-29T13:11:56.199Z"
   },
   {
    "duration": 76,
    "start_time": "2023-01-29T13:11:56.210Z"
   },
   {
    "duration": 362,
    "start_time": "2023-01-29T13:11:56.289Z"
   },
   {
    "duration": 13,
    "start_time": "2023-01-29T13:11:56.654Z"
   },
   {
    "duration": 362,
    "start_time": "2023-01-29T13:11:56.669Z"
   },
   {
    "duration": 409,
    "start_time": "2023-01-29T13:11:57.033Z"
   },
   {
    "duration": 23,
    "start_time": "2023-01-29T13:11:57.445Z"
   },
   {
    "duration": 57,
    "start_time": "2023-01-29T13:11:57.471Z"
   },
   {
    "duration": 92,
    "start_time": "2023-01-29T13:11:57.530Z"
   },
   {
    "duration": 337,
    "start_time": "2023-01-29T13:11:57.624Z"
   },
   {
    "duration": 956,
    "start_time": "2023-01-29T13:11:57.963Z"
   },
   {
    "duration": 35,
    "start_time": "2023-01-29T13:11:58.922Z"
   },
   {
    "duration": 131,
    "start_time": "2023-01-29T13:11:58.960Z"
   },
   {
    "duration": 49,
    "start_time": "2023-01-29T13:11:59.094Z"
   },
   {
    "duration": 52,
    "start_time": "2023-01-29T13:11:59.149Z"
   },
   {
    "duration": 47,
    "start_time": "2023-01-29T13:11:59.203Z"
   },
   {
    "duration": 74,
    "start_time": "2023-01-29T13:11:59.253Z"
   },
   {
    "duration": 138,
    "start_time": "2023-01-29T13:11:59.329Z"
   },
   {
    "duration": 107,
    "start_time": "2023-01-29T13:11:59.469Z"
   },
   {
    "duration": 21,
    "start_time": "2023-01-29T13:11:59.578Z"
   },
   {
    "duration": 6189,
    "start_time": "2023-01-29T13:11:59.600Z"
   },
   {
    "duration": 3,
    "start_time": "2023-01-29T13:12:05.791Z"
   },
   {
    "duration": 149,
    "start_time": "2023-01-29T13:12:05.796Z"
   },
   {
    "duration": 5,
    "start_time": "2023-01-29T13:12:05.947Z"
   },
   {
    "duration": 48436,
    "start_time": "2023-01-29T13:12:05.954Z"
   },
   {
    "duration": 17,
    "start_time": "2023-01-29T13:13:23.144Z"
   },
   {
    "duration": 34,
    "start_time": "2023-01-29T13:13:27.454Z"
   },
   {
    "duration": 84090,
    "start_time": "2023-01-29T13:15:12.671Z"
   },
   {
    "duration": 0,
    "start_time": "2023-01-29T13:16:36.764Z"
   },
   {
    "duration": 0,
    "start_time": "2023-01-29T13:16:36.766Z"
   },
   {
    "duration": 0,
    "start_time": "2023-01-29T13:16:36.766Z"
   },
   {
    "duration": 0,
    "start_time": "2023-01-29T13:16:36.768Z"
   },
   {
    "duration": 0,
    "start_time": "2023-01-29T13:16:36.769Z"
   },
   {
    "duration": 0,
    "start_time": "2023-01-29T13:16:36.770Z"
   },
   {
    "duration": 0,
    "start_time": "2023-01-29T13:16:36.772Z"
   },
   {
    "duration": 0,
    "start_time": "2023-01-29T13:16:36.772Z"
   },
   {
    "duration": 0,
    "start_time": "2023-01-29T13:16:36.774Z"
   },
   {
    "duration": 0,
    "start_time": "2023-01-29T13:16:36.775Z"
   },
   {
    "duration": 0,
    "start_time": "2023-01-29T13:16:36.776Z"
   },
   {
    "duration": 0,
    "start_time": "2023-01-29T13:16:36.777Z"
   },
   {
    "duration": 0,
    "start_time": "2023-01-29T13:16:36.778Z"
   },
   {
    "duration": 0,
    "start_time": "2023-01-29T13:16:36.779Z"
   },
   {
    "duration": 0,
    "start_time": "2023-01-29T13:16:36.780Z"
   },
   {
    "duration": 0,
    "start_time": "2023-01-29T13:16:36.781Z"
   },
   {
    "duration": 0,
    "start_time": "2023-01-29T13:16:36.782Z"
   },
   {
    "duration": 0,
    "start_time": "2023-01-29T13:16:36.783Z"
   },
   {
    "duration": 0,
    "start_time": "2023-01-29T13:16:36.784Z"
   },
   {
    "duration": 0,
    "start_time": "2023-01-29T13:16:36.785Z"
   },
   {
    "duration": 0,
    "start_time": "2023-01-29T13:16:36.786Z"
   },
   {
    "duration": 0,
    "start_time": "2023-01-29T13:16:36.787Z"
   },
   {
    "duration": 0,
    "start_time": "2023-01-29T13:16:36.789Z"
   },
   {
    "duration": 0,
    "start_time": "2023-01-29T13:16:36.790Z"
   },
   {
    "duration": 0,
    "start_time": "2023-01-29T13:16:36.791Z"
   },
   {
    "duration": 0,
    "start_time": "2023-01-29T13:16:36.792Z"
   },
   {
    "duration": 0,
    "start_time": "2023-01-29T13:16:36.793Z"
   },
   {
    "duration": 0,
    "start_time": "2023-01-29T13:16:36.794Z"
   },
   {
    "duration": 0,
    "start_time": "2023-01-29T13:16:36.795Z"
   },
   {
    "duration": 0,
    "start_time": "2023-01-29T13:16:36.796Z"
   },
   {
    "duration": 0,
    "start_time": "2023-01-29T13:16:36.797Z"
   },
   {
    "duration": 0,
    "start_time": "2023-01-29T13:16:36.798Z"
   },
   {
    "duration": 0,
    "start_time": "2023-01-29T13:16:36.799Z"
   },
   {
    "duration": 0,
    "start_time": "2023-01-29T13:16:36.800Z"
   },
   {
    "duration": 0,
    "start_time": "2023-01-29T13:16:36.801Z"
   },
   {
    "duration": 2365,
    "start_time": "2023-01-29T13:16:45.244Z"
   },
   {
    "duration": 1521,
    "start_time": "2023-01-29T13:16:47.612Z"
   },
   {
    "duration": 876,
    "start_time": "2023-01-29T13:16:49.140Z"
   },
   {
    "duration": 28,
    "start_time": "2023-01-29T13:16:50.018Z"
   },
   {
    "duration": 12,
    "start_time": "2023-01-29T13:16:50.048Z"
   },
   {
    "duration": 34,
    "start_time": "2023-01-29T13:16:50.062Z"
   },
   {
    "duration": 182,
    "start_time": "2023-01-29T13:16:50.098Z"
   },
   {
    "duration": 1395,
    "start_time": "2023-01-29T13:16:50.283Z"
   },
   {
    "duration": 405,
    "start_time": "2023-01-29T13:16:51.680Z"
   },
   {
    "duration": 445,
    "start_time": "2023-01-29T13:16:52.088Z"
   },
   {
    "duration": 58,
    "start_time": "2023-01-29T13:16:52.535Z"
   },
   {
    "duration": 284,
    "start_time": "2023-01-29T13:16:52.594Z"
   },
   {
    "duration": 11,
    "start_time": "2023-01-29T13:16:52.879Z"
   },
   {
    "duration": 8,
    "start_time": "2023-01-29T13:16:52.891Z"
   },
   {
    "duration": 55,
    "start_time": "2023-01-29T13:16:52.900Z"
   },
   {
    "duration": 316,
    "start_time": "2023-01-29T13:16:52.957Z"
   },
   {
    "duration": 10,
    "start_time": "2023-01-29T13:16:53.275Z"
   },
   {
    "duration": 320,
    "start_time": "2023-01-29T13:16:53.286Z"
   },
   {
    "duration": 315,
    "start_time": "2023-01-29T13:16:53.608Z"
   },
   {
    "duration": 32,
    "start_time": "2023-01-29T13:16:53.925Z"
   },
   {
    "duration": 37,
    "start_time": "2023-01-29T13:16:53.960Z"
   },
   {
    "duration": 99,
    "start_time": "2023-01-29T13:16:53.999Z"
   },
   {
    "duration": 469,
    "start_time": "2023-01-29T13:16:54.100Z"
   },
   {
    "duration": 863,
    "start_time": "2023-01-29T13:16:54.571Z"
   },
   {
    "duration": 21,
    "start_time": "2023-01-29T13:16:55.435Z"
   },
   {
    "duration": 102,
    "start_time": "2023-01-29T13:16:55.458Z"
   },
   {
    "duration": 27,
    "start_time": "2023-01-29T13:16:55.562Z"
   },
   {
    "duration": 47,
    "start_time": "2023-01-29T13:16:55.592Z"
   },
   {
    "duration": 39,
    "start_time": "2023-01-29T13:16:55.641Z"
   },
   {
    "duration": 38,
    "start_time": "2023-01-29T13:16:55.682Z"
   },
   {
    "duration": 106,
    "start_time": "2023-01-29T13:17:00.693Z"
   },
   {
    "duration": 118,
    "start_time": "2023-01-29T13:17:03.844Z"
   },
   {
    "duration": 5,
    "start_time": "2023-01-29T13:17:08.769Z"
   },
   {
    "duration": 2012,
    "start_time": "2023-01-29T13:17:11.236Z"
   },
   {
    "duration": 4,
    "start_time": "2023-01-29T13:19:42.445Z"
   },
   {
    "duration": 1087,
    "start_time": "2023-01-29T13:33:26.435Z"
   },
   {
    "duration": 85,
    "start_time": "2023-01-29T13:33:30.635Z"
   },
   {
    "duration": 93,
    "start_time": "2023-01-29T13:33:30.976Z"
   },
   {
    "duration": 12,
    "start_time": "2023-01-29T13:33:31.273Z"
   },
   {
    "duration": 5601,
    "start_time": "2023-01-29T13:33:34.139Z"
   },
   {
    "duration": 3,
    "start_time": "2023-01-29T13:33:39.742Z"
   },
   {
    "duration": 105,
    "start_time": "2023-01-29T13:33:39.746Z"
   },
   {
    "duration": 2,
    "start_time": "2023-01-29T13:33:40.036Z"
   },
   {
    "duration": 3,
    "start_time": "2023-01-29T13:33:41.123Z"
   },
   {
    "duration": 3286,
    "start_time": "2023-01-29T19:11:38.044Z"
   },
   {
    "duration": 1494,
    "start_time": "2023-01-29T19:11:41.333Z"
   },
   {
    "duration": 978,
    "start_time": "2023-01-29T19:11:42.829Z"
   },
   {
    "duration": 18,
    "start_time": "2023-01-29T19:11:43.809Z"
   },
   {
    "duration": 11,
    "start_time": "2023-01-29T19:11:43.829Z"
   },
   {
    "duration": 31,
    "start_time": "2023-01-29T19:11:43.842Z"
   },
   {
    "duration": 119,
    "start_time": "2023-01-29T19:11:43.875Z"
   },
   {
    "duration": 1173,
    "start_time": "2023-01-29T19:11:43.995Z"
   },
   {
    "duration": 335,
    "start_time": "2023-01-29T19:11:45.170Z"
   },
   {
    "duration": 339,
    "start_time": "2023-01-29T19:11:45.507Z"
   },
   {
    "duration": 42,
    "start_time": "2023-01-29T19:11:45.848Z"
   },
   {
    "duration": 247,
    "start_time": "2023-01-29T19:11:45.891Z"
   },
   {
    "duration": 10,
    "start_time": "2023-01-29T19:11:46.139Z"
   },
   {
    "duration": 6,
    "start_time": "2023-01-29T19:11:46.151Z"
   },
   {
    "duration": 32,
    "start_time": "2023-01-29T19:11:46.158Z"
   },
   {
    "duration": 283,
    "start_time": "2023-01-29T19:11:46.192Z"
   },
   {
    "duration": 7,
    "start_time": "2023-01-29T19:11:46.476Z"
   },
   {
    "duration": 288,
    "start_time": "2023-01-29T19:11:46.484Z"
   },
   {
    "duration": 256,
    "start_time": "2023-01-29T19:11:46.774Z"
   },
   {
    "duration": 20,
    "start_time": "2023-01-29T19:11:47.032Z"
   },
   {
    "duration": 34,
    "start_time": "2023-01-29T19:11:47.054Z"
   },
   {
    "duration": 86,
    "start_time": "2023-01-29T19:11:47.090Z"
   },
   {
    "duration": 368,
    "start_time": "2023-01-29T19:11:47.177Z"
   },
   {
    "duration": 756,
    "start_time": "2023-01-29T19:11:47.546Z"
   },
   {
    "duration": 20,
    "start_time": "2023-01-29T19:11:48.305Z"
   },
   {
    "duration": 77,
    "start_time": "2023-01-29T19:11:48.329Z"
   },
   {
    "duration": 18,
    "start_time": "2023-01-29T19:11:48.408Z"
   },
   {
    "duration": 16,
    "start_time": "2023-01-29T19:11:48.437Z"
   },
   {
    "duration": 23,
    "start_time": "2023-01-29T19:11:48.455Z"
   },
   {
    "duration": 28,
    "start_time": "2023-01-29T19:11:48.480Z"
   },
   {
    "duration": 75,
    "start_time": "2023-01-29T19:11:48.509Z"
   },
   {
    "duration": 77,
    "start_time": "2023-01-29T19:11:49.889Z"
   },
   {
    "duration": 11,
    "start_time": "2023-01-29T19:11:51.170Z"
   },
   {
    "duration": 4674,
    "start_time": "2023-01-29T19:11:52.556Z"
   },
   {
    "duration": 5,
    "start_time": "2023-01-29T19:11:57.232Z"
   },
   {
    "duration": 129,
    "start_time": "2023-01-29T19:11:57.238Z"
   },
   {
    "duration": 3,
    "start_time": "2023-01-29T19:12:00.181Z"
   },
   {
    "duration": 3,
    "start_time": "2023-01-29T19:12:33.566Z"
   },
   {
    "duration": 160,
    "start_time": "2023-01-29T19:13:00.262Z"
   },
   {
    "duration": 38,
    "start_time": "2023-01-29T19:13:12.041Z"
   },
   {
    "duration": 30,
    "start_time": "2023-01-29T19:15:46.292Z"
   },
   {
    "duration": 29,
    "start_time": "2023-01-29T19:16:15.291Z"
   },
   {
    "duration": 29,
    "start_time": "2023-01-29T19:16:22.300Z"
   },
   {
    "duration": 35,
    "start_time": "2023-01-29T19:23:39.960Z"
   },
   {
    "duration": 22,
    "start_time": "2023-01-29T19:35:04.559Z"
   },
   {
    "duration": 35,
    "start_time": "2023-01-29T19:35:06.962Z"
   },
   {
    "duration": 8,
    "start_time": "2023-01-29T19:47:00.144Z"
   },
   {
    "duration": 151,
    "start_time": "2023-01-29T19:47:08.704Z"
   },
   {
    "duration": 45,
    "start_time": "2023-01-29T19:47:10.904Z"
   },
   {
    "duration": 22,
    "start_time": "2023-01-29T19:47:20.393Z"
   },
   {
    "duration": 19,
    "start_time": "2023-01-29T19:47:46.542Z"
   },
   {
    "duration": 4,
    "start_time": "2023-01-29T19:47:50.812Z"
   },
   {
    "duration": 6,
    "start_time": "2023-01-29T19:53:42.463Z"
   },
   {
    "duration": 12,
    "start_time": "2023-01-29T19:53:42.471Z"
   },
   {
    "duration": 15,
    "start_time": "2023-01-29T19:53:42.496Z"
   },
   {
    "duration": 228233,
    "start_time": "2023-01-29T19:53:42.513Z"
   },
   {
    "duration": 48703,
    "start_time": "2023-01-29T19:57:30.748Z"
   },
   {
    "duration": 10255,
    "start_time": "2023-01-29T19:59:53.600Z"
   },
   {
    "duration": 201974,
    "start_time": "2023-01-29T20:00:07.171Z"
   },
   {
    "duration": 4,
    "start_time": "2023-01-29T20:05:56.783Z"
   },
   {
    "duration": 3,
    "start_time": "2023-01-29T20:07:16.579Z"
   },
   {
    "duration": 4,
    "start_time": "2023-01-29T20:09:22.278Z"
   },
   {
    "duration": 11,
    "start_time": "2023-01-29T20:11:11.588Z"
   },
   {
    "duration": 7837,
    "start_time": "2023-01-29T20:11:22.433Z"
   },
   {
    "duration": 228060,
    "start_time": "2023-01-29T20:11:33.782Z"
   },
   {
    "duration": 3,
    "start_time": "2023-01-29T20:15:21.844Z"
   },
   {
    "duration": 7,
    "start_time": "2023-01-29T20:15:21.848Z"
   },
   {
    "duration": 8,
    "start_time": "2023-01-29T20:15:21.857Z"
   },
   {
    "duration": 1242,
    "start_time": "2023-01-29T20:28:29.656Z"
   },
   {
    "duration": 9959,
    "start_time": "2023-01-29T20:29:19.794Z"
   },
   {
    "duration": 5,
    "start_time": "2023-01-29T20:29:36.676Z"
   },
   {
    "duration": 1797,
    "start_time": "2023-01-29T20:30:40.131Z"
   },
   {
    "duration": 5,
    "start_time": "2023-01-29T20:30:41.930Z"
   },
   {
    "duration": 1783,
    "start_time": "2023-01-29T20:31:06.905Z"
   },
   {
    "duration": 5,
    "start_time": "2023-01-29T20:31:08.689Z"
   },
   {
    "duration": 9537,
    "start_time": "2023-01-29T20:31:18.178Z"
   },
   {
    "duration": 5,
    "start_time": "2023-01-29T20:31:27.717Z"
   },
   {
    "duration": 76,
    "start_time": "2023-01-29T20:31:55.380Z"
   },
   {
    "duration": 1683,
    "start_time": "2023-01-29T20:32:01.162Z"
   },
   {
    "duration": 4,
    "start_time": "2023-01-29T20:32:02.859Z"
   },
   {
    "duration": 2820,
    "start_time": "2023-01-29T20:32:15.269Z"
   },
   {
    "duration": 5,
    "start_time": "2023-01-29T20:32:18.091Z"
   },
   {
    "duration": 3,
    "start_time": "2023-01-29T20:34:58.795Z"
   },
   {
    "duration": 27085,
    "start_time": "2023-01-29T20:35:00.267Z"
   },
   {
    "duration": 4,
    "start_time": "2023-01-29T20:35:27.353Z"
   },
   {
    "duration": 9,
    "start_time": "2023-01-29T20:35:27.358Z"
   },
   {
    "duration": 7,
    "start_time": "2023-01-29T20:35:27.369Z"
   },
   {
    "duration": 115655,
    "start_time": "2023-01-29T20:36:35.994Z"
   },
   {
    "duration": 3,
    "start_time": "2023-01-29T20:38:31.651Z"
   },
   {
    "duration": 11,
    "start_time": "2023-01-29T20:38:31.656Z"
   },
   {
    "duration": 27,
    "start_time": "2023-01-29T20:38:31.669Z"
   },
   {
    "duration": 256658,
    "start_time": "2023-01-29T20:38:54.399Z"
   },
   {
    "duration": 0,
    "start_time": "2023-01-29T20:43:11.059Z"
   },
   {
    "duration": 0,
    "start_time": "2023-01-29T20:43:11.060Z"
   },
   {
    "duration": 0,
    "start_time": "2023-01-29T20:43:11.061Z"
   },
   {
    "duration": 146494,
    "start_time": "2023-01-29T20:43:14.559Z"
   },
   {
    "duration": 3,
    "start_time": "2023-01-29T20:45:41.055Z"
   },
   {
    "duration": 81,
    "start_time": "2023-01-29T20:45:41.059Z"
   },
   {
    "duration": 5,
    "start_time": "2023-01-29T20:45:41.141Z"
   },
   {
    "duration": 1463,
    "start_time": "2023-01-29T20:46:39.165Z"
   },
   {
    "duration": 142055,
    "start_time": "2023-01-29T20:48:09.895Z"
   },
   {
    "duration": 481,
    "start_time": "2023-01-29T20:50:34.158Z"
   },
   {
    "duration": 1122,
    "start_time": "2023-01-29T20:51:25.268Z"
   },
   {
    "duration": 1503,
    "start_time": "2023-01-29T20:52:49.239Z"
   },
   {
    "duration": 38128,
    "start_time": "2023-01-29T20:53:37.118Z"
   },
   {
    "duration": 9025,
    "start_time": "2023-01-29T20:54:26.614Z"
   },
   {
    "duration": 49664,
    "start_time": "2023-01-29T20:54:39.979Z"
   },
   {
    "duration": 0,
    "start_time": "2023-01-29T20:59:11.456Z"
   },
   {
    "duration": 27445,
    "start_time": "2023-01-29T20:59:15.696Z"
   },
   {
    "duration": 13,
    "start_time": "2023-01-29T21:03:51.259Z"
   },
   {
    "duration": 10,
    "start_time": "2023-01-29T21:03:51.273Z"
   },
   {
    "duration": 55,
    "start_time": "2023-01-29T21:03:51.284Z"
   },
   {
    "duration": 4,
    "start_time": "2023-01-29T21:08:00.477Z"
   },
   {
    "duration": 7,
    "start_time": "2023-01-29T21:08:21.068Z"
   },
   {
    "duration": 6,
    "start_time": "2023-01-29T21:09:04.088Z"
   },
   {
    "duration": 8,
    "start_time": "2023-01-29T21:09:08.138Z"
   },
   {
    "duration": 9,
    "start_time": "2023-01-29T21:10:53.357Z"
   },
   {
    "duration": 3,
    "start_time": "2023-01-29T21:14:16.747Z"
   },
   {
    "duration": 2,
    "start_time": "2023-01-29T21:16:08.366Z"
   },
   {
    "duration": 7,
    "start_time": "2023-01-29T21:18:10.737Z"
   },
   {
    "duration": 5,
    "start_time": "2023-01-29T21:18:20.737Z"
   },
   {
    "duration": 1278,
    "start_time": "2023-01-29T21:22:16.407Z"
   },
   {
    "duration": 1819,
    "start_time": "2023-01-29T21:24:36.946Z"
   },
   {
    "duration": 1369,
    "start_time": "2023-01-29T21:24:38.767Z"
   },
   {
    "duration": 784,
    "start_time": "2023-01-29T21:24:40.137Z"
   },
   {
    "duration": 18,
    "start_time": "2023-01-29T21:24:40.922Z"
   },
   {
    "duration": 26,
    "start_time": "2023-01-29T21:24:40.942Z"
   },
   {
    "duration": 36,
    "start_time": "2023-01-29T21:24:40.969Z"
   },
   {
    "duration": 126,
    "start_time": "2023-01-29T21:24:41.007Z"
   },
   {
    "duration": 1092,
    "start_time": "2023-01-29T21:24:41.137Z"
   },
   {
    "duration": 401,
    "start_time": "2023-01-29T21:24:42.231Z"
   },
   {
    "duration": 338,
    "start_time": "2023-01-29T21:24:42.634Z"
   },
   {
    "duration": 48,
    "start_time": "2023-01-29T21:24:42.974Z"
   },
   {
    "duration": 246,
    "start_time": "2023-01-29T21:24:43.024Z"
   },
   {
    "duration": 10,
    "start_time": "2023-01-29T21:24:43.272Z"
   },
   {
    "duration": 7,
    "start_time": "2023-01-29T21:24:43.285Z"
   },
   {
    "duration": 52,
    "start_time": "2023-01-29T21:24:43.294Z"
   },
   {
    "duration": 267,
    "start_time": "2023-01-29T21:24:43.348Z"
   },
   {
    "duration": 8,
    "start_time": "2023-01-29T21:24:43.617Z"
   },
   {
    "duration": 266,
    "start_time": "2023-01-29T21:24:43.637Z"
   },
   {
    "duration": 245,
    "start_time": "2023-01-29T21:24:43.905Z"
   },
   {
    "duration": 17,
    "start_time": "2023-01-29T21:24:44.152Z"
   },
   {
    "duration": 31,
    "start_time": "2023-01-29T21:24:44.171Z"
   },
   {
    "duration": 87,
    "start_time": "2023-01-29T21:24:44.203Z"
   },
   {
    "duration": 361,
    "start_time": "2023-01-29T21:24:44.292Z"
   },
   {
    "duration": 720,
    "start_time": "2023-01-29T21:24:44.654Z"
   },
   {
    "duration": 20,
    "start_time": "2023-01-29T21:24:45.375Z"
   },
   {
    "duration": 70,
    "start_time": "2023-01-29T21:24:45.397Z"
   },
   {
    "duration": 51,
    "start_time": "2023-01-29T21:24:45.468Z"
   },
   {
    "duration": 40,
    "start_time": "2023-01-29T21:24:45.521Z"
   },
   {
    "duration": 45,
    "start_time": "2023-01-29T21:24:45.563Z"
   },
   {
    "duration": 53,
    "start_time": "2023-01-29T21:24:45.610Z"
   },
   {
    "duration": 94,
    "start_time": "2023-01-29T21:24:45.665Z"
   },
   {
    "duration": 107,
    "start_time": "2023-01-29T21:24:45.761Z"
   },
   {
    "duration": 0,
    "start_time": "2023-01-29T21:24:45.870Z"
   },
   {
    "duration": 0,
    "start_time": "2023-01-29T21:24:45.871Z"
   },
   {
    "duration": 0,
    "start_time": "2023-01-29T21:24:45.872Z"
   },
   {
    "duration": 0,
    "start_time": "2023-01-29T21:24:45.873Z"
   },
   {
    "duration": 0,
    "start_time": "2023-01-29T21:24:45.874Z"
   },
   {
    "duration": 0,
    "start_time": "2023-01-29T21:24:45.875Z"
   },
   {
    "duration": 0,
    "start_time": "2023-01-29T21:24:45.876Z"
   },
   {
    "duration": 0,
    "start_time": "2023-01-29T21:24:45.878Z"
   },
   {
    "duration": 1,
    "start_time": "2023-01-29T21:24:45.878Z"
   },
   {
    "duration": 0,
    "start_time": "2023-01-29T21:24:45.879Z"
   },
   {
    "duration": 0,
    "start_time": "2023-01-29T21:24:45.880Z"
   },
   {
    "duration": 0,
    "start_time": "2023-01-29T21:24:45.881Z"
   },
   {
    "duration": 0,
    "start_time": "2023-01-29T21:24:45.882Z"
   },
   {
    "duration": 0,
    "start_time": "2023-01-29T21:24:45.883Z"
   },
   {
    "duration": 0,
    "start_time": "2023-01-29T21:24:45.884Z"
   },
   {
    "duration": 0,
    "start_time": "2023-01-29T21:24:45.885Z"
   },
   {
    "duration": 66,
    "start_time": "2023-01-29T21:25:16.717Z"
   },
   {
    "duration": 11,
    "start_time": "2023-01-29T21:25:16.994Z"
   },
   {
    "duration": 4524,
    "start_time": "2023-01-29T21:25:18.116Z"
   },
   {
    "duration": 2,
    "start_time": "2023-01-29T21:25:22.642Z"
   },
   {
    "duration": 3,
    "start_time": "2023-01-29T21:25:26.057Z"
   },
   {
    "duration": 133,
    "start_time": "2023-01-29T21:25:28.367Z"
   },
   {
    "duration": 38,
    "start_time": "2023-01-29T21:25:30.217Z"
   },
   {
    "duration": 3,
    "start_time": "2023-01-29T21:25:32.697Z"
   },
   {
    "duration": 3527,
    "start_time": "2023-01-29T21:46:48.191Z"
   },
   {
    "duration": 1775,
    "start_time": "2023-01-29T21:46:51.720Z"
   },
   {
    "duration": 2819,
    "start_time": "2023-01-29T21:46:53.497Z"
   },
   {
    "duration": 22,
    "start_time": "2023-01-29T21:46:56.318Z"
   },
   {
    "duration": 18,
    "start_time": "2023-01-29T21:46:56.342Z"
   },
   {
    "duration": 20,
    "start_time": "2023-01-29T21:46:56.363Z"
   },
   {
    "duration": 158,
    "start_time": "2023-01-29T21:46:56.384Z"
   },
   {
    "duration": 1324,
    "start_time": "2023-01-29T21:46:56.544Z"
   },
   {
    "duration": 430,
    "start_time": "2023-01-29T21:46:57.870Z"
   },
   {
    "duration": 399,
    "start_time": "2023-01-29T21:46:58.303Z"
   },
   {
    "duration": 51,
    "start_time": "2023-01-29T21:46:58.704Z"
   },
   {
    "duration": 273,
    "start_time": "2023-01-29T21:46:58.757Z"
   },
   {
    "duration": 13,
    "start_time": "2023-01-29T21:46:59.032Z"
   },
   {
    "duration": 7,
    "start_time": "2023-01-29T21:46:59.047Z"
   },
   {
    "duration": 39,
    "start_time": "2023-01-29T21:46:59.056Z"
   },
   {
    "duration": 318,
    "start_time": "2023-01-29T21:46:59.097Z"
   },
   {
    "duration": 9,
    "start_time": "2023-01-29T21:46:59.417Z"
   },
   {
    "duration": 313,
    "start_time": "2023-01-29T21:46:59.438Z"
   },
   {
    "duration": 287,
    "start_time": "2023-01-29T21:46:59.753Z"
   },
   {
    "duration": 21,
    "start_time": "2023-01-29T21:47:00.042Z"
   },
   {
    "duration": 35,
    "start_time": "2023-01-29T21:47:00.065Z"
   },
   {
    "duration": 110,
    "start_time": "2023-01-29T21:47:00.102Z"
   },
   {
    "duration": 448,
    "start_time": "2023-01-29T21:47:00.214Z"
   },
   {
    "duration": 851,
    "start_time": "2023-01-29T21:47:00.663Z"
   },
   {
    "duration": 31,
    "start_time": "2023-01-29T21:47:01.515Z"
   },
   {
    "duration": 112,
    "start_time": "2023-01-29T21:47:01.548Z"
   },
   {
    "duration": 55,
    "start_time": "2023-01-29T21:47:01.662Z"
   },
   {
    "duration": 64,
    "start_time": "2023-01-29T21:47:01.721Z"
   },
   {
    "duration": 92,
    "start_time": "2023-01-29T21:47:01.786Z"
   },
   {
    "duration": 56,
    "start_time": "2023-01-29T21:47:01.880Z"
   },
   {
    "duration": 102,
    "start_time": "2023-01-29T21:47:01.938Z"
   },
   {
    "duration": 101,
    "start_time": "2023-01-29T21:47:02.042Z"
   },
   {
    "duration": 12,
    "start_time": "2023-01-29T21:47:02.144Z"
   },
   {
    "duration": 5645,
    "start_time": "2023-01-29T21:47:02.158Z"
   },
   {
    "duration": 3,
    "start_time": "2023-01-29T21:47:07.804Z"
   },
   {
    "duration": 11,
    "start_time": "2023-01-29T21:47:07.809Z"
   },
   {
    "duration": 179,
    "start_time": "2023-01-29T21:47:07.822Z"
   },
   {
    "duration": 49,
    "start_time": "2023-01-29T21:47:08.003Z"
   },
   {
    "duration": 5,
    "start_time": "2023-01-29T21:47:08.054Z"
   },
   {
    "duration": 399269,
    "start_time": "2023-01-29T21:47:08.061Z"
   },
   {
    "duration": 7,
    "start_time": "2023-01-29T21:53:47.332Z"
   },
   {
    "duration": 22,
    "start_time": "2023-01-29T21:53:47.341Z"
   },
   {
    "duration": 250949,
    "start_time": "2023-01-29T21:53:47.365Z"
   },
   {
    "duration": 3,
    "start_time": "2023-01-29T21:57:58.315Z"
   },
   {
    "duration": 51575,
    "start_time": "2023-01-29T21:57:58.320Z"
   },
   {
    "duration": 10,
    "start_time": "2023-01-29T21:58:49.897Z"
   },
   {
    "duration": 0,
    "start_time": "2023-01-29T21:58:49.908Z"
   },
   {
    "duration": 0,
    "start_time": "2023-01-29T21:58:49.910Z"
   },
   {
    "duration": 2244,
    "start_time": "2023-01-29T22:00:06.582Z"
   },
   {
    "duration": 1469,
    "start_time": "2023-01-29T22:00:08.828Z"
   },
   {
    "duration": 906,
    "start_time": "2023-01-29T22:00:10.299Z"
   },
   {
    "duration": 19,
    "start_time": "2023-01-29T22:00:11.207Z"
   },
   {
    "duration": 20,
    "start_time": "2023-01-29T22:00:11.227Z"
   },
   {
    "duration": 19,
    "start_time": "2023-01-29T22:00:11.249Z"
   },
   {
    "duration": 167,
    "start_time": "2023-01-29T22:00:11.270Z"
   },
   {
    "duration": 1458,
    "start_time": "2023-01-29T22:00:11.439Z"
   },
   {
    "duration": 442,
    "start_time": "2023-01-29T22:00:12.899Z"
   },
   {
    "duration": 431,
    "start_time": "2023-01-29T22:00:13.344Z"
   },
   {
    "duration": 60,
    "start_time": "2023-01-29T22:00:13.778Z"
   },
   {
    "duration": 307,
    "start_time": "2023-01-29T22:00:13.840Z"
   },
   {
    "duration": 10,
    "start_time": "2023-01-29T22:00:14.149Z"
   },
   {
    "duration": 8,
    "start_time": "2023-01-29T22:00:14.161Z"
   },
   {
    "duration": 42,
    "start_time": "2023-01-29T22:00:14.171Z"
   },
   {
    "duration": 323,
    "start_time": "2023-01-29T22:00:14.214Z"
   },
   {
    "duration": 9,
    "start_time": "2023-01-29T22:00:14.539Z"
   },
   {
    "duration": 330,
    "start_time": "2023-01-29T22:00:14.550Z"
   },
   {
    "duration": 284,
    "start_time": "2023-01-29T22:00:14.882Z"
   },
   {
    "duration": 24,
    "start_time": "2023-01-29T22:00:15.168Z"
   },
   {
    "duration": 55,
    "start_time": "2023-01-29T22:00:15.193Z"
   },
   {
    "duration": 90,
    "start_time": "2023-01-29T22:00:15.250Z"
   },
   {
    "duration": 432,
    "start_time": "2023-01-29T22:00:15.343Z"
   },
   {
    "duration": 907,
    "start_time": "2023-01-29T22:00:15.777Z"
   },
   {
    "duration": 23,
    "start_time": "2023-01-29T22:00:16.686Z"
   },
   {
    "duration": 115,
    "start_time": "2023-01-29T22:00:16.711Z"
   },
   {
    "duration": 29,
    "start_time": "2023-01-29T22:00:16.828Z"
   },
   {
    "duration": 21,
    "start_time": "2023-01-29T22:00:16.860Z"
   },
   {
    "duration": 30,
    "start_time": "2023-01-29T22:00:16.883Z"
   },
   {
    "duration": 38,
    "start_time": "2023-01-29T22:00:16.915Z"
   },
   {
    "duration": 117,
    "start_time": "2023-01-29T22:00:16.954Z"
   },
   {
    "duration": 106,
    "start_time": "2023-01-29T22:00:17.072Z"
   },
   {
    "duration": 12,
    "start_time": "2023-01-29T22:00:17.180Z"
   },
   {
    "duration": 5796,
    "start_time": "2023-01-29T22:00:17.194Z"
   },
   {
    "duration": 2,
    "start_time": "2023-01-29T22:00:22.992Z"
   },
   {
    "duration": 12,
    "start_time": "2023-01-29T22:00:22.996Z"
   },
   {
    "duration": 169,
    "start_time": "2023-01-29T22:00:23.009Z"
   },
   {
    "duration": 43,
    "start_time": "2023-01-29T22:00:23.180Z"
   },
   {
    "duration": 12,
    "start_time": "2023-01-29T22:00:23.226Z"
   },
   {
    "duration": 353416,
    "start_time": "2023-01-29T22:00:23.241Z"
   },
   {
    "duration": 3,
    "start_time": "2023-01-29T22:06:16.659Z"
   },
   {
    "duration": 11,
    "start_time": "2023-01-29T22:06:16.663Z"
   },
   {
    "duration": 249562,
    "start_time": "2023-01-29T22:06:16.676Z"
   },
   {
    "duration": 4,
    "start_time": "2023-01-29T22:10:26.239Z"
   },
   {
    "duration": 152513,
    "start_time": "2023-01-29T22:10:26.244Z"
   },
   {
    "duration": 80,
    "start_time": "2023-01-29T22:12:58.759Z"
   },
   {
    "duration": 4,
    "start_time": "2023-01-29T22:12:58.840Z"
   },
   {
    "duration": 30,
    "start_time": "2023-01-29T22:12:58.845Z"
   },
   {
    "duration": 4,
    "start_time": "2023-01-29T22:20:01.956Z"
   },
   {
    "duration": 366338,
    "start_time": "2023-01-29T22:20:03.066Z"
   },
   {
    "duration": 4,
    "start_time": "2023-01-29T22:26:09.410Z"
   },
   {
    "duration": 7,
    "start_time": "2023-01-29T22:26:09.416Z"
   },
   {
    "duration": 3,
    "start_time": "2023-01-29T22:30:28.264Z"
   },
   {
    "duration": 2353,
    "start_time": "2023-01-29T22:34:44.858Z"
   },
   {
    "duration": 1516,
    "start_time": "2023-01-29T22:34:47.213Z"
   },
   {
    "duration": 937,
    "start_time": "2023-01-29T22:34:48.731Z"
   },
   {
    "duration": 22,
    "start_time": "2023-01-29T22:34:49.672Z"
   },
   {
    "duration": 3,
    "start_time": "2023-01-29T22:34:49.696Z"
   },
   {
    "duration": 35,
    "start_time": "2023-01-29T22:34:49.701Z"
   },
   {
    "duration": 166,
    "start_time": "2023-01-29T22:34:49.738Z"
   },
   {
    "duration": 1422,
    "start_time": "2023-01-29T22:34:49.906Z"
   },
   {
    "duration": 454,
    "start_time": "2023-01-29T22:34:51.330Z"
   },
   {
    "duration": 420,
    "start_time": "2023-01-29T22:34:51.787Z"
   },
   {
    "duration": 59,
    "start_time": "2023-01-29T22:34:52.209Z"
   },
   {
    "duration": 334,
    "start_time": "2023-01-29T22:34:52.271Z"
   },
   {
    "duration": 12,
    "start_time": "2023-01-29T22:34:52.607Z"
   },
   {
    "duration": 27,
    "start_time": "2023-01-29T22:34:52.621Z"
   },
   {
    "duration": 111,
    "start_time": "2023-01-29T22:34:52.651Z"
   },
   {
    "duration": 357,
    "start_time": "2023-01-29T22:34:52.765Z"
   },
   {
    "duration": 18,
    "start_time": "2023-01-29T22:34:53.126Z"
   },
   {
    "duration": 367,
    "start_time": "2023-01-29T22:34:53.147Z"
   },
   {
    "duration": 345,
    "start_time": "2023-01-29T22:34:53.517Z"
   },
   {
    "duration": 21,
    "start_time": "2023-01-29T22:34:53.865Z"
   },
   {
    "duration": 59,
    "start_time": "2023-01-29T22:34:53.888Z"
   },
   {
    "duration": 91,
    "start_time": "2023-01-29T22:34:53.949Z"
   },
   {
    "duration": 469,
    "start_time": "2023-01-29T22:34:54.043Z"
   },
   {
    "duration": 966,
    "start_time": "2023-01-29T22:34:54.514Z"
   },
   {
    "duration": 31,
    "start_time": "2023-01-29T22:34:55.483Z"
   },
   {
    "duration": 168,
    "start_time": "2023-01-29T22:34:55.516Z"
   },
   {
    "duration": 25,
    "start_time": "2023-01-29T22:34:55.687Z"
   },
   {
    "duration": 51,
    "start_time": "2023-01-29T22:34:55.716Z"
   },
   {
    "duration": 32,
    "start_time": "2023-01-29T22:34:55.769Z"
   },
   {
    "duration": 27,
    "start_time": "2023-01-29T22:34:55.803Z"
   },
   {
    "duration": 106,
    "start_time": "2023-01-29T22:34:55.832Z"
   },
   {
    "duration": 127,
    "start_time": "2023-01-29T22:34:55.940Z"
   },
   {
    "duration": 16,
    "start_time": "2023-01-29T22:34:56.070Z"
   },
   {
    "duration": 6264,
    "start_time": "2023-01-29T22:34:56.088Z"
   },
   {
    "duration": 2,
    "start_time": "2023-01-29T22:35:02.354Z"
   },
   {
    "duration": 61,
    "start_time": "2023-01-29T22:35:02.359Z"
   },
   {
    "duration": 241,
    "start_time": "2023-01-29T22:35:02.422Z"
   },
   {
    "duration": 49,
    "start_time": "2023-01-29T22:35:02.665Z"
   },
   {
    "duration": 4,
    "start_time": "2023-01-29T22:35:02.719Z"
   },
   {
    "duration": 421903,
    "start_time": "2023-01-29T22:35:02.725Z"
   },
   {
    "duration": 9,
    "start_time": "2023-01-29T22:42:04.630Z"
   },
   {
    "duration": 61,
    "start_time": "2023-01-29T22:42:04.641Z"
   },
   {
    "duration": 204293,
    "start_time": "2023-01-29T22:42:04.704Z"
   },
   {
    "duration": 3,
    "start_time": "2023-01-29T22:45:28.998Z"
   },
   {
    "duration": 36050,
    "start_time": "2023-01-29T22:45:29.003Z"
   },
   {
    "duration": 9,
    "start_time": "2023-01-29T22:46:05.055Z"
   },
   {
    "duration": 0,
    "start_time": "2023-01-29T22:46:05.065Z"
   },
   {
    "duration": 0,
    "start_time": "2023-01-29T22:46:05.067Z"
   },
   {
    "duration": 5,
    "start_time": "2023-01-29T22:49:50.063Z"
   },
   {
    "duration": 6,
    "start_time": "2023-01-29T22:49:58.972Z"
   },
   {
    "duration": 11,
    "start_time": "2023-01-29T22:52:29.839Z"
   },
   {
    "duration": 19,
    "start_time": "2023-01-29T22:52:33.927Z"
   },
   {
    "duration": 2165,
    "start_time": "2023-01-29T23:03:16.487Z"
   },
   {
    "duration": 1400,
    "start_time": "2023-01-29T23:03:18.654Z"
   },
   {
    "duration": 856,
    "start_time": "2023-01-29T23:03:20.056Z"
   },
   {
    "duration": 27,
    "start_time": "2023-01-29T23:03:20.913Z"
   },
   {
    "duration": 9,
    "start_time": "2023-01-29T23:03:20.943Z"
   },
   {
    "duration": 32,
    "start_time": "2023-01-29T23:03:20.954Z"
   },
   {
    "duration": 147,
    "start_time": "2023-01-29T23:03:20.988Z"
   },
   {
    "duration": 1332,
    "start_time": "2023-01-29T23:03:21.137Z"
   },
   {
    "duration": 498,
    "start_time": "2023-01-29T23:03:22.471Z"
   },
   {
    "duration": 443,
    "start_time": "2023-01-29T23:03:22.972Z"
   },
   {
    "duration": 57,
    "start_time": "2023-01-29T23:03:23.417Z"
   },
   {
    "duration": 280,
    "start_time": "2023-01-29T23:03:23.476Z"
   },
   {
    "duration": 10,
    "start_time": "2023-01-29T23:03:23.757Z"
   },
   {
    "duration": 13,
    "start_time": "2023-01-29T23:03:23.770Z"
   },
   {
    "duration": 46,
    "start_time": "2023-01-29T23:03:23.784Z"
   },
   {
    "duration": 276,
    "start_time": "2023-01-29T23:03:23.832Z"
   },
   {
    "duration": 8,
    "start_time": "2023-01-29T23:03:24.110Z"
   },
   {
    "duration": 279,
    "start_time": "2023-01-29T23:03:24.120Z"
   },
   {
    "duration": 253,
    "start_time": "2023-01-29T23:03:24.401Z"
   },
   {
    "duration": 21,
    "start_time": "2023-01-29T23:03:24.656Z"
   },
   {
    "duration": 68,
    "start_time": "2023-01-29T23:03:24.679Z"
   },
   {
    "duration": 80,
    "start_time": "2023-01-29T23:03:24.749Z"
   },
   {
    "duration": 460,
    "start_time": "2023-01-29T23:03:24.837Z"
   },
   {
    "duration": 831,
    "start_time": "2023-01-29T23:03:25.298Z"
   },
   {
    "duration": 26,
    "start_time": "2023-01-29T23:03:26.130Z"
   },
   {
    "duration": 100,
    "start_time": "2023-01-29T23:03:26.158Z"
   },
   {
    "duration": 28,
    "start_time": "2023-01-29T23:03:26.260Z"
   },
   {
    "duration": 37,
    "start_time": "2023-01-29T23:03:26.290Z"
   },
   {
    "duration": 34,
    "start_time": "2023-01-29T23:03:26.329Z"
   },
   {
    "duration": 32,
    "start_time": "2023-01-29T23:03:26.364Z"
   },
   {
    "duration": 89,
    "start_time": "2023-01-29T23:03:26.398Z"
   },
   {
    "duration": 101,
    "start_time": "2023-01-29T23:03:26.490Z"
   },
   {
    "duration": 12,
    "start_time": "2023-01-29T23:03:26.592Z"
   },
   {
    "duration": 5414,
    "start_time": "2023-01-29T23:03:26.605Z"
   },
   {
    "duration": 2,
    "start_time": "2023-01-29T23:03:32.021Z"
   },
   {
    "duration": 22,
    "start_time": "2023-01-29T23:03:32.025Z"
   },
   {
    "duration": 184,
    "start_time": "2023-01-29T23:03:32.049Z"
   },
   {
    "duration": 43,
    "start_time": "2023-01-29T23:03:32.235Z"
   },
   {
    "duration": 3,
    "start_time": "2023-01-29T23:03:32.280Z"
   },
   {
    "duration": 381979,
    "start_time": "2023-01-29T23:03:32.285Z"
   },
   {
    "duration": 4,
    "start_time": "2023-01-29T23:09:54.268Z"
   },
   {
    "duration": 2086,
    "start_time": "2023-01-29T23:09:54.274Z"
   },
   {
    "duration": 4,
    "start_time": "2023-01-29T23:09:56.362Z"
   },
   {
    "duration": 26,
    "start_time": "2023-01-29T23:09:56.367Z"
   },
   {
    "duration": 194312,
    "start_time": "2023-01-29T23:09:56.395Z"
   },
   {
    "duration": 4,
    "start_time": "2023-01-29T23:13:10.709Z"
   },
   {
    "duration": 7,
    "start_time": "2023-01-29T23:13:10.714Z"
   },
   {
    "duration": 98,
    "start_time": "2023-01-29T23:13:10.723Z"
   },
   {
    "duration": 5,
    "start_time": "2023-01-29T23:13:10.823Z"
   },
   {
    "duration": 12,
    "start_time": "2023-01-29T23:13:10.829Z"
   },
   {
    "duration": 87822,
    "start_time": "2023-01-29T23:13:10.842Z"
   },
   {
    "duration": 77,
    "start_time": "2023-01-29T23:14:38.665Z"
   },
   {
    "duration": 25,
    "start_time": "2023-01-29T23:14:38.744Z"
   },
   {
    "duration": 467,
    "start_time": "2023-01-29T23:14:38.771Z"
   },
   {
    "duration": 5,
    "start_time": "2023-01-29T23:14:39.240Z"
   },
   {
    "duration": 2187,
    "start_time": "2023-01-29T23:16:59.627Z"
   },
   {
    "duration": 1514,
    "start_time": "2023-01-29T23:17:01.817Z"
   },
   {
    "duration": 870,
    "start_time": "2023-01-29T23:17:03.332Z"
   },
   {
    "duration": 18,
    "start_time": "2023-01-29T23:17:04.204Z"
   },
   {
    "duration": 15,
    "start_time": "2023-01-29T23:17:04.225Z"
   },
   {
    "duration": 20,
    "start_time": "2023-01-29T23:17:04.242Z"
   },
   {
    "duration": 136,
    "start_time": "2023-01-29T23:17:04.263Z"
   },
   {
    "duration": 1323,
    "start_time": "2023-01-29T23:17:04.401Z"
   },
   {
    "duration": 450,
    "start_time": "2023-01-29T23:17:05.726Z"
   },
   {
    "duration": 427,
    "start_time": "2023-01-29T23:17:06.177Z"
   },
   {
    "duration": 57,
    "start_time": "2023-01-29T23:17:06.606Z"
   },
   {
    "duration": 285,
    "start_time": "2023-01-29T23:17:06.665Z"
   },
   {
    "duration": 10,
    "start_time": "2023-01-29T23:17:06.952Z"
   },
   {
    "duration": 9,
    "start_time": "2023-01-29T23:17:06.966Z"
   },
   {
    "duration": 61,
    "start_time": "2023-01-29T23:17:06.977Z"
   },
   {
    "duration": 312,
    "start_time": "2023-01-29T23:17:07.040Z"
   },
   {
    "duration": 8,
    "start_time": "2023-01-29T23:17:07.354Z"
   },
   {
    "duration": 337,
    "start_time": "2023-01-29T23:17:07.364Z"
   },
   {
    "duration": 291,
    "start_time": "2023-01-29T23:17:07.702Z"
   },
   {
    "duration": 21,
    "start_time": "2023-01-29T23:17:07.995Z"
   },
   {
    "duration": 51,
    "start_time": "2023-01-29T23:17:08.017Z"
   },
   {
    "duration": 108,
    "start_time": "2023-01-29T23:17:08.070Z"
   },
   {
    "duration": 452,
    "start_time": "2023-01-29T23:17:08.180Z"
   },
   {
    "duration": 867,
    "start_time": "2023-01-29T23:17:08.634Z"
   },
   {
    "duration": 21,
    "start_time": "2023-01-29T23:17:09.503Z"
   },
   {
    "duration": 95,
    "start_time": "2023-01-29T23:17:09.526Z"
   },
   {
    "duration": 31,
    "start_time": "2023-01-29T23:17:09.623Z"
   },
   {
    "duration": 20,
    "start_time": "2023-01-29T23:17:09.656Z"
   },
   {
    "duration": 24,
    "start_time": "2023-01-29T23:17:09.678Z"
   },
   {
    "duration": 36,
    "start_time": "2023-01-29T23:17:09.703Z"
   },
   {
    "duration": 84,
    "start_time": "2023-01-29T23:17:09.741Z"
   },
   {
    "duration": 84,
    "start_time": "2023-01-29T23:17:09.837Z"
   },
   {
    "duration": 18,
    "start_time": "2023-01-29T23:17:09.923Z"
   },
   {
    "duration": 5434,
    "start_time": "2023-01-29T23:17:09.943Z"
   },
   {
    "duration": 3,
    "start_time": "2023-01-29T23:17:15.378Z"
   },
   {
    "duration": 9,
    "start_time": "2023-01-29T23:17:15.383Z"
   },
   {
    "duration": 186,
    "start_time": "2023-01-29T23:17:15.395Z"
   },
   {
    "duration": 47,
    "start_time": "2023-01-29T23:17:15.583Z"
   },
   {
    "duration": 4,
    "start_time": "2023-01-29T23:17:15.638Z"
   },
   {
    "duration": 387411,
    "start_time": "2023-01-29T23:17:15.643Z"
   },
   {
    "duration": 4,
    "start_time": "2023-01-29T23:23:43.058Z"
   },
   {
    "duration": 2185,
    "start_time": "2023-01-29T23:23:43.063Z"
   },
   {
    "duration": 5,
    "start_time": "2023-01-29T23:23:45.249Z"
   },
   {
    "duration": 17,
    "start_time": "2023-01-29T23:23:45.256Z"
   },
   {
    "duration": 196243,
    "start_time": "2023-01-29T23:23:45.276Z"
   },
   {
    "duration": 4,
    "start_time": "2023-01-29T23:27:01.521Z"
   },
   {
    "duration": 30,
    "start_time": "2023-01-29T23:27:01.526Z"
   },
   {
    "duration": 114,
    "start_time": "2023-01-29T23:27:01.557Z"
   },
   {
    "duration": 5,
    "start_time": "2023-01-29T23:27:01.673Z"
   },
   {
    "duration": 21,
    "start_time": "2023-01-29T23:27:01.680Z"
   },
   {
    "duration": 107840,
    "start_time": "2023-01-29T23:27:01.703Z"
   },
   {
    "duration": 5,
    "start_time": "2023-01-29T23:28:49.544Z"
   },
   {
    "duration": 14,
    "start_time": "2023-01-29T23:28:49.550Z"
   },
   {
    "duration": 386,
    "start_time": "2023-01-29T23:28:49.566Z"
   },
   {
    "duration": 5,
    "start_time": "2023-01-29T23:28:49.954Z"
   },
   {
    "duration": 10,
    "start_time": "2023-01-29T23:36:29.386Z"
   },
   {
    "duration": 8,
    "start_time": "2023-01-29T23:49:03.511Z"
   },
   {
    "duration": 5,
    "start_time": "2023-01-30T17:32:27.994Z"
   },
   {
    "duration": 4,
    "start_time": "2023-01-30T20:04:22.103Z"
   },
   {
    "duration": 1727,
    "start_time": "2023-01-30T20:04:22.432Z"
   },
   {
    "duration": 0,
    "start_time": "2023-01-30T20:04:24.161Z"
   },
   {
    "duration": 0,
    "start_time": "2023-01-30T20:04:24.163Z"
   },
   {
    "duration": 8,
    "start_time": "2023-01-30T20:04:24.225Z"
   },
   {
    "duration": 8,
    "start_time": "2023-01-30T20:04:24.431Z"
   },
   {
    "duration": 7,
    "start_time": "2023-01-30T20:04:24.832Z"
   },
   {
    "duration": 3919,
    "start_time": "2023-01-30T20:04:35.231Z"
   },
   {
    "duration": 641,
    "start_time": "2023-01-30T20:04:39.152Z"
   },
   {
    "duration": 2944,
    "start_time": "2023-01-30T20:04:39.795Z"
   },
   {
    "duration": 16,
    "start_time": "2023-01-30T20:04:42.741Z"
   },
   {
    "duration": 6,
    "start_time": "2023-01-30T20:04:42.758Z"
   },
   {
    "duration": 17,
    "start_time": "2023-01-30T20:04:43.728Z"
   },
   {
    "duration": 2031,
    "start_time": "2023-01-30T20:05:48.538Z"
   },
   {
    "duration": 7,
    "start_time": "2023-01-30T20:05:50.571Z"
   },
   {
    "duration": 763,
    "start_time": "2023-01-30T20:05:50.580Z"
   },
   {
    "duration": 14,
    "start_time": "2023-01-30T20:05:51.344Z"
   },
   {
    "duration": 4,
    "start_time": "2023-01-30T20:05:52.088Z"
   },
   {
    "duration": 13,
    "start_time": "2023-01-30T20:05:52.431Z"
   },
   {
    "duration": 125,
    "start_time": "2023-01-30T20:07:02.795Z"
   },
   {
    "duration": 1245,
    "start_time": "2023-01-30T20:07:03.392Z"
   },
   {
    "duration": 344,
    "start_time": "2023-01-30T20:07:04.639Z"
   },
   {
    "duration": 399,
    "start_time": "2023-01-30T20:07:06.466Z"
   },
   {
    "duration": 44,
    "start_time": "2023-01-30T20:07:10.476Z"
   },
   {
    "duration": 233,
    "start_time": "2023-01-30T20:07:10.664Z"
   },
   {
    "duration": 10,
    "start_time": "2023-01-30T20:07:11.668Z"
   },
   {
    "duration": 7,
    "start_time": "2023-01-30T20:07:12.105Z"
   },
   {
    "duration": 34,
    "start_time": "2023-01-30T20:07:12.296Z"
   },
   {
    "duration": 280,
    "start_time": "2023-01-30T20:07:12.469Z"
   },
   {
    "duration": 9,
    "start_time": "2023-01-30T20:07:14.824Z"
   },
   {
    "duration": 310,
    "start_time": "2023-01-30T20:07:15.158Z"
   },
   {
    "duration": 298,
    "start_time": "2023-01-30T20:07:15.470Z"
   },
   {
    "duration": 23,
    "start_time": "2023-01-30T20:07:15.770Z"
   },
   {
    "duration": 37,
    "start_time": "2023-01-30T20:07:18.183Z"
   },
   {
    "duration": 73,
    "start_time": "2023-01-30T20:07:18.598Z"
   },
   {
    "duration": 380,
    "start_time": "2023-01-30T20:07:20.919Z"
   },
   {
    "duration": 778,
    "start_time": "2023-01-30T20:07:23.515Z"
   },
   {
    "duration": 18,
    "start_time": "2023-01-30T20:07:24.459Z"
   },
   {
    "duration": 87,
    "start_time": "2023-01-30T20:07:26.939Z"
   },
   {
    "duration": 21,
    "start_time": "2023-01-30T20:07:27.240Z"
   },
   {
    "duration": 19,
    "start_time": "2023-01-30T20:07:27.508Z"
   },
   {
    "duration": 21,
    "start_time": "2023-01-30T20:07:27.678Z"
   },
   {
    "duration": 20,
    "start_time": "2023-01-30T20:07:27.872Z"
   },
   {
    "duration": 83,
    "start_time": "2023-01-30T20:07:29.638Z"
   },
   {
    "duration": 85,
    "start_time": "2023-01-30T20:07:29.828Z"
   },
   {
    "duration": 13,
    "start_time": "2023-01-30T20:07:30.023Z"
   },
   {
    "duration": 5062,
    "start_time": "2023-01-30T20:07:35.239Z"
   },
   {
    "duration": 3,
    "start_time": "2023-01-30T20:07:40.303Z"
   },
   {
    "duration": 3,
    "start_time": "2023-01-30T20:07:40.376Z"
   },
   {
    "duration": 147,
    "start_time": "2023-01-30T20:07:41.071Z"
   },
   {
    "duration": 55,
    "start_time": "2023-01-30T20:07:41.464Z"
   },
   {
    "duration": 5,
    "start_time": "2023-01-30T20:08:52.926Z"
   },
   {
    "duration": 4,
    "start_time": "2023-01-30T20:08:58.145Z"
   },
   {
    "duration": 443632,
    "start_time": "2023-01-30T20:09:09.829Z"
   },
   {
    "duration": 22,
    "start_time": "2023-01-30T20:16:33.471Z"
   },
   {
    "duration": 7,
    "start_time": "2023-01-30T20:17:56.047Z"
   },
   {
    "duration": 10,
    "start_time": "2023-01-30T20:20:12.372Z"
   },
   {
    "duration": 5,
    "start_time": "2023-01-30T20:23:43.145Z"
   },
   {
    "duration": 4,
    "start_time": "2023-01-30T20:24:03.380Z"
   },
   {
    "duration": 9,
    "start_time": "2023-01-30T20:24:25.207Z"
   },
   {
    "duration": 5,
    "start_time": "2023-01-30T20:25:05.974Z"
   },
   {
    "duration": 28,
    "start_time": "2023-01-30T20:33:10.720Z"
   },
   {
    "duration": 9,
    "start_time": "2023-01-30T20:33:15.459Z"
   },
   {
    "duration": 358693,
    "start_time": "2023-01-30T20:33:17.167Z"
   },
   {
    "duration": 4,
    "start_time": "2023-01-30T20:39:15.862Z"
   },
   {
    "duration": 10,
    "start_time": "2023-01-30T20:39:15.884Z"
   },
   {
    "duration": 5,
    "start_time": "2023-01-30T20:42:07.260Z"
   },
   {
    "duration": 45,
    "start_time": "2023-01-30T20:42:31.500Z"
   },
   {
    "duration": 11,
    "start_time": "2023-01-30T20:42:36.863Z"
   },
   {
    "duration": 11,
    "start_time": "2023-01-30T20:43:10.578Z"
   },
   {
    "duration": 11,
    "start_time": "2023-01-30T20:44:06.389Z"
   },
   {
    "duration": 11,
    "start_time": "2023-01-30T20:44:17.790Z"
   },
   {
    "duration": 4,
    "start_time": "2023-01-30T20:44:27.380Z"
   },
   {
    "duration": 9,
    "start_time": "2023-01-30T20:44:30.536Z"
   },
   {
    "duration": 4,
    "start_time": "2023-01-30T20:44:49.254Z"
   },
   {
    "duration": 17,
    "start_time": "2023-01-30T20:44:58.480Z"
   },
   {
    "duration": 4,
    "start_time": "2023-01-30T20:45:22.055Z"
   },
   {
    "duration": 8,
    "start_time": "2023-01-30T20:45:23.910Z"
   },
   {
    "duration": 9,
    "start_time": "2023-01-30T20:45:28.776Z"
   },
   {
    "duration": 5,
    "start_time": "2023-01-30T20:45:45.900Z"
   },
   {
    "duration": 5,
    "start_time": "2023-01-30T20:46:03.757Z"
   },
   {
    "duration": 9,
    "start_time": "2023-01-30T20:46:05.271Z"
   },
   {
    "duration": 5,
    "start_time": "2023-01-30T20:48:05.286Z"
   },
   {
    "duration": 0,
    "start_time": "2023-01-30T20:48:54.176Z"
   },
   {
    "duration": 199785,
    "start_time": "2023-01-30T20:48:55.219Z"
   },
   {
    "duration": 12,
    "start_time": "2023-01-30T20:55:54.989Z"
   },
   {
    "duration": 5,
    "start_time": "2023-01-30T21:04:19.100Z"
   },
   {
    "duration": 9,
    "start_time": "2023-01-30T21:04:36.139Z"
   },
   {
    "duration": 10,
    "start_time": "2023-01-30T21:04:38.369Z"
   },
   {
    "duration": 8,
    "start_time": "2023-01-30T21:04:41.418Z"
   },
   {
    "duration": 251066,
    "start_time": "2023-01-30T21:15:57.574Z"
   },
   {
    "duration": 4,
    "start_time": "2023-01-30T21:20:08.642Z"
   },
   {
    "duration": 800763,
    "start_time": "2023-01-30T21:20:08.649Z"
   },
   {
    "duration": 0,
    "start_time": "2023-01-30T21:33:29.414Z"
   },
   {
    "duration": 0,
    "start_time": "2023-01-30T21:33:29.416Z"
   },
   {
    "duration": 3,
    "start_time": "2023-01-30T21:33:40.576Z"
   },
   {
    "duration": 1801233,
    "start_time": "2023-01-30T21:33:41.628Z"
   },
   {
    "duration": 0,
    "start_time": "2023-01-30T22:03:42.867Z"
   },
   {
    "duration": 0,
    "start_time": "2023-01-30T22:03:42.868Z"
   },
   {
    "duration": 5,
    "start_time": "2023-01-30T22:04:54.800Z"
   },
   {
    "duration": 5,
    "start_time": "2023-01-30T22:05:15.101Z"
   },
   {
    "duration": 4,
    "start_time": "2023-01-30T22:05:18.443Z"
   },
   {
    "duration": 4,
    "start_time": "2023-01-30T22:05:51.096Z"
   },
   {
    "duration": 4,
    "start_time": "2023-01-30T22:05:54.107Z"
   },
   {
    "duration": 18,
    "start_time": "2023-01-30T22:06:02.843Z"
   },
   {
    "duration": 5,
    "start_time": "2023-01-30T22:06:23.515Z"
   },
   {
    "duration": 5,
    "start_time": "2023-01-30T22:09:10.692Z"
   },
   {
    "duration": 62819,
    "start_time": "2023-01-30T22:09:34.990Z"
   },
   {
    "duration": 16,
    "start_time": "2023-01-30T22:10:52.113Z"
   },
   {
    "duration": 221160,
    "start_time": "2023-01-30T22:33:16.404Z"
   },
   {
    "duration": 4,
    "start_time": "2023-01-30T22:37:55.499Z"
   },
   {
    "duration": 225656,
    "start_time": "2023-01-30T22:37:59.790Z"
   },
   {
    "duration": 6,
    "start_time": "2023-01-30T22:41:45.448Z"
   },
   {
    "duration": 12,
    "start_time": "2023-01-30T22:42:22.104Z"
   },
   {
    "duration": 13,
    "start_time": "2023-01-30T22:42:46.306Z"
   },
   {
    "duration": 3,
    "start_time": "2023-01-30T22:43:24.507Z"
   },
   {
    "duration": 31,
    "start_time": "2023-01-30T22:44:51.875Z"
   },
   {
    "duration": 10,
    "start_time": "2023-01-30T22:44:52.222Z"
   },
   {
    "duration": 3,
    "start_time": "2023-01-30T22:45:26.129Z"
   },
   {
    "duration": 3,
    "start_time": "2023-01-30T22:45:34.028Z"
   },
   {
    "duration": 9,
    "start_time": "2023-01-30T22:45:34.802Z"
   },
   {
    "duration": 4,
    "start_time": "2023-01-30T22:46:18.309Z"
   },
   {
    "duration": 14,
    "start_time": "2023-01-30T22:46:18.899Z"
   },
   {
    "duration": 5,
    "start_time": "2023-01-30T22:47:34.701Z"
   },
   {
    "duration": 4160,
    "start_time": "2023-01-30T22:48:19.774Z"
   },
   {
    "duration": 1600,
    "start_time": "2023-01-30T22:48:23.937Z"
   },
   {
    "duration": 3697,
    "start_time": "2023-01-30T22:48:25.538Z"
   },
   {
    "duration": 30,
    "start_time": "2023-01-30T22:48:29.237Z"
   },
   {
    "duration": 12,
    "start_time": "2023-01-30T22:48:29.274Z"
   },
   {
    "duration": 17,
    "start_time": "2023-01-30T22:48:29.287Z"
   },
   {
    "duration": 172,
    "start_time": "2023-01-30T22:48:29.306Z"
   },
   {
    "duration": 1327,
    "start_time": "2023-01-30T22:48:29.480Z"
   },
   {
    "duration": 445,
    "start_time": "2023-01-30T22:48:30.809Z"
   },
   {
    "duration": 421,
    "start_time": "2023-01-30T22:48:31.256Z"
   },
   {
    "duration": 52,
    "start_time": "2023-01-30T22:48:31.680Z"
   },
   {
    "duration": 311,
    "start_time": "2023-01-30T22:48:31.734Z"
   },
   {
    "duration": 17,
    "start_time": "2023-01-30T22:48:32.047Z"
   },
   {
    "duration": 28,
    "start_time": "2023-01-30T22:48:32.070Z"
   },
   {
    "duration": 40,
    "start_time": "2023-01-30T22:48:32.100Z"
   },
   {
    "duration": 294,
    "start_time": "2023-01-30T22:48:32.142Z"
   },
   {
    "duration": 22,
    "start_time": "2023-01-30T22:48:32.438Z"
   },
   {
    "duration": 320,
    "start_time": "2023-01-30T22:48:32.467Z"
   },
   {
    "duration": 285,
    "start_time": "2023-01-30T22:48:32.790Z"
   },
   {
    "duration": 20,
    "start_time": "2023-01-30T22:48:33.076Z"
   },
   {
    "duration": 36,
    "start_time": "2023-01-30T22:48:33.097Z"
   },
   {
    "duration": 87,
    "start_time": "2023-01-30T22:48:33.134Z"
   },
   {
    "duration": 454,
    "start_time": "2023-01-30T22:48:33.223Z"
   },
   {
    "duration": 858,
    "start_time": "2023-01-30T22:48:33.678Z"
   },
   {
    "duration": 28,
    "start_time": "2023-01-30T22:48:34.538Z"
   },
   {
    "duration": 106,
    "start_time": "2023-01-30T22:48:34.571Z"
   },
   {
    "duration": 21,
    "start_time": "2023-01-30T22:48:34.682Z"
   },
   {
    "duration": 22,
    "start_time": "2023-01-30T22:48:34.706Z"
   },
   {
    "duration": 38,
    "start_time": "2023-01-30T22:48:34.730Z"
   },
   {
    "duration": 33,
    "start_time": "2023-01-30T22:48:34.769Z"
   },
   {
    "duration": 103,
    "start_time": "2023-01-30T22:48:34.804Z"
   },
   {
    "duration": 109,
    "start_time": "2023-01-30T22:48:34.909Z"
   },
   {
    "duration": 13,
    "start_time": "2023-01-30T22:48:35.019Z"
   },
   {
    "duration": 5908,
    "start_time": "2023-01-30T22:48:35.034Z"
   },
   {
    "duration": 3,
    "start_time": "2023-01-30T22:48:40.951Z"
   },
   {
    "duration": 31,
    "start_time": "2023-01-30T22:48:40.959Z"
   },
   {
    "duration": 196,
    "start_time": "2023-01-30T22:48:40.992Z"
   },
   {
    "duration": 48,
    "start_time": "2023-01-30T22:48:44.475Z"
   },
   {
    "duration": 5,
    "start_time": "2023-01-30T22:48:47.986Z"
   },
   {
    "duration": 4,
    "start_time": "2023-01-30T22:48:48.411Z"
   },
   {
    "duration": 3,
    "start_time": "2023-01-30T22:48:50.485Z"
   },
   {
    "duration": 456253,
    "start_time": "2023-01-30T22:48:58.081Z"
   },
   {
    "duration": 3,
    "start_time": "2023-01-30T22:56:34.336Z"
   },
   {
    "duration": 35,
    "start_time": "2023-01-30T22:56:34.341Z"
   },
   {
    "duration": 19,
    "start_time": "2023-01-30T22:56:34.380Z"
   },
   {
    "duration": 3,
    "start_time": "2023-01-30T23:01:43.587Z"
   },
   {
    "duration": 226540,
    "start_time": "2023-01-30T23:01:58.077Z"
   },
   {
    "duration": 4,
    "start_time": "2023-01-30T23:05:44.619Z"
   },
   {
    "duration": 18,
    "start_time": "2023-01-30T23:05:44.624Z"
   },
   {
    "duration": 18,
    "start_time": "2023-01-30T23:05:44.645Z"
   },
   {
    "duration": 3,
    "start_time": "2023-01-30T23:06:21.744Z"
   },
   {
    "duration": 1954533,
    "start_time": "2023-01-30T23:07:07.151Z"
   },
   {
    "duration": 0,
    "start_time": "2023-01-30T23:39:41.686Z"
   },
   {
    "duration": 0,
    "start_time": "2023-01-30T23:39:41.687Z"
   },
   {
    "duration": 0,
    "start_time": "2023-01-30T23:39:41.688Z"
   },
   {
    "duration": 0,
    "start_time": "2023-01-30T23:39:41.699Z"
   },
   {
    "duration": 2853,
    "start_time": "2023-04-08T15:47:40.845Z"
   },
   {
    "duration": 1577,
    "start_time": "2023-04-08T15:47:43.701Z"
   },
   {
    "duration": 2752,
    "start_time": "2023-04-08T15:47:45.280Z"
   },
   {
    "duration": 17,
    "start_time": "2023-04-08T15:47:48.034Z"
   },
   {
    "duration": 2060,
    "start_time": "2023-04-13T19:41:12.296Z"
   },
   {
    "duration": 1553,
    "start_time": "2023-04-13T19:41:14.358Z"
   },
   {
    "duration": 2788,
    "start_time": "2023-04-13T19:41:15.912Z"
   },
   {
    "duration": 18,
    "start_time": "2023-04-13T19:41:18.701Z"
   },
   {
    "duration": 3,
    "start_time": "2023-04-13T19:41:18.721Z"
   },
   {
    "duration": 30,
    "start_time": "2023-04-13T19:41:18.726Z"
   },
   {
    "duration": 133,
    "start_time": "2023-04-13T19:41:18.757Z"
   },
   {
    "duration": 1146,
    "start_time": "2023-04-13T19:41:18.892Z"
   },
   {
    "duration": 372,
    "start_time": "2023-04-13T19:41:20.040Z"
   },
   {
    "duration": 362,
    "start_time": "2023-04-13T19:41:20.414Z"
   },
   {
    "duration": 78,
    "start_time": "2023-04-13T19:41:20.778Z"
   },
   {
    "duration": 260,
    "start_time": "2023-04-13T19:41:20.858Z"
   },
   {
    "duration": 15,
    "start_time": "2023-04-13T19:41:21.120Z"
   },
   {
    "duration": 7,
    "start_time": "2023-04-13T19:41:21.137Z"
   },
   {
    "duration": 63,
    "start_time": "2023-04-13T19:41:21.145Z"
   },
   {
    "duration": 280,
    "start_time": "2023-04-13T19:41:21.210Z"
   },
   {
    "duration": 8,
    "start_time": "2023-04-13T19:41:21.492Z"
   },
   {
    "duration": 275,
    "start_time": "2023-04-13T19:41:21.501Z"
   },
   {
    "duration": 248,
    "start_time": "2023-04-13T19:41:21.777Z"
   },
   {
    "duration": 19,
    "start_time": "2023-04-13T19:41:22.034Z"
   },
   {
    "duration": 33,
    "start_time": "2023-04-13T19:41:22.054Z"
   },
   {
    "duration": 89,
    "start_time": "2023-04-13T19:41:22.088Z"
   },
   {
    "duration": 383,
    "start_time": "2023-04-13T19:41:22.178Z"
   },
   {
    "duration": 752,
    "start_time": "2023-04-13T19:41:22.562Z"
   },
   {
    "duration": 29,
    "start_time": "2023-04-13T19:41:23.316Z"
   },
   {
    "duration": 93,
    "start_time": "2023-04-13T19:41:23.347Z"
   },
   {
    "duration": 21,
    "start_time": "2023-04-13T19:41:23.442Z"
   },
   {
    "duration": 23,
    "start_time": "2023-04-13T19:41:23.464Z"
   },
   {
    "duration": 24,
    "start_time": "2023-04-13T19:41:23.489Z"
   },
   {
    "duration": 35,
    "start_time": "2023-04-13T19:41:23.515Z"
   },
   {
    "duration": 95,
    "start_time": "2023-04-13T19:41:23.552Z"
   },
   {
    "duration": 97,
    "start_time": "2023-04-13T19:41:23.649Z"
   },
   {
    "duration": 10,
    "start_time": "2023-04-13T19:41:23.748Z"
   },
   {
    "duration": 4955,
    "start_time": "2023-04-13T19:41:23.759Z"
   },
   {
    "duration": 2,
    "start_time": "2023-04-13T19:41:28.716Z"
   },
   {
    "duration": 11,
    "start_time": "2023-04-13T19:41:28.719Z"
   },
   {
    "duration": 153,
    "start_time": "2023-04-13T19:41:28.735Z"
   },
   {
    "duration": 37,
    "start_time": "2023-04-13T19:41:28.889Z"
   },
   {
    "duration": 7,
    "start_time": "2023-04-13T19:41:28.928Z"
   },
   {
    "duration": 5,
    "start_time": "2023-04-13T19:41:28.937Z"
   },
   {
    "duration": 3,
    "start_time": "2023-04-13T19:41:28.946Z"
   },
   {
    "duration": 370638,
    "start_time": "2023-04-13T19:41:28.951Z"
   },
   {
    "duration": 3,
    "start_time": "2023-04-13T19:47:39.591Z"
   },
   {
    "duration": 12,
    "start_time": "2023-04-13T19:47:39.595Z"
   },
   {
    "duration": 6,
    "start_time": "2023-04-13T19:47:39.609Z"
   },
   {
    "duration": 5,
    "start_time": "2023-04-13T19:47:39.617Z"
   },
   {
    "duration": 183500,
    "start_time": "2023-04-13T19:47:39.624Z"
   },
   {
    "duration": 3,
    "start_time": "2023-04-13T19:50:43.126Z"
   },
   {
    "duration": 13,
    "start_time": "2023-04-13T19:50:43.131Z"
   },
   {
    "duration": 11,
    "start_time": "2023-04-13T19:50:43.145Z"
   },
   {
    "duration": 2981,
    "start_time": "2023-04-14T06:23:15.911Z"
   },
   {
    "duration": 1675,
    "start_time": "2023-04-14T06:23:18.894Z"
   },
   {
    "duration": 2082,
    "start_time": "2023-04-14T06:23:24.335Z"
   },
   {
    "duration": 1530,
    "start_time": "2023-04-14T06:23:26.419Z"
   },
   {
    "duration": 1021,
    "start_time": "2023-04-14T06:23:27.951Z"
   },
   {
    "duration": 26,
    "start_time": "2023-04-14T06:23:28.975Z"
   },
   {
    "duration": 4,
    "start_time": "2023-04-14T06:23:29.003Z"
   },
   {
    "duration": 22,
    "start_time": "2023-04-14T06:23:29.009Z"
   },
   {
    "duration": 183,
    "start_time": "2023-04-14T06:23:29.032Z"
   },
   {
    "duration": 1643,
    "start_time": "2023-04-14T06:23:29.217Z"
   },
   {
    "duration": 453,
    "start_time": "2023-04-14T06:23:30.867Z"
   },
   {
    "duration": 418,
    "start_time": "2023-04-14T06:23:31.324Z"
   },
   {
    "duration": 58,
    "start_time": "2023-04-14T06:23:31.744Z"
   },
   {
    "duration": 270,
    "start_time": "2023-04-14T06:23:31.803Z"
   },
   {
    "duration": 23,
    "start_time": "2023-04-14T06:23:32.075Z"
   },
   {
    "duration": 21,
    "start_time": "2023-04-14T06:23:32.100Z"
   },
   {
    "duration": 60,
    "start_time": "2023-04-14T06:23:32.123Z"
   },
   {
    "duration": 324,
    "start_time": "2023-04-14T06:23:32.185Z"
   },
   {
    "duration": 8,
    "start_time": "2023-04-14T06:23:32.511Z"
   },
   {
    "duration": 333,
    "start_time": "2023-04-14T06:23:32.521Z"
   },
   {
    "duration": 316,
    "start_time": "2023-04-14T06:23:32.856Z"
   },
   {
    "duration": 29,
    "start_time": "2023-04-14T06:23:33.174Z"
   },
   {
    "duration": 37,
    "start_time": "2023-04-14T06:23:33.205Z"
   },
   {
    "duration": 97,
    "start_time": "2023-04-14T06:23:33.244Z"
   },
   {
    "duration": 486,
    "start_time": "2023-04-14T06:23:33.343Z"
   },
   {
    "duration": 936,
    "start_time": "2023-04-14T06:23:33.831Z"
   },
   {
    "duration": 30,
    "start_time": "2023-04-14T06:23:34.769Z"
   },
   {
    "duration": 76,
    "start_time": "2023-04-14T06:23:34.801Z"
   },
   {
    "duration": 21,
    "start_time": "2023-04-14T06:23:34.890Z"
   },
   {
    "duration": 43,
    "start_time": "2023-04-14T06:23:34.914Z"
   },
   {
    "duration": 49,
    "start_time": "2023-04-14T06:23:34.959Z"
   },
   {
    "duration": 98,
    "start_time": "2023-04-14T06:23:35.010Z"
   },
   {
    "duration": 127,
    "start_time": "2023-04-14T06:23:35.109Z"
   },
   {
    "duration": 118,
    "start_time": "2023-04-14T06:23:35.238Z"
   },
   {
    "duration": 19,
    "start_time": "2023-04-14T06:23:35.358Z"
   },
   {
    "duration": 6173,
    "start_time": "2023-04-14T06:23:35.389Z"
   },
   {
    "duration": 3,
    "start_time": "2023-04-14T06:23:41.564Z"
   },
   {
    "duration": 6,
    "start_time": "2023-04-14T06:23:41.568Z"
   },
   {
    "duration": 196,
    "start_time": "2023-04-14T06:23:41.591Z"
   },
   {
    "duration": 52,
    "start_time": "2023-04-14T06:23:41.789Z"
   },
   {
    "duration": 6,
    "start_time": "2023-04-14T06:23:41.843Z"
   },
   {
    "duration": 27,
    "start_time": "2023-04-14T06:23:41.851Z"
   },
   {
    "duration": 30,
    "start_time": "2023-04-14T06:23:41.883Z"
   },
   {
    "duration": 404406,
    "start_time": "2023-04-14T06:23:41.915Z"
   },
   {
    "duration": 4,
    "start_time": "2023-04-14T06:30:26.322Z"
   },
   {
    "duration": 20,
    "start_time": "2023-04-14T06:30:26.327Z"
   },
   {
    "duration": 23,
    "start_time": "2023-04-14T06:30:26.348Z"
   },
   {
    "duration": 12,
    "start_time": "2023-04-14T06:30:26.372Z"
   },
   {
    "duration": 204709,
    "start_time": "2023-04-14T06:30:26.386Z"
   },
   {
    "duration": 3,
    "start_time": "2023-04-14T06:33:51.097Z"
   },
   {
    "duration": 13,
    "start_time": "2023-04-14T06:33:51.102Z"
   },
   {
    "duration": 5,
    "start_time": "2023-04-14T06:33:51.116Z"
   },
   {
    "duration": 569689,
    "start_time": "2023-04-14T06:33:51.123Z"
   },
   {
    "duration": 4,
    "start_time": "2023-04-14T06:43:20.890Z"
   },
   {
    "duration": 13,
    "start_time": "2023-04-14T06:43:20.902Z"
   },
   {
    "duration": 6,
    "start_time": "2023-04-14T06:43:20.917Z"
   },
   {
    "duration": 31,
    "start_time": "2023-04-14T06:43:20.924Z"
   },
   {
    "duration": 648,
    "start_time": "2023-04-14T06:43:20.956Z"
   },
   {
    "duration": 7,
    "start_time": "2023-04-14T06:43:21.605Z"
   },
   {
    "duration": 2109,
    "start_time": "2023-04-14T06:46:08.114Z"
   },
   {
    "duration": 6,
    "start_time": "2023-04-14T06:46:33.155Z"
   },
   {
    "duration": 2206,
    "start_time": "2023-04-14T06:48:06.038Z"
   },
   {
    "duration": 1494,
    "start_time": "2023-04-14T06:48:08.247Z"
   },
   {
    "duration": 913,
    "start_time": "2023-04-14T06:48:09.743Z"
   },
   {
    "duration": 19,
    "start_time": "2023-04-14T06:48:10.657Z"
   },
   {
    "duration": 14,
    "start_time": "2023-04-14T06:48:10.678Z"
   },
   {
    "duration": 15,
    "start_time": "2023-04-14T06:48:10.693Z"
   },
   {
    "duration": 146,
    "start_time": "2023-04-14T06:48:10.709Z"
   },
   {
    "duration": 1451,
    "start_time": "2023-04-14T06:48:10.856Z"
   },
   {
    "duration": 408,
    "start_time": "2023-04-14T06:48:12.309Z"
   },
   {
    "duration": 406,
    "start_time": "2023-04-14T06:48:12.719Z"
   },
   {
    "duration": 49,
    "start_time": "2023-04-14T06:48:13.127Z"
   },
   {
    "duration": 294,
    "start_time": "2023-04-14T06:48:13.178Z"
   },
   {
    "duration": 18,
    "start_time": "2023-04-14T06:48:13.474Z"
   },
   {
    "duration": 8,
    "start_time": "2023-04-14T06:48:13.502Z"
   },
   {
    "duration": 54,
    "start_time": "2023-04-14T06:48:13.512Z"
   },
   {
    "duration": 306,
    "start_time": "2023-04-14T06:48:13.568Z"
   },
   {
    "duration": 20,
    "start_time": "2023-04-14T06:48:13.876Z"
   },
   {
    "duration": 317,
    "start_time": "2023-04-14T06:48:13.900Z"
   },
   {
    "duration": 292,
    "start_time": "2023-04-14T06:48:14.219Z"
   },
   {
    "duration": 20,
    "start_time": "2023-04-14T06:48:14.513Z"
   },
   {
    "duration": 37,
    "start_time": "2023-04-14T06:48:14.534Z"
   },
   {
    "duration": 79,
    "start_time": "2023-04-14T06:48:14.590Z"
   },
   {
    "duration": 456,
    "start_time": "2023-04-14T06:48:14.671Z"
   },
   {
    "duration": 899,
    "start_time": "2023-04-14T06:48:15.129Z"
   },
   {
    "duration": 21,
    "start_time": "2023-04-14T06:48:16.030Z"
   },
   {
    "duration": 92,
    "start_time": "2023-04-14T06:48:16.053Z"
   },
   {
    "duration": 20,
    "start_time": "2023-04-14T06:48:16.146Z"
   },
   {
    "duration": 52,
    "start_time": "2023-04-14T06:48:16.168Z"
   },
   {
    "duration": 23,
    "start_time": "2023-04-14T06:48:16.222Z"
   },
   {
    "duration": 27,
    "start_time": "2023-04-14T06:48:16.246Z"
   },
   {
    "duration": 77,
    "start_time": "2023-04-14T06:48:16.275Z"
   },
   {
    "duration": 87,
    "start_time": "2023-04-14T06:48:16.354Z"
   },
   {
    "duration": 13,
    "start_time": "2023-04-14T06:48:16.442Z"
   },
   {
    "duration": 5568,
    "start_time": "2023-04-14T06:48:16.457Z"
   },
   {
    "duration": 2,
    "start_time": "2023-04-14T06:48:22.028Z"
   },
   {
    "duration": 18,
    "start_time": "2023-04-14T06:48:22.032Z"
   },
   {
    "duration": 177,
    "start_time": "2023-04-14T06:48:22.052Z"
   },
   {
    "duration": 44,
    "start_time": "2023-04-14T06:48:22.231Z"
   },
   {
    "duration": 14,
    "start_time": "2023-04-14T06:48:22.277Z"
   },
   {
    "duration": 13,
    "start_time": "2023-04-14T06:48:22.293Z"
   },
   {
    "duration": 5,
    "start_time": "2023-04-14T06:48:22.310Z"
   },
   {
    "duration": 426818,
    "start_time": "2023-04-14T06:48:22.316Z"
   },
   {
    "duration": 3,
    "start_time": "2023-04-14T06:55:29.136Z"
   },
   {
    "duration": 21,
    "start_time": "2023-04-14T06:55:29.141Z"
   },
   {
    "duration": 7,
    "start_time": "2023-04-14T06:55:29.164Z"
   },
   {
    "duration": 19,
    "start_time": "2023-04-14T06:55:29.172Z"
   },
   {
    "duration": 212930,
    "start_time": "2023-04-14T06:55:29.193Z"
   },
   {
    "duration": 4,
    "start_time": "2023-04-14T06:59:02.125Z"
   },
   {
    "duration": 20,
    "start_time": "2023-04-14T06:59:02.130Z"
   },
   {
    "duration": 7,
    "start_time": "2023-04-14T06:59:02.152Z"
   },
   {
    "duration": 548113,
    "start_time": "2023-04-14T06:59:02.160Z"
   },
   {
    "duration": 0,
    "start_time": "2023-04-14T07:08:10.275Z"
   },
   {
    "duration": 0,
    "start_time": "2023-04-14T07:08:10.277Z"
   },
   {
    "duration": 0,
    "start_time": "2023-04-14T07:08:10.279Z"
   },
   {
    "duration": 1,
    "start_time": "2023-04-14T07:08:10.280Z"
   },
   {
    "duration": 0,
    "start_time": "2023-04-14T07:08:10.289Z"
   },
   {
    "duration": 0,
    "start_time": "2023-04-14T07:08:10.291Z"
   },
   {
    "duration": 653811,
    "start_time": "2023-04-14T07:08:39.088Z"
   },
   {
    "duration": 3,
    "start_time": "2023-04-14T07:19:32.901Z"
   },
   {
    "duration": 14,
    "start_time": "2023-04-14T07:19:32.990Z"
   },
   {
    "duration": 8,
    "start_time": "2023-04-14T07:19:33.006Z"
   },
   {
    "duration": 9,
    "start_time": "2023-04-14T07:19:33.016Z"
   },
   {
    "duration": 605,
    "start_time": "2023-04-14T07:22:44.504Z"
   },
   {
    "duration": 6,
    "start_time": "2023-04-14T07:22:47.884Z"
   }
  ],
  "kernelspec": {
   "display_name": "Python 3 (ipykernel)",
   "language": "python",
   "name": "python3"
  },
  "language_info": {
   "codemirror_mode": {
    "name": "ipython",
    "version": 3
   },
   "file_extension": ".py",
   "mimetype": "text/x-python",
   "name": "python",
   "nbconvert_exporter": "python",
   "pygments_lexer": "ipython3",
   "version": "3.9.13"
  },
  "toc": {
   "base_numbering": 1,
   "nav_menu": {},
   "number_sections": true,
   "sideBar": true,
   "skip_h1_title": true,
   "title_cell": "Table of Contents",
   "title_sidebar": "Contents",
   "toc_cell": false,
   "toc_position": {},
   "toc_section_display": true,
   "toc_window_display": false
  }
 },
 "nbformat": 4,
 "nbformat_minor": 2
}
