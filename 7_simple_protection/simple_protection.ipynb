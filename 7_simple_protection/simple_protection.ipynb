{
 "cells": [
  {
   "cell_type": "markdown",
   "metadata": {
    "toc": true
   },
   "source": [
    "<h1>Содержание<span class=\"tocSkip\"></span></h1>\n",
    "<div class=\"toc\"><ul class=\"toc-item\"><li><span><a href=\"#Загрузка-данных\" data-toc-modified-id=\"Загрузка-данных-1\"><span class=\"toc-item-num\">1&nbsp;&nbsp;</span>Загрузка данных</a></span></li><li><span><a href=\"#Умножение-матриц\" data-toc-modified-id=\"Умножение-матриц-2\"><span class=\"toc-item-num\">2&nbsp;&nbsp;</span>Умножение матриц</a></span><ul class=\"toc-item\"><li><span><a href=\"#Теорема\" data-toc-modified-id=\"Теорема-2.1\"><span class=\"toc-item-num\">2.1&nbsp;&nbsp;</span>Теорема</a></span></li></ul></li><li><span><a href=\"#Алгоритм-преобразования\" data-toc-modified-id=\"Алгоритм-преобразования-3\"><span class=\"toc-item-num\">3&nbsp;&nbsp;</span>Алгоритм преобразования</a></span></li><li><span><a href=\"#Проверка-алгоритма\" data-toc-modified-id=\"Проверка-алгоритма-4\"><span class=\"toc-item-num\">4&nbsp;&nbsp;</span>Проверка алгоритма</a></span></li><li><span><a href=\"#Вывод\" data-toc-modified-id=\"Вывод-5\"><span class=\"toc-item-num\">5&nbsp;&nbsp;</span>Вывод</a></span></li></ul></div>"
   ]
  },
  {
   "cell_type": "markdown",
   "metadata": {},
   "source": [
    "# Защита персональных данных клиентов"
   ]
  },
  {
   "cell_type": "markdown",
   "metadata": {},
   "source": [
    "Вам нужно защитить данные клиентов страховой компании «Хоть потоп». Разработайте такой метод преобразования данных, чтобы по ним было сложно восстановить персональную информацию. Обоснуйте корректность его работы.\n",
    "\n",
    "Нужно защитить данные, чтобы при преобразовании качество моделей машинного обучения не ухудшилось. Подбирать наилучшую модель не требуется."
   ]
  },
  {
   "cell_type": "markdown",
   "metadata": {},
   "source": [
    "## Загрузка данных"
   ]
  },
  {
   "cell_type": "code",
   "execution_count": 1,
   "metadata": {},
   "outputs": [],
   "source": [
    "import pandas as pd\n",
    "from sklearn.linear_model import LinearRegression\n",
    "from sklearn.metrics import r2_score\n",
    "from sklearn.model_selection import train_test_split\n",
    "import numpy as np\n",
    "from matplotlib import pyplot as plt"
   ]
  },
  {
   "cell_type": "code",
   "execution_count": 2,
   "metadata": {},
   "outputs": [],
   "source": [
    "df = pd.read_csv('/datasets/insurance.csv')"
   ]
  },
  {
   "cell_type": "code",
   "execution_count": 3,
   "metadata": {
    "scrolled": false
   },
   "outputs": [
    {
     "data": {
      "text/html": [
       "<div>\n",
       "<style scoped>\n",
       "    .dataframe tbody tr th:only-of-type {\n",
       "        vertical-align: middle;\n",
       "    }\n",
       "\n",
       "    .dataframe tbody tr th {\n",
       "        vertical-align: top;\n",
       "    }\n",
       "\n",
       "    .dataframe thead th {\n",
       "        text-align: right;\n",
       "    }\n",
       "</style>\n",
       "<table border=\"1\" class=\"dataframe\">\n",
       "  <thead>\n",
       "    <tr style=\"text-align: right;\">\n",
       "      <th></th>\n",
       "      <th>Пол</th>\n",
       "      <th>Возраст</th>\n",
       "      <th>Зарплата</th>\n",
       "      <th>Члены семьи</th>\n",
       "      <th>Страховые выплаты</th>\n",
       "    </tr>\n",
       "  </thead>\n",
       "  <tbody>\n",
       "    <tr>\n",
       "      <th>0</th>\n",
       "      <td>1</td>\n",
       "      <td>41.0</td>\n",
       "      <td>49600.0</td>\n",
       "      <td>1</td>\n",
       "      <td>0</td>\n",
       "    </tr>\n",
       "    <tr>\n",
       "      <th>1</th>\n",
       "      <td>0</td>\n",
       "      <td>46.0</td>\n",
       "      <td>38000.0</td>\n",
       "      <td>1</td>\n",
       "      <td>1</td>\n",
       "    </tr>\n",
       "    <tr>\n",
       "      <th>2</th>\n",
       "      <td>0</td>\n",
       "      <td>29.0</td>\n",
       "      <td>21000.0</td>\n",
       "      <td>0</td>\n",
       "      <td>0</td>\n",
       "    </tr>\n",
       "    <tr>\n",
       "      <th>3</th>\n",
       "      <td>0</td>\n",
       "      <td>21.0</td>\n",
       "      <td>41700.0</td>\n",
       "      <td>2</td>\n",
       "      <td>0</td>\n",
       "    </tr>\n",
       "    <tr>\n",
       "      <th>4</th>\n",
       "      <td>1</td>\n",
       "      <td>28.0</td>\n",
       "      <td>26100.0</td>\n",
       "      <td>0</td>\n",
       "      <td>0</td>\n",
       "    </tr>\n",
       "  </tbody>\n",
       "</table>\n",
       "</div>"
      ],
      "text/plain": [
       "   Пол  Возраст  Зарплата  Члены семьи  Страховые выплаты\n",
       "0    1     41.0   49600.0            1                  0\n",
       "1    0     46.0   38000.0            1                  1\n",
       "2    0     29.0   21000.0            0                  0\n",
       "3    0     21.0   41700.0            2                  0\n",
       "4    1     28.0   26100.0            0                  0"
      ]
     },
     "execution_count": 3,
     "metadata": {},
     "output_type": "execute_result"
    }
   ],
   "source": [
    "df.head()"
   ]
  },
  {
   "cell_type": "code",
   "execution_count": 4,
   "metadata": {
    "scrolled": true
   },
   "outputs": [
    {
     "name": "stdout",
     "output_type": "stream",
     "text": [
      "<class 'pandas.core.frame.DataFrame'>\n",
      "RangeIndex: 5000 entries, 0 to 4999\n",
      "Data columns (total 5 columns):\n",
      " #   Column             Non-Null Count  Dtype  \n",
      "---  ------             --------------  -----  \n",
      " 0   Пол                5000 non-null   int64  \n",
      " 1   Возраст            5000 non-null   float64\n",
      " 2   Зарплата           5000 non-null   float64\n",
      " 3   Члены семьи        5000 non-null   int64  \n",
      " 4   Страховые выплаты  5000 non-null   int64  \n",
      "dtypes: float64(2), int64(3)\n",
      "memory usage: 195.4 KB\n"
     ]
    }
   ],
   "source": [
    "df.info()"
   ]
  },
  {
   "cell_type": "markdown",
   "metadata": {},
   "source": [
    "* Данные без пропусков, вссе переменные кодированны численно, в том числе и категориальные\n",
    "* Признаки - Пол, Возраст, Зарплата, Члены семьи. Таргет - Страховые выплаты"
   ]
  },
  {
   "cell_type": "code",
   "execution_count": 5,
   "metadata": {},
   "outputs": [],
   "source": [
    "df.columns = [\n",
    "    'sex', 'age', 'salary', 'num_of_family_members', 'num_of_insurance_payments'\n",
    "]"
   ]
  },
  {
   "cell_type": "code",
   "execution_count": 6,
   "metadata": {},
   "outputs": [
    {
     "data": {
      "text/plain": [
       "array([0, 1, 2, 3, 5, 4])"
      ]
     },
     "execution_count": 6,
     "metadata": {},
     "output_type": "execute_result"
    }
   ],
   "source": [
    "df['num_of_insurance_payments'].unique()"
   ]
  },
  {
   "cell_type": "code",
   "execution_count": 7,
   "metadata": {},
   "outputs": [
    {
     "data": {
      "text/html": [
       "<div>\n",
       "<style scoped>\n",
       "    .dataframe tbody tr th:only-of-type {\n",
       "        vertical-align: middle;\n",
       "    }\n",
       "\n",
       "    .dataframe tbody tr th {\n",
       "        vertical-align: top;\n",
       "    }\n",
       "\n",
       "    .dataframe thead th {\n",
       "        text-align: right;\n",
       "    }\n",
       "</style>\n",
       "<table border=\"1\" class=\"dataframe\">\n",
       "  <thead>\n",
       "    <tr style=\"text-align: right;\">\n",
       "      <th></th>\n",
       "      <th>sex</th>\n",
       "      <th>age</th>\n",
       "      <th>salary</th>\n",
       "      <th>num_of_family_members</th>\n",
       "      <th>num_of_insurance_payments</th>\n",
       "    </tr>\n",
       "  </thead>\n",
       "  <tbody>\n",
       "    <tr>\n",
       "      <th>count</th>\n",
       "      <td>5000.000000</td>\n",
       "      <td>5000.000000</td>\n",
       "      <td>5000.000000</td>\n",
       "      <td>5000.000000</td>\n",
       "      <td>5000.000000</td>\n",
       "    </tr>\n",
       "    <tr>\n",
       "      <th>mean</th>\n",
       "      <td>0.499000</td>\n",
       "      <td>30.952800</td>\n",
       "      <td>39916.360000</td>\n",
       "      <td>1.194200</td>\n",
       "      <td>0.148000</td>\n",
       "    </tr>\n",
       "    <tr>\n",
       "      <th>std</th>\n",
       "      <td>0.500049</td>\n",
       "      <td>8.440807</td>\n",
       "      <td>9900.083569</td>\n",
       "      <td>1.091387</td>\n",
       "      <td>0.463183</td>\n",
       "    </tr>\n",
       "    <tr>\n",
       "      <th>min</th>\n",
       "      <td>0.000000</td>\n",
       "      <td>18.000000</td>\n",
       "      <td>5300.000000</td>\n",
       "      <td>0.000000</td>\n",
       "      <td>0.000000</td>\n",
       "    </tr>\n",
       "    <tr>\n",
       "      <th>25%</th>\n",
       "      <td>0.000000</td>\n",
       "      <td>24.000000</td>\n",
       "      <td>33300.000000</td>\n",
       "      <td>0.000000</td>\n",
       "      <td>0.000000</td>\n",
       "    </tr>\n",
       "    <tr>\n",
       "      <th>50%</th>\n",
       "      <td>0.000000</td>\n",
       "      <td>30.000000</td>\n",
       "      <td>40200.000000</td>\n",
       "      <td>1.000000</td>\n",
       "      <td>0.000000</td>\n",
       "    </tr>\n",
       "    <tr>\n",
       "      <th>75%</th>\n",
       "      <td>1.000000</td>\n",
       "      <td>37.000000</td>\n",
       "      <td>46600.000000</td>\n",
       "      <td>2.000000</td>\n",
       "      <td>0.000000</td>\n",
       "    </tr>\n",
       "    <tr>\n",
       "      <th>max</th>\n",
       "      <td>1.000000</td>\n",
       "      <td>65.000000</td>\n",
       "      <td>79000.000000</td>\n",
       "      <td>6.000000</td>\n",
       "      <td>5.000000</td>\n",
       "    </tr>\n",
       "  </tbody>\n",
       "</table>\n",
       "</div>"
      ],
      "text/plain": [
       "               sex          age        salary  num_of_family_members  \\\n",
       "count  5000.000000  5000.000000   5000.000000            5000.000000   \n",
       "mean      0.499000    30.952800  39916.360000               1.194200   \n",
       "std       0.500049     8.440807   9900.083569               1.091387   \n",
       "min       0.000000    18.000000   5300.000000               0.000000   \n",
       "25%       0.000000    24.000000  33300.000000               0.000000   \n",
       "50%       0.000000    30.000000  40200.000000               1.000000   \n",
       "75%       1.000000    37.000000  46600.000000               2.000000   \n",
       "max       1.000000    65.000000  79000.000000               6.000000   \n",
       "\n",
       "       num_of_insurance_payments  \n",
       "count                5000.000000  \n",
       "mean                    0.148000  \n",
       "std                     0.463183  \n",
       "min                     0.000000  \n",
       "25%                     0.000000  \n",
       "50%                     0.000000  \n",
       "75%                     0.000000  \n",
       "max                     5.000000  "
      ]
     },
     "execution_count": 7,
     "metadata": {},
     "output_type": "execute_result"
    }
   ],
   "source": [
    "df.describe()"
   ]
  },
  {
   "cell_type": "code",
   "execution_count": 8,
   "metadata": {
    "scrolled": false
   },
   "outputs": [
    {
     "data": {
      "image/png": "[encoded data removed]",
      "text/plain": [
       "<Figure size 1080x720 with 4 Axes>"
      ]
     },
     "metadata": {
      "needs_background": "light"
     },
     "output_type": "display_data"
    }
   ],
   "source": [
    "df.drop(columns=['sex']).hist(figsize=(15,10), bins=100);"
   ]
  },
  {
   "cell_type": "code",
   "execution_count": 9,
   "metadata": {
    "scrolled": false
   },
   "outputs": [
    {
     "data": {
      "image/png": "[encoded data removed]",
      "text/plain": [
       "<Figure size 1440x1080 with 3 Axes>"
      ]
     },
     "metadata": {},
     "output_type": "display_data"
    }
   ],
   "source": [
    "xlabel = df.drop(columns=['age', 'salary']).columns\n",
    "for i, x in enumerate(df.drop(columns=['age', 'salary'])):\n",
    "    plt.subplot(1,3,i+1)\n",
    "    sup_df = df.pivot_table(index=xlabel[i], aggfunc='count')[xlabel[i-1]]\n",
    "    \n",
    "    del_list = []\n",
    "    counter = 0\n",
    "    for element, num in sup_df.items():\n",
    "        if num / sup_df.sum() < 0.05:\n",
    "            del_list.append(element)\n",
    "            counter += num\n",
    "    if counter != 0:\n",
    "        sup_df.drop(del_list, inplace=True)\n",
    "        sup_df['other'] = counter\n",
    "\n",
    "    sup_df.plot(kind='pie', figsize=(20, 15), autopct='%1.2f%%') \n",
    "    plt.title(xlabel[i])\n",
    "    plt.ylabel('frequency')\n",
    "plt.show()"
   ]
  },
  {
   "cell_type": "markdown",
   "metadata": {},
   "source": [
    "## Умножение матриц"
   ]
  },
  {
   "cell_type": "markdown",
   "metadata": {},
   "source": [
    "### Теорема\n",
    "При умножении матрицы признаков на обратимую матрицу предсказания не изменятся"
   ]
  },
  {
   "cell_type": "markdown",
   "metadata": {},
   "source": [
    "**Обозначения:**\n",
    "\n",
    "- $X$ — матрица признаков (нулевой столбец состоит из единиц)\n",
    "\n",
    "- $y$ — вектор целевого признака\n",
    "\n",
    "- $P$ — матрица, на которую умножаются признаки\n",
    "\n",
    "- $w$ — вектор весов линейной регрессии (нулевой элемент равен сдвигу)"
   ]
  },
  {
   "cell_type": "markdown",
   "metadata": {},
   "source": [
    "**Исходное:**\n",
    "* Предсказания:\n",
    "\n",
    "$$\n",
    "a = Xw\n",
    "$$\n",
    "\n",
    "* Задача обучения:\n",
    "\n",
    "$$\n",
    "w = \\arg\\min_w MSE(Xw, y)\n",
    "$$\n",
    "\n",
    "* Формула обучения:\n",
    "\n",
    "$$\n",
    "w = [X^T X]^{-1} X^T y\n",
    "$$\n",
    "\n",
    "* Итоговая формула: \n",
    "$$ \n",
    "a = X[X^T X]^{-1} X^T y\n",
    "$$"
   ]
  },
  {
   "cell_type": "markdown",
   "metadata": {},
   "source": [
    "**При умножении X на P:**\n",
    "$$ \\hat{a} = XP\\hat{w}$$\n",
    "$$\\hat{w} = [(XP)^T (XP)]^{-1} (XP)^T y$$\n",
    "В итоге:\n",
    "$$ \\hat{a} = XP[(XP)^T (XP)]^{-1} (XP)^T y $$\n",
    "**Произведем преобразование:**\n",
    "$$ \\hat{a} = XP[P^T X^T XP]^{-1} P^T X^T y $$\n",
    "* Ввиду того, что матрица P обратима:\n",
    "$$ \\hat{a} = XPP^{-1} [X^T X[^{-1} P^{T-1} P^T X^T y $$\n",
    "$$ \\hat{a} = X [X^T X]^{-1} X^T y $$\n",
    "$$ \\Rightarrow \\hat{a} = a $$"
   ]
  },
  {
   "cell_type": "markdown",
   "metadata": {},
   "source": [
    "## Алгоритм преобразования"
   ]
  },
  {
   "cell_type": "markdown",
   "metadata": {},
   "source": [
    "Исходя из теоремы, необходимо умножить матрицу признаков на любую обратимую матрицу, т.е. матрицу 4x4, а затем фитить линейную модель как в тривиальном случае"
   ]
  },
  {
   "cell_type": "code",
   "execution_count": 10,
   "metadata": {},
   "outputs": [],
   "source": [
    "X_train, x_test, y_train, y_test = train_test_split(df.drop(columns=['num_of_insurance_payments']), df['num_of_insurance_payments'], \n",
    "                                                    test_size=0.25, random_state=42)"
   ]
  },
  {
   "cell_type": "code",
   "execution_count": 11,
   "metadata": {},
   "outputs": [],
   "source": [
    "while True:\n",
    "    p = np.random.random((4, 4))\n",
    "    if np.linalg.det(p) != 0:\n",
    "        break"
   ]
  },
  {
   "cell_type": "code",
   "execution_count": 12,
   "metadata": {},
   "outputs": [],
   "source": [
    "X_train_encrypted = X_train @ p\n",
    "x_test_encrypted = x_test @ p"
   ]
  },
  {
   "cell_type": "code",
   "execution_count": 13,
   "metadata": {},
   "outputs": [
    {
     "data": {
      "text/html": [
       "<div>\n",
       "<style scoped>\n",
       "    .dataframe tbody tr th:only-of-type {\n",
       "        vertical-align: middle;\n",
       "    }\n",
       "\n",
       "    .dataframe tbody tr th {\n",
       "        vertical-align: top;\n",
       "    }\n",
       "\n",
       "    .dataframe thead th {\n",
       "        text-align: right;\n",
       "    }\n",
       "</style>\n",
       "<table border=\"1\" class=\"dataframe\">\n",
       "  <thead>\n",
       "    <tr style=\"text-align: right;\">\n",
       "      <th></th>\n",
       "      <th>0</th>\n",
       "      <th>1</th>\n",
       "      <th>2</th>\n",
       "      <th>3</th>\n",
       "    </tr>\n",
       "  </thead>\n",
       "  <tbody>\n",
       "    <tr>\n",
       "      <th>4884</th>\n",
       "      <td>6046.692005</td>\n",
       "      <td>19853.891480</td>\n",
       "      <td>14450.212867</td>\n",
       "      <td>36817.843231</td>\n",
       "    </tr>\n",
       "    <tr>\n",
       "      <th>3163</th>\n",
       "      <td>5004.850079</td>\n",
       "      <td>16445.159152</td>\n",
       "      <td>11966.861752</td>\n",
       "      <td>30496.997133</td>\n",
       "    </tr>\n",
       "    <tr>\n",
       "      <th>490</th>\n",
       "      <td>6555.445312</td>\n",
       "      <td>21532.125529</td>\n",
       "      <td>15670.628535</td>\n",
       "      <td>39930.509560</td>\n",
       "    </tr>\n",
       "    <tr>\n",
       "      <th>862</th>\n",
       "      <td>5212.302809</td>\n",
       "      <td>17091.407255</td>\n",
       "      <td>12442.053575</td>\n",
       "      <td>31693.426114</td>\n",
       "    </tr>\n",
       "    <tr>\n",
       "      <th>1740</th>\n",
       "      <td>6169.044924</td>\n",
       "      <td>20250.164027</td>\n",
       "      <td>14738.617827</td>\n",
       "      <td>37552.060215</td>\n",
       "    </tr>\n",
       "  </tbody>\n",
       "</table>\n",
       "</div>"
      ],
      "text/plain": [
       "                0             1             2             3\n",
       "4884  6046.692005  19853.891480  14450.212867  36817.843231\n",
       "3163  5004.850079  16445.159152  11966.861752  30496.997133\n",
       "490   6555.445312  21532.125529  15670.628535  39930.509560\n",
       "862   5212.302809  17091.407255  12442.053575  31693.426114\n",
       "1740  6169.044924  20250.164027  14738.617827  37552.060215"
      ]
     },
     "execution_count": 13,
     "metadata": {},
     "output_type": "execute_result"
    }
   ],
   "source": [
    "X_train_encrypted.head()"
   ]
  },
  {
   "cell_type": "code",
   "execution_count": 14,
   "metadata": {
    "scrolled": true
   },
   "outputs": [
    {
     "data": {
      "text/html": [
       "<style  type=\"text/css\" >\n",
       "</style><table id=\"T_a9861_\" ><thead>    <tr>        <th class=\"blank level0\" ></th>        <th class=\"col_heading level0 col0\" >0</th>        <th class=\"col_heading level0 col1\" >1</th>        <th class=\"col_heading level0 col2\" >2</th>        <th class=\"col_heading level0 col3\" >3</th>    </tr></thead><tbody>\n",
       "                <tr>\n",
       "                        <th id=\"T_a9861_level0_row0\" class=\"row_heading level0 row0\" >4884</th>\n",
       "                        <td id=\"T_a9861_row0_col0\" class=\"data row0 col0\" >-0.0</td>\n",
       "                        <td id=\"T_a9861_row0_col1\" class=\"data row0 col1\" >34.0</td>\n",
       "                        <td id=\"T_a9861_row0_col2\" class=\"data row0 col2\" >40200.0</td>\n",
       "                        <td id=\"T_a9861_row0_col3\" class=\"data row0 col3\" >-0.0</td>\n",
       "            </tr>\n",
       "            <tr>\n",
       "                        <th id=\"T_a9861_level0_row1\" class=\"row_heading level0 row1\" >3163</th>\n",
       "                        <td id=\"T_a9861_row1_col0\" class=\"data row1 col0\" >-0.0</td>\n",
       "                        <td id=\"T_a9861_row1_col1\" class=\"data row1 col1\" >23.0</td>\n",
       "                        <td id=\"T_a9861_row1_col2\" class=\"data row1 col2\" >33300.0</td>\n",
       "                        <td id=\"T_a9861_row1_col3\" class=\"data row1 col3\" >1.0</td>\n",
       "            </tr>\n",
       "            <tr>\n",
       "                        <th id=\"T_a9861_level0_row2\" class=\"row_heading level0 row2\" >490</th>\n",
       "                        <td id=\"T_a9861_row2_col0\" class=\"data row2 col0\" >-0.0</td>\n",
       "                        <td id=\"T_a9861_row2_col1\" class=\"data row2 col1\" >34.0</td>\n",
       "                        <td id=\"T_a9861_row2_col2\" class=\"data row2 col2\" >43600.0</td>\n",
       "                        <td id=\"T_a9861_row2_col3\" class=\"data row2 col3\" >-0.0</td>\n",
       "            </tr>\n",
       "            <tr>\n",
       "                        <th id=\"T_a9861_level0_row3\" class=\"row_heading level0 row3\" >862</th>\n",
       "                        <td id=\"T_a9861_row3_col0\" class=\"data row3 col0\" >1.0</td>\n",
       "                        <td id=\"T_a9861_row3_col1\" class=\"data row3 col1\" >36.0</td>\n",
       "                        <td id=\"T_a9861_row3_col2\" class=\"data row3 col2\" >34600.0</td>\n",
       "                        <td id=\"T_a9861_row3_col3\" class=\"data row3 col3\" >1.0</td>\n",
       "            </tr>\n",
       "            <tr>\n",
       "                        <th id=\"T_a9861_level0_row4\" class=\"row_heading level0 row4\" >1740</th>\n",
       "                        <td id=\"T_a9861_row4_col0\" class=\"data row4 col0\" >-0.0</td>\n",
       "                        <td id=\"T_a9861_row4_col1\" class=\"data row4 col1\" >36.0</td>\n",
       "                        <td id=\"T_a9861_row4_col2\" class=\"data row4 col2\" >41000.0</td>\n",
       "                        <td id=\"T_a9861_row4_col3\" class=\"data row4 col3\" >1.0</td>\n",
       "            </tr>\n",
       "    </tbody></table>"
      ],
      "text/plain": [
       "<pandas.io.formats.style.Styler at 0x7f06c845afa0>"
      ]
     },
     "execution_count": 14,
     "metadata": {},
     "output_type": "execute_result"
    }
   ],
   "source": [
    "(X_train_encrypted @ np.linalg.inv(p)).head().style.format('{:.1f}')"
   ]
  },
  {
   "cell_type": "markdown",
   "metadata": {},
   "source": [
    "Как видно, данные зашифрованы, а исходные можно легко получить по ключу"
   ]
  },
  {
   "cell_type": "code",
   "execution_count": 15,
   "metadata": {},
   "outputs": [
    {
     "name": "stdout",
     "output_type": "stream",
     "text": [
      "r^2 = 0.4255\n"
     ]
    }
   ],
   "source": [
    "model = LinearRegression()\n",
    "\n",
    "model.fit(X_train_encrypted, y_train)\n",
    "y_pred = model.predict(x_test_encrypted)\n",
    "print(f'r^2 = {r2_score(y_test, y_pred):.4f}')"
   ]
  },
  {
   "cell_type": "markdown",
   "metadata": {},
   "source": [
    "## Проверка алгоритма"
   ]
  },
  {
   "cell_type": "code",
   "execution_count": 16,
   "metadata": {
    "scrolled": true
   },
   "outputs": [
    {
     "name": "stdout",
     "output_type": "stream",
     "text": [
      "r^2 = 0.4255\n"
     ]
    }
   ],
   "source": [
    "model = LinearRegression()\n",
    "\n",
    "model.fit(X_train, y_train)\n",
    "y_pred = model.predict(x_test)\n",
    "print(f'r^2 = {r2_score(y_test, y_pred):.4f}')"
   ]
  },
  {
   "cell_type": "markdown",
   "metadata": {},
   "source": [
    "## Вывод\n",
    "Признаки для линейной регрессии можно шифровать путем домножения их на невырожденную матрицу, качество от этого не меняется\n"
   ]
  }
 ],
 "metadata": {
  "ExecuteTimeLog": [
   {
    "duration": 1115,
    "start_time": "2023-01-25T15:18:10.545Z"
   },
   {
    "duration": 100,
    "start_time": "2023-01-25T15:18:40.542Z"
   },
   {
    "duration": 119,
    "start_time": "2023-01-25T15:18:47.207Z"
   },
   {
    "duration": 16,
    "start_time": "2023-01-25T15:18:55.807Z"
   },
   {
    "duration": 10,
    "start_time": "2023-01-25T15:18:58.686Z"
   },
   {
    "duration": 12,
    "start_time": "2023-01-25T15:19:05.299Z"
   },
   {
    "duration": 3,
    "start_time": "2023-01-25T15:54:39.942Z"
   },
   {
    "duration": 7,
    "start_time": "2023-01-25T15:57:05.552Z"
   },
   {
    "duration": 5,
    "start_time": "2023-01-25T15:59:13.751Z"
   },
   {
    "duration": 4,
    "start_time": "2023-01-25T15:59:15.783Z"
   },
   {
    "duration": 11,
    "start_time": "2023-01-25T15:59:17.512Z"
   },
   {
    "duration": 3,
    "start_time": "2023-01-25T15:59:54.551Z"
   },
   {
    "duration": 4,
    "start_time": "2023-01-25T16:00:04.923Z"
   },
   {
    "duration": 3,
    "start_time": "2023-01-25T16:01:11.521Z"
   },
   {
    "duration": 5,
    "start_time": "2023-01-25T16:02:11.910Z"
   },
   {
    "duration": 11,
    "start_time": "2023-01-25T16:03:25.751Z"
   },
   {
    "duration": 15,
    "start_time": "2023-01-25T16:03:48.424Z"
   },
   {
    "duration": 11,
    "start_time": "2023-01-25T16:04:05.163Z"
   },
   {
    "duration": 7,
    "start_time": "2023-01-25T16:04:05.404Z"
   },
   {
    "duration": 12,
    "start_time": "2023-01-25T16:04:30.867Z"
   },
   {
    "duration": 7,
    "start_time": "2023-01-25T16:04:31.063Z"
   },
   {
    "duration": 3,
    "start_time": "2023-01-25T16:07:41.481Z"
   },
   {
    "duration": 3,
    "start_time": "2023-01-25T16:07:42.679Z"
   },
   {
    "duration": 8,
    "start_time": "2023-01-25T16:07:43.701Z"
   },
   {
    "duration": 4,
    "start_time": "2023-01-25T16:07:44.363Z"
   },
   {
    "duration": 3,
    "start_time": "2023-01-25T16:07:56.092Z"
   },
   {
    "duration": 4,
    "start_time": "2023-01-25T16:07:56.411Z"
   },
   {
    "duration": 7,
    "start_time": "2023-01-25T16:07:56.921Z"
   },
   {
    "duration": 6,
    "start_time": "2023-01-25T16:07:57.318Z"
   },
   {
    "duration": 6,
    "start_time": "2023-01-25T16:08:00.064Z"
   },
   {
    "duration": 10,
    "start_time": "2023-01-25T16:08:03.729Z"
   },
   {
    "duration": 6,
    "start_time": "2023-01-25T16:08:04.369Z"
   },
   {
    "duration": 3,
    "start_time": "2023-01-25T16:08:37.242Z"
   },
   {
    "duration": 5,
    "start_time": "2023-01-25T16:08:37.643Z"
   },
   {
    "duration": 7,
    "start_time": "2023-01-25T16:08:37.994Z"
   },
   {
    "duration": 5,
    "start_time": "2023-01-25T16:08:38.318Z"
   },
   {
    "duration": 4,
    "start_time": "2023-01-25T16:09:10.087Z"
   },
   {
    "duration": 4,
    "start_time": "2023-01-25T16:09:10.346Z"
   },
   {
    "duration": 8,
    "start_time": "2023-01-25T16:09:10.627Z"
   },
   {
    "duration": 5,
    "start_time": "2023-01-25T16:09:10.912Z"
   },
   {
    "duration": 3,
    "start_time": "2023-01-25T16:09:20.779Z"
   },
   {
    "duration": 4,
    "start_time": "2023-01-25T16:09:21.074Z"
   },
   {
    "duration": 9,
    "start_time": "2023-01-25T16:09:21.514Z"
   },
   {
    "duration": 6,
    "start_time": "2023-01-25T16:09:21.774Z"
   },
   {
    "duration": 3,
    "start_time": "2023-01-25T16:09:35.208Z"
   },
   {
    "duration": 5,
    "start_time": "2023-01-25T16:09:35.367Z"
   },
   {
    "duration": 8,
    "start_time": "2023-01-25T16:09:35.558Z"
   },
   {
    "duration": 5,
    "start_time": "2023-01-25T16:09:35.818Z"
   },
   {
    "duration": 4,
    "start_time": "2023-01-25T16:09:59.078Z"
   },
   {
    "duration": 3,
    "start_time": "2023-01-25T16:10:00.947Z"
   },
   {
    "duration": 6,
    "start_time": "2023-01-25T16:10:01.684Z"
   },
   {
    "duration": 4,
    "start_time": "2023-01-25T16:10:12.690Z"
   },
   {
    "duration": 4,
    "start_time": "2023-01-25T16:10:13.268Z"
   },
   {
    "duration": 4,
    "start_time": "2023-01-25T16:10:19.467Z"
   },
   {
    "duration": 4,
    "start_time": "2023-01-25T16:10:20.051Z"
   },
   {
    "duration": 3,
    "start_time": "2023-01-25T16:10:23.585Z"
   },
   {
    "duration": 4,
    "start_time": "2023-01-25T16:10:23.762Z"
   },
   {
    "duration": 3,
    "start_time": "2023-01-25T16:10:30.307Z"
   },
   {
    "duration": 4,
    "start_time": "2023-01-25T16:10:30.534Z"
   },
   {
    "duration": 4,
    "start_time": "2023-01-25T16:10:33.848Z"
   },
   {
    "duration": 8,
    "start_time": "2023-01-25T16:10:34.260Z"
   },
   {
    "duration": 5,
    "start_time": "2023-01-25T16:10:35.237Z"
   },
   {
    "duration": 7,
    "start_time": "2023-01-25T16:11:03.655Z"
   },
   {
    "duration": 3,
    "start_time": "2023-01-25T16:11:04.740Z"
   },
   {
    "duration": 5,
    "start_time": "2023-01-25T16:11:05.230Z"
   },
   {
    "duration": 8,
    "start_time": "2023-01-25T16:11:05.661Z"
   },
   {
    "duration": 5,
    "start_time": "2023-01-25T16:11:06.172Z"
   },
   {
    "duration": 7,
    "start_time": "2023-01-25T16:11:07.733Z"
   },
   {
    "duration": 5,
    "start_time": "2023-01-25T16:11:08.219Z"
   },
   {
    "duration": 9,
    "start_time": "2023-01-25T16:12:31.833Z"
   },
   {
    "duration": 8,
    "start_time": "2023-01-25T16:12:38.399Z"
   },
   {
    "duration": 8,
    "start_time": "2023-01-25T16:13:36.638Z"
   },
   {
    "duration": 5,
    "start_time": "2023-01-25T16:16:11.484Z"
   },
   {
    "duration": 11,
    "start_time": "2023-01-25T16:17:38.276Z"
   },
   {
    "duration": 9,
    "start_time": "2023-01-25T16:17:43.391Z"
   },
   {
    "duration": 9,
    "start_time": "2023-01-25T16:18:27.263Z"
   },
   {
    "duration": 16,
    "start_time": "2023-01-25T16:18:45.926Z"
   },
   {
    "duration": 15,
    "start_time": "2023-01-25T16:19:13.472Z"
   },
   {
    "duration": 20,
    "start_time": "2023-01-25T16:19:16.367Z"
   },
   {
    "duration": 70,
    "start_time": "2023-01-25T16:20:53.729Z"
   },
   {
    "duration": 78,
    "start_time": "2023-01-25T16:20:58.785Z"
   },
   {
    "duration": 85,
    "start_time": "2023-01-25T16:21:01.943Z"
   },
   {
    "duration": 721,
    "start_time": "2023-01-25T16:21:05.463Z"
   },
   {
    "duration": 914,
    "start_time": "2023-01-25T16:21:10.172Z"
   },
   {
    "duration": 858,
    "start_time": "2023-01-25T16:21:20.066Z"
   },
   {
    "duration": 7,
    "start_time": "2023-01-25T16:21:27.699Z"
   },
   {
    "duration": 1136,
    "start_time": "2023-01-25T16:25:48.681Z"
   },
   {
    "duration": 26,
    "start_time": "2023-01-25T16:25:49.819Z"
   },
   {
    "duration": 31,
    "start_time": "2023-01-25T16:25:49.847Z"
   },
   {
    "duration": 13,
    "start_time": "2023-01-25T16:25:49.881Z"
   },
   {
    "duration": 3,
    "start_time": "2023-01-25T16:25:49.895Z"
   },
   {
    "duration": 7,
    "start_time": "2023-01-25T16:25:49.900Z"
   },
   {
    "duration": 8,
    "start_time": "2023-01-25T16:25:49.909Z"
   },
   {
    "duration": 5,
    "start_time": "2023-01-25T16:25:49.919Z"
   },
   {
    "duration": 30,
    "start_time": "2023-01-25T16:25:49.925Z"
   },
   {
    "duration": 16,
    "start_time": "2023-01-25T16:25:49.959Z"
   },
   {
    "duration": 457,
    "start_time": "2023-01-25T16:25:49.977Z"
   },
   {
    "duration": 19,
    "start_time": "2023-01-25T16:25:50.436Z"
   },
   {
    "duration": 14,
    "start_time": "2023-01-25T16:25:50.458Z"
   },
   {
    "duration": 2052,
    "start_time": "2023-01-25T16:53:41.117Z"
   },
   {
    "duration": 88,
    "start_time": "2023-01-25T16:53:43.171Z"
   },
   {
    "duration": 26,
    "start_time": "2023-01-25T16:53:59.234Z"
   },
   {
    "duration": 13,
    "start_time": "2023-01-25T16:53:59.611Z"
   },
   {
    "duration": 3,
    "start_time": "2023-01-25T16:54:00.275Z"
   },
   {
    "duration": 5,
    "start_time": "2023-01-25T16:54:02.469Z"
   },
   {
    "duration": 7,
    "start_time": "2023-01-25T16:55:47.278Z"
   },
   {
    "duration": 3,
    "start_time": "2023-01-25T16:55:47.922Z"
   },
   {
    "duration": 4,
    "start_time": "2023-01-25T16:56:11.482Z"
   },
   {
    "duration": 8,
    "start_time": "2023-01-25T16:56:11.881Z"
   },
   {
    "duration": 412,
    "start_time": "2023-01-25T16:56:12.051Z"
   },
   {
    "duration": 8,
    "start_time": "2023-01-25T16:56:14.292Z"
   },
   {
    "duration": 10,
    "start_time": "2023-01-25T16:56:24.057Z"
   },
   {
    "duration": 1138,
    "start_time": "2023-01-25T17:37:18.113Z"
   },
   {
    "duration": 90,
    "start_time": "2023-01-25T17:37:19.252Z"
   },
   {
    "duration": 18,
    "start_time": "2023-01-25T17:37:19.344Z"
   },
   {
    "duration": 12,
    "start_time": "2023-01-25T17:37:20.041Z"
   },
   {
    "duration": 3,
    "start_time": "2023-01-25T17:37:22.547Z"
   },
   {
    "duration": 5,
    "start_time": "2023-01-25T17:37:22.763Z"
   },
   {
    "duration": 29,
    "start_time": "2023-01-25T17:37:29.194Z"
   },
   {
    "duration": 1104,
    "start_time": "2023-01-25T17:38:59.408Z"
   },
   {
    "duration": 547,
    "start_time": "2023-01-25T17:39:03.359Z"
   },
   {
    "duration": 730,
    "start_time": "2023-01-25T17:39:14.099Z"
   },
   {
    "duration": 602,
    "start_time": "2023-01-25T17:40:07.858Z"
   },
   {
    "duration": 1433,
    "start_time": "2023-01-25T17:40:15.310Z"
   },
   {
    "duration": 103,
    "start_time": "2023-01-25T17:40:45.515Z"
   },
   {
    "duration": 1029,
    "start_time": "2023-01-25T17:40:50.303Z"
   },
   {
    "duration": 4,
    "start_time": "2023-01-25T17:46:40.505Z"
   },
   {
    "duration": 32,
    "start_time": "2023-01-25T17:46:40.647Z"
   },
   {
    "duration": 23,
    "start_time": "2023-01-25T17:46:42.147Z"
   },
   {
    "duration": 13,
    "start_time": "2023-01-25T17:46:47.139Z"
   },
   {
    "duration": 3,
    "start_time": "2023-01-25T17:46:48.456Z"
   },
   {
    "duration": 5,
    "start_time": "2023-01-25T17:46:48.800Z"
   },
   {
    "duration": 33,
    "start_time": "2023-01-25T17:46:50.602Z"
   },
   {
    "duration": 1453,
    "start_time": "2023-01-25T17:46:52.251Z"
   },
   {
    "duration": 111,
    "start_time": "2023-01-25T17:48:50.660Z"
   },
   {
    "duration": 9,
    "start_time": "2023-01-25T17:48:56.141Z"
   },
   {
    "duration": 29808,
    "start_time": "2023-01-25T17:51:54.213Z"
   },
   {
    "duration": 21,
    "start_time": "2023-01-25T17:52:39.167Z"
   },
   {
    "duration": 1274,
    "start_time": "2023-01-25T17:52:51.492Z"
   },
   {
    "duration": 19,
    "start_time": "2023-01-25T17:53:03.840Z"
   },
   {
    "duration": 15,
    "start_time": "2023-01-25T17:53:13.055Z"
   },
   {
    "duration": 14,
    "start_time": "2023-01-25T17:53:20.254Z"
   },
   {
    "duration": 101,
    "start_time": "2023-01-25T17:53:33.817Z"
   },
   {
    "duration": 74,
    "start_time": "2023-01-25T17:56:25.829Z"
   },
   {
    "duration": 5,
    "start_time": "2023-01-25T17:56:50.220Z"
   },
   {
    "duration": 81,
    "start_time": "2023-01-25T17:56:53.269Z"
   },
   {
    "duration": 132,
    "start_time": "2023-01-25T17:57:07.480Z"
   },
   {
    "duration": 299,
    "start_time": "2023-01-25T17:57:12.499Z"
   },
   {
    "duration": 399,
    "start_time": "2023-01-25T17:57:31.492Z"
   },
   {
    "duration": 468,
    "start_time": "2023-01-25T17:57:37.563Z"
   },
   {
    "duration": 365,
    "start_time": "2023-01-25T17:58:08.281Z"
   },
   {
    "duration": 280,
    "start_time": "2023-01-25T17:58:12.866Z"
   },
   {
    "duration": 327,
    "start_time": "2023-01-25T17:58:17.873Z"
   },
   {
    "duration": 464,
    "start_time": "2023-01-25T17:58:31.207Z"
   },
   {
    "duration": 350,
    "start_time": "2023-01-25T17:58:51.237Z"
   },
   {
    "duration": 342,
    "start_time": "2023-01-25T17:59:05.648Z"
   },
   {
    "duration": 362,
    "start_time": "2023-01-25T17:59:09.721Z"
   },
   {
    "duration": 383,
    "start_time": "2023-01-25T17:59:14.628Z"
   },
   {
    "duration": 432,
    "start_time": "2023-01-25T17:59:20.690Z"
   },
   {
    "duration": 422,
    "start_time": "2023-01-25T17:59:26.884Z"
   },
   {
    "duration": 345,
    "start_time": "2023-01-25T17:59:30.766Z"
   },
   {
    "duration": 387,
    "start_time": "2023-01-25T18:01:05.409Z"
   },
   {
    "duration": 339,
    "start_time": "2023-01-25T18:01:16.989Z"
   },
   {
    "duration": 326,
    "start_time": "2023-01-25T18:01:24.791Z"
   },
   {
    "duration": 310,
    "start_time": "2023-01-25T18:01:29.893Z"
   },
   {
    "duration": 335,
    "start_time": "2023-01-25T18:01:33.608Z"
   },
   {
    "duration": 315,
    "start_time": "2023-01-25T18:02:58.945Z"
   },
   {
    "duration": 351,
    "start_time": "2023-01-25T18:03:06.498Z"
   },
   {
    "duration": 16,
    "start_time": "2023-01-25T18:05:07.689Z"
   },
   {
    "duration": 12,
    "start_time": "2023-01-25T18:06:41.386Z"
   },
   {
    "duration": 17,
    "start_time": "2023-01-25T18:06:44.709Z"
   },
   {
    "duration": 15,
    "start_time": "2023-01-25T18:07:06.176Z"
   },
   {
    "duration": 942,
    "start_time": "2023-01-25T18:07:13.462Z"
   },
   {
    "duration": 14,
    "start_time": "2023-01-25T18:07:30.323Z"
   },
   {
    "duration": 5,
    "start_time": "2023-01-25T18:07:38.498Z"
   },
   {
    "duration": 5,
    "start_time": "2023-01-25T18:07:42.346Z"
   },
   {
    "duration": 5,
    "start_time": "2023-01-25T18:11:02.701Z"
   },
   {
    "duration": 5,
    "start_time": "2023-01-25T18:11:10.919Z"
   },
   {
    "duration": 104,
    "start_time": "2023-01-25T18:13:14.057Z"
   },
   {
    "duration": 885,
    "start_time": "2023-01-25T18:13:24.669Z"
   },
   {
    "duration": 425,
    "start_time": "2023-01-25T18:13:46.205Z"
   },
   {
    "duration": 591,
    "start_time": "2023-01-25T18:14:01.081Z"
   },
   {
    "duration": 544,
    "start_time": "2023-01-25T18:14:11.917Z"
   },
   {
    "duration": 451,
    "start_time": "2023-01-25T18:14:41.410Z"
   },
   {
    "duration": 576,
    "start_time": "2023-01-25T18:15:20.244Z"
   },
   {
    "duration": 356,
    "start_time": "2023-01-25T18:15:29.329Z"
   },
   {
    "duration": 333,
    "start_time": "2023-01-25T18:16:07.355Z"
   },
   {
    "duration": 1553,
    "start_time": "2023-01-25T18:17:34.881Z"
   },
   {
    "duration": 27,
    "start_time": "2023-01-25T18:17:36.436Z"
   },
   {
    "duration": 17,
    "start_time": "2023-01-25T18:17:36.465Z"
   },
   {
    "duration": 13,
    "start_time": "2023-01-25T18:17:36.484Z"
   },
   {
    "duration": 4,
    "start_time": "2023-01-25T18:17:36.501Z"
   },
   {
    "duration": 23,
    "start_time": "2023-01-25T18:17:36.507Z"
   },
   {
    "duration": 34,
    "start_time": "2023-01-25T18:17:36.532Z"
   },
   {
    "duration": 1175,
    "start_time": "2023-01-25T18:17:36.569Z"
   },
   {
    "duration": 340,
    "start_time": "2023-01-25T18:17:37.746Z"
   },
   {
    "duration": 8,
    "start_time": "2023-01-25T18:17:38.088Z"
   },
   {
    "duration": 8,
    "start_time": "2023-01-25T18:17:38.098Z"
   },
   {
    "duration": 11,
    "start_time": "2023-01-25T18:17:38.108Z"
   },
   {
    "duration": 16,
    "start_time": "2023-01-25T18:17:38.122Z"
   },
   {
    "duration": 178,
    "start_time": "2023-01-25T18:17:38.142Z"
   },
   {
    "duration": 11,
    "start_time": "2023-01-25T18:17:38.323Z"
   },
   {
    "duration": 12,
    "start_time": "2023-01-25T18:17:38.337Z"
   },
   {
    "duration": 1284,
    "start_time": "2023-04-13T19:29:06.442Z"
   },
   {
    "duration": 82,
    "start_time": "2023-04-13T19:29:07.728Z"
   },
   {
    "duration": 11,
    "start_time": "2023-04-13T19:29:07.811Z"
   },
   {
    "duration": 21,
    "start_time": "2023-04-13T19:29:07.824Z"
   },
   {
    "duration": 7,
    "start_time": "2023-04-13T19:29:07.846Z"
   },
   {
    "duration": 22,
    "start_time": "2023-04-13T19:29:07.855Z"
   },
   {
    "duration": 32,
    "start_time": "2023-04-13T19:29:07.878Z"
   },
   {
    "duration": 859,
    "start_time": "2023-04-13T19:29:07.911Z"
   },
   {
    "duration": 357,
    "start_time": "2023-04-13T19:29:08.771Z"
   },
   {
    "duration": 7,
    "start_time": "2023-04-13T19:29:09.130Z"
   },
   {
    "duration": 5,
    "start_time": "2023-04-13T19:29:09.138Z"
   },
   {
    "duration": 12,
    "start_time": "2023-04-13T19:29:09.144Z"
   },
   {
    "duration": 8,
    "start_time": "2023-04-13T19:29:09.158Z"
   },
   {
    "duration": 167,
    "start_time": "2023-04-13T19:29:09.168Z"
   },
   {
    "duration": 9,
    "start_time": "2023-04-13T19:29:09.336Z"
   },
   {
    "duration": 16,
    "start_time": "2023-04-13T19:29:09.346Z"
   }
  ],
  "kernelspec": {
   "display_name": "Python 3 (ipykernel)",
   "language": "python",
   "name": "python3"
  },
  "language_info": {
   "codemirror_mode": {
    "name": "ipython",
    "version": 3
   },
   "file_extension": ".py",
   "mimetype": "text/x-python",
   "name": "python",
   "nbconvert_exporter": "python",
   "pygments_lexer": "ipython3",
   "version": "3.9.13"
  },
  "toc": {
   "base_numbering": 1,
   "nav_menu": {},
   "number_sections": true,
   "sideBar": true,
   "skip_h1_title": true,
   "title_cell": "Содержание",
   "title_sidebar": "Contents",
   "toc_cell": true,
   "toc_position": {
    "height": "calc(100% - 180px)",
    "left": "10px",
    "top": "150px",
    "width": "165px"
   },
   "toc_section_display": true,
   "toc_window_display": true
  }
 },
 "nbformat": 4,
 "nbformat_minor": 2
}
